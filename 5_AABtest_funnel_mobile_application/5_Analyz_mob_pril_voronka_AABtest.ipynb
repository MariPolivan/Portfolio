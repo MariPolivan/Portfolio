{
 "cells": [
  {
   "cell_type": "markdown",
   "metadata": {},
   "source": [
    "# ПРОЕКТ: Анализ поведения пользователей мобильного приложения (продукты питания) \n",
    "<a id = \"start\"></a>"
   ]
  },
  {
   "cell_type": "markdown",
   "metadata": {
    "toc": true
   },
   "source": [
    "<h1>Содержание<span class=\"tocSkip\"></span></h1>\n",
    "<div class=\"toc\"><ul class=\"toc-item\"><li><span><a href=\"#Шаг-1.-Загрузка-данных\" data-toc-modified-id=\"Шаг-1.-Загрузка-данных-1\"><span class=\"toc-item-num\">1&nbsp;&nbsp;</span>Шаг 1. Загрузка данных</a></span></li><li><span><a href=\"#Шаг-2.-Предобработка-данных\" data-toc-modified-id=\"Шаг-2.-Предобработка-данных-2\"><span class=\"toc-item-num\">2&nbsp;&nbsp;</span>Шаг 2. Предобработка данных</a></span></li><li><span><a href=\"#Шаг-3.-Исследовательский-анализ-данных\" data-toc-modified-id=\"Шаг-3.-Исследовательский-анализ-данных-3\"><span class=\"toc-item-num\">3&nbsp;&nbsp;</span>Шаг 3. Исследовательский анализ данных</a></span><ul class=\"toc-item\"><li><span><a href=\"#Выясним-количственные-характеристики-событий,-пользователей-и-количество-событий-которое-в-среднем-приходится-на-пользователя.\" data-toc-modified-id=\"Выясним-количственные-характеристики-событий,-пользователей-и-количество-событий-которое-в-среднем-приходится-на-пользователя.-3.1\"><span class=\"toc-item-num\">3.1&nbsp;&nbsp;</span>Выясним количственные характеристики событий, пользователей и количество событий которое в среднем приходится на пользователя.</a></span></li><li><span><a href=\"#Исследуем-временной-период-за-который-предоставленны-данные.\" data-toc-modified-id=\"Исследуем-временной-период-за-который-предоставленны-данные.-3.2\"><span class=\"toc-item-num\">3.2&nbsp;&nbsp;</span>Исследуем временной период за который предоставленны данные.</a></span></li><li><span><a href=\"#Удалим-не-полные--данные-за-июль.-Выясним-количество-утраченных-в-результате-обработки-пользователей.\" data-toc-modified-id=\"Удалим-не-полные--данные-за-июль.-Выясним-количество-утраченных-в-результате-обработки-пользователей.-3.3\"><span class=\"toc-item-num\">3.3&nbsp;&nbsp;</span>Удалим не полные  данные за июль. Выясним количество утраченных в результате обработки пользователей.</a></span></li><li><span><a href=\"#Проверим-наличие-пользователей-из-всех-трёх-экспериментальных-групп.\" data-toc-modified-id=\"Проверим-наличие-пользователей-из-всех-трёх-экспериментальных-групп.-3.4\"><span class=\"toc-item-num\">3.4&nbsp;&nbsp;</span>Проверим наличие пользователей из всех трёх экспериментальных групп.</a></span></li></ul></li><li><span><a href=\"#Шаг-4.-Исследование-воронки-событий\" data-toc-modified-id=\"Шаг-4.-Исследование-воронки-событий-4\"><span class=\"toc-item-num\">4&nbsp;&nbsp;</span>Шаг 4. Исследование воронки событий</a></span><ul class=\"toc-item\"><li><span><a href=\"#Изучим-события-в-логах-и-их-частоту.\" data-toc-modified-id=\"Изучим-события-в-логах-и-их-частоту.-4.1\"><span class=\"toc-item-num\">4.1&nbsp;&nbsp;</span>Изучим события в логах и их частоту.</a></span></li><li><span><a href=\"#Выясним-количество-и-долю-пользователей-совершившие-каждое-из-событий.\" data-toc-modified-id=\"Выясним-количество-и-долю-пользователей-совершившие-каждое-из-событий.-4.2\"><span class=\"toc-item-num\">4.2&nbsp;&nbsp;</span>Выясним количество и долю пользователей совершившие каждое из событий.</a></span></li><li><span><a href=\"#Предположим-порядок-событий.\" data-toc-modified-id=\"Предположим-порядок-событий.-4.3\"><span class=\"toc-item-num\">4.3&nbsp;&nbsp;</span>Предположим порядок событий.</a></span></li><li><span><a href=\"#Исследуем-воронку-событий,-выясним-доли-пользователей-переходящих-от-шага-к-следующему-шагу.\" data-toc-modified-id=\"Исследуем-воронку-событий,-выясним-доли-пользователей-переходящих-от-шага-к-следующему-шагу.-4.4\"><span class=\"toc-item-num\">4.4&nbsp;&nbsp;</span>Исследуем воронку событий, выясним доли пользователей переходящих от шага к следующему шагу.</a></span></li></ul></li><li><span><a href=\"#Шаг-5.-Исследование-и-анализ-результатов-эксперимента\" data-toc-modified-id=\"Шаг-5.-Исследование-и-анализ-результатов-эксперимента-5\"><span class=\"toc-item-num\">5&nbsp;&nbsp;</span>Шаг 5. Исследование и анализ результатов эксперимента</a></span><ul class=\"toc-item\"><li><span><a href=\"#Вычислим-количество-пользователей-в-каждой-экспериментальной-группе.\" data-toc-modified-id=\"Вычислим-количество-пользователей-в-каждой-экспериментальной-группе.-5.1\"><span class=\"toc-item-num\">5.1&nbsp;&nbsp;</span>Вычислим количество пользователей в каждой экспериментальной группе.</a></span></li><li><span><a href=\"#Выясним,-находят-ли-статистические-критерии-разницу-между--246-и-247-выбрками.\" data-toc-modified-id=\"Выясним,-находят-ли-статистические-критерии-разницу-между--246-и-247-выбрками.-5.2\"><span class=\"toc-item-num\">5.2&nbsp;&nbsp;</span>Выясним, находят ли статистические критерии разницу между  246 и 247 выбрками.</a></span></li><li><span><a href=\"#Выберем-самое-популярное-событие-и-проверим-наличие-разницы-между-группами.\" data-toc-modified-id=\"Выберем-самое-популярное-событие-и-проверим-наличие-разницы-между-группами.-5.3\"><span class=\"toc-item-num\">5.3&nbsp;&nbsp;</span>Выберем самое популярное событие и проверим наличие разницы между группами.</a></span></li><li><span><a href=\"#Повторим-проверку-по-группе-с-измененным-шрифтом.-Сравним-результаты-с-каждой-из-контрольных-групп-в-отдельности-по-каждому-событию.-Сравним-результаты-с-объединённой-контрольной-группой.\" data-toc-modified-id=\"Повторим-проверку-по-группе-с-измененным-шрифтом.-Сравним-результаты-с-каждой-из-контрольных-групп-в-отдельности-по-каждому-событию.-Сравним-результаты-с-объединённой-контрольной-группой.-5.4\"><span class=\"toc-item-num\">5.4&nbsp;&nbsp;</span>Повторим проверку по группе с измененным шрифтом. Сравним результаты с каждой из контрольных групп в отдельности по каждому событию. Сравним результаты с объединённой контрольной группой.</a></span></li><li><span><a href=\"#Опишем-уровень-значимости-выбранный-при-проверке-статистических-гипотез-выше.-Опишем-выводы-и-перепроверим-предыдущие-пункты.\" data-toc-modified-id=\"Опишем-уровень-значимости-выбранный-при-проверке-статистических-гипотез-выше.-Опишем-выводы-и-перепроверим-предыдущие-пункты.-5.5\"><span class=\"toc-item-num\">5.5&nbsp;&nbsp;</span>Опишем уровень значимости выбранный при проверке статистических гипотез выше. Опишем выводы и перепроверим предыдущие пункты.</a></span></li></ul></li><li><span><a href=\"#Итоговый-вывод-по-проекту\" data-toc-modified-id=\"Итоговый-вывод-по-проекту-6\"><span class=\"toc-item-num\">6&nbsp;&nbsp;</span>Итоговый вывод по проекту</a></span></li></ul></div>"
   ]
  },
  {
   "cell_type": "markdown",
   "metadata": {},
   "source": [
    "__Цель исследования:__ \n",
    "\n",
    "1) Выяснить, как пользователи доходят до покупки. Сколько пользователей доходит до покупки, а сколько — «застревает» на предыдущих шагах? На каких именно?\n",
    "\n",
    "2) Исследовать результаты A/A/B-теста по смене шрифта в приложении и выяснить какой шрифт лучше.\n",
    "\n",
    "Для решения поставленной цели определим этапы исследования. \n",
    "\n",
    "__Ход исследования:__\n",
    "1. [Обзор данных](#Шаг-1.-Загрузка-данных) - загрузка данных и ознакомление с общей информацией. \n",
    "\n",
    "2. [Предобработка данных](#Шаг-2.-Предобработка-данных) - необходимо провести необходимую предобработку\n",
    "\n",
    "3. [Исследовательский анализ данных:](#Шаг-3.-Исследовательский-анализ-данных)\n",
    " - [Выясним количственные характеристики событий, пользователей и количество событий которое в среднем приходится на пользователя.](#Выясним-количственные-характеристики-событий,-пользователей-и-количество-событий-которое-в-среднем-приходится-на-пользователя.)\n",
    " - [Исследуем временной период за который предоставленны данные.](#Исследуем-временной-период-за-который-предоставленны-данные.) \n",
    " - [Удалим не полные  данные. Выясним количество утраченных в результате обработки пользователей.](#Удалим-не-полные--данные-за-июль.-Выясним-количество-утраченных-в-результате-обработки-пользователей.)\n",
    " - [Проверим наличие пользователей из всех трёх экспериментальных групп.](#Проверим-наличие-пользователей-из-всех-трёх-экспериментальных-групп.)\n",
    " \n",
    "4. [Исследование воронки событий:](#Шаг-4.-Исследование-воронки-событий)\n",
    " - [Изучим события в логах и их частоту.](#Изучим-события-в-логах-и-их-частоту.)\n",
    " - [Выясним количество и долю пользователей совершившие каждое из событий.](#Выясним-количество-и-долю-пользователей-совершившие-каждое-из-событий.)\n",
    " - [Предположим порядок событий.](#Предположим-порядок-событий.)\n",
    " - [Исследуем воронку событий, выясним доли пользователей переходящих от шага к следующему шагу.](#Исследуем-воронку-событий,-выясним-доли-пользователей-переходящих-от-шага-к-следующему-шагу.) Выясним на каком шаге теряется больше всего пользователей. Вычислим долю пользователей, которая доходит от первого события до оплаты.\n",
    "\n",
    "5. [Исследуем и анализ результатов эксперимента](#Шаг-5.-Исследование-и-анализ-результатов-эксперимента)\n",
    " - [Вычислим количество пользователей в каждой экспериментальной группе.](#Вычислим-количество-пользователей-в-каждой-экспериментальной-группе.)\n",
    " - [Проверим, находят ли статистические критерии разницу между выбрками 246 и 247.](#Выясним,-находят-ли-статистические-критерии-разницу-между-246-и-247-выбрками.)\n",
    " - [Выберем самое популярное событие и проверим наличие разницы между группами.](#Выберем-самое-популярное-событие-и-проверим-наличие-разницы-между-группами.)\n",
    " - [Повторим проверку по группе с измененным шрифтом. Сравнить результаты с каждой из контрольных групп в отдельности по каждому событию. Сравним результаты с объединённой контрольной группой.](#Повторим-проверку-по-группе-с-измененным-шрифтом.-Сравним-результаты-с-каждой-из-контрольных-групп-в-отдельности-по-каждому-событию.-Сравним-результаты-с-объединённой-контрольной-группой.)\n",
    " - [Опишем уровень значимости выбранный при проверке статистических гипотез выше. Опишем выводы и перепроверим предыдущие пункты.](#Опишем-уровень-значимости-выбранный-при-проверке-статистических-гипотез-выше.-Опишем-выводы-и-перепроверим-предыдущие-пункты.)\n",
    "\n",
    "6. [Подвести итоги и написать рекомендации](#Итоговый-вывод-по-проекту)\n",
    "\n",
    "\n",
    "__Описание проекта:__\n",
    "\n",
    "Для принятия решения о смене шрифта, проведен A/A/B-тест. Пользователей разбили на 3 группы: 2 контрольные со старыми шрифтами и одну экспериментальную — с новыми. Необходимо выяснить, какой шрифт лучше.\n",
    "\n",
    "\n",
    "__Для проведения исследования получен файл с данными:__\n",
    "\n",
    "Каждая запись в логе — это действие пользователя, или событие. \n",
    "- название события;\n",
    "- уникальный идентификатор пользователя;\n",
    "- время события;\n",
    "- номер эксперимента: 246 и 247 — контрольные группы, а 248 — экспериментальная."
   ]
  },
  {
   "cell_type": "markdown",
   "metadata": {},
   "source": [
    "Вернуться в [начало проекта](#start)"
   ]
  },
  {
   "cell_type": "markdown",
   "metadata": {},
   "source": [
    "## Шаг 1. Загрузка данных"
   ]
  },
  {
   "cell_type": "markdown",
   "metadata": {},
   "source": [
    "__Загруим необходимые библиотеки и код игнорирования сообщений предупреждений__"
   ]
  },
  {
   "cell_type": "code",
   "execution_count": 1,
   "metadata": {},
   "outputs": [
    {
     "name": "stderr",
     "output_type": "stream",
     "text": [
      "/Users/mariapolivanova/anaconda3/envs/practicum/lib/python3.9/site-packages/scipy/__init__.py:146: UserWarning: A NumPy version >=1.17.3 and <1.25.0 is required for this version of SciPy (detected version 1.26.4\n",
      "  warnings.warn(f\"A NumPy version >={np_minversion} and <{np_maxversion}\"\n"
     ]
    }
   ],
   "source": [
    "import pandas as pd\n",
    "import numpy as np\n",
    "from datetime import datetime\n",
    "import matplotlib\n",
    "from matplotlib import pyplot as plt\n",
    "from matplotlib.pyplot import figure\n",
    "import seaborn as sns\n",
    "import scipy.stats as stats\n",
    "import plotly.express as px\n",
    "from plotly import graph_objects as go\n",
    "import math \n",
    "\n",
    "\n",
    "import warnings\n",
    "warnings.filterwarnings('ignore')"
   ]
  },
  {
   "cell_type": "markdown",
   "metadata": {},
   "source": [
    "__Откроем файл с данными__"
   ]
  },
  {
   "cell_type": "code",
   "execution_count": 2,
   "metadata": {},
   "outputs": [],
   "source": [
    "#считываем информацию и сохраняем в датафреймы\n",
    "try:\n",
    "    df = pd.read_csv(' .csv', sep='\\t')  \n",
    "except FileNotFoundError:\n",
    "    df = pd.read_csv(' ', sep='\\t')"
   ]
  },
  {
   "cell_type": "markdown",
   "metadata": {},
   "source": [
    "__Для ознокомления с данными посмотрим общую информацию, первые строки датафрейма, на распределение значений в данных, наличие пропущенных значений и явных дубликатов.__"
   ]
  },
  {
   "cell_type": "code",
   "execution_count": 3,
   "metadata": {},
   "outputs": [],
   "source": [
    "#Зададим функцию для просмотра общей информации, первых строк датафрейма, \n",
    "#на распределение значений в данных, наличие пропущенных значений и явных дубликатов\n",
    "def general_info(dataframe):   \n",
    "    return display(\n",
    "        dataframe.info(),\n",
    "        '*'*50,\n",
    "        dataframe.describe(),\n",
    "        '*'*50,\n",
    "        dataframe.head(10),\n",
    "        '*'*50,\n",
    "        'Пропущенные значения среди данных:', dataframe.isna().sum(),\n",
    "        '*'*50,\n",
    "        'Дубликатов среди данных:', dataframe.duplicated().sum()\n",
    "    )"
   ]
  },
  {
   "cell_type": "code",
   "execution_count": 4,
   "metadata": {},
   "outputs": [
    {
     "name": "stdout",
     "output_type": "stream",
     "text": [
      "<class 'pandas.core.frame.DataFrame'>\n",
      "RangeIndex: 244126 entries, 0 to 244125\n",
      "Data columns (total 4 columns):\n",
      " #   Column          Non-Null Count   Dtype \n",
      "---  ------          --------------   ----- \n",
      " 0   EventName       244126 non-null  object\n",
      " 1   DeviceIDHash    244126 non-null  int64 \n",
      " 2   EventTimestamp  244126 non-null  int64 \n",
      " 3   ExpId           244126 non-null  int64 \n",
      "dtypes: int64(3), object(1)\n",
      "memory usage: 7.5+ MB\n"
     ]
    },
    {
     "data": {
      "text/plain": [
       "None"
      ]
     },
     "metadata": {},
     "output_type": "display_data"
    },
    {
     "data": {
      "text/plain": [
       "'**************************************************'"
      ]
     },
     "metadata": {},
     "output_type": "display_data"
    },
    {
     "data": {
      "text/html": [
       "<div>\n",
       "<style scoped>\n",
       "    .dataframe tbody tr th:only-of-type {\n",
       "        vertical-align: middle;\n",
       "    }\n",
       "\n",
       "    .dataframe tbody tr th {\n",
       "        vertical-align: top;\n",
       "    }\n",
       "\n",
       "    .dataframe thead th {\n",
       "        text-align: right;\n",
       "    }\n",
       "</style>\n",
       "<table border=\"1\" class=\"dataframe\">\n",
       "  <thead>\n",
       "    <tr style=\"text-align: right;\">\n",
       "      <th></th>\n",
       "      <th>DeviceIDHash</th>\n",
       "      <th>EventTimestamp</th>\n",
       "      <th>ExpId</th>\n",
       "    </tr>\n",
       "  </thead>\n",
       "  <tbody>\n",
       "    <tr>\n",
       "      <th>count</th>\n",
       "      <td>2.441260e+05</td>\n",
       "      <td>2.441260e+05</td>\n",
       "      <td>244126.000000</td>\n",
       "    </tr>\n",
       "    <tr>\n",
       "      <th>mean</th>\n",
       "      <td>4.627568e+18</td>\n",
       "      <td>1.564914e+09</td>\n",
       "      <td>247.022296</td>\n",
       "    </tr>\n",
       "    <tr>\n",
       "      <th>std</th>\n",
       "      <td>2.642425e+18</td>\n",
       "      <td>1.771343e+05</td>\n",
       "      <td>0.824434</td>\n",
       "    </tr>\n",
       "    <tr>\n",
       "      <th>min</th>\n",
       "      <td>6.888747e+15</td>\n",
       "      <td>1.564030e+09</td>\n",
       "      <td>246.000000</td>\n",
       "    </tr>\n",
       "    <tr>\n",
       "      <th>25%</th>\n",
       "      <td>2.372212e+18</td>\n",
       "      <td>1.564757e+09</td>\n",
       "      <td>246.000000</td>\n",
       "    </tr>\n",
       "    <tr>\n",
       "      <th>50%</th>\n",
       "      <td>4.623192e+18</td>\n",
       "      <td>1.564919e+09</td>\n",
       "      <td>247.000000</td>\n",
       "    </tr>\n",
       "    <tr>\n",
       "      <th>75%</th>\n",
       "      <td>6.932517e+18</td>\n",
       "      <td>1.565075e+09</td>\n",
       "      <td>248.000000</td>\n",
       "    </tr>\n",
       "    <tr>\n",
       "      <th>max</th>\n",
       "      <td>9.222603e+18</td>\n",
       "      <td>1.565213e+09</td>\n",
       "      <td>248.000000</td>\n",
       "    </tr>\n",
       "  </tbody>\n",
       "</table>\n",
       "</div>"
      ],
      "text/plain": [
       "       DeviceIDHash  EventTimestamp          ExpId\n",
       "count  2.441260e+05    2.441260e+05  244126.000000\n",
       "mean   4.627568e+18    1.564914e+09     247.022296\n",
       "std    2.642425e+18    1.771343e+05       0.824434\n",
       "min    6.888747e+15    1.564030e+09     246.000000\n",
       "25%    2.372212e+18    1.564757e+09     246.000000\n",
       "50%    4.623192e+18    1.564919e+09     247.000000\n",
       "75%    6.932517e+18    1.565075e+09     248.000000\n",
       "max    9.222603e+18    1.565213e+09     248.000000"
      ]
     },
     "metadata": {},
     "output_type": "display_data"
    },
    {
     "data": {
      "text/plain": [
       "'**************************************************'"
      ]
     },
     "metadata": {},
     "output_type": "display_data"
    },
    {
     "data": {
      "text/html": [
       "<div>\n",
       "<style scoped>\n",
       "    .dataframe tbody tr th:only-of-type {\n",
       "        vertical-align: middle;\n",
       "    }\n",
       "\n",
       "    .dataframe tbody tr th {\n",
       "        vertical-align: top;\n",
       "    }\n",
       "\n",
       "    .dataframe thead th {\n",
       "        text-align: right;\n",
       "    }\n",
       "</style>\n",
       "<table border=\"1\" class=\"dataframe\">\n",
       "  <thead>\n",
       "    <tr style=\"text-align: right;\">\n",
       "      <th></th>\n",
       "      <th>EventName</th>\n",
       "      <th>DeviceIDHash</th>\n",
       "      <th>EventTimestamp</th>\n",
       "      <th>ExpId</th>\n",
       "    </tr>\n",
       "  </thead>\n",
       "  <tbody>\n",
       "    <tr>\n",
       "      <th>0</th>\n",
       "      <td>MainScreenAppear</td>\n",
       "      <td>4575588528974610257</td>\n",
       "      <td>1564029816</td>\n",
       "      <td>246</td>\n",
       "    </tr>\n",
       "    <tr>\n",
       "      <th>1</th>\n",
       "      <td>MainScreenAppear</td>\n",
       "      <td>7416695313311560658</td>\n",
       "      <td>1564053102</td>\n",
       "      <td>246</td>\n",
       "    </tr>\n",
       "    <tr>\n",
       "      <th>2</th>\n",
       "      <td>PaymentScreenSuccessful</td>\n",
       "      <td>3518123091307005509</td>\n",
       "      <td>1564054127</td>\n",
       "      <td>248</td>\n",
       "    </tr>\n",
       "    <tr>\n",
       "      <th>3</th>\n",
       "      <td>CartScreenAppear</td>\n",
       "      <td>3518123091307005509</td>\n",
       "      <td>1564054127</td>\n",
       "      <td>248</td>\n",
       "    </tr>\n",
       "    <tr>\n",
       "      <th>4</th>\n",
       "      <td>PaymentScreenSuccessful</td>\n",
       "      <td>6217807653094995999</td>\n",
       "      <td>1564055322</td>\n",
       "      <td>248</td>\n",
       "    </tr>\n",
       "    <tr>\n",
       "      <th>5</th>\n",
       "      <td>CartScreenAppear</td>\n",
       "      <td>6217807653094995999</td>\n",
       "      <td>1564055323</td>\n",
       "      <td>248</td>\n",
       "    </tr>\n",
       "    <tr>\n",
       "      <th>6</th>\n",
       "      <td>OffersScreenAppear</td>\n",
       "      <td>8351860793733343758</td>\n",
       "      <td>1564066242</td>\n",
       "      <td>246</td>\n",
       "    </tr>\n",
       "    <tr>\n",
       "      <th>7</th>\n",
       "      <td>MainScreenAppear</td>\n",
       "      <td>5682100281902512875</td>\n",
       "      <td>1564085677</td>\n",
       "      <td>246</td>\n",
       "    </tr>\n",
       "    <tr>\n",
       "      <th>8</th>\n",
       "      <td>MainScreenAppear</td>\n",
       "      <td>1850981295691852772</td>\n",
       "      <td>1564086702</td>\n",
       "      <td>247</td>\n",
       "    </tr>\n",
       "    <tr>\n",
       "      <th>9</th>\n",
       "      <td>MainScreenAppear</td>\n",
       "      <td>5407636962369102641</td>\n",
       "      <td>1564112112</td>\n",
       "      <td>246</td>\n",
       "    </tr>\n",
       "  </tbody>\n",
       "</table>\n",
       "</div>"
      ],
      "text/plain": [
       "                 EventName         DeviceIDHash  EventTimestamp  ExpId\n",
       "0         MainScreenAppear  4575588528974610257      1564029816    246\n",
       "1         MainScreenAppear  7416695313311560658      1564053102    246\n",
       "2  PaymentScreenSuccessful  3518123091307005509      1564054127    248\n",
       "3         CartScreenAppear  3518123091307005509      1564054127    248\n",
       "4  PaymentScreenSuccessful  6217807653094995999      1564055322    248\n",
       "5         CartScreenAppear  6217807653094995999      1564055323    248\n",
       "6       OffersScreenAppear  8351860793733343758      1564066242    246\n",
       "7         MainScreenAppear  5682100281902512875      1564085677    246\n",
       "8         MainScreenAppear  1850981295691852772      1564086702    247\n",
       "9         MainScreenAppear  5407636962369102641      1564112112    246"
      ]
     },
     "metadata": {},
     "output_type": "display_data"
    },
    {
     "data": {
      "text/plain": [
       "'**************************************************'"
      ]
     },
     "metadata": {},
     "output_type": "display_data"
    },
    {
     "data": {
      "text/plain": [
       "'Пропущенные значения среди данных:'"
      ]
     },
     "metadata": {},
     "output_type": "display_data"
    },
    {
     "data": {
      "text/plain": [
       "EventName         0\n",
       "DeviceIDHash      0\n",
       "EventTimestamp    0\n",
       "ExpId             0\n",
       "dtype: int64"
      ]
     },
     "metadata": {},
     "output_type": "display_data"
    },
    {
     "data": {
      "text/plain": [
       "'**************************************************'"
      ]
     },
     "metadata": {},
     "output_type": "display_data"
    },
    {
     "data": {
      "text/plain": [
       "'Дубликатов среди данных:'"
      ]
     },
     "metadata": {},
     "output_type": "display_data"
    },
    {
     "data": {
      "text/plain": [
       "413"
      ]
     },
     "metadata": {},
     "output_type": "display_data"
    }
   ],
   "source": [
    "#посмотрим в разрезе заданной функции на данные hypothesis\n",
    "general_info(df)"
   ]
  },
  {
   "cell_type": "markdown",
   "metadata": {},
   "source": [
    "_В полученном датафрейме:_\n",
    "- 4 столбца и 244126 строк;\n",
    "- пропущенных значений не выявлено;\n",
    "- 413 явных дубликатов (0,16% от всех данных), которые необходимо удалить;\n",
    "- стоит переименовать столбцы и привести к змеиному регистру;\n",
    "- тип данных времени стоит привести к типу даты pandas\n",
    "- стоит проверить на неявные дубликаты. "
   ]
  },
  {
   "cell_type": "markdown",
   "metadata": {},
   "source": [
    "Вернуться в [начало проекта](#start)"
   ]
  },
  {
   "cell_type": "markdown",
   "metadata": {},
   "source": [
    "## Шаг 2. Предобработка данных"
   ]
  },
  {
   "cell_type": "markdown",
   "metadata": {},
   "source": [
    "__Переименуем заголовки столбцов на более удобные.__"
   ]
  },
  {
   "cell_type": "code",
   "execution_count": 5,
   "metadata": {
    "scrolled": true
   },
   "outputs": [
    {
     "data": {
      "text/plain": [
       "Index(['event_name', 'user_id', 'event_timestamp', 'group'], dtype='object')"
      ]
     },
     "execution_count": 5,
     "metadata": {},
     "output_type": "execute_result"
    }
   ],
   "source": [
    "df.rename(columns = {\n",
    "    'EventName' : 'event_name',\n",
    "    'DeviceIDHash' : 'user_id', \n",
    "    'EventTimestamp' : 'event_timestamp',\n",
    "    'ExpId' : 'group'\n",
    "}, inplace = True)\n",
    "\n",
    "df.columns"
   ]
  },
  {
   "cell_type": "markdown",
   "metadata": {},
   "source": [
    "__Преобразуем данные о дате и времени и добавим столбец с датой без времени.__"
   ]
  },
  {
   "cell_type": "code",
   "execution_count": 6,
   "metadata": {},
   "outputs": [],
   "source": [
    "# добавим поле с датой\n",
    "df['event_datetime'] = pd.to_datetime(df['event_timestamp'], unit='s')\n",
    "\n",
    "# добавим поле с датой\n",
    "df['event_date'] = df['event_datetime'].astype('datetime64[D]')\n"
   ]
  },
  {
   "cell_type": "markdown",
   "metadata": {},
   "source": [
    "__Преобразуем столбцы `group` и `event_name` в категориальный тип данных.__"
   ]
  },
  {
   "cell_type": "code",
   "execution_count": 7,
   "metadata": {},
   "outputs": [],
   "source": [
    "df['event_name'] = df['event_name'].astype('category')\n",
    "df['group'] = df['group'].astype('category')"
   ]
  },
  {
   "cell_type": "markdown",
   "metadata": {},
   "source": [
    "__Удалим явные дубликаты, проверим на неявные дубликаты.__"
   ]
  },
  {
   "cell_type": "code",
   "execution_count": 8,
   "metadata": {},
   "outputs": [
    {
     "name": "stdout",
     "output_type": "stream",
     "text": [
      "Уникальные названия событий: ['MainScreenAppear', 'PaymentScreenSuccessful', 'CartScreenAppear', 'OffersScreenAppear', 'Tutorial']\n",
      "Categories (5, object): ['MainScreenAppear', 'PaymentScreenSuccessful', 'CartScreenAppear', 'OffersScreenAppear', 'Tutorial']\n",
      "__________________________________________________\n",
      "Уникальные номера групп: [246, 248, 247]\n",
      "Categories (3, int64): [246, 248, 247]\n"
     ]
    }
   ],
   "source": [
    "df.drop_duplicates().reset_index(drop=True)\n",
    "\n",
    "print('Уникальные названия событий:', df['event_name'].unique())\n",
    "print('_'*50)\n",
    "print('Уникальные номера групп:', df['group'].unique())"
   ]
  },
  {
   "cell_type": "markdown",
   "metadata": {},
   "source": [
    "Неявных дубликатов не выявлено.\n",
    "\n",
    "__Посмотрим, есть ли пользователи которые задволись или затроились в разные группы.__"
   ]
  },
  {
   "cell_type": "code",
   "execution_count": 9,
   "metadata": {
    "scrolled": true
   },
   "outputs": [
    {
     "name": "stdout",
     "output_type": "stream",
     "text": [
      "Количество пересекающихся пользователей между группами 246 и 247: 0\n",
      "Количество пересекающихся пользователей между группами 246 и 248: 0\n",
      "Количество пересекающихся пользователей между группами 247 и 248: 0\n"
     ]
    }
   ],
   "source": [
    "#отбираем группы из данных \n",
    "df_246 = df.query('group == 246') \n",
    "df_247 = df.query('group == 247') \n",
    "df_248 = df.query('group == 248')\n",
    "\n",
    "# пересечение пользователей между группами\n",
    "users_246 = set(df_246['user_id'].unique())\n",
    "users_247 = set(df_247['user_id'].unique())\n",
    "users_248 = set(df_248['user_id'].unique())\n",
    "\n",
    "users_246_247 = users_246.intersection(users_247)\n",
    "users_246_248 = users_246.intersection(users_248)\n",
    "users_247_248 = users_247.intersection(users_248)\n",
    "\n",
    "print(\n",
    "    'Количество пересекающихся пользователей между группами 246 и 247:', \n",
    "    len(users_246_247)\n",
    ")\n",
    "print(\n",
    "    'Количество пересекающихся пользователей между группами 246 и 248:', \n",
    "    len(users_246_248)\n",
    ")\n",
    "print(\n",
    "    'Количество пересекающихся пользователей между группами 247 и 248:', \n",
    "    len(users_247_248)\n",
    ")"
   ]
  },
  {
   "cell_type": "markdown",
   "metadata": {},
   "source": [
    "__На данном этапе были:__\n",
    " - переименованы заголовки столбцов;\n",
    " - добавленны столбцы дата с временем и дата без времени;\n",
    " - удалены явные дубликаты;\n",
    " - неявные дубликаты не выявлены;\n",
    " - пересекающихся пользователей попавших в более чем в одну группу нет."
   ]
  },
  {
   "cell_type": "markdown",
   "metadata": {},
   "source": [
    "Вернуться в [начало проекта](#start)"
   ]
  },
  {
   "cell_type": "markdown",
   "metadata": {},
   "source": [
    "## Шаг 3. Исследовательский анализ данных"
   ]
  },
  {
   "cell_type": "markdown",
   "metadata": {},
   "source": [
    "### Выясним количственные характеристики событий, пользователей и количество событий которое в среднем приходится на пользователя.\n",
    "\n",
    "__Выведем число уникальных событий столбца `event_name` и посмотрим на количество каждого события__"
   ]
  },
  {
   "cell_type": "code",
   "execution_count": 10,
   "metadata": {},
   "outputs": [
    {
     "name": "stdout",
     "output_type": "stream",
     "text": [
      "Уникальных событий в логе: 5\n",
      "__________________________________________________\n",
      "Всего событий в логе: 244126\n",
      "__________________________________________________\n",
      "Количество каждого события:\n",
      " MainScreenAppear           119205\n",
      "OffersScreenAppear          46825\n",
      "CartScreenAppear            42731\n",
      "PaymentScreenSuccessful     34313\n",
      "Tutorial                     1052\n",
      "Name: event_name, dtype: int64\n"
     ]
    }
   ],
   "source": [
    "# посмотрим сколько всего событий в логе и их частоту \n",
    "print('Уникальных событий в логе:', df['event_name'].nunique())\n",
    "print('_'*50)\n",
    "all_event = df['event_name'].count()\n",
    "print('Всего событий в логе:', all_event)\n",
    "print('_'*50)\n",
    "print('Количество каждого события:\\n', df['event_name'].value_counts())"
   ]
  },
  {
   "cell_type": "markdown",
   "metadata": {},
   "source": [
    "- Всего событий в логе 244 126.\n",
    "- Всего уникальных событий 5.\n",
    "- Значения между событиями распределены не равномерно."
   ]
  },
  {
   "cell_type": "markdown",
   "metadata": {},
   "source": [
    "__Выясним количество уникальных пользователей__"
   ]
  },
  {
   "cell_type": "code",
   "execution_count": 11,
   "metadata": {},
   "outputs": [
    {
     "name": "stdout",
     "output_type": "stream",
     "text": [
      "Уникальных пользователей в логе: 7551\n"
     ]
    }
   ],
   "source": [
    "print('Уникальных пользователей в логе:', df['user_id'].nunique())"
   ]
  },
  {
   "cell_type": "markdown",
   "metadata": {},
   "source": [
    "__Вычислим среднее число событий приходящихся на одного пользователя.__"
   ]
  },
  {
   "cell_type": "code",
   "execution_count": 12,
   "metadata": {
    "scrolled": true
   },
   "outputs": [
    {
     "data": {
      "text/html": [
       "<div>\n",
       "<style scoped>\n",
       "    .dataframe tbody tr th:only-of-type {\n",
       "        vertical-align: middle;\n",
       "    }\n",
       "\n",
       "    .dataframe tbody tr th {\n",
       "        vertical-align: top;\n",
       "    }\n",
       "\n",
       "    .dataframe thead th {\n",
       "        text-align: right;\n",
       "    }\n",
       "</style>\n",
       "<table border=\"1\" class=\"dataframe\">\n",
       "  <thead>\n",
       "    <tr style=\"text-align: right;\">\n",
       "      <th></th>\n",
       "      <th>event_name</th>\n",
       "    </tr>\n",
       "  </thead>\n",
       "  <tbody>\n",
       "    <tr>\n",
       "      <th>count</th>\n",
       "      <td>7551.000000</td>\n",
       "    </tr>\n",
       "    <tr>\n",
       "      <th>mean</th>\n",
       "      <td>32.330287</td>\n",
       "    </tr>\n",
       "    <tr>\n",
       "      <th>std</th>\n",
       "      <td>65.312344</td>\n",
       "    </tr>\n",
       "    <tr>\n",
       "      <th>min</th>\n",
       "      <td>1.000000</td>\n",
       "    </tr>\n",
       "    <tr>\n",
       "      <th>25%</th>\n",
       "      <td>9.000000</td>\n",
       "    </tr>\n",
       "    <tr>\n",
       "      <th>50%</th>\n",
       "      <td>20.000000</td>\n",
       "    </tr>\n",
       "    <tr>\n",
       "      <th>75%</th>\n",
       "      <td>37.500000</td>\n",
       "    </tr>\n",
       "    <tr>\n",
       "      <th>max</th>\n",
       "      <td>2308.000000</td>\n",
       "    </tr>\n",
       "  </tbody>\n",
       "</table>\n",
       "</div>"
      ],
      "text/plain": [
       "        event_name\n",
       "count  7551.000000\n",
       "mean     32.330287\n",
       "std      65.312344\n",
       "min       1.000000\n",
       "25%       9.000000\n",
       "50%      20.000000\n",
       "75%      37.500000\n",
       "max    2308.000000"
      ]
     },
     "execution_count": 12,
     "metadata": {},
     "output_type": "execute_result"
    }
   ],
   "source": [
    "# сгруппируем события по каждому пользователю \n",
    "events_count = df.pivot_table(\n",
    "    index = 'user_id', \n",
    "    values = 'event_name', \n",
    "    aggfunc = 'count'\n",
    ")\n",
    "\n",
    "#посмотрим на распределение значений\n",
    "events_count.describe()"
   ]
  },
  {
   "cell_type": "markdown",
   "metadata": {},
   "source": [
    "По полученной сводной таблице с количеством событий приходящихся на каждого пользователя, получили среднее число событий - 32, но если смотреть на то что  максимальное число событий приходящиеся на пользователя доходит до 2 308 ед, то можно говорить о том что на показатель среднего повлияли аномальные значения, и лучше выбрать медианное значение за среднее в размере __20 событий__."
   ]
  },
  {
   "cell_type": "markdown",
   "metadata": {},
   "source": [
    "### Исследуем временной период за который предоставленны данные. "
   ]
  },
  {
   "cell_type": "markdown",
   "metadata": {},
   "source": [
    "Выясним данными за какой период мы располагаем - найдём максимальную и минимальную даты."
   ]
  },
  {
   "cell_type": "code",
   "execution_count": 13,
   "metadata": {},
   "outputs": [
    {
     "name": "stdout",
     "output_type": "stream",
     "text": [
      "Начало периода: 2019-07-25 00:00:00\n",
      "Конец периода: 2019-08-07 00:00:00\n"
     ]
    }
   ],
   "source": [
    "print('Начало периода:', df['event_date'].min())\n",
    "print('Конец периода:', df['event_date'].max())"
   ]
  },
  {
   "cell_type": "markdown",
   "metadata": {},
   "source": [
    "В датафрейме предоставлены события за период с 25 июля 2019 года по 07 августа 2019 года, всего 14 дней. \n",
    "\n",
    "__Рассмотрим на диаграмме как меняется количество данных по времени.__"
   ]
  },
  {
   "cell_type": "code",
   "execution_count": 14,
   "metadata": {},
   "outputs": [
    {
     "data": {
      "image/png": "[encoded data removed]",
      "text/plain": [
       "<Figure size 1400x500 with 1 Axes>"
      ]
     },
     "metadata": {},
     "output_type": "display_data"
    }
   ],
   "source": [
    "df['event_datetime'].hist(bins=14*24, figsize=(14, 5));\n",
    "plt.title('Распределение событий в динамике')\n",
    "plt.xlabel('Дата')\n",
    "plt.ylabel('Количество событий')\n",
    "plt.show();"
   ]
  },
  {
   "cell_type": "markdown",
   "metadata": {},
   "source": [
    "Как оказалась данные за период с 25 июля 2019 года по 31 июля 2019 года не полные. Их совсем мало и не информативны. Технически в логи новых дней по некоторым пользователям могут «доезжать» события из прошлого — это может «перекашивать данные».\n",
    "\n",
    "Полные данные представлены за период с 01 августа 2019 года по 7 августа 2019 г., остальные следует убрать.\n",
    "\n",
    "По факту мы распологаем данными за одну неделю. "
   ]
  },
  {
   "cell_type": "markdown",
   "metadata": {},
   "source": [
    "Вернуться в [начало проекта](#start)"
   ]
  },
  {
   "cell_type": "markdown",
   "metadata": {},
   "source": [
    "### Удалим не полные  данные за июль. Выясним количество утраченных в результате обработки пользователей."
   ]
  },
  {
   "cell_type": "code",
   "execution_count": 15,
   "metadata": {},
   "outputs": [
    {
     "name": "stdout",
     "output_type": "stream",
     "text": [
      "Начало периода: 2019-08-01 00:00:00\n",
      "Конец периода: 2019-08-07 00:00:00\n"
     ]
    }
   ],
   "source": [
    "#отбросим данные до 1 августа\n",
    "df_act = df.query('event_date >= \"2019-08-01\"')\n",
    "print('Начало периода:', df_act['event_date'].min())\n",
    "print('Конец периода:', df_act['event_date'].max())"
   ]
  },
  {
   "cell_type": "code",
   "execution_count": 16,
   "metadata": {},
   "outputs": [
    {
     "name": "stdout",
     "output_type": "stream",
     "text": [
      "Количество утраченных событий: 2828\n",
      "Доля утраченных событий: 1.16%\n"
     ]
    }
   ],
   "source": [
    "#Выясним количество утраченных событий\n",
    "event_act_count = len(df_act['event_name'])\n",
    "all_event = len(df['event_name'])\n",
    "\n",
    "print('Количество утраченных событий:', all_event - event_act_count)\n",
    "print(f'Доля утраченных событий: {round((1 - event_act_count/all_event)*100, 2)}%')"
   ]
  },
  {
   "cell_type": "code",
   "execution_count": 17,
   "metadata": {},
   "outputs": [
    {
     "name": "stdout",
     "output_type": "stream",
     "text": [
      "Количество утраченных пользователей: 17\n",
      "Доля утраченных пользователей: 0.2%\n"
     ]
    }
   ],
   "source": [
    "#Выясним количество утраченных пользователей\n",
    "user_act_count = df_act['user_id'].nunique()\n",
    "all_user = df['user_id'].nunique()\n",
    "\n",
    "print('Количество утраченных пользователей:', all_user - user_act_count)\n",
    "print(f'Доля утраченных пользователей: {round((1 - user_act_count/all_user)*100, 1)}%')"
   ]
  },
  {
   "cell_type": "markdown",
   "metadata": {},
   "source": [
    "После формирования среза данных по актуальной дате, утрачено:\n",
    "- 2 828 событий что составляет 1.16% от первоначальных данных;\n",
    "- 17 пользователей что составляет 0.2% от первоначальных данных.\n",
    "\n",
    "Доли утраченных данных не существенные, не повлияют на дальнейшее исследование."
   ]
  },
  {
   "cell_type": "markdown",
   "metadata": {},
   "source": [
    "Вернуться в [начало проекта](#start)"
   ]
  },
  {
   "cell_type": "markdown",
   "metadata": {},
   "source": [
    "### Проверим наличие пользователей из всех трёх экспериментальных групп."
   ]
  },
  {
   "cell_type": "code",
   "execution_count": 18,
   "metadata": {},
   "outputs": [
    {
     "name": "stdout",
     "output_type": "stream",
     "text": [
      "group\n",
      "246    2484\n",
      "247    2513\n",
      "248    2537\n",
      "Name: user_id, dtype: int64\n"
     ]
    }
   ],
   "source": [
    "#Посмотрим на распределение пользователей между группами\n",
    "df_group = df_act.groupby('group')['user_id'].nunique()\n",
    "print(df_group)"
   ]
  },
  {
   "cell_type": "code",
   "execution_count": 19,
   "metadata": {},
   "outputs": [
    {
     "data": {
      "image/png": "[encoded data removed]",
      "text/plain": [
       "<Figure size 700x500 with 1 Axes>"
      ]
     },
     "metadata": {},
     "output_type": "display_data"
    }
   ],
   "source": [
    "df_group.plot(\n",
    "    kind = 'bar',  \n",
    "    xlabel = 'Номер группы', \n",
    "    ylabel = 'Количество пользователей',\n",
    "    grid = True,\n",
    "    figsize=(7,5), \n",
    "    title='Распределение пользователей по группам'\n",
    ");"
   ]
  },
  {
   "cell_type": "markdown",
   "metadata": {},
   "source": [
    "__Во всех трех группах есть пользователи, которые примерно равномерно распределены между группами.__"
   ]
  },
  {
   "cell_type": "markdown",
   "metadata": {},
   "source": [
    "__Вывод:__\n",
    "- В первоначальных данных было 244 126 событий, 7 551 пользователей, \n",
    "- Период событий с 25 июля 2019 года по 07 августа 2019 года, что составляет 14 дней.\n",
    "- На одного пользователя приходится в среднем 20 событий.\n",
    "- Была выявлена неполнота данных за период с 25 по 31 июля, которые были отброшены срезом.\n",
    "- Оставлены данные за период с 01 августа по 07 августа - 7 дней.\n",
    "- Всего после среза по дате утрачено 2 828 событий, что составило 1.16% событий от первоначальных данных.\n",
    "- После обработки утрачено 0.2% пользователей, 17 пользователей, \n",
    "- Пользователи между группами распределены равномерно."
   ]
  },
  {
   "cell_type": "markdown",
   "metadata": {},
   "source": [
    "Вернуться в [начало проекта](#start)"
   ]
  },
  {
   "cell_type": "markdown",
   "metadata": {},
   "source": [
    "## Шаг 4. Исследование воронки событий"
   ]
  },
  {
   "cell_type": "markdown",
   "metadata": {},
   "source": [
    "### Изучим события в логах и их частоту.\n",
    "\n",
    "Посмотрим, какие события есть в логах, как часто они встречаются и отсортируем события по частоте."
   ]
  },
  {
   "cell_type": "code",
   "execution_count": 20,
   "metadata": {},
   "outputs": [
    {
     "name": "stdout",
     "output_type": "stream",
     "text": [
      "MainScreenAppear           117431\n",
      "OffersScreenAppear          46350\n",
      "CartScreenAppear            42365\n",
      "PaymentScreenSuccessful     34113\n",
      "Tutorial                     1039\n",
      "Name: event_name, dtype: int64\n"
     ]
    }
   ],
   "source": [
    "#Посмотрим на события и их количество\n",
    "df_event_act = df_act['event_name'].value_counts()\n",
    "print(df_event_act)"
   ]
  },
  {
   "cell_type": "code",
   "execution_count": 21,
   "metadata": {},
   "outputs": [
    {
     "data": {
      "image/png": "[encoded data removed]",
      "text/plain": [
       "<Figure size 700x500 with 1 Axes>"
      ]
     },
     "metadata": {},
     "output_type": "display_data"
    }
   ],
   "source": [
    "df_event_act.plot(\n",
    "    kind = 'bar',  \n",
    "    xlabel = 'Событие', \n",
    "    ylabel = 'Частота',\n",
    "    grid = True,\n",
    "    figsize=(7,5), \n",
    "    title='Распределение частоты событий в логах'\n",
    ");"
   ]
  },
  {
   "cell_type": "markdown",
   "metadata": {},
   "source": [
    "- Чаще всего происходит событие `MainScreenAppear` (Основной экран) - 117 431 раз.\n",
    "- Следующее по частоте событие `OffersScreenAppear` (Перечень продуктов) - 46 350 раз.\n",
    "- Третье по частоте `CartScreenAppear` (Экран Корзина) - 42 365 раз.\n",
    "- Следующее `PaymentScreenSuccessful` (Экран оплата) - 34 113 раз.\n",
    "- Ссамое редкое событие `Tutorial` (Учебное пособие) - 1 039 раз."
   ]
  },
  {
   "cell_type": "markdown",
   "metadata": {},
   "source": [
    "Вернуться в [начало проекта](#start)"
   ]
  },
  {
   "cell_type": "markdown",
   "metadata": {},
   "source": [
    "### Выясним количество и долю пользователей совершившие каждое из событий.\n",
    "\n",
    "Посчитаем, сколько пользователей совершали каждое из событий. Отсортируем события по числу пользователей. Посчитаем долю пользователей, которые хоть раз совершали событие."
   ]
  },
  {
   "cell_type": "code",
   "execution_count": 22,
   "metadata": {},
   "outputs": [
    {
     "name": "stdout",
     "output_type": "stream",
     "text": [
      "                event_name  user_id  percent\n",
      "0         MainScreenAppear     7419     98.0\n",
      "1       OffersScreenAppear     4593     61.0\n",
      "2         CartScreenAppear     3734     50.0\n",
      "3  PaymentScreenSuccessful     3539     47.0\n",
      "4                 Tutorial      840     11.0\n"
     ]
    }
   ],
   "source": [
    "df_event_user = df_act.groupby(\n",
    "    'event_name'\n",
    ")['user_id'].nunique().sort_values(ascending=False).reset_index()\n",
    "\n",
    "df_event_user['percent'] = (\n",
    "    df_event_user['user_id'] / df_act['user_id'].nunique() * 100\n",
    ").round()\n",
    "\n",
    "print( df_event_user)"
   ]
  },
  {
   "cell_type": "markdown",
   "metadata": {},
   "source": [
    "Из 7 534 уникальных активных в исследуемый период пользователей хоть раз:\n",
    "- 7 419 (что составляет 98%) - зашли на главный экран `MainScreenAppear`;\n",
    "- 4 593 (61%) - открыли каталог с перечнем продуктов `OffersScreenAppear`;\n",
    "- 3 734 (50% от общего колличества пользователей) - перешли на экран корзины `CartScreenAppear`;\n",
    "- 3 539 (47%) - открыли экран оплата `PaymentScreenSuccessful`;\n",
    "- всего 840 (11%) - открыли экран учебного пособия `Tutorial`.\n",
    "\n",
    "Из всех пользователей, `2%` не попали на главный экран, такое возможно если пользователи попали сразу в каталог с товарами из внешних источников (например из рекламы нажав на предложение купить, или по ссылке если кто-то из знакомых прислал ссылку на товар). \n",
    "\n",
    "На экран с товарами перешло только `61%` пользователей, если пользователь скачал приложение, зашел в него, то вероятнее всего у него есть намерение заказать товар, но он не дошел до этапа выбора товара, что-то остановило его, стоит разобраться. Далее между этапами воронки теряется не значительная часть пользователей, что естественно для торговли.\n",
    "\n",
    "На экран с обучающей информацией перешло всего `11%`. "
   ]
  },
  {
   "cell_type": "markdown",
   "metadata": {},
   "source": [
    "Вернуться в [начало проекта](#start)"
   ]
  },
  {
   "cell_type": "markdown",
   "metadata": {},
   "source": [
    "### Предположим порядок событий."
   ]
  },
  {
   "cell_type": "markdown",
   "metadata": {},
   "source": [
    "Вероятнее всего для исследуемого мобильного приложения по продаже продуктов питания характерен следующий порядок событий:\n",
    "\n",
    "1) Сначала пользователь попадает на Главный экран - `MainScreenAppear`;\n",
    "\n",
    "2) Далее ему предлагается пройти обучение по использованию приложением - `Tutorial`;\n",
    "\n",
    "3) После обучения он попадает в каталог продуктов - `OffersScreenAppear`;\n",
    "\n",
    "4) Далее он переходит в \"Корзину\" - `CartScreenAppear`;\n",
    "\n",
    "5) После корзины пользователь переходит на экран оплаты заказа - `PaymentScreenSuccessful`.\n",
    "\n",
    "Но если смотреть на события как на воронку, то событие `Tutorial` выпадает из второй стадии хода событий, это событие открыло всего 11% пользователей, остальные обходят этот этап переходя, вероятнее всего, приложение понятное и без обучения.\n",
    "\n",
    "Событие `Tutorial` не стоит учитывать при расчете воронки."
   ]
  },
  {
   "cell_type": "code",
   "execution_count": 23,
   "metadata": {},
   "outputs": [],
   "source": [
    "df_act = df_act[df_act.event_name != \"Tutorial\"]"
   ]
  },
  {
   "cell_type": "markdown",
   "metadata": {},
   "source": [
    "Вернуться в [начало проекта](#start)"
   ]
  },
  {
   "cell_type": "markdown",
   "metadata": {},
   "source": [
    "### Исследуем воронку событий, выясним доли пользователей переходящих от шага к следующему шагу.\n",
    "\n",
    "По воронке событий посчитаем, какая доля пользователей проходит на следующий шаг воронки (от числа пользователей на предыдущем). То есть для последовательности событий A → B → C посчитаем отношение числа пользователей с событием B к количеству пользователей с событием A, а также отношение числа пользователей с событием C к количеству пользователей с событием B."
   ]
  },
  {
   "cell_type": "code",
   "execution_count": 24,
   "metadata": {},
   "outputs": [
    {
     "data": {
      "text/html": [
       "<style  type=\"text/css\" >\n",
       "</style><table id=\"T_d1134_\" ><thead>    <tr>        <th class=\"blank level0\" ></th>        <th class=\"col_heading level0 col0\" >event_name</th>        <th class=\"col_heading level0 col1\" >total_events</th>        <th class=\"col_heading level0 col2\" >total_users</th>        <th class=\"col_heading level0 col3\" >share_users</th>        <th class=\"col_heading level0 col4\" >funnel</th>    </tr></thead><tbody>\n",
       "                <tr>\n",
       "                        <th id=\"T_d1134_level0_row0\" class=\"row_heading level0 row0\" >0</th>\n",
       "                        <td id=\"T_d1134_row0_col0\" class=\"data row0 col0\" >MainScreenAppear</td>\n",
       "                        <td id=\"T_d1134_row0_col1\" class=\"data row0 col1\" >117431</td>\n",
       "                        <td id=\"T_d1134_row0_col2\" class=\"data row0 col2\" >7419</td>\n",
       "                        <td id=\"T_d1134_row0_col3\" class=\"data row0 col3\" >98.5%</td>\n",
       "                        <td id=\"T_d1134_row0_col4\" class=\"data row0 col4\" >100%</td>\n",
       "            </tr>\n",
       "            <tr>\n",
       "                        <th id=\"T_d1134_level0_row1\" class=\"row_heading level0 row1\" >1</th>\n",
       "                        <td id=\"T_d1134_row1_col0\" class=\"data row1 col0\" >OffersScreenAppear</td>\n",
       "                        <td id=\"T_d1134_row1_col1\" class=\"data row1 col1\" >46350</td>\n",
       "                        <td id=\"T_d1134_row1_col2\" class=\"data row1 col2\" >4593</td>\n",
       "                        <td id=\"T_d1134_row1_col3\" class=\"data row1 col3\" >61.0%</td>\n",
       "                        <td id=\"T_d1134_row1_col4\" class=\"data row1 col4\" >62%</td>\n",
       "            </tr>\n",
       "            <tr>\n",
       "                        <th id=\"T_d1134_level0_row2\" class=\"row_heading level0 row2\" >2</th>\n",
       "                        <td id=\"T_d1134_row2_col0\" class=\"data row2 col0\" >CartScreenAppear</td>\n",
       "                        <td id=\"T_d1134_row2_col1\" class=\"data row2 col1\" >42365</td>\n",
       "                        <td id=\"T_d1134_row2_col2\" class=\"data row2 col2\" >3734</td>\n",
       "                        <td id=\"T_d1134_row2_col3\" class=\"data row2 col3\" >49.6%</td>\n",
       "                        <td id=\"T_d1134_row2_col4\" class=\"data row2 col4\" >81%</td>\n",
       "            </tr>\n",
       "            <tr>\n",
       "                        <th id=\"T_d1134_level0_row3\" class=\"row_heading level0 row3\" >3</th>\n",
       "                        <td id=\"T_d1134_row3_col0\" class=\"data row3 col0\" >PaymentScreenSuccessful</td>\n",
       "                        <td id=\"T_d1134_row3_col1\" class=\"data row3 col1\" >34113</td>\n",
       "                        <td id=\"T_d1134_row3_col2\" class=\"data row3 col2\" >3539</td>\n",
       "                        <td id=\"T_d1134_row3_col3\" class=\"data row3 col3\" >47.0%</td>\n",
       "                        <td id=\"T_d1134_row3_col4\" class=\"data row3 col4\" >95%</td>\n",
       "            </tr>\n",
       "    </tbody></table>"
      ],
      "text/plain": [
       "<pandas.io.formats.style.Styler at 0x12f714e20>"
      ]
     },
     "execution_count": 24,
     "metadata": {},
     "output_type": "execute_result"
    }
   ],
   "source": [
    "#сгруппируем данные по событию и посчитаем количество событий и \n",
    "#количество пользователей\n",
    "events = df_act.query('event_name != \"Tutorial\"').groupby('event_name').agg({\n",
    "    'user_id': ['count', 'nunique']\n",
    "}).sort_values(by = ('user_id', 'nunique'), ascending=False).reset_index()\n",
    "\n",
    "#переименуем колонки\n",
    "events.columns = ['event_name', 'total_events', 'total_users'] \n",
    "\n",
    "#посчитаем долю пользователей на каждом этапе от общего числа пользователей\n",
    "events['share_users'] = events['total_users'] / df_act['user_id'].nunique()\n",
    "\n",
    "#посчитаем долю пользователей от предыдущего этапа воронки\n",
    "events['funnel'] = (events['total_users'] / events['total_users'].shift(1))\n",
    "events['funnel'] = events['funnel'].fillna(1)\n",
    "\n",
    "events = events[events.event_name != \"Tutorial\"]\n",
    "\n",
    "#приведем share_users и funnel к формату процентов\n",
    "events.style.format({'share_users' : '{:.1%}','funnel' : '{:.0%}'})"
   ]
  },
  {
   "cell_type": "markdown",
   "metadata": {},
   "source": [
    "Визуализируем получившуюся воронку."
   ]
  },
  {
   "cell_type": "code",
   "execution_count": 25,
   "metadata": {},
   "outputs": [
    {
     "data": {
      "image/png": "[encoded data removed]"
     },
     "metadata": {},
     "output_type": "display_data"
    }
   ],
   "source": [
    "#выведем воронку\n",
    "fig = go.Figure(go.Funnel(\n",
    "    y = ['main_screen', 'offers_screen', 'cart_screen', 'payment_screen'],\n",
    "    x = events['total_users'],\n",
    "    textposition = \"inside\",\n",
    "    textinfo = \"value+percent initial+percent previous\"\n",
    "))\n",
    "fig.update_layout(title={'text': \"Воронка событий\"})\n",
    "fig.show(\"png\");"
   ]
  },
  {
   "cell_type": "markdown",
   "metadata": {},
   "source": [
    "Как видно по воронке, __большая часть пользователей теряется на первом этапе - `MainScreenAppear` (основной экран), к выбору товара переходит всего 62% (потеряно 38: пользователей).__ Если пользователь скачал приложение и зашел в него, значит у него были намерения воспользоваться услугами компании. Есть вероятность, что интерфейс основной страницы не привлекателен, может не достаточно удобен, понятен, или возможно случаются сбои на части устройств, стоит провериьт взаимосвязь оттока пользователей в зависимости от устройств.\n",
    "\n",
    "__От первого события до оплаты доходит около 48% пользователей.__\n",
    "\n",
    "Посмотрим на воронку в разбивке по группам."
   ]
  },
  {
   "cell_type": "code",
   "execution_count": 26,
   "metadata": {},
   "outputs": [],
   "source": [
    "# сгруппируем данные по группам и событиям\n",
    "events_groups = df_act.pivot_table(\n",
    "    index=['group','event_name'], \n",
    "    values='user_id', \n",
    "    aggfunc='nunique'\n",
    ").reset_index()\n",
    "events_groups.columns = ('group', 'event_name', 'total')\n",
    "\n",
    "#отфильтруем по группам\n",
    "events_groups_246 = events_groups.query('group == 246').sort_values(\n",
    "    by = 'total', \n",
    "    ascending=False\n",
    ")\n",
    "events_groups_247 = events_groups.query('group == 247').sort_values(\n",
    "    by = 'total', \n",
    "    ascending=False\n",
    ")\n",
    "events_groups_248 = events_groups.query('group == 248').sort_values(\n",
    "    by = 'total', \n",
    "    ascending=False\n",
    ")"
   ]
  },
  {
   "cell_type": "code",
   "execution_count": 27,
   "metadata": {},
   "outputs": [
    {
     "data": {
      "image/png": "[encoded data removed]"
     },
     "metadata": {},
     "output_type": "display_data"
    }
   ],
   "source": [
    "#сформируем воронку с разбивкой по группам\n",
    "fig = go.Figure()\n",
    "\n",
    "fig.add_trace(go.Funnel(\n",
    "    name = '246',\n",
    "    y = ['main_screen', 'offers_screen', 'cart_screen', 'payment_screen'],\n",
    "    x = events_groups_246['total'],\n",
    "    textinfo = \"value+percent initial+percent previous\"))\n",
    "\n",
    "fig.add_trace(go.Funnel(\n",
    "    name = '247',\n",
    "    orientation = \"h\",\n",
    "    y = ['main_screen', 'offers_screen', 'cart_screen', 'payment_screen'],\n",
    "    x = events_groups_247['total'],\n",
    "    textposition = \"inside\",\n",
    "    textinfo = \"value+percent initial+percent previous\"))\n",
    "\n",
    "fig.add_trace(go.Funnel(\n",
    "    name = '248',\n",
    "    orientation = \"h\",\n",
    "    y = ['main_screen', 'offers_screen', 'cart_screen', 'payment_screen'],\n",
    "    x = events_groups_248['total'],\n",
    "    textposition = \"inside\",\n",
    "    textinfo = \"value+percent initial+percent previous\"))\n",
    "fig.update_layout(title={'text': \"Воронка событий по группам\"})\n",
    "fig.show(\"png\")"
   ]
  },
  {
   "cell_type": "markdown",
   "metadata": {},
   "source": [
    "__Вывод:__ \n",
    " - Всего пять типов событий в логах: `MainScreenAppear`, `OffersScreenAppear`, `CartScreenAppear`, `PaymentScreenSuccessful`, `Tutorial`. Чаще всего из них встречается `MainScreenAppear`  - 117 328 раз, реже всего - `Tutorial` - 1005 раз.\n",
    "\n",
    " - По пользователям, которые соверишили эти события схожее распределение: больше всего у `MainScreenAppear` -  98% в процентном соотношении от общего количества , а у `Tutorial` -  11% пользователей.\n",
    "\n",
    "- Предположено, что для исследуемого мобильного приложения по продаже продуктов питания характерен следующий порядок событий:\n",
    "  1. Сначала пользователь попадает на Главный экран - `MainScreenAppear`;\n",
    "  2. Далее ему предлагается пройти обучение по использованию приложением - `Tutorial`;\n",
    "  3. После обучения он попадает в каталог продуктов - `OffersScreenAppear`;\n",
    "  4. Далее он переходит в \"Корзину\" - `CartScreenAppear`;\n",
    "  5. После корзины пользователь переходит на экран оплаты заказа - `PaymentScreenSuccessful`.\n",
    "- Событие `Tutorial` не стоит учитывать при расчете воронки, так как  если смотреть на события как на воронку, то событие `Tutorial` выпадает из второй стадии хода событий, это событие открыло всего 11% пользователей, остальные обходят этот этап переходя, вероятнее всего, приложение понятное и без обучения. \n",
    "\n",
    "- Большая часть пользователей теряется на первом этапе - `MainScreenAppear` (основной экран), к выбору товара `OffersScreenAppear` переходит всего 62% (потеряно 38: пользователей). На следующую стадию в корзину (`CartScreenAppear`) попадает 50%, и до оплаты заказа `PaymentScreenSuccessful` добирается только 48% пользователей от попавших на главный экран.\n",
    "\n",
    "- В разбивке по группам схожая картина что и в общих данных по всем пользователям."
   ]
  },
  {
   "cell_type": "markdown",
   "metadata": {},
   "source": [
    "Вернуться в [начало проекта](#start)"
   ]
  },
  {
   "cell_type": "markdown",
   "metadata": {},
   "source": [
    "## Шаг 5. Исследование и анализ результатов эксперимента"
   ]
  },
  {
   "cell_type": "markdown",
   "metadata": {},
   "source": [
    "### Вычислим количество пользователей в каждой экспериментальной группе."
   ]
  },
  {
   "cell_type": "code",
   "execution_count": 28,
   "metadata": {},
   "outputs": [
    {
     "data": {
      "text/html": [
       "<div>\n",
       "<style scoped>\n",
       "    .dataframe tbody tr th:only-of-type {\n",
       "        vertical-align: middle;\n",
       "    }\n",
       "\n",
       "    .dataframe tbody tr th {\n",
       "        vertical-align: top;\n",
       "    }\n",
       "\n",
       "    .dataframe thead th {\n",
       "        text-align: right;\n",
       "    }\n",
       "</style>\n",
       "<table border=\"1\" class=\"dataframe\">\n",
       "  <thead>\n",
       "    <tr style=\"text-align: right;\">\n",
       "      <th></th>\n",
       "      <th>group</th>\n",
       "      <th>cart_screen</th>\n",
       "      <th>main_screen</th>\n",
       "      <th>offers_screen</th>\n",
       "      <th>payment_screen</th>\n",
       "      <th>count_users</th>\n",
       "    </tr>\n",
       "  </thead>\n",
       "  <tbody>\n",
       "    <tr>\n",
       "      <th>0</th>\n",
       "      <td>246</td>\n",
       "      <td>1266</td>\n",
       "      <td>2450</td>\n",
       "      <td>1542</td>\n",
       "      <td>1200</td>\n",
       "      <td>2483</td>\n",
       "    </tr>\n",
       "    <tr>\n",
       "      <th>1</th>\n",
       "      <td>247</td>\n",
       "      <td>1238</td>\n",
       "      <td>2476</td>\n",
       "      <td>1520</td>\n",
       "      <td>1158</td>\n",
       "      <td>2512</td>\n",
       "    </tr>\n",
       "    <tr>\n",
       "      <th>2</th>\n",
       "      <td>248</td>\n",
       "      <td>1230</td>\n",
       "      <td>2493</td>\n",
       "      <td>1531</td>\n",
       "      <td>1181</td>\n",
       "      <td>2535</td>\n",
       "    </tr>\n",
       "  </tbody>\n",
       "</table>\n",
       "</div>"
      ],
      "text/plain": [
       "  group  cart_screen  main_screen  offers_screen  payment_screen  count_users\n",
       "0   246         1266         2450           1542            1200         2483\n",
       "1   247         1238         2476           1520            1158         2512\n",
       "2   248         1230         2493           1531            1181         2535"
      ]
     },
     "execution_count": 28,
     "metadata": {},
     "output_type": "execute_result"
    }
   ],
   "source": [
    "# Выведем количество пользователей по группам\n",
    "groups_pivot = df_act.pivot_table(\n",
    "    index = 'group', \n",
    "    values = 'user_id', \n",
    "    columns = 'event_name',\n",
    "    aggfunc = 'nunique',\n",
    "    margins = True\n",
    ").reset_index()\n",
    "\n",
    "groups_pivot = groups_pivot.drop('Tutorial', axis = 1)\n",
    "groups_pivot = groups_pivot.query('group != \"All\"')\n",
    "groups_pivot.columns = [\n",
    "    'group', \n",
    "    'cart_screen', \n",
    "    'main_screen', \n",
    "    'offers_screen', \n",
    "    'payment_screen', \n",
    "    'count_users'\n",
    "]\n",
    "groups_pivot"
   ]
  },
  {
   "cell_type": "markdown",
   "metadata": {},
   "source": [
    "Пользователи по группам распределены в следующем порядке:\n",
    "- в 246 группе 2 483 пользователя;\n",
    "- в 247 группе 2 512 пользователей;\n",
    "- в 248 группе 2 535 пользователей.\n",
    "\n",
    "В целом разница по количеству пользователей между выборками маленькая, между экспериментальной 248 группой, где больше всего человек, и 246 контрольной группой, где наименьшее количество пользователей, составляет 53 пользователя, это 2.1% от общего количества в 248 группе.\n",
    "\n",
    "Разница между группами не существенная можно продолжать дальнейшее исследование."
   ]
  },
  {
   "cell_type": "markdown",
   "metadata": {},
   "source": [
    "Вернуться в [начало проекта](#start)"
   ]
  },
  {
   "cell_type": "markdown",
   "metadata": {},
   "source": [
    "### Выясним, находят ли статистические критерии разницу между  246 и 247 выбрками.\n",
    "\n",
    "Имеется 2 контрольные группы для А/А-эксперимента, чтобы проверить корректность всех механизмов и расчётов. Проверим, находят ли статистические критерии разницу между выборками 246 и 247.\n",
    "\n",
    "Создание двух групп A вместо одной имеет определённые преимущества:\n",
    "\n",
    "- Если две контрольные группы окажутся равны, можно быть увереным в точности проведенного тестирования. \n",
    "- Если же между значениями A и A будут существенные различия, это поможет обнаружить факторы, которые привели к искажению результатов. \n",
    "- Сравнение контрольных групп также помогает понять, сколько времени и данных потребуется для дальнейших тестов.\n",
    "\n"
   ]
  },
  {
   "cell_type": "code",
   "execution_count": 29,
   "metadata": {},
   "outputs": [],
   "source": [
    "gp_246 = df_act.query(\n",
    "    'group == 246'\n",
    ").groupby('group')['user_id'].nunique().reset_index()\n",
    "gp_247 = df_act.query(\n",
    "    'group == 247'\n",
    ").groupby('group')['user_id'].nunique().reset_index()\n"
   ]
  },
  {
   "cell_type": "code",
   "execution_count": 30,
   "metadata": {},
   "outputs": [
    {
     "name": "stdout",
     "output_type": "stream",
     "text": [
      "Разница между выборками групп 246 и 247 - 1.15%\n"
     ]
    }
   ],
   "source": [
    "ratio = 1 - gp_246.iloc[0]['user_id'] / gp_247.iloc[1]['user_id']\n",
    "print('Разница между выборками групп 246 и 247 - {:.2%}'.format(ratio))"
   ]
  },
  {
   "cell_type": "markdown",
   "metadata": {},
   "source": [
    "- Статистические критерии показали незначительную разницу в 1.15 % между выборками групп 246 и 247. "
   ]
  },
  {
   "cell_type": "markdown",
   "metadata": {},
   "source": [
    "Вернуться в [начало проекта](#start)"
   ]
  },
  {
   "cell_type": "markdown",
   "metadata": {},
   "source": [
    "### Выберем самое популярное событие и проверим наличие разницы между группами.\n",
    "\n",
    "__Как было выявлено при исследовании воронки событий в п. 4.1 и 4.2 самое популярное событие - `MainScreenAppear` (основной экран).__"
   ]
  },
  {
   "cell_type": "code",
   "execution_count": 31,
   "metadata": {},
   "outputs": [
    {
     "data": {
      "text/html": [
       "<div>\n",
       "<style scoped>\n",
       "    .dataframe tbody tr th:only-of-type {\n",
       "        vertical-align: middle;\n",
       "    }\n",
       "\n",
       "    .dataframe tbody tr th {\n",
       "        vertical-align: top;\n",
       "    }\n",
       "\n",
       "    .dataframe thead th {\n",
       "        text-align: right;\n",
       "    }\n",
       "</style>\n",
       "<table border=\"1\" class=\"dataframe\">\n",
       "  <thead>\n",
       "    <tr style=\"text-align: right;\">\n",
       "      <th></th>\n",
       "      <th>event_name</th>\n",
       "      <th>246</th>\n",
       "      <th>247</th>\n",
       "      <th>248</th>\n",
       "      <th>total</th>\n",
       "      <th>246+247</th>\n",
       "    </tr>\n",
       "  </thead>\n",
       "  <tbody>\n",
       "    <tr>\n",
       "      <th>0</th>\n",
       "      <td>All</td>\n",
       "      <td>2483</td>\n",
       "      <td>2512</td>\n",
       "      <td>2535</td>\n",
       "      <td>7530.0</td>\n",
       "      <td>4995</td>\n",
       "    </tr>\n",
       "    <tr>\n",
       "      <th>1</th>\n",
       "      <td>MainScreenAppear</td>\n",
       "      <td>2450</td>\n",
       "      <td>2476</td>\n",
       "      <td>2493</td>\n",
       "      <td>7419.0</td>\n",
       "      <td>4926</td>\n",
       "    </tr>\n",
       "    <tr>\n",
       "      <th>2</th>\n",
       "      <td>OffersScreenAppear</td>\n",
       "      <td>1542</td>\n",
       "      <td>1520</td>\n",
       "      <td>1531</td>\n",
       "      <td>4593.0</td>\n",
       "      <td>3062</td>\n",
       "    </tr>\n",
       "    <tr>\n",
       "      <th>3</th>\n",
       "      <td>CartScreenAppear</td>\n",
       "      <td>1266</td>\n",
       "      <td>1238</td>\n",
       "      <td>1230</td>\n",
       "      <td>3734.0</td>\n",
       "      <td>2504</td>\n",
       "    </tr>\n",
       "    <tr>\n",
       "      <th>4</th>\n",
       "      <td>PaymentScreenSuccessful</td>\n",
       "      <td>1200</td>\n",
       "      <td>1158</td>\n",
       "      <td>1181</td>\n",
       "      <td>3539.0</td>\n",
       "      <td>2358</td>\n",
       "    </tr>\n",
       "  </tbody>\n",
       "</table>\n",
       "</div>"
      ],
      "text/plain": [
       "                event_name   246   247   248   total  246+247\n",
       "0                      All  2483  2512  2535  7530.0     4995\n",
       "1         MainScreenAppear  2450  2476  2493  7419.0     4926\n",
       "2       OffersScreenAppear  1542  1520  1531  4593.0     3062\n",
       "3         CartScreenAppear  1266  1238  1230  3734.0     2504\n",
       "4  PaymentScreenSuccessful  1200  1158  1181  3539.0     2358"
      ]
     },
     "execution_count": 31,
     "metadata": {},
     "output_type": "execute_result"
    }
   ],
   "source": [
    "#сформируем сводную таблицу по событиям и числом пользователей по группам\n",
    "event_funnel = df_act.pivot_table(\n",
    "    index = 'event_name', \n",
    "    values = 'user_id',\n",
    "    columns = 'group',\n",
    "    aggfunc = 'nunique',\n",
    "    margins = True\n",
    ").sort_values(by = 246, ascending = False).reset_index()\n",
    "\n",
    "#удалим строку с Tutorial\n",
    "event_funnel = event_funnel[event_funnel.event_name != \"Tutorial\"]\n",
    "#переименуем столбцы \n",
    "event_funnel.columns = ['event_name', '246', '247', '248', 'total']\n",
    "event_funnel['246+247'] = event_funnel['246'] + event_funnel['247']\n",
    "event_funnel"
   ]
  },
  {
   "cell_type": "markdown",
   "metadata": {},
   "source": [
    "Проверим будет ли отличие между группами по событиям статистически достоверным.\n",
    "\n",
    "__Проверим гипотезу о равенстве долей при помощи Z-критерия.__\n",
    "\n",
    "Сформулируем гипотезы:\n",
    "\n",
    "- __Нулевая гипотеза Н0__ - \"Доли пользователей, на этапе воронки, не имеют значимой разницы.\"\n",
    "\n",
    "- __Альтернативная гипотеза Н1__ - \"Между долями уникальных пользователей, на этапе воронки, есть значимая разница.\"\n",
    "\n",
    "Критический уровень статистической значимости: 0.05."
   ]
  },
  {
   "cell_type": "code",
   "execution_count": 32,
   "metadata": {},
   "outputs": [],
   "source": [
    "#напишем функцию для проверки статистической значимости\n",
    "def z_test(data, num_group, alpha):\n",
    "    # количество пользователей в каждой группе\n",
    "    users = [data.query('group == @group')['user_id'].nunique() for group in num_group]\n",
    "    #перебор экспериментальных групп по событиям и количеству пользователей\n",
    "    for event in data.event_name.unique():\n",
    "        events = [data.query(\n",
    "            'group == %d and event_name == \"%s\"' % (group, event)\n",
    "        )['user_id'].nunique() for group in num_group]\n",
    "        alpha = alpha\n",
    "        p1 = events[0] / users[0] \n",
    "        p2 = events[1] / users[1] \n",
    "        \n",
    "        p_combined = sum(events) / sum(users) \n",
    "        # разница пропорций в датасетах\n",
    "        difference = p1 - p2 \n",
    "        # считаем статистику в ст.отклонениях стандартного нормального распределения\n",
    "        z_value = difference / math.sqrt(\n",
    "            p_combined * (1 - p_combined) * (1 / users[0] + 1 / users[1])\n",
    "        )\n",
    "        # задаем стандартное нормальное распределение (среднее 0, ст.отклонение 1)\n",
    "        distr = stats.norm(0, 1) \n",
    "        p_value = (1 - distr.cdf(abs(z_value))) * 2\n",
    "        # выводим на экран результаты\n",
    "        print('{} p-значение: {}'.format(event, p_value))\n",
    "    \n",
    "        if p_value < alpha:\n",
    "            print('Отвергаем нулевую гипотезу: Между долями уникальных пользователей, на этапе воронки, есть значимая разница.')\n",
    "        else:\n",
    "            print('Не получилось отвергнуть нулевую гипотезу: Доли пользователей, на этапе воронки, не имеют значимой разницы.')\n",
    "            \n",
    "        print('_'*50)    "
   ]
  },
  {
   "cell_type": "code",
   "execution_count": 33,
   "metadata": {},
   "outputs": [
    {
     "name": "stdout",
     "output_type": "stream",
     "text": [
      "MainScreenAppear p-значение: 0.7526703436483038\n",
      "Не получилось отвергнуть нулевую гипотезу: Доли пользователей, на этапе воронки, не имеют значимой разницы.\n",
      "__________________________________________________\n",
      "OffersScreenAppear p-значение: 0.24786096925282264\n",
      "Не получилось отвергнуть нулевую гипотезу: Доли пользователей, на этапе воронки, не имеют значимой разницы.\n",
      "__________________________________________________\n",
      "CartScreenAppear p-значение: 0.22867643757335676\n",
      "Не получилось отвергнуть нулевую гипотезу: Доли пользователей, на этапе воронки, не имеют значимой разницы.\n",
      "__________________________________________________\n",
      "PaymentScreenSuccessful p-значение: 0.11446627829276612\n",
      "Не получилось отвергнуть нулевую гипотезу: Доли пользователей, на этапе воронки, не имеют значимой разницы.\n",
      "__________________________________________________\n"
     ]
    }
   ],
   "source": [
    "# По заданной функции z_test проверим различия между контрольными \n",
    "# группами А/А-теста 246 и 247\n",
    "z_test(df_act, [246, 247], 0.05)"
   ]
  },
  {
   "cell_type": "markdown",
   "metadata": {},
   "source": [
    "- Статистически значимых различий между группами `246` и `247` на всех этапах не обнаружено.\n",
    "- Значит, можно быть увереным в точности проведенного тестирования и в том что разбиение на группы работает корректно."
   ]
  },
  {
   "cell_type": "markdown",
   "metadata": {},
   "source": [
    "Вернуться в [начало проекта](#start)"
   ]
  },
  {
   "cell_type": "markdown",
   "metadata": {},
   "source": [
    "### Повторим проверку по группе с измененным шрифтом. Сравним результаты с каждой из контрольных групп в отдельности по каждому событию. Сравним результаты с объединённой контрольной группой.\n",
    "\n",
    "__Проверим различия между контрольной группой `246` и группой с измененным шрифтом `248`.__"
   ]
  },
  {
   "cell_type": "code",
   "execution_count": 34,
   "metadata": {},
   "outputs": [
    {
     "name": "stdout",
     "output_type": "stream",
     "text": [
      "MainScreenAppear p-значение: 0.3387114076159288\n",
      "Не получилось отвергнуть нулевую гипотезу: Доли пользователей, на этапе воронки, не имеют значимой разницы.\n",
      "__________________________________________________\n",
      "OffersScreenAppear p-значение: 0.21442476639710506\n",
      "Не получилось отвергнуть нулевую гипотезу: Доли пользователей, на этапе воронки, не имеют значимой разницы.\n",
      "__________________________________________________\n",
      "CartScreenAppear p-значение: 0.08067367598823139\n",
      "Не получилось отвергнуть нулевую гипотезу: Доли пользователей, на этапе воронки, не имеют значимой разницы.\n",
      "__________________________________________________\n",
      "PaymentScreenSuccessful p-значение: 0.21693033984516674\n",
      "Не получилось отвергнуть нулевую гипотезу: Доли пользователей, на этапе воронки, не имеют значимой разницы.\n",
      "__________________________________________________\n"
     ]
    }
   ],
   "source": [
    "z_test(df_act, [246, 248], 0.05)"
   ]
  },
  {
   "cell_type": "markdown",
   "metadata": {},
   "source": [
    "- Статистически значимых различий между группами `246` и `248` на всех этапах по событиям не обнаружено.\n",
    "\n",
    "__Проверим различия между контрольной группой `247` и группой с измененным шрифтом `248`.__"
   ]
  },
  {
   "cell_type": "code",
   "execution_count": 35,
   "metadata": {},
   "outputs": [
    {
     "name": "stdout",
     "output_type": "stream",
     "text": [
      "MainScreenAppear p-значение: 0.5194964354051703\n",
      "Не получилось отвергнуть нулевую гипотезу: Доли пользователей, на этапе воронки, не имеют значимой разницы.\n",
      "__________________________________________________\n",
      "OffersScreenAppear p-значение: 0.9333751305879443\n",
      "Не получилось отвергнуть нулевую гипотезу: Доли пользователей, на этапе воронки, не имеют значимой разницы.\n",
      "__________________________________________________\n",
      "CartScreenAppear p-значение: 0.5878284605111943\n",
      "Не получилось отвергнуть нулевую гипотезу: Доли пользователей, на этапе воронки, не имеют значимой разницы.\n",
      "__________________________________________________\n",
      "PaymentScreenSuccessful p-значение: 0.7275718682261119\n",
      "Не получилось отвергнуть нулевую гипотезу: Доли пользователей, на этапе воронки, не имеют значимой разницы.\n",
      "__________________________________________________\n"
     ]
    }
   ],
   "source": [
    "z_test(df_act, [247, 248], 0.05)"
   ]
  },
  {
   "cell_type": "markdown",
   "metadata": {},
   "source": [
    "- Статистически значимых различий между группами `247` и `248` на всех этапах по событиям не выявлено.\n",
    "\n",
    "__Проверим различия между группой с измененным шрифтом `248` и с объединённой контрольной группой (`246` + `247`).__"
   ]
  },
  {
   "cell_type": "code",
   "execution_count": 36,
   "metadata": {},
   "outputs": [],
   "source": [
    "unity_246_247 = df_act.copy()\n",
    "unity_246_247['group'].replace({247: 246}, inplace=True)"
   ]
  },
  {
   "cell_type": "code",
   "execution_count": 37,
   "metadata": {},
   "outputs": [
    {
     "name": "stdout",
     "output_type": "stream",
     "text": [
      "MainScreenAppear p-значение: 0.3486684291093256\n",
      "Не получилось отвергнуть нулевую гипотезу: Доли пользователей, на этапе воронки, не имеют значимой разницы.\n",
      "__________________________________________________\n",
      "OffersScreenAppear p-значение: 0.44582745409482394\n",
      "Не получилось отвергнуть нулевую гипотезу: Доли пользователей, на этапе воронки, не имеют значимой разницы.\n",
      "__________________________________________________\n",
      "CartScreenAppear p-значение: 0.18683558686831558\n",
      "Не получилось отвергнуть нулевую гипотезу: Доли пользователей, на этапе воронки, не имеют значимой разницы.\n",
      "__________________________________________________\n",
      "PaymentScreenSuccessful p-значение: 0.6107918742187335\n",
      "Не получилось отвергнуть нулевую гипотезу: Доли пользователей, на этапе воронки, не имеют значимой разницы.\n",
      "__________________________________________________\n"
     ]
    }
   ],
   "source": [
    "z_test(unity_246_247, [246, 248], 0.05)"
   ]
  },
  {
   "cell_type": "markdown",
   "metadata": {},
   "source": [
    "- Статистически значимых различий между группами `248` и объединенной контрольной группой (`246+247`) на всех этапах по событиям не выявлено.\n",
    "\n",
    "__По результатам проверки равенства долей при помощи Z-критерия выявлено что нет значимой разницы между группами по всем этапам воронки. Значит, что изменение шрифта никак не повлияло на активность пользователей. Страхи менеджеров не оправданы.__"
   ]
  },
  {
   "cell_type": "markdown",
   "metadata": {},
   "source": [
    "Вернуться в [начало проекта](#start)"
   ]
  },
  {
   "cell_type": "markdown",
   "metadata": {},
   "source": [
    "### Опишем уровень значимости выбранный при проверке статистических гипотез выше. Опишем выводы и перепроверим предыдущие пункты."
   ]
  },
  {
   "cell_type": "markdown",
   "metadata": {},
   "source": [
    "- В ходе исследования результатов эксперимента со сменой шрифта в приложении, был выбран критический уровень статистической значимости: 0.05.\n",
    "- Всего было проведено 16 проверок - 4 группы по 4 этапа воронки.\n",
    "- Так как тест множественный, то стоит заметить, что с каждой новой проверкой гипотезы растёт вероятность ошибки первого рода. Чтобы снизить вероятность ложнопозитивного результата при множественном тестировании гипотез, можно применить __Метод Бонферрони (поправка Бонферрони)__ - разделим уровень значимости на число гипотез (0.05/16).\n",
    "\n",
    "Используем поправку Бонферрони и посмотрим на результаты."
   ]
  },
  {
   "cell_type": "code",
   "execution_count": 38,
   "metadata": {},
   "outputs": [
    {
     "name": "stdout",
     "output_type": "stream",
     "text": [
      "************************* Различия между группами 246 и 247 *************************\n",
      "MainScreenAppear p-значение: 0.7526703436483038\n",
      "Не получилось отвергнуть нулевую гипотезу: Доли пользователей, на этапе воронки, не имеют значимой разницы.\n",
      "__________________________________________________\n",
      "OffersScreenAppear p-значение: 0.24786096925282264\n",
      "Не получилось отвергнуть нулевую гипотезу: Доли пользователей, на этапе воронки, не имеют значимой разницы.\n",
      "__________________________________________________\n",
      "CartScreenAppear p-значение: 0.22867643757335676\n",
      "Не получилось отвергнуть нулевую гипотезу: Доли пользователей, на этапе воронки, не имеют значимой разницы.\n",
      "__________________________________________________\n",
      "PaymentScreenSuccessful p-значение: 0.11446627829276612\n",
      "Не получилось отвергнуть нулевую гипотезу: Доли пользователей, на этапе воронки, не имеют значимой разницы.\n",
      "__________________________________________________\n",
      "************************* Различия между группами 246 и 248 *************************\n",
      "MainScreenAppear p-значение: 0.3387114076159288\n",
      "Не получилось отвергнуть нулевую гипотезу: Доли пользователей, на этапе воронки, не имеют значимой разницы.\n",
      "__________________________________________________\n",
      "OffersScreenAppear p-значение: 0.21442476639710506\n",
      "Не получилось отвергнуть нулевую гипотезу: Доли пользователей, на этапе воронки, не имеют значимой разницы.\n",
      "__________________________________________________\n",
      "CartScreenAppear p-значение: 0.08067367598823139\n",
      "Не получилось отвергнуть нулевую гипотезу: Доли пользователей, на этапе воронки, не имеют значимой разницы.\n",
      "__________________________________________________\n",
      "PaymentScreenSuccessful p-значение: 0.21693033984516674\n",
      "Не получилось отвергнуть нулевую гипотезу: Доли пользователей, на этапе воронки, не имеют значимой разницы.\n",
      "__________________________________________________\n",
      "************************* Различия между группами 247 и 248 *************************\n",
      "MainScreenAppear p-значение: 0.5194964354051703\n",
      "Не получилось отвергнуть нулевую гипотезу: Доли пользователей, на этапе воронки, не имеют значимой разницы.\n",
      "__________________________________________________\n",
      "OffersScreenAppear p-значение: 0.9333751305879443\n",
      "Не получилось отвергнуть нулевую гипотезу: Доли пользователей, на этапе воронки, не имеют значимой разницы.\n",
      "__________________________________________________\n",
      "CartScreenAppear p-значение: 0.5878284605111943\n",
      "Не получилось отвергнуть нулевую гипотезу: Доли пользователей, на этапе воронки, не имеют значимой разницы.\n",
      "__________________________________________________\n",
      "PaymentScreenSuccessful p-значение: 0.7275718682261119\n",
      "Не получилось отвергнуть нулевую гипотезу: Доли пользователей, на этапе воронки, не имеют значимой разницы.\n",
      "__________________________________________________\n",
      "************************* Различия между группами 246+247 и 248 *************************\n",
      "MainScreenAppear p-значение: 0.3486684291093256\n",
      "Не получилось отвергнуть нулевую гипотезу: Доли пользователей, на этапе воронки, не имеют значимой разницы.\n",
      "__________________________________________________\n",
      "OffersScreenAppear p-значение: 0.44582745409482394\n",
      "Не получилось отвергнуть нулевую гипотезу: Доли пользователей, на этапе воронки, не имеют значимой разницы.\n",
      "__________________________________________________\n",
      "CartScreenAppear p-значение: 0.18683558686831558\n",
      "Не получилось отвергнуть нулевую гипотезу: Доли пользователей, на этапе воронки, не имеют значимой разницы.\n",
      "__________________________________________________\n",
      "PaymentScreenSuccessful p-значение: 0.6107918742187335\n",
      "Не получилось отвергнуть нулевую гипотезу: Доли пользователей, на этапе воронки, не имеют значимой разницы.\n",
      "__________________________________________________\n"
     ]
    }
   ],
   "source": [
    "alpha = 0.05\n",
    "bonferroni_alpha = alpha / 16\n",
    "print('*'*25, 'Различия между группами 246 и 247', '*'*25)\n",
    "z_test(df_act, [246, 247], bonferroni_alpha)\n",
    "print('*'*25, 'Различия между группами 246 и 248', '*'*25)\n",
    "z_test(df_act, [246, 248], bonferroni_alpha)\n",
    "print('*'*25, 'Различия между группами 247 и 248', '*'*25)\n",
    "z_test(df_act, [247, 248], bonferroni_alpha)\n",
    "print('*'*25, 'Различия между группами 246+247 и 248', '*'*25)\n",
    "z_test(unity_246_247, [246, 248], bonferroni_alpha)"
   ]
  },
  {
   "cell_type": "markdown",
   "metadata": {},
   "source": [
    "Поправка уровня значимости не повлияла на результаты проверки равенства групп, группы по прежнему не имеют значимой разницы. "
   ]
  },
  {
   "cell_type": "markdown",
   "metadata": {},
   "source": [
    "Вернуться в [начало проекта](#start)"
   ]
  },
  {
   "cell_type": "markdown",
   "metadata": {},
   "source": [
    "## Итоговый вывод по проекту"
   ]
  },
  {
   "cell_type": "markdown",
   "metadata": {},
   "source": [
    "В ходе работы над проектом были:\n",
    "1. __Загружены и предобработанны данные мобильного приложения продающего продукты питания.__\n",
    "\n",
    " - всего в датафрейме 4 столбца и `244 126` строк;\n",
    " - пропущенных значений нет, но выявлено и удалено `413` дубликатов (`0,16%` от всех данных);\n",
    " - переименованы заголовки столбцов;\n",
    " - добавленны столбцы дата с временем и дата без времени;\n",
    " - пересекающихся пользователей попавших в более чем в одну группу не обнаружено.\n",
    " \n",
    "2. __Проведен исследовательский анализ данных, на данном этапе выявлено что:__\n",
    "\n",
    "- Всего уникальных пользователей - `7 551`. \n",
    "- Период событий в исследуемой выборке предоставлен с `25 июля 2019 года` по `07 августа 2019 года`, что составляет `14` дней.\n",
    "- На одного пользователя приходится в среднем `20` событий.\n",
    "- Обнаружена неполнота данных за период с `25` по `31 июля`, которые были отброшены срезом.\n",
    "- Оставлены данные за период с `01 августа` по `07 августа` - что составляет `7` дней.\n",
    "- Всего после среза по дате утрачено `2 828` событий, что составило `1.16%` событий от первоначальных данных.\n",
    "- После обработки утрачено `0.2%` пользователей, (`17` человек). \n",
    "- Пользователи между группами распределены равномерно.\n",
    "\n",
    "3. __Проведено исследование воронки событий.__\n",
    "\n",
    "- Всего пять типов событий в логах: `MainScreenAppear`, `OffersScreenAppear`, `CartScreenAppear`, `PaymentScreenSuccessful`, `Tutorial`. Чаще всего из них встречается `MainScreenAppear`  - `117 328` раз, реже всего - `Tutorial` - `1 005` раз.\n",
    "\n",
    " - По пользователям, которые соверишили эти события схожее распределение: больше всего у `MainScreenAppear` -  `98%` в процентном соотношении от общего количества , а у `Tutorial` -  `11%` пользователей.\n",
    "\n",
    "- Предположено, что для исследуемого мобильного приложения по продаже продуктов питания характерен следующий порядок событий:\n",
    "  1. Сначала пользователь попадает на Главный экран - `MainScreenAppear`;\n",
    "  2. Далее ему предлагается пройти обучение по использованию приложением - `Tutorial`;\n",
    "  3. После обучения он попадает в каталог продуктов - `OffersScreenAppear`;\n",
    "  4. Далее он переходит в \"Корзину\" - `CartScreenAppear`;\n",
    "  5. После корзины пользователь переходит на экран оплаты заказа - `PaymentScreenSuccessful`.\n",
    "- Событие `Tutorial` выпадает из второй стадии хода событий, это событие открыло всего `11% `пользователей, остальные обходят этот этап, вероятнее всего, приложение понятное и без обучения. \n",
    "\n",
    "- Большая часть пользователей теряется на первом этапе - `MainScreenAppear` (основной экран), к выбору товара `OffersScreenAppear` переходит всего `62%` (потеряно `38%` пользователей). На следующую стадию в корзину (`CartScreenAppear`) попадает `50%`, и до оплаты заказа `PaymentScreenSuccessful` добирается только `48%` пользователей от попавших на главный экран.\n",
    "\n",
    "- В разбивке по группам схожая картина что и в общих данных по всем пользователям.\n",
    "\n",
    "4. __Исследованы и проанализированы результаты `А/А/В-теста`. На данном этапе:__\n",
    "\n",
    "- Была проверена разность между контрольными группами `246` и `247`, статистические критерии не показали разницы, следовательно, можно быть увереным в точности проведенного тестирования.\n",
    "- Проверены множественные гипотезы о равенстве долей всех четырех групп при помощи `Z-критерия`.\n",
    "- В ходе исследования результатов эксперимента со сменой шрифта в приложении, был выбран критический уровень статистической значимости: `0.05`, и дополнительно проведена проверка с `поправкой Бенферрони`.\n",
    "- Всего было проведено `32` проверки - `4` группы по `4` этапа воронки по `2` раза с разным критическим уровнем статистической значимости.\n",
    "- __По результатам проверки равенства долей при помощи Z-критерия выявлено что нет значимой разницы между группами по всем этапам воронки. Значит, что изменение шрифта никак не повлияло на активность пользователей. Страхи менеджеров не оправданы.__\n",
    "\n",
    "__Рекомендации:__\n",
    "\n",
    "1) Вероятнее всего смена шрифта не повлияет на активность пользователей, и если это необходимо для ребрендинга или обновления стиля, можно пустить это обновление в ход.\n",
    "\n",
    "2) Стоит выяснить почему большая часть пользователей теряется на первом этапе, провести исследование - проверить зависимость между устройством пользователей, возможно наличие сбоя, ведь если пользователь скачал приложение, зашел в него, значит, у него было намерение воспользоваться услугами приложения. И так как он не перешел в каталог продуктов, значит дело не в стоимости или ассортименте, а в каких-то недочетах первоначальной страницы.\n"
   ]
  },
  {
   "cell_type": "markdown",
   "metadata": {},
   "source": [
    "Вернуться в [начало проекта](#start)"
   ]
  }
 ],
 "metadata": {
  "ExecuteTimeLog": [
   {
    "duration": 1058,
    "start_time": "2023-11-30T09:42:09.381Z"
   },
   {
    "duration": 667,
    "start_time": "2023-11-30T09:46:33.085Z"
   },
   {
    "duration": 500,
    "start_time": "2023-11-30T09:49:35.633Z"
   },
   {
    "duration": 0,
    "start_time": "2023-11-30T09:49:36.134Z"
   },
   {
    "duration": 0,
    "start_time": "2023-11-30T09:49:36.136Z"
   },
   {
    "duration": 0,
    "start_time": "2023-11-30T09:49:36.137Z"
   },
   {
    "duration": 0,
    "start_time": "2023-11-30T09:49:36.138Z"
   },
   {
    "duration": 443,
    "start_time": "2023-11-30T09:50:10.659Z"
   },
   {
    "duration": 0,
    "start_time": "2023-11-30T09:50:11.104Z"
   },
   {
    "duration": 0,
    "start_time": "2023-11-30T09:50:11.105Z"
   },
   {
    "duration": 0,
    "start_time": "2023-11-30T09:50:11.107Z"
   },
   {
    "duration": 0,
    "start_time": "2023-11-30T09:50:11.108Z"
   },
   {
    "duration": 718,
    "start_time": "2023-11-30T09:51:07.907Z"
   },
   {
    "duration": 1122,
    "start_time": "2023-11-30T09:51:15.717Z"
   },
   {
    "duration": 957,
    "start_time": "2023-11-30T09:51:16.841Z"
   },
   {
    "duration": 8,
    "start_time": "2023-11-30T09:51:17.800Z"
   },
   {
    "duration": 388,
    "start_time": "2023-11-30T09:51:17.810Z"
   },
   {
    "duration": 1388,
    "start_time": "2023-11-30T09:51:18.199Z"
   },
   {
    "duration": 558,
    "start_time": "2023-11-30T09:52:19.174Z"
   },
   {
    "duration": 3,
    "start_time": "2023-11-30T09:52:21.342Z"
   },
   {
    "duration": 124,
    "start_time": "2023-11-30T09:52:22.961Z"
   },
   {
    "duration": 15,
    "start_time": "2023-11-30T10:11:19.903Z"
   },
   {
    "duration": 15,
    "start_time": "2023-11-30T10:11:24.104Z"
   },
   {
    "duration": 12,
    "start_time": "2023-11-30T10:11:56.077Z"
   },
   {
    "duration": 19,
    "start_time": "2023-11-30T10:12:38.377Z"
   },
   {
    "duration": 8,
    "start_time": "2023-11-30T10:13:23.199Z"
   },
   {
    "duration": 1092,
    "start_time": "2023-11-30T10:14:38.738Z"
   },
   {
    "duration": 577,
    "start_time": "2023-11-30T10:14:39.831Z"
   },
   {
    "duration": 4,
    "start_time": "2023-11-30T10:14:40.409Z"
   },
   {
    "duration": 145,
    "start_time": "2023-11-30T10:14:40.415Z"
   },
   {
    "duration": 8,
    "start_time": "2023-11-30T10:14:40.562Z"
   },
   {
    "duration": 25,
    "start_time": "2023-11-30T10:14:40.571Z"
   },
   {
    "duration": 1609,
    "start_time": "2023-11-30T10:14:40.597Z"
   },
   {
    "duration": 20,
    "start_time": "2023-11-30T10:16:04.050Z"
   },
   {
    "duration": 24,
    "start_time": "2023-11-30T10:17:12.718Z"
   },
   {
    "duration": 38,
    "start_time": "2023-11-30T10:17:27.638Z"
   },
   {
    "duration": 28,
    "start_time": "2023-11-30T10:17:44.983Z"
   },
   {
    "duration": 1044,
    "start_time": "2023-11-30T10:23:02.701Z"
   },
   {
    "duration": 920,
    "start_time": "2023-11-30T10:23:03.747Z"
   },
   {
    "duration": 4,
    "start_time": "2023-11-30T10:23:04.668Z"
   },
   {
    "duration": 130,
    "start_time": "2023-11-30T10:23:04.673Z"
   },
   {
    "duration": 6,
    "start_time": "2023-11-30T10:23:04.805Z"
   },
   {
    "duration": 74,
    "start_time": "2023-11-30T10:23:04.812Z"
   },
   {
    "duration": 1105,
    "start_time": "2023-11-30T10:25:56.363Z"
   },
   {
    "duration": 499,
    "start_time": "2023-11-30T10:25:57.470Z"
   },
   {
    "duration": 3,
    "start_time": "2023-11-30T10:25:57.970Z"
   },
   {
    "duration": 129,
    "start_time": "2023-11-30T10:25:57.975Z"
   },
   {
    "duration": 5,
    "start_time": "2023-11-30T10:25:58.106Z"
   },
   {
    "duration": 48,
    "start_time": "2023-11-30T10:25:58.113Z"
   },
   {
    "duration": 17,
    "start_time": "2023-11-30T10:26:17.970Z"
   },
   {
    "duration": 89,
    "start_time": "2023-11-30T10:26:53.733Z"
   },
   {
    "duration": 68,
    "start_time": "2023-11-30T10:27:04.865Z"
   },
   {
    "duration": 133,
    "start_time": "2023-11-30T10:27:30.620Z"
   },
   {
    "duration": 61,
    "start_time": "2023-11-30T10:28:38.787Z"
   },
   {
    "duration": 76,
    "start_time": "2023-11-30T10:30:17.226Z"
   },
   {
    "duration": 89,
    "start_time": "2023-11-30T10:34:45.330Z"
   },
   {
    "duration": 77,
    "start_time": "2023-11-30T10:36:27.820Z"
   },
   {
    "duration": 80,
    "start_time": "2023-11-30T10:40:15.310Z"
   },
   {
    "duration": 23,
    "start_time": "2023-11-30T10:44:15.258Z"
   },
   {
    "duration": 34,
    "start_time": "2023-11-30T10:49:40.972Z"
   },
   {
    "duration": 22,
    "start_time": "2023-11-30T10:54:37.791Z"
   },
   {
    "duration": 1185,
    "start_time": "2023-11-30T10:55:25.120Z"
   },
   {
    "duration": 571,
    "start_time": "2023-11-30T10:55:26.307Z"
   },
   {
    "duration": 4,
    "start_time": "2023-11-30T10:55:26.879Z"
   },
   {
    "duration": 166,
    "start_time": "2023-11-30T10:55:26.886Z"
   },
   {
    "duration": 5,
    "start_time": "2023-11-30T10:55:27.054Z"
   },
   {
    "duration": 25,
    "start_time": "2023-11-30T10:55:27.061Z"
   },
   {
    "duration": 32,
    "start_time": "2023-11-30T10:55:27.087Z"
   },
   {
    "duration": 114,
    "start_time": "2023-11-30T10:55:27.121Z"
   },
   {
    "duration": 24,
    "start_time": "2023-11-30T10:55:27.236Z"
   },
   {
    "duration": 29,
    "start_time": "2023-11-30T10:55:45.854Z"
   },
   {
    "duration": 10,
    "start_time": "2023-11-30T11:55:47.293Z"
   },
   {
    "duration": 10,
    "start_time": "2023-11-30T11:56:05.648Z"
   },
   {
    "duration": 9,
    "start_time": "2023-11-30T11:56:11.727Z"
   },
   {
    "duration": 9,
    "start_time": "2023-11-30T11:56:17.584Z"
   },
   {
    "duration": 9,
    "start_time": "2023-11-30T11:56:31.742Z"
   },
   {
    "duration": 28,
    "start_time": "2023-11-30T11:57:46.359Z"
   },
   {
    "duration": 9,
    "start_time": "2023-11-30T11:58:10.057Z"
   },
   {
    "duration": 71,
    "start_time": "2023-11-30T11:58:48.441Z"
   },
   {
    "duration": 57,
    "start_time": "2023-11-30T11:58:57.555Z"
   },
   {
    "duration": 1124,
    "start_time": "2023-11-30T11:59:13.316Z"
   },
   {
    "duration": 578,
    "start_time": "2023-11-30T11:59:14.441Z"
   },
   {
    "duration": 4,
    "start_time": "2023-11-30T11:59:15.020Z"
   },
   {
    "duration": 171,
    "start_time": "2023-11-30T11:59:15.027Z"
   },
   {
    "duration": 4,
    "start_time": "2023-11-30T11:59:15.200Z"
   },
   {
    "duration": 46,
    "start_time": "2023-11-30T11:59:15.206Z"
   },
   {
    "duration": 24,
    "start_time": "2023-11-30T11:59:15.253Z"
   },
   {
    "duration": 82,
    "start_time": "2023-11-30T11:59:15.279Z"
   },
   {
    "duration": 22,
    "start_time": "2023-11-30T11:59:15.363Z"
   },
   {
    "duration": 9,
    "start_time": "2023-11-30T11:59:15.386Z"
   },
   {
    "duration": 8,
    "start_time": "2023-11-30T11:59:15.396Z"
   },
   {
    "duration": 7,
    "start_time": "2023-11-30T12:02:46.995Z"
   },
   {
    "duration": 11,
    "start_time": "2023-11-30T12:10:07.707Z"
   },
   {
    "duration": 98,
    "start_time": "2023-11-30T12:15:40.549Z"
   },
   {
    "duration": 10,
    "start_time": "2023-11-30T12:15:50.417Z"
   },
   {
    "duration": 15,
    "start_time": "2023-11-30T12:15:55.598Z"
   },
   {
    "duration": 15,
    "start_time": "2023-11-30T12:16:51.638Z"
   },
   {
    "duration": 17,
    "start_time": "2023-11-30T12:16:58.244Z"
   },
   {
    "duration": 18,
    "start_time": "2023-11-30T12:21:06.009Z"
   },
   {
    "duration": 13,
    "start_time": "2023-11-30T12:22:24.905Z"
   },
   {
    "duration": 19,
    "start_time": "2023-11-30T12:22:47.786Z"
   },
   {
    "duration": 15,
    "start_time": "2023-11-30T12:22:51.957Z"
   },
   {
    "duration": 20,
    "start_time": "2023-11-30T12:23:47.310Z"
   },
   {
    "duration": 19,
    "start_time": "2023-11-30T12:24:28.698Z"
   },
   {
    "duration": 20,
    "start_time": "2023-11-30T12:24:42.420Z"
   },
   {
    "duration": 22,
    "start_time": "2023-11-30T12:24:51.545Z"
   },
   {
    "duration": 22,
    "start_time": "2023-11-30T12:25:24.949Z"
   },
   {
    "duration": 23,
    "start_time": "2023-11-30T12:25:44.210Z"
   },
   {
    "duration": 21,
    "start_time": "2023-11-30T12:26:59.190Z"
   },
   {
    "duration": 14,
    "start_time": "2023-11-30T12:48:11.426Z"
   },
   {
    "duration": 232,
    "start_time": "2023-11-30T12:52:18.976Z"
   },
   {
    "duration": 22,
    "start_time": "2023-11-30T12:53:04.042Z"
   },
   {
    "duration": 236,
    "start_time": "2023-11-30T12:56:58.030Z"
   },
   {
    "duration": 226,
    "start_time": "2023-11-30T12:57:14.697Z"
   },
   {
    "duration": 224,
    "start_time": "2023-11-30T12:57:29.477Z"
   },
   {
    "duration": 742,
    "start_time": "2023-11-30T12:57:42.845Z"
   },
   {
    "duration": 236,
    "start_time": "2023-11-30T12:58:01.053Z"
   },
   {
    "duration": 255,
    "start_time": "2023-11-30T12:58:09.708Z"
   },
   {
    "duration": 148,
    "start_time": "2023-11-30T13:03:30.117Z"
   },
   {
    "duration": 1049,
    "start_time": "2023-11-30T13:05:19.494Z"
   },
   {
    "duration": 567,
    "start_time": "2023-11-30T13:05:20.545Z"
   },
   {
    "duration": 3,
    "start_time": "2023-11-30T13:05:21.114Z"
   },
   {
    "duration": 141,
    "start_time": "2023-11-30T13:05:21.119Z"
   },
   {
    "duration": 3,
    "start_time": "2023-11-30T13:05:21.262Z"
   },
   {
    "duration": 22,
    "start_time": "2023-11-30T13:05:21.267Z"
   },
   {
    "duration": 27,
    "start_time": "2023-11-30T13:05:21.290Z"
   },
   {
    "duration": 87,
    "start_time": "2023-11-30T13:05:21.319Z"
   },
   {
    "duration": 23,
    "start_time": "2023-11-30T13:05:21.407Z"
   },
   {
    "duration": 24,
    "start_time": "2023-11-30T13:05:21.432Z"
   },
   {
    "duration": 6,
    "start_time": "2023-11-30T13:05:21.457Z"
   },
   {
    "duration": 18,
    "start_time": "2023-11-30T13:05:21.465Z"
   },
   {
    "duration": 16,
    "start_time": "2023-11-30T13:05:21.485Z"
   },
   {
    "duration": 1336,
    "start_time": "2023-11-30T17:07:33.451Z"
   },
   {
    "duration": 626,
    "start_time": "2023-11-30T17:07:34.789Z"
   },
   {
    "duration": 3,
    "start_time": "2023-11-30T17:07:35.417Z"
   },
   {
    "duration": 157,
    "start_time": "2023-11-30T17:07:35.422Z"
   },
   {
    "duration": 5,
    "start_time": "2023-11-30T17:07:35.581Z"
   },
   {
    "duration": 20,
    "start_time": "2023-11-30T17:07:35.588Z"
   },
   {
    "duration": 25,
    "start_time": "2023-11-30T17:07:35.609Z"
   },
   {
    "duration": 89,
    "start_time": "2023-11-30T17:07:35.665Z"
   },
   {
    "duration": 31,
    "start_time": "2023-11-30T17:07:35.766Z"
   },
   {
    "duration": 10,
    "start_time": "2023-11-30T17:07:35.798Z"
   },
   {
    "duration": 18,
    "start_time": "2023-11-30T17:07:35.809Z"
   },
   {
    "duration": 56,
    "start_time": "2023-11-30T17:07:35.829Z"
   },
   {
    "duration": 10,
    "start_time": "2023-11-30T17:07:35.887Z"
   },
   {
    "duration": 1595,
    "start_time": "2023-11-30T17:13:19.520Z"
   },
   {
    "duration": 1427,
    "start_time": "2023-11-30T17:13:25.611Z"
   },
   {
    "duration": 1437,
    "start_time": "2023-11-30T17:13:35.470Z"
   },
   {
    "duration": 8,
    "start_time": "2023-11-30T17:16:31.347Z"
   },
   {
    "duration": 377,
    "start_time": "2023-11-30T17:17:02.877Z"
   },
   {
    "duration": 361,
    "start_time": "2023-11-30T17:17:18.220Z"
   },
   {
    "duration": 6,
    "start_time": "2023-11-30T17:18:47.297Z"
   },
   {
    "duration": 713,
    "start_time": "2023-11-30T17:27:16.370Z"
   },
   {
    "duration": 564,
    "start_time": "2023-11-30T17:30:06.838Z"
   },
   {
    "duration": 20,
    "start_time": "2023-11-30T17:40:58.599Z"
   },
   {
    "duration": 259,
    "start_time": "2023-11-30T17:41:28.048Z"
   },
   {
    "duration": 1169,
    "start_time": "2023-11-30T17:43:04.610Z"
   },
   {
    "duration": 531,
    "start_time": "2023-11-30T17:43:05.781Z"
   },
   {
    "duration": 4,
    "start_time": "2023-11-30T17:43:06.314Z"
   },
   {
    "duration": 161,
    "start_time": "2023-11-30T17:43:06.319Z"
   },
   {
    "duration": 4,
    "start_time": "2023-11-30T17:43:06.482Z"
   },
   {
    "duration": 54,
    "start_time": "2023-11-30T17:43:06.488Z"
   },
   {
    "duration": 33,
    "start_time": "2023-11-30T17:43:06.544Z"
   },
   {
    "duration": 88,
    "start_time": "2023-11-30T17:43:06.578Z"
   },
   {
    "duration": 26,
    "start_time": "2023-11-30T17:43:06.668Z"
   },
   {
    "duration": 14,
    "start_time": "2023-11-30T17:43:06.696Z"
   },
   {
    "duration": 17,
    "start_time": "2023-11-30T17:43:06.712Z"
   },
   {
    "duration": 47,
    "start_time": "2023-11-30T17:43:06.731Z"
   },
   {
    "duration": 25,
    "start_time": "2023-11-30T17:43:06.780Z"
   },
   {
    "duration": 679,
    "start_time": "2023-11-30T17:43:06.807Z"
   },
   {
    "duration": 409,
    "start_time": "2023-11-30T17:43:07.488Z"
   },
   {
    "duration": 0,
    "start_time": "2023-11-30T17:43:07.899Z"
   },
   {
    "duration": 8714,
    "start_time": "2023-11-30T18:04:48.221Z"
   },
   {
    "duration": 8115,
    "start_time": "2023-11-30T18:04:57.063Z"
   },
   {
    "duration": 9471,
    "start_time": "2023-11-30T18:06:15.909Z"
   },
   {
    "duration": 9515,
    "start_time": "2023-11-30T18:06:35.141Z"
   },
   {
    "duration": 4090,
    "start_time": "2023-11-30T18:07:17.904Z"
   },
   {
    "duration": 534,
    "start_time": "2023-11-30T18:07:45.926Z"
   },
   {
    "duration": 569,
    "start_time": "2023-11-30T18:08:08.530Z"
   },
   {
    "duration": 29,
    "start_time": "2023-11-30T18:08:52.328Z"
   },
   {
    "duration": 19,
    "start_time": "2023-11-30T18:08:57.611Z"
   },
   {
    "duration": 9846,
    "start_time": "2023-11-30T18:09:29.800Z"
   },
   {
    "duration": 502,
    "start_time": "2023-11-30T18:22:05.515Z"
   },
   {
    "duration": 151,
    "start_time": "2023-11-30T18:46:45.074Z"
   },
   {
    "duration": 4,
    "start_time": "2023-11-30T18:48:22.467Z"
   },
   {
    "duration": 1070,
    "start_time": "2023-11-30T18:48:29.011Z"
   },
   {
    "duration": 667,
    "start_time": "2023-11-30T18:48:30.083Z"
   },
   {
    "duration": 3,
    "start_time": "2023-11-30T18:48:30.752Z"
   },
   {
    "duration": 220,
    "start_time": "2023-11-30T18:48:30.757Z"
   },
   {
    "duration": 4,
    "start_time": "2023-11-30T18:48:30.979Z"
   },
   {
    "duration": 75,
    "start_time": "2023-11-30T18:48:30.986Z"
   },
   {
    "duration": 55,
    "start_time": "2023-11-30T18:48:31.062Z"
   },
   {
    "duration": 96,
    "start_time": "2023-11-30T18:48:31.119Z"
   },
   {
    "duration": 28,
    "start_time": "2023-11-30T18:48:31.218Z"
   },
   {
    "duration": 25,
    "start_time": "2023-11-30T18:48:31.249Z"
   },
   {
    "duration": 24,
    "start_time": "2023-11-30T18:48:31.276Z"
   },
   {
    "duration": 38,
    "start_time": "2023-11-30T18:48:31.301Z"
   },
   {
    "duration": 18,
    "start_time": "2023-11-30T18:48:31.341Z"
   },
   {
    "duration": 671,
    "start_time": "2023-11-30T18:48:31.361Z"
   },
   {
    "duration": 562,
    "start_time": "2023-11-30T18:48:32.034Z"
   },
   {
    "duration": 268,
    "start_time": "2023-11-30T18:48:32.598Z"
   },
   {
    "duration": 0,
    "start_time": "2023-11-30T18:48:32.869Z"
   },
   {
    "duration": 165,
    "start_time": "2023-11-30T18:49:27.568Z"
   },
   {
    "duration": 240,
    "start_time": "2023-11-30T18:49:35.330Z"
   },
   {
    "duration": 127,
    "start_time": "2023-11-30T18:50:15.002Z"
   },
   {
    "duration": 75,
    "start_time": "2023-11-30T18:50:24.257Z"
   },
   {
    "duration": 5,
    "start_time": "2023-11-30T18:51:07.648Z"
   },
   {
    "duration": 4,
    "start_time": "2023-11-30T18:51:28.027Z"
   },
   {
    "duration": 1178,
    "start_time": "2023-11-30T18:51:51.903Z"
   },
   {
    "duration": 576,
    "start_time": "2023-11-30T18:51:53.083Z"
   },
   {
    "duration": 5,
    "start_time": "2023-11-30T18:51:53.661Z"
   },
   {
    "duration": 155,
    "start_time": "2023-11-30T18:51:53.668Z"
   },
   {
    "duration": 4,
    "start_time": "2023-11-30T18:51:53.825Z"
   },
   {
    "duration": 47,
    "start_time": "2023-11-30T18:51:53.830Z"
   },
   {
    "duration": 37,
    "start_time": "2023-11-30T18:51:53.878Z"
   },
   {
    "duration": 82,
    "start_time": "2023-11-30T18:51:53.916Z"
   },
   {
    "duration": 25,
    "start_time": "2023-11-30T18:51:53.999Z"
   },
   {
    "duration": 21,
    "start_time": "2023-11-30T18:51:54.026Z"
   },
   {
    "duration": 21,
    "start_time": "2023-11-30T18:51:54.048Z"
   },
   {
    "duration": 45,
    "start_time": "2023-11-30T18:51:54.071Z"
   },
   {
    "duration": 13,
    "start_time": "2023-11-30T18:51:54.118Z"
   },
   {
    "duration": 660,
    "start_time": "2023-11-30T18:51:54.134Z"
   },
   {
    "duration": 515,
    "start_time": "2023-11-30T18:51:54.797Z"
   },
   {
    "duration": 46,
    "start_time": "2023-11-30T18:52:36.153Z"
   },
   {
    "duration": 7,
    "start_time": "2023-11-30T18:53:10.766Z"
   },
   {
    "duration": 1183,
    "start_time": "2023-11-30T18:54:30.608Z"
   },
   {
    "duration": 367,
    "start_time": "2023-11-30T18:54:31.793Z"
   },
   {
    "duration": 3,
    "start_time": "2023-11-30T18:54:32.162Z"
   },
   {
    "duration": 148,
    "start_time": "2023-11-30T18:54:32.167Z"
   },
   {
    "duration": 5,
    "start_time": "2023-11-30T18:54:32.316Z"
   },
   {
    "duration": 44,
    "start_time": "2023-11-30T18:54:32.322Z"
   },
   {
    "duration": 25,
    "start_time": "2023-11-30T18:54:32.367Z"
   },
   {
    "duration": 96,
    "start_time": "2023-11-30T18:54:32.394Z"
   },
   {
    "duration": 26,
    "start_time": "2023-11-30T18:54:32.492Z"
   },
   {
    "duration": 10,
    "start_time": "2023-11-30T18:54:32.521Z"
   },
   {
    "duration": 6,
    "start_time": "2023-11-30T18:54:32.532Z"
   },
   {
    "duration": 45,
    "start_time": "2023-11-30T18:54:32.540Z"
   },
   {
    "duration": 4,
    "start_time": "2023-11-30T18:54:32.587Z"
   },
   {
    "duration": 664,
    "start_time": "2023-11-30T18:54:32.593Z"
   },
   {
    "duration": 511,
    "start_time": "2023-11-30T18:54:33.259Z"
   },
   {
    "duration": 1197,
    "start_time": "2023-11-30T18:54:58.579Z"
   },
   {
    "duration": 349,
    "start_time": "2023-11-30T18:54:59.778Z"
   },
   {
    "duration": 3,
    "start_time": "2023-11-30T18:55:00.129Z"
   },
   {
    "duration": 177,
    "start_time": "2023-11-30T18:55:00.135Z"
   },
   {
    "duration": 4,
    "start_time": "2023-11-30T18:55:00.314Z"
   },
   {
    "duration": 87,
    "start_time": "2023-11-30T18:55:00.319Z"
   },
   {
    "duration": 55,
    "start_time": "2023-11-30T18:55:00.408Z"
   },
   {
    "duration": 139,
    "start_time": "2023-11-30T18:55:00.465Z"
   },
   {
    "duration": 27,
    "start_time": "2023-11-30T18:55:00.606Z"
   },
   {
    "duration": 56,
    "start_time": "2023-11-30T18:55:00.636Z"
   },
   {
    "duration": 39,
    "start_time": "2023-11-30T18:55:00.693Z"
   },
   {
    "duration": 77,
    "start_time": "2023-11-30T18:55:00.735Z"
   },
   {
    "duration": 69,
    "start_time": "2023-11-30T18:55:00.814Z"
   },
   {
    "duration": 693,
    "start_time": "2023-11-30T18:55:00.885Z"
   },
   {
    "duration": 540,
    "start_time": "2023-11-30T18:55:01.580Z"
   },
   {
    "duration": 48,
    "start_time": "2023-11-30T18:55:28.116Z"
   },
   {
    "duration": 8,
    "start_time": "2023-11-30T18:55:40.430Z"
   },
   {
    "duration": 3,
    "start_time": "2023-11-30T18:57:33.118Z"
   },
   {
    "duration": 1125,
    "start_time": "2023-11-30T18:57:39.165Z"
   },
   {
    "duration": 356,
    "start_time": "2023-11-30T18:57:40.292Z"
   },
   {
    "duration": 4,
    "start_time": "2023-11-30T18:57:40.650Z"
   },
   {
    "duration": 139,
    "start_time": "2023-11-30T18:57:40.655Z"
   },
   {
    "duration": 5,
    "start_time": "2023-11-30T18:57:40.796Z"
   },
   {
    "duration": 32,
    "start_time": "2023-11-30T18:57:40.803Z"
   },
   {
    "duration": 47,
    "start_time": "2023-11-30T18:57:40.836Z"
   },
   {
    "duration": 93,
    "start_time": "2023-11-30T18:57:40.884Z"
   },
   {
    "duration": 27,
    "start_time": "2023-11-30T18:57:40.978Z"
   },
   {
    "duration": 11,
    "start_time": "2023-11-30T18:57:41.006Z"
   },
   {
    "duration": 6,
    "start_time": "2023-11-30T18:57:41.018Z"
   },
   {
    "duration": 47,
    "start_time": "2023-11-30T18:57:41.026Z"
   },
   {
    "duration": 5,
    "start_time": "2023-11-30T18:57:41.074Z"
   },
   {
    "duration": 644,
    "start_time": "2023-11-30T18:57:41.081Z"
   },
   {
    "duration": 527,
    "start_time": "2023-11-30T18:57:41.727Z"
   },
   {
    "duration": 2,
    "start_time": "2023-11-30T18:57:42.255Z"
   },
   {
    "duration": 29,
    "start_time": "2023-11-30T18:57:42.258Z"
   },
   {
    "duration": 21,
    "start_time": "2023-11-30T18:58:00.103Z"
   },
   {
    "duration": 29,
    "start_time": "2023-11-30T18:58:11.452Z"
   },
   {
    "duration": 40,
    "start_time": "2023-11-30T18:58:22.031Z"
   },
   {
    "duration": 47,
    "start_time": "2023-11-30T18:58:54.921Z"
   },
   {
    "duration": 3360,
    "start_time": "2023-11-30T19:03:04.435Z"
   },
   {
    "duration": 3004,
    "start_time": "2023-11-30T19:03:45.220Z"
   },
   {
    "duration": 3280,
    "start_time": "2023-11-30T19:03:49.471Z"
   },
   {
    "duration": 8082,
    "start_time": "2023-11-30T19:04:04.156Z"
   },
   {
    "duration": 3152,
    "start_time": "2023-11-30T19:05:34.529Z"
   },
   {
    "duration": 1333,
    "start_time": "2023-12-01T07:40:49.732Z"
   },
   {
    "duration": 491,
    "start_time": "2023-12-01T07:40:51.067Z"
   },
   {
    "duration": 4,
    "start_time": "2023-12-01T07:40:51.559Z"
   },
   {
    "duration": 139,
    "start_time": "2023-12-01T07:40:51.564Z"
   },
   {
    "duration": 4,
    "start_time": "2023-12-01T07:40:51.705Z"
   },
   {
    "duration": 42,
    "start_time": "2023-12-01T07:40:51.710Z"
   },
   {
    "duration": 24,
    "start_time": "2023-12-01T07:40:51.754Z"
   },
   {
    "duration": 92,
    "start_time": "2023-12-01T07:40:51.780Z"
   },
   {
    "duration": 26,
    "start_time": "2023-12-01T07:40:51.873Z"
   },
   {
    "duration": 21,
    "start_time": "2023-12-01T07:40:51.901Z"
   },
   {
    "duration": 6,
    "start_time": "2023-12-01T07:40:51.924Z"
   },
   {
    "duration": 20,
    "start_time": "2023-12-01T07:40:51.942Z"
   },
   {
    "duration": 5,
    "start_time": "2023-12-01T07:40:51.964Z"
   },
   {
    "duration": 663,
    "start_time": "2023-12-01T07:40:51.972Z"
   },
   {
    "duration": 538,
    "start_time": "2023-12-01T07:40:52.637Z"
   },
   {
    "duration": 79,
    "start_time": "2023-12-01T07:40:53.177Z"
   },
   {
    "duration": 0,
    "start_time": "2023-12-01T07:40:53.257Z"
   },
   {
    "duration": 1316,
    "start_time": "2023-12-01T07:42:53.426Z"
   },
   {
    "duration": 7127,
    "start_time": "2023-12-01T07:43:08.886Z"
   },
   {
    "duration": 16,
    "start_time": "2023-12-01T07:43:41.574Z"
   },
   {
    "duration": 13291,
    "start_time": "2023-12-01T07:48:48.091Z"
   },
   {
    "duration": 3,
    "start_time": "2023-12-01T08:37:02.412Z"
   },
   {
    "duration": 742,
    "start_time": "2023-12-01T08:37:08.441Z"
   },
   {
    "duration": 29585,
    "start_time": "2023-12-01T08:39:01.316Z"
   },
   {
    "duration": 0,
    "start_time": "2023-12-01T08:39:30.902Z"
   },
   {
    "duration": 28226,
    "start_time": "2023-12-01T08:39:49.411Z"
   },
   {
    "duration": 27716,
    "start_time": "2023-12-01T08:40:19.277Z"
   },
   {
    "duration": 28529,
    "start_time": "2023-12-01T08:41:05.286Z"
   },
   {
    "duration": 1222,
    "start_time": "2023-12-01T08:42:18.413Z"
   },
   {
    "duration": 896,
    "start_time": "2023-12-01T08:42:19.636Z"
   },
   {
    "duration": 4,
    "start_time": "2023-12-01T08:42:20.533Z"
   },
   {
    "duration": 172,
    "start_time": "2023-12-01T08:42:20.539Z"
   },
   {
    "duration": 4,
    "start_time": "2023-12-01T08:42:20.713Z"
   },
   {
    "duration": 152,
    "start_time": "2023-12-01T08:42:20.718Z"
   },
   {
    "duration": 181,
    "start_time": "2023-12-01T08:42:20.871Z"
   },
   {
    "duration": 307,
    "start_time": "2023-12-01T08:42:21.054Z"
   },
   {
    "duration": 28,
    "start_time": "2023-12-01T08:42:21.363Z"
   },
   {
    "duration": 10,
    "start_time": "2023-12-01T08:42:21.393Z"
   },
   {
    "duration": 15,
    "start_time": "2023-12-01T08:42:21.404Z"
   },
   {
    "duration": 34,
    "start_time": "2023-12-01T08:42:21.420Z"
   },
   {
    "duration": 5,
    "start_time": "2023-12-01T08:42:21.456Z"
   },
   {
    "duration": 685,
    "start_time": "2023-12-01T08:42:21.463Z"
   },
   {
    "duration": 28348,
    "start_time": "2023-12-01T08:42:22.150Z"
   },
   {
    "duration": 530,
    "start_time": "2023-12-01T08:42:50.500Z"
   },
   {
    "duration": 27307,
    "start_time": "2023-12-01T08:42:51.031Z"
   },
   {
    "duration": 0,
    "start_time": "2023-12-01T08:43:18.340Z"
   },
   {
    "duration": 29164,
    "start_time": "2023-12-01T08:43:57.156Z"
   },
   {
    "duration": 1523,
    "start_time": "2023-12-01T08:45:34.387Z"
   },
   {
    "duration": 32,
    "start_time": "2023-12-01T08:45:57.186Z"
   },
   {
    "duration": 1391,
    "start_time": "2023-12-01T08:46:49.375Z"
   },
   {
    "duration": 1427,
    "start_time": "2023-12-01T12:45:38.908Z"
   },
   {
    "duration": 556,
    "start_time": "2023-12-01T12:45:40.337Z"
   },
   {
    "duration": 3,
    "start_time": "2023-12-01T12:45:40.895Z"
   },
   {
    "duration": 176,
    "start_time": "2023-12-01T12:45:40.900Z"
   },
   {
    "duration": 5,
    "start_time": "2023-12-01T12:45:41.078Z"
   },
   {
    "duration": 126,
    "start_time": "2023-12-01T12:45:41.085Z"
   },
   {
    "duration": 30,
    "start_time": "2023-12-01T12:45:41.213Z"
   },
   {
    "duration": 101,
    "start_time": "2023-12-01T12:45:41.245Z"
   },
   {
    "duration": 36,
    "start_time": "2023-12-01T12:45:41.348Z"
   },
   {
    "duration": 25,
    "start_time": "2023-12-01T12:45:41.385Z"
   },
   {
    "duration": 7,
    "start_time": "2023-12-01T12:45:41.412Z"
   },
   {
    "duration": 32,
    "start_time": "2023-12-01T12:45:41.421Z"
   },
   {
    "duration": 6,
    "start_time": "2023-12-01T12:45:41.454Z"
   },
   {
    "duration": 719,
    "start_time": "2023-12-01T12:45:41.463Z"
   },
   {
    "duration": 79,
    "start_time": "2023-12-01T12:45:42.184Z"
   },
   {
    "duration": 0,
    "start_time": "2023-12-01T12:45:42.265Z"
   },
   {
    "duration": 0,
    "start_time": "2023-12-01T12:45:42.266Z"
   },
   {
    "duration": 0,
    "start_time": "2023-12-01T12:45:42.268Z"
   },
   {
    "duration": 1196,
    "start_time": "2023-12-01T12:46:05.739Z"
   },
   {
    "duration": 464,
    "start_time": "2023-12-01T12:46:06.937Z"
   },
   {
    "duration": 4,
    "start_time": "2023-12-01T12:46:07.403Z"
   },
   {
    "duration": 177,
    "start_time": "2023-12-01T12:46:07.408Z"
   },
   {
    "duration": 21,
    "start_time": "2023-12-01T12:46:07.587Z"
   },
   {
    "duration": 36,
    "start_time": "2023-12-01T12:46:07.609Z"
   },
   {
    "duration": 32,
    "start_time": "2023-12-01T12:46:07.646Z"
   },
   {
    "duration": 102,
    "start_time": "2023-12-01T12:46:07.680Z"
   },
   {
    "duration": 35,
    "start_time": "2023-12-01T12:46:07.784Z"
   },
   {
    "duration": 14,
    "start_time": "2023-12-01T12:46:07.821Z"
   },
   {
    "duration": 13,
    "start_time": "2023-12-01T12:46:07.836Z"
   },
   {
    "duration": 29,
    "start_time": "2023-12-01T12:46:07.851Z"
   },
   {
    "duration": 5,
    "start_time": "2023-12-01T12:46:07.882Z"
   },
   {
    "duration": 710,
    "start_time": "2023-12-01T12:46:07.907Z"
   },
   {
    "duration": 11,
    "start_time": "2023-12-01T12:46:08.619Z"
   },
   {
    "duration": 17,
    "start_time": "2023-12-01T13:05:10.759Z"
   },
   {
    "duration": 22,
    "start_time": "2023-12-01T13:05:16.196Z"
   },
   {
    "duration": 1310,
    "start_time": "2023-12-01T15:25:41.228Z"
   },
   {
    "duration": 915,
    "start_time": "2023-12-01T15:25:42.540Z"
   },
   {
    "duration": 4,
    "start_time": "2023-12-01T15:25:43.457Z"
   },
   {
    "duration": 157,
    "start_time": "2023-12-01T15:25:43.462Z"
   },
   {
    "duration": 4,
    "start_time": "2023-12-01T15:25:43.621Z"
   },
   {
    "duration": 24,
    "start_time": "2023-12-01T15:25:43.626Z"
   },
   {
    "duration": 23,
    "start_time": "2023-12-01T15:25:43.652Z"
   },
   {
    "duration": 108,
    "start_time": "2023-12-01T15:25:43.677Z"
   },
   {
    "duration": 35,
    "start_time": "2023-12-01T15:25:43.787Z"
   },
   {
    "duration": 11,
    "start_time": "2023-12-01T15:25:43.823Z"
   },
   {
    "duration": 6,
    "start_time": "2023-12-01T15:25:43.836Z"
   },
   {
    "duration": 21,
    "start_time": "2023-12-01T15:25:43.844Z"
   },
   {
    "duration": 5,
    "start_time": "2023-12-01T15:25:43.866Z"
   },
   {
    "duration": 694,
    "start_time": "2023-12-01T15:25:43.874Z"
   },
   {
    "duration": 24,
    "start_time": "2023-12-01T15:25:44.569Z"
   },
   {
    "duration": 21,
    "start_time": "2023-12-01T15:25:44.594Z"
   },
   {
    "duration": 13,
    "start_time": "2023-12-01T15:30:29.169Z"
   },
   {
    "duration": 19,
    "start_time": "2023-12-01T15:30:39.421Z"
   },
   {
    "duration": 1190,
    "start_time": "2023-12-01T15:30:48.524Z"
   },
   {
    "duration": 705,
    "start_time": "2023-12-01T15:30:49.716Z"
   },
   {
    "duration": 3,
    "start_time": "2023-12-01T15:30:50.423Z"
   },
   {
    "duration": 187,
    "start_time": "2023-12-01T15:30:50.428Z"
   },
   {
    "duration": 4,
    "start_time": "2023-12-01T15:30:50.617Z"
   },
   {
    "duration": 35,
    "start_time": "2023-12-01T15:30:50.622Z"
   },
   {
    "duration": 22,
    "start_time": "2023-12-01T15:30:50.658Z"
   },
   {
    "duration": 98,
    "start_time": "2023-12-01T15:30:50.682Z"
   },
   {
    "duration": 24,
    "start_time": "2023-12-01T15:30:50.782Z"
   },
   {
    "duration": 15,
    "start_time": "2023-12-01T15:30:50.808Z"
   },
   {
    "duration": 11,
    "start_time": "2023-12-01T15:30:50.824Z"
   },
   {
    "duration": 34,
    "start_time": "2023-12-01T15:30:50.837Z"
   },
   {
    "duration": 38,
    "start_time": "2023-12-01T15:30:50.872Z"
   },
   {
    "duration": 652,
    "start_time": "2023-12-01T15:30:50.912Z"
   },
   {
    "duration": 17,
    "start_time": "2023-12-01T15:30:51.566Z"
   },
   {
    "duration": 14,
    "start_time": "2023-12-01T15:30:51.584Z"
   },
   {
    "duration": 11,
    "start_time": "2023-12-01T15:31:59.985Z"
   },
   {
    "duration": 1122,
    "start_time": "2023-12-01T15:32:51.092Z"
   },
   {
    "duration": 681,
    "start_time": "2023-12-01T15:32:52.217Z"
   },
   {
    "duration": 5,
    "start_time": "2023-12-01T15:32:52.901Z"
   },
   {
    "duration": 132,
    "start_time": "2023-12-01T15:32:52.914Z"
   },
   {
    "duration": 4,
    "start_time": "2023-12-01T15:32:53.048Z"
   },
   {
    "duration": 25,
    "start_time": "2023-12-01T15:32:53.053Z"
   },
   {
    "duration": 53,
    "start_time": "2023-12-01T15:32:53.080Z"
   },
   {
    "duration": 93,
    "start_time": "2023-12-01T15:32:53.135Z"
   },
   {
    "duration": 26,
    "start_time": "2023-12-01T15:32:53.231Z"
   },
   {
    "duration": 11,
    "start_time": "2023-12-01T15:32:53.259Z"
   },
   {
    "duration": 6,
    "start_time": "2023-12-01T15:32:53.272Z"
   },
   {
    "duration": 51,
    "start_time": "2023-12-01T15:32:53.280Z"
   },
   {
    "duration": 5,
    "start_time": "2023-12-01T15:32:53.333Z"
   },
   {
    "duration": 636,
    "start_time": "2023-12-01T15:32:53.340Z"
   },
   {
    "duration": 17,
    "start_time": "2023-12-01T15:32:53.978Z"
   },
   {
    "duration": 29,
    "start_time": "2023-12-01T15:32:53.997Z"
   },
   {
    "duration": 14,
    "start_time": "2023-12-01T15:34:41.450Z"
   },
   {
    "duration": 1226,
    "start_time": "2023-12-01T15:38:09.484Z"
   },
   {
    "duration": 433,
    "start_time": "2023-12-01T15:38:10.711Z"
   },
   {
    "duration": 4,
    "start_time": "2023-12-01T15:38:11.145Z"
   },
   {
    "duration": 172,
    "start_time": "2023-12-01T15:38:11.150Z"
   },
   {
    "duration": 4,
    "start_time": "2023-12-01T15:38:11.324Z"
   },
   {
    "duration": 34,
    "start_time": "2023-12-01T15:38:11.329Z"
   },
   {
    "duration": 23,
    "start_time": "2023-12-01T15:38:11.364Z"
   },
   {
    "duration": 96,
    "start_time": "2023-12-01T15:38:11.388Z"
   },
   {
    "duration": 33,
    "start_time": "2023-12-01T15:38:11.485Z"
   },
   {
    "duration": 14,
    "start_time": "2023-12-01T15:38:11.521Z"
   },
   {
    "duration": 13,
    "start_time": "2023-12-01T15:38:11.536Z"
   },
   {
    "duration": 26,
    "start_time": "2023-12-01T15:38:11.550Z"
   },
   {
    "duration": 4,
    "start_time": "2023-12-01T15:38:11.578Z"
   },
   {
    "duration": 631,
    "start_time": "2023-12-01T15:38:11.584Z"
   },
   {
    "duration": 17,
    "start_time": "2023-12-01T15:38:12.216Z"
   },
   {
    "duration": 8,
    "start_time": "2023-12-01T15:38:12.234Z"
   },
   {
    "duration": 4,
    "start_time": "2023-12-01T15:45:38.296Z"
   },
   {
    "duration": 19,
    "start_time": "2023-12-01T15:47:59.962Z"
   },
   {
    "duration": 18,
    "start_time": "2023-12-01T15:49:17.265Z"
   },
   {
    "duration": 64,
    "start_time": "2023-12-01T15:49:53.961Z"
   },
   {
    "duration": 82,
    "start_time": "2023-12-01T15:50:12.631Z"
   },
   {
    "duration": 85,
    "start_time": "2023-12-01T15:51:11.383Z"
   },
   {
    "duration": 11,
    "start_time": "2023-12-01T15:51:16.953Z"
   },
   {
    "duration": 85,
    "start_time": "2023-12-01T15:54:14.941Z"
   },
   {
    "duration": 78,
    "start_time": "2023-12-01T15:54:24.888Z"
   },
   {
    "duration": 81,
    "start_time": "2023-12-01T15:54:49.481Z"
   },
   {
    "duration": 73,
    "start_time": "2023-12-01T15:54:59.569Z"
   },
   {
    "duration": 1146,
    "start_time": "2023-12-01T15:55:15.024Z"
   },
   {
    "duration": 774,
    "start_time": "2023-12-01T15:55:16.172Z"
   },
   {
    "duration": 4,
    "start_time": "2023-12-01T15:55:16.947Z"
   },
   {
    "duration": 163,
    "start_time": "2023-12-01T15:55:16.952Z"
   },
   {
    "duration": 4,
    "start_time": "2023-12-01T15:55:17.117Z"
   },
   {
    "duration": 29,
    "start_time": "2023-12-01T15:55:17.123Z"
   },
   {
    "duration": 24,
    "start_time": "2023-12-01T15:55:17.153Z"
   },
   {
    "duration": 93,
    "start_time": "2023-12-01T15:55:17.178Z"
   },
   {
    "duration": 27,
    "start_time": "2023-12-01T15:55:17.272Z"
   },
   {
    "duration": 23,
    "start_time": "2023-12-01T15:55:17.300Z"
   },
   {
    "duration": 8,
    "start_time": "2023-12-01T15:55:17.324Z"
   },
   {
    "duration": 20,
    "start_time": "2023-12-01T15:55:17.334Z"
   },
   {
    "duration": 5,
    "start_time": "2023-12-01T15:55:17.355Z"
   },
   {
    "duration": 662,
    "start_time": "2023-12-01T15:55:17.362Z"
   },
   {
    "duration": 13,
    "start_time": "2023-12-01T15:55:18.025Z"
   },
   {
    "duration": 71,
    "start_time": "2023-12-01T15:55:18.040Z"
   },
   {
    "duration": 0,
    "start_time": "2023-12-01T15:55:18.112Z"
   },
   {
    "duration": 0,
    "start_time": "2023-12-01T15:55:18.113Z"
   },
   {
    "duration": 118,
    "start_time": "2023-12-01T15:59:11.998Z"
   },
   {
    "duration": 1184,
    "start_time": "2023-12-01T15:59:29.749Z"
   },
   {
    "duration": 417,
    "start_time": "2023-12-01T15:59:30.934Z"
   },
   {
    "duration": 3,
    "start_time": "2023-12-01T15:59:31.353Z"
   },
   {
    "duration": 176,
    "start_time": "2023-12-01T15:59:31.358Z"
   },
   {
    "duration": 5,
    "start_time": "2023-12-01T15:59:31.536Z"
   },
   {
    "duration": 30,
    "start_time": "2023-12-01T15:59:31.542Z"
   },
   {
    "duration": 45,
    "start_time": "2023-12-01T15:59:31.574Z"
   },
   {
    "duration": 83,
    "start_time": "2023-12-01T15:59:31.620Z"
   },
   {
    "duration": 34,
    "start_time": "2023-12-01T15:59:31.705Z"
   },
   {
    "duration": 11,
    "start_time": "2023-12-01T15:59:31.740Z"
   },
   {
    "duration": 8,
    "start_time": "2023-12-01T15:59:31.752Z"
   },
   {
    "duration": 45,
    "start_time": "2023-12-01T15:59:31.762Z"
   },
   {
    "duration": 9,
    "start_time": "2023-12-01T15:59:31.809Z"
   },
   {
    "duration": 630,
    "start_time": "2023-12-01T15:59:31.820Z"
   },
   {
    "duration": 123,
    "start_time": "2023-12-01T15:59:32.451Z"
   },
   {
    "duration": 0,
    "start_time": "2023-12-01T15:59:32.576Z"
   },
   {
    "duration": 0,
    "start_time": "2023-12-01T15:59:32.577Z"
   },
   {
    "duration": 0,
    "start_time": "2023-12-01T15:59:32.578Z"
   },
   {
    "duration": 1135,
    "start_time": "2023-12-01T16:49:36.925Z"
   },
   {
    "duration": 510,
    "start_time": "2023-12-01T16:49:38.062Z"
   },
   {
    "duration": 4,
    "start_time": "2023-12-01T16:49:38.574Z"
   },
   {
    "duration": 152,
    "start_time": "2023-12-01T16:49:38.580Z"
   },
   {
    "duration": 5,
    "start_time": "2023-12-01T16:49:38.733Z"
   },
   {
    "duration": 51,
    "start_time": "2023-12-01T16:49:38.740Z"
   },
   {
    "duration": 35,
    "start_time": "2023-12-01T16:49:38.793Z"
   },
   {
    "duration": 95,
    "start_time": "2023-12-01T16:49:38.829Z"
   },
   {
    "duration": 27,
    "start_time": "2023-12-01T16:49:38.926Z"
   },
   {
    "duration": 10,
    "start_time": "2023-12-01T16:49:38.956Z"
   },
   {
    "duration": 11,
    "start_time": "2023-12-01T16:49:38.967Z"
   },
   {
    "duration": 41,
    "start_time": "2023-12-01T16:49:38.980Z"
   },
   {
    "duration": 4,
    "start_time": "2023-12-01T16:49:39.023Z"
   },
   {
    "duration": 681,
    "start_time": "2023-12-01T16:49:39.029Z"
   },
   {
    "duration": 55,
    "start_time": "2023-12-01T16:49:39.714Z"
   },
   {
    "duration": 0,
    "start_time": "2023-12-01T16:49:39.770Z"
   },
   {
    "duration": 0,
    "start_time": "2023-12-01T16:49:39.771Z"
   },
   {
    "duration": 0,
    "start_time": "2023-12-01T16:49:39.773Z"
   },
   {
    "duration": 1087,
    "start_time": "2023-12-01T16:50:11.172Z"
   },
   {
    "duration": 364,
    "start_time": "2023-12-01T16:50:12.261Z"
   },
   {
    "duration": 4,
    "start_time": "2023-12-01T16:50:12.627Z"
   },
   {
    "duration": 141,
    "start_time": "2023-12-01T16:50:12.633Z"
   },
   {
    "duration": 3,
    "start_time": "2023-12-01T16:50:12.776Z"
   },
   {
    "duration": 43,
    "start_time": "2023-12-01T16:50:12.781Z"
   },
   {
    "duration": 24,
    "start_time": "2023-12-01T16:50:12.825Z"
   },
   {
    "duration": 94,
    "start_time": "2023-12-01T16:50:12.851Z"
   },
   {
    "duration": 25,
    "start_time": "2023-12-01T16:50:12.947Z"
   },
   {
    "duration": 10,
    "start_time": "2023-12-01T16:50:12.974Z"
   },
   {
    "duration": 6,
    "start_time": "2023-12-01T16:50:12.985Z"
   },
   {
    "duration": 20,
    "start_time": "2023-12-01T16:50:13.014Z"
   },
   {
    "duration": 5,
    "start_time": "2023-12-01T16:50:13.036Z"
   },
   {
    "duration": 651,
    "start_time": "2023-12-01T16:50:13.044Z"
   },
   {
    "duration": 53,
    "start_time": "2023-12-01T16:50:13.696Z"
   },
   {
    "duration": 0,
    "start_time": "2023-12-01T16:50:13.750Z"
   },
   {
    "duration": 0,
    "start_time": "2023-12-01T16:50:13.751Z"
   },
   {
    "duration": 0,
    "start_time": "2023-12-01T16:50:13.752Z"
   },
   {
    "duration": 48,
    "start_time": "2023-12-01T16:50:39.202Z"
   },
   {
    "duration": 10,
    "start_time": "2023-12-01T16:51:15.889Z"
   },
   {
    "duration": 43,
    "start_time": "2023-12-01T16:51:43.552Z"
   },
   {
    "duration": 30,
    "start_time": "2023-12-01T16:53:12.016Z"
   },
   {
    "duration": 26,
    "start_time": "2023-12-01T16:53:33.640Z"
   },
   {
    "duration": 84,
    "start_time": "2023-12-01T16:54:00.995Z"
   },
   {
    "duration": 69,
    "start_time": "2023-12-01T16:54:29.636Z"
   },
   {
    "duration": 4,
    "start_time": "2023-12-01T16:54:39.704Z"
   },
   {
    "duration": 5,
    "start_time": "2023-12-01T16:55:15.009Z"
   },
   {
    "duration": 77,
    "start_time": "2023-12-01T16:58:13.717Z"
   },
   {
    "duration": 80,
    "start_time": "2023-12-01T16:58:33.860Z"
   },
   {
    "duration": 4,
    "start_time": "2023-12-01T16:59:24.118Z"
   },
   {
    "duration": 4,
    "start_time": "2023-12-01T17:00:06.473Z"
   },
   {
    "duration": 79,
    "start_time": "2023-12-01T17:00:47.210Z"
   },
   {
    "duration": 5,
    "start_time": "2023-12-01T17:01:19.991Z"
   },
   {
    "duration": 5,
    "start_time": "2023-12-01T17:01:26.485Z"
   },
   {
    "duration": 4,
    "start_time": "2023-12-01T17:01:46.510Z"
   },
   {
    "duration": 84,
    "start_time": "2023-12-01T17:01:54.640Z"
   },
   {
    "duration": 72,
    "start_time": "2023-12-01T17:02:11.636Z"
   },
   {
    "duration": 5,
    "start_time": "2023-12-01T17:02:20.998Z"
   },
   {
    "duration": 5,
    "start_time": "2023-12-01T17:02:58.253Z"
   },
   {
    "duration": 6,
    "start_time": "2023-12-01T17:03:10.014Z"
   },
   {
    "duration": 4,
    "start_time": "2023-12-01T17:04:05.419Z"
   },
   {
    "duration": 6,
    "start_time": "2023-12-01T17:04:12.674Z"
   },
   {
    "duration": 5,
    "start_time": "2023-12-01T17:04:51.054Z"
   },
   {
    "duration": 4,
    "start_time": "2023-12-01T17:04:56.768Z"
   },
   {
    "duration": 1147,
    "start_time": "2023-12-01T17:05:02.678Z"
   },
   {
    "duration": 452,
    "start_time": "2023-12-01T17:05:03.826Z"
   },
   {
    "duration": 3,
    "start_time": "2023-12-01T17:05:04.280Z"
   },
   {
    "duration": 170,
    "start_time": "2023-12-01T17:05:04.285Z"
   },
   {
    "duration": 5,
    "start_time": "2023-12-01T17:05:04.457Z"
   },
   {
    "duration": 51,
    "start_time": "2023-12-01T17:05:04.464Z"
   },
   {
    "duration": 37,
    "start_time": "2023-12-01T17:05:04.517Z"
   },
   {
    "duration": 94,
    "start_time": "2023-12-01T17:05:04.555Z"
   },
   {
    "duration": 26,
    "start_time": "2023-12-01T17:05:04.651Z"
   },
   {
    "duration": 11,
    "start_time": "2023-12-01T17:05:04.679Z"
   },
   {
    "duration": 27,
    "start_time": "2023-12-01T17:05:04.692Z"
   },
   {
    "duration": 20,
    "start_time": "2023-12-01T17:05:04.720Z"
   },
   {
    "duration": 5,
    "start_time": "2023-12-01T17:05:04.742Z"
   },
   {
    "duration": 694,
    "start_time": "2023-12-01T17:05:04.749Z"
   },
   {
    "duration": 24,
    "start_time": "2023-12-01T17:05:05.445Z"
   },
   {
    "duration": 21,
    "start_time": "2023-12-01T17:05:05.471Z"
   },
   {
    "duration": 107,
    "start_time": "2023-12-01T17:05:05.494Z"
   },
   {
    "duration": 0,
    "start_time": "2023-12-01T17:05:05.603Z"
   },
   {
    "duration": 5,
    "start_time": "2023-12-01T17:06:09.645Z"
   },
   {
    "duration": 5,
    "start_time": "2023-12-01T17:06:19.469Z"
   },
   {
    "duration": 4,
    "start_time": "2023-12-01T17:06:26.119Z"
   },
   {
    "duration": 15,
    "start_time": "2023-12-01T17:10:24.823Z"
   },
   {
    "duration": 12,
    "start_time": "2023-12-01T17:11:04.546Z"
   },
   {
    "duration": 13,
    "start_time": "2023-12-01T17:13:00.425Z"
   },
   {
    "duration": 13,
    "start_time": "2023-12-01T17:13:15.165Z"
   },
   {
    "duration": 11,
    "start_time": "2023-12-01T17:13:43.166Z"
   },
   {
    "duration": 11,
    "start_time": "2023-12-01T17:13:57.790Z"
   },
   {
    "duration": 4,
    "start_time": "2023-12-01T17:48:54.612Z"
   },
   {
    "duration": 12,
    "start_time": "2023-12-01T17:48:56.150Z"
   },
   {
    "duration": 18,
    "start_time": "2023-12-01T17:49:06.860Z"
   },
   {
    "duration": 14,
    "start_time": "2023-12-01T17:50:44.787Z"
   },
   {
    "duration": 10,
    "start_time": "2023-12-01T17:51:45.433Z"
   },
   {
    "duration": 9,
    "start_time": "2023-12-01T17:52:19.823Z"
   },
   {
    "duration": 33,
    "start_time": "2023-12-01T17:55:34.384Z"
   },
   {
    "duration": 9,
    "start_time": "2023-12-01T17:57:01.469Z"
   },
   {
    "duration": 28,
    "start_time": "2023-12-01T17:57:04.502Z"
   },
   {
    "duration": 1143,
    "start_time": "2023-12-01T17:57:57.116Z"
   },
   {
    "duration": 532,
    "start_time": "2023-12-01T17:57:58.261Z"
   },
   {
    "duration": 4,
    "start_time": "2023-12-01T17:57:58.795Z"
   },
   {
    "duration": 167,
    "start_time": "2023-12-01T17:57:58.801Z"
   },
   {
    "duration": 4,
    "start_time": "2023-12-01T17:57:58.969Z"
   },
   {
    "duration": 40,
    "start_time": "2023-12-01T17:57:58.975Z"
   },
   {
    "duration": 23,
    "start_time": "2023-12-01T17:57:59.017Z"
   },
   {
    "duration": 105,
    "start_time": "2023-12-01T17:57:59.041Z"
   },
   {
    "duration": 29,
    "start_time": "2023-12-01T17:57:59.148Z"
   },
   {
    "duration": 11,
    "start_time": "2023-12-01T17:57:59.179Z"
   },
   {
    "duration": 30,
    "start_time": "2023-12-01T17:57:59.191Z"
   },
   {
    "duration": 21,
    "start_time": "2023-12-01T17:57:59.223Z"
   },
   {
    "duration": 5,
    "start_time": "2023-12-01T17:57:59.246Z"
   },
   {
    "duration": 685,
    "start_time": "2023-12-01T17:57:59.253Z"
   },
   {
    "duration": 17,
    "start_time": "2023-12-01T17:57:59.939Z"
   },
   {
    "duration": 4,
    "start_time": "2023-12-01T17:57:59.957Z"
   },
   {
    "duration": 27,
    "start_time": "2023-12-01T17:57:59.963Z"
   },
   {
    "duration": 50,
    "start_time": "2023-12-01T17:57:59.992Z"
   },
   {
    "duration": 28,
    "start_time": "2023-12-01T17:58:55.389Z"
   },
   {
    "duration": 118,
    "start_time": "2023-12-01T17:59:33.501Z"
   },
   {
    "duration": 108,
    "start_time": "2023-12-01T17:59:41.076Z"
   },
   {
    "duration": 108,
    "start_time": "2023-12-01T17:59:59.732Z"
   },
   {
    "duration": 184,
    "start_time": "2023-12-01T18:00:16.340Z"
   },
   {
    "duration": 99,
    "start_time": "2023-12-01T18:00:28.330Z"
   },
   {
    "duration": 99,
    "start_time": "2023-12-01T18:00:44.562Z"
   },
   {
    "duration": 116,
    "start_time": "2023-12-01T18:05:44.571Z"
   },
   {
    "duration": 37,
    "start_time": "2023-12-01T18:18:53.721Z"
   },
   {
    "duration": 35,
    "start_time": "2023-12-01T18:19:22.048Z"
   },
   {
    "duration": 5,
    "start_time": "2023-12-01T18:29:23.285Z"
   },
   {
    "duration": 152,
    "start_time": "2023-12-01T18:30:43.241Z"
   },
   {
    "duration": 138,
    "start_time": "2023-12-01T18:31:52.056Z"
   },
   {
    "duration": 42,
    "start_time": "2023-12-01T18:53:02.264Z"
   },
   {
    "duration": 42,
    "start_time": "2023-12-01T18:53:11.156Z"
   },
   {
    "duration": 43,
    "start_time": "2023-12-01T18:54:19.971Z"
   },
   {
    "duration": 1223,
    "start_time": "2023-12-01T20:47:42.127Z"
   },
   {
    "duration": 549,
    "start_time": "2023-12-01T20:47:43.352Z"
   },
   {
    "duration": 4,
    "start_time": "2023-12-01T20:47:43.903Z"
   },
   {
    "duration": 139,
    "start_time": "2023-12-01T20:47:43.914Z"
   },
   {
    "duration": 4,
    "start_time": "2023-12-01T20:47:44.055Z"
   },
   {
    "duration": 28,
    "start_time": "2023-12-01T20:47:44.061Z"
   },
   {
    "duration": 42,
    "start_time": "2023-12-01T20:47:44.090Z"
   },
   {
    "duration": 88,
    "start_time": "2023-12-01T20:47:44.133Z"
   },
   {
    "duration": 25,
    "start_time": "2023-12-01T20:47:44.223Z"
   },
   {
    "duration": 11,
    "start_time": "2023-12-01T20:47:44.250Z"
   },
   {
    "duration": 6,
    "start_time": "2023-12-01T20:47:44.262Z"
   },
   {
    "duration": 20,
    "start_time": "2023-12-01T20:47:44.269Z"
   },
   {
    "duration": 5,
    "start_time": "2023-12-01T20:47:44.315Z"
   },
   {
    "duration": 648,
    "start_time": "2023-12-01T20:47:44.322Z"
   },
   {
    "duration": 16,
    "start_time": "2023-12-01T20:47:44.972Z"
   },
   {
    "duration": 4,
    "start_time": "2023-12-01T20:47:44.990Z"
   },
   {
    "duration": 31,
    "start_time": "2023-12-01T20:47:44.996Z"
   },
   {
    "duration": 69,
    "start_time": "2023-12-01T20:47:45.028Z"
   },
   {
    "duration": 119,
    "start_time": "2023-12-01T20:47:45.098Z"
   },
   {
    "duration": 5,
    "start_time": "2023-12-01T20:47:45.218Z"
   },
   {
    "duration": 156,
    "start_time": "2023-12-01T20:47:45.224Z"
   },
   {
    "duration": 49,
    "start_time": "2023-12-01T20:47:45.381Z"
   },
   {
    "duration": 14,
    "start_time": "2023-12-01T21:13:04.939Z"
   },
   {
    "duration": 136,
    "start_time": "2023-12-01T21:20:10.967Z"
   },
   {
    "duration": 41,
    "start_time": "2023-12-01T21:20:25.296Z"
   },
   {
    "duration": 50,
    "start_time": "2023-12-01T21:21:03.792Z"
   },
   {
    "duration": 40,
    "start_time": "2023-12-01T21:21:44.144Z"
   },
   {
    "duration": 16,
    "start_time": "2023-12-01T21:22:08.702Z"
   },
   {
    "duration": 55,
    "start_time": "2023-12-01T21:23:24.578Z"
   },
   {
    "duration": 40,
    "start_time": "2023-12-01T21:23:54.442Z"
   },
   {
    "duration": 43,
    "start_time": "2023-12-01T21:26:23.195Z"
   },
   {
    "duration": 144,
    "start_time": "2023-12-01T21:30:53.188Z"
   },
   {
    "duration": 51,
    "start_time": "2023-12-01T21:31:12.183Z"
   },
   {
    "duration": 54,
    "start_time": "2023-12-01T21:32:36.921Z"
   },
   {
    "duration": 57,
    "start_time": "2023-12-01T21:33:04.047Z"
   },
   {
    "duration": 53,
    "start_time": "2023-12-01T21:33:11.526Z"
   },
   {
    "duration": 42,
    "start_time": "2023-12-01T21:38:16.143Z"
   },
   {
    "duration": 41,
    "start_time": "2023-12-01T21:38:32.829Z"
   },
   {
    "duration": 41,
    "start_time": "2023-12-01T21:47:52.928Z"
   },
   {
    "duration": 40,
    "start_time": "2023-12-01T21:48:37.758Z"
   },
   {
    "duration": 42,
    "start_time": "2023-12-01T21:49:07.208Z"
   },
   {
    "duration": 1759,
    "start_time": "2023-12-01T21:50:26.032Z"
   },
   {
    "duration": 49,
    "start_time": "2023-12-01T21:50:46.859Z"
   },
   {
    "duration": 81,
    "start_time": "2023-12-01T21:51:54.481Z"
   },
   {
    "duration": 47,
    "start_time": "2023-12-01T21:58:33.182Z"
   },
   {
    "duration": 44,
    "start_time": "2023-12-01T21:58:51.124Z"
   },
   {
    "duration": 46,
    "start_time": "2023-12-01T21:59:20.997Z"
   },
   {
    "duration": 45,
    "start_time": "2023-12-01T21:59:29.840Z"
   },
   {
    "duration": 45,
    "start_time": "2023-12-01T21:59:40.467Z"
   },
   {
    "duration": 46,
    "start_time": "2023-12-01T22:00:04.709Z"
   },
   {
    "duration": 45,
    "start_time": "2023-12-01T22:00:22.631Z"
   },
   {
    "duration": 47,
    "start_time": "2023-12-01T22:00:35.406Z"
   },
   {
    "duration": 40,
    "start_time": "2023-12-01T22:01:57.258Z"
   },
   {
    "duration": 49,
    "start_time": "2023-12-01T22:02:10.200Z"
   },
   {
    "duration": 47,
    "start_time": "2023-12-01T22:10:16.001Z"
   },
   {
    "duration": 45,
    "start_time": "2023-12-01T22:10:34.412Z"
   },
   {
    "duration": 54,
    "start_time": "2023-12-01T22:12:43.083Z"
   },
   {
    "duration": 48,
    "start_time": "2023-12-01T22:13:53.721Z"
   },
   {
    "duration": 50,
    "start_time": "2023-12-01T22:14:12.620Z"
   },
   {
    "duration": 47,
    "start_time": "2023-12-01T22:23:39.586Z"
   },
   {
    "duration": 48,
    "start_time": "2023-12-01T22:23:54.638Z"
   },
   {
    "duration": 50,
    "start_time": "2023-12-01T22:25:00.904Z"
   },
   {
    "duration": 48,
    "start_time": "2023-12-01T22:28:36.793Z"
   },
   {
    "duration": 49,
    "start_time": "2023-12-01T22:29:47.641Z"
   },
   {
    "duration": 42,
    "start_time": "2023-12-01T22:31:21.315Z"
   },
   {
    "duration": 44,
    "start_time": "2023-12-01T22:31:37.540Z"
   },
   {
    "duration": 43,
    "start_time": "2023-12-01T22:32:56.853Z"
   },
   {
    "duration": 42,
    "start_time": "2023-12-01T22:33:38.315Z"
   },
   {
    "duration": 47,
    "start_time": "2023-12-01T22:33:44.973Z"
   },
   {
    "duration": 44,
    "start_time": "2023-12-01T22:34:07.938Z"
   },
   {
    "duration": 45,
    "start_time": "2023-12-01T22:34:45.271Z"
   },
   {
    "duration": 42,
    "start_time": "2023-12-01T22:34:53.262Z"
   },
   {
    "duration": 38,
    "start_time": "2023-12-01T22:35:07.878Z"
   },
   {
    "duration": 44,
    "start_time": "2023-12-01T22:35:14.405Z"
   },
   {
    "duration": 44,
    "start_time": "2023-12-01T22:35:38.305Z"
   },
   {
    "duration": 45,
    "start_time": "2023-12-01T22:36:00.295Z"
   },
   {
    "duration": 41,
    "start_time": "2023-12-01T22:36:12.234Z"
   },
   {
    "duration": 49,
    "start_time": "2023-12-01T22:36:24.937Z"
   },
   {
    "duration": 39,
    "start_time": "2023-12-01T22:36:37.449Z"
   },
   {
    "duration": 43,
    "start_time": "2023-12-01T22:37:13.074Z"
   },
   {
    "duration": 43,
    "start_time": "2023-12-01T22:37:21.918Z"
   },
   {
    "duration": 46,
    "start_time": "2023-12-01T22:37:27.628Z"
   },
   {
    "duration": 46,
    "start_time": "2023-12-01T22:37:46.654Z"
   },
   {
    "duration": 51,
    "start_time": "2023-12-01T22:38:01.602Z"
   },
   {
    "duration": 47,
    "start_time": "2023-12-01T22:38:33.188Z"
   },
   {
    "duration": 50,
    "start_time": "2023-12-01T22:38:39.386Z"
   },
   {
    "duration": 46,
    "start_time": "2023-12-01T22:39:43.439Z"
   },
   {
    "duration": 51,
    "start_time": "2023-12-01T22:39:57.235Z"
   },
   {
    "duration": 48,
    "start_time": "2023-12-01T22:40:03.851Z"
   },
   {
    "duration": 47,
    "start_time": "2023-12-01T22:40:11.922Z"
   },
   {
    "duration": 45,
    "start_time": "2023-12-01T22:40:22.923Z"
   },
   {
    "duration": 46,
    "start_time": "2023-12-01T22:40:29.877Z"
   },
   {
    "duration": 49,
    "start_time": "2023-12-01T22:40:35.093Z"
   },
   {
    "duration": 46,
    "start_time": "2023-12-01T22:41:21.044Z"
   },
   {
    "duration": 44,
    "start_time": "2023-12-01T22:41:55.743Z"
   },
   {
    "duration": 47,
    "start_time": "2023-12-01T22:42:49.889Z"
   },
   {
    "duration": 46,
    "start_time": "2023-12-01T22:47:21.813Z"
   },
   {
    "duration": 9,
    "start_time": "2023-12-01T22:51:45.893Z"
   },
   {
    "duration": 1216,
    "start_time": "2023-12-01T22:52:03.008Z"
   },
   {
    "duration": 544,
    "start_time": "2023-12-01T22:52:04.225Z"
   },
   {
    "duration": 5,
    "start_time": "2023-12-01T22:52:04.770Z"
   },
   {
    "duration": 147,
    "start_time": "2023-12-01T22:52:04.777Z"
   },
   {
    "duration": 4,
    "start_time": "2023-12-01T22:52:04.926Z"
   },
   {
    "duration": 21,
    "start_time": "2023-12-01T22:52:04.931Z"
   },
   {
    "duration": 33,
    "start_time": "2023-12-01T22:52:04.954Z"
   },
   {
    "duration": 107,
    "start_time": "2023-12-01T22:52:04.990Z"
   },
   {
    "duration": 38,
    "start_time": "2023-12-01T22:52:05.099Z"
   },
   {
    "duration": 11,
    "start_time": "2023-12-01T22:52:05.138Z"
   },
   {
    "duration": 6,
    "start_time": "2023-12-01T22:52:05.150Z"
   },
   {
    "duration": 20,
    "start_time": "2023-12-01T22:52:05.157Z"
   },
   {
    "duration": 5,
    "start_time": "2023-12-01T22:52:05.178Z"
   },
   {
    "duration": 644,
    "start_time": "2023-12-01T22:52:05.185Z"
   },
   {
    "duration": 16,
    "start_time": "2023-12-01T22:52:05.831Z"
   },
   {
    "duration": 28,
    "start_time": "2023-12-01T22:52:05.848Z"
   },
   {
    "duration": 20,
    "start_time": "2023-12-01T22:52:05.878Z"
   },
   {
    "duration": 30,
    "start_time": "2023-12-01T22:52:05.900Z"
   },
   {
    "duration": 130,
    "start_time": "2023-12-01T22:52:05.931Z"
   },
   {
    "duration": 6,
    "start_time": "2023-12-01T22:52:06.063Z"
   },
   {
    "duration": 159,
    "start_time": "2023-12-01T22:52:06.070Z"
   },
   {
    "duration": 44,
    "start_time": "2023-12-01T22:52:06.231Z"
   },
   {
    "duration": 181,
    "start_time": "2023-12-01T22:52:06.276Z"
   },
   {
    "duration": 1737,
    "start_time": "2023-12-01T22:52:06.459Z"
   },
   {
    "duration": 518,
    "start_time": "2023-12-01T22:55:04.167Z"
   },
   {
    "duration": 1148,
    "start_time": "2023-12-01T22:55:11.840Z"
   },
   {
    "duration": 494,
    "start_time": "2023-12-01T22:55:12.989Z"
   },
   {
    "duration": 3,
    "start_time": "2023-12-01T22:55:13.484Z"
   },
   {
    "duration": 140,
    "start_time": "2023-12-01T22:55:13.489Z"
   },
   {
    "duration": 4,
    "start_time": "2023-12-01T22:55:13.631Z"
   },
   {
    "duration": 18,
    "start_time": "2023-12-01T22:55:13.637Z"
   },
   {
    "duration": 22,
    "start_time": "2023-12-01T22:55:13.657Z"
   },
   {
    "duration": 115,
    "start_time": "2023-12-01T22:55:13.681Z"
   },
   {
    "duration": 34,
    "start_time": "2023-12-01T22:55:13.797Z"
   },
   {
    "duration": 10,
    "start_time": "2023-12-01T22:55:13.833Z"
   },
   {
    "duration": 6,
    "start_time": "2023-12-01T22:55:13.845Z"
   },
   {
    "duration": 20,
    "start_time": "2023-12-01T22:55:13.852Z"
   },
   {
    "duration": 5,
    "start_time": "2023-12-01T22:55:13.873Z"
   },
   {
    "duration": 624,
    "start_time": "2023-12-01T22:55:13.914Z"
   },
   {
    "duration": 15,
    "start_time": "2023-12-01T22:55:14.539Z"
   },
   {
    "duration": 4,
    "start_time": "2023-12-01T22:55:14.556Z"
   },
   {
    "duration": 17,
    "start_time": "2023-12-01T22:55:14.561Z"
   },
   {
    "duration": 49,
    "start_time": "2023-12-01T22:55:14.580Z"
   },
   {
    "duration": 128,
    "start_time": "2023-12-01T22:55:14.630Z"
   },
   {
    "duration": 5,
    "start_time": "2023-12-01T22:55:14.759Z"
   },
   {
    "duration": 154,
    "start_time": "2023-12-01T22:55:14.765Z"
   },
   {
    "duration": 47,
    "start_time": "2023-12-01T22:55:14.921Z"
   },
   {
    "duration": 632,
    "start_time": "2023-12-01T22:55:14.970Z"
   },
   {
    "duration": 0,
    "start_time": "2023-12-01T22:55:15.604Z"
   },
   {
    "duration": 111,
    "start_time": "2023-12-01T22:56:02.356Z"
   },
   {
    "duration": 148,
    "start_time": "2023-12-01T22:56:10.044Z"
   },
   {
    "duration": 8,
    "start_time": "2023-12-01T22:58:03.350Z"
   },
   {
    "duration": 12,
    "start_time": "2023-12-01T22:59:29.127Z"
   },
   {
    "duration": 4,
    "start_time": "2023-12-01T23:02:19.646Z"
   },
   {
    "duration": 12,
    "start_time": "2023-12-01T23:02:40.513Z"
   },
   {
    "duration": 11,
    "start_time": "2023-12-01T23:03:23.420Z"
   },
   {
    "duration": 11,
    "start_time": "2023-12-01T23:05:39.784Z"
   },
   {
    "duration": 12,
    "start_time": "2023-12-01T23:06:41.489Z"
   },
   {
    "duration": 16,
    "start_time": "2023-12-01T23:08:07.187Z"
   },
   {
    "duration": 13,
    "start_time": "2023-12-01T23:08:18.314Z"
   },
   {
    "duration": 12,
    "start_time": "2023-12-01T23:08:31.155Z"
   },
   {
    "duration": 28,
    "start_time": "2023-12-01T23:08:59.015Z"
   },
   {
    "duration": 12,
    "start_time": "2023-12-01T23:09:08.568Z"
   },
   {
    "duration": 1219,
    "start_time": "2023-12-01T23:25:41.029Z"
   },
   {
    "duration": 628,
    "start_time": "2023-12-01T23:25:42.250Z"
   },
   {
    "duration": 4,
    "start_time": "2023-12-01T23:25:42.880Z"
   },
   {
    "duration": 142,
    "start_time": "2023-12-01T23:25:42.887Z"
   },
   {
    "duration": 5,
    "start_time": "2023-12-01T23:25:43.030Z"
   },
   {
    "duration": 30,
    "start_time": "2023-12-01T23:25:43.036Z"
   },
   {
    "duration": 23,
    "start_time": "2023-12-01T23:25:43.068Z"
   },
   {
    "duration": 84,
    "start_time": "2023-12-01T23:25:43.114Z"
   },
   {
    "duration": 37,
    "start_time": "2023-12-01T23:25:43.199Z"
   },
   {
    "duration": 11,
    "start_time": "2023-12-01T23:25:43.238Z"
   },
   {
    "duration": 23,
    "start_time": "2023-12-01T23:25:43.250Z"
   },
   {
    "duration": 72,
    "start_time": "2023-12-01T23:25:43.275Z"
   },
   {
    "duration": 262,
    "start_time": "2023-12-01T23:25:43.349Z"
   },
   {
    "duration": 665,
    "start_time": "2023-12-01T23:25:43.612Z"
   },
   {
    "duration": 17,
    "start_time": "2023-12-01T23:25:44.278Z"
   },
   {
    "duration": 19,
    "start_time": "2023-12-01T23:25:44.296Z"
   },
   {
    "duration": 14,
    "start_time": "2023-12-01T23:25:44.317Z"
   },
   {
    "duration": 30,
    "start_time": "2023-12-01T23:25:44.332Z"
   },
   {
    "duration": 138,
    "start_time": "2023-12-01T23:25:44.363Z"
   },
   {
    "duration": 12,
    "start_time": "2023-12-01T23:25:44.503Z"
   },
   {
    "duration": 150,
    "start_time": "2023-12-01T23:25:44.516Z"
   },
   {
    "duration": 50,
    "start_time": "2023-12-01T23:25:44.668Z"
   },
   {
    "duration": 180,
    "start_time": "2023-12-01T23:25:44.720Z"
   },
   {
    "duration": 188,
    "start_time": "2023-12-01T23:25:44.902Z"
   },
   {
    "duration": 16,
    "start_time": "2023-12-01T23:25:45.092Z"
   },
   {
    "duration": 134,
    "start_time": "2023-12-01T23:32:18.936Z"
   },
   {
    "duration": 62,
    "start_time": "2023-12-01T23:34:28.692Z"
   },
   {
    "duration": 52,
    "start_time": "2023-12-01T23:35:42.275Z"
   },
   {
    "duration": 48,
    "start_time": "2023-12-01T23:36:51.866Z"
   },
   {
    "duration": 49,
    "start_time": "2023-12-01T23:37:03.438Z"
   },
   {
    "duration": 52,
    "start_time": "2023-12-01T23:39:21.379Z"
   },
   {
    "duration": 60,
    "start_time": "2023-12-01T23:39:36.024Z"
   },
   {
    "duration": 50,
    "start_time": "2023-12-01T23:39:59.875Z"
   },
   {
    "duration": 14,
    "start_time": "2023-12-01T23:40:43.348Z"
   },
   {
    "duration": 13,
    "start_time": "2023-12-01T23:41:08.310Z"
   },
   {
    "duration": 21,
    "start_time": "2023-12-01T23:42:59.281Z"
   },
   {
    "duration": 1255,
    "start_time": "2023-12-01T23:43:09.930Z"
   },
   {
    "duration": 535,
    "start_time": "2023-12-01T23:43:11.187Z"
   },
   {
    "duration": 4,
    "start_time": "2023-12-01T23:43:11.723Z"
   },
   {
    "duration": 139,
    "start_time": "2023-12-01T23:43:11.728Z"
   },
   {
    "duration": 5,
    "start_time": "2023-12-01T23:43:11.869Z"
   },
   {
    "duration": 44,
    "start_time": "2023-12-01T23:43:11.875Z"
   },
   {
    "duration": 24,
    "start_time": "2023-12-01T23:43:11.921Z"
   },
   {
    "duration": 96,
    "start_time": "2023-12-01T23:43:11.946Z"
   },
   {
    "duration": 27,
    "start_time": "2023-12-01T23:43:12.044Z"
   },
   {
    "duration": 11,
    "start_time": "2023-12-01T23:43:12.073Z"
   },
   {
    "duration": 33,
    "start_time": "2023-12-01T23:43:12.085Z"
   },
   {
    "duration": 21,
    "start_time": "2023-12-01T23:43:12.120Z"
   },
   {
    "duration": 6,
    "start_time": "2023-12-01T23:43:12.143Z"
   },
   {
    "duration": 632,
    "start_time": "2023-12-01T23:43:12.152Z"
   },
   {
    "duration": 17,
    "start_time": "2023-12-01T23:43:12.785Z"
   },
   {
    "duration": 4,
    "start_time": "2023-12-01T23:43:12.814Z"
   },
   {
    "duration": 13,
    "start_time": "2023-12-01T23:43:12.820Z"
   },
   {
    "duration": 28,
    "start_time": "2023-12-01T23:43:12.834Z"
   },
   {
    "duration": 154,
    "start_time": "2023-12-01T23:43:12.864Z"
   },
   {
    "duration": 5,
    "start_time": "2023-12-01T23:43:13.019Z"
   },
   {
    "duration": 159,
    "start_time": "2023-12-01T23:43:13.026Z"
   },
   {
    "duration": 49,
    "start_time": "2023-12-01T23:43:13.187Z"
   },
   {
    "duration": 169,
    "start_time": "2023-12-01T23:43:13.237Z"
   },
   {
    "duration": 136,
    "start_time": "2023-12-01T23:43:13.407Z"
   },
   {
    "duration": 84,
    "start_time": "2023-12-01T23:43:13.544Z"
   },
   {
    "duration": 18,
    "start_time": "2023-12-01T23:43:13.629Z"
   },
   {
    "duration": 50,
    "start_time": "2023-12-01T23:44:08.652Z"
   },
   {
    "duration": 49,
    "start_time": "2023-12-01T23:44:41.745Z"
   },
   {
    "duration": 53,
    "start_time": "2023-12-01T23:44:51.792Z"
   },
   {
    "duration": 54,
    "start_time": "2023-12-01T23:45:00.057Z"
   },
   {
    "duration": 82,
    "start_time": "2023-12-01T23:45:10.895Z"
   },
   {
    "duration": 57,
    "start_time": "2023-12-01T23:45:28.957Z"
   },
   {
    "duration": 52,
    "start_time": "2023-12-01T23:46:23.318Z"
   },
   {
    "duration": 55,
    "start_time": "2023-12-01T23:46:58.031Z"
   },
   {
    "duration": 60,
    "start_time": "2023-12-01T23:47:15.222Z"
   },
   {
    "duration": 61,
    "start_time": "2023-12-01T23:47:34.883Z"
   },
   {
    "duration": 12,
    "start_time": "2023-12-01T23:48:28.386Z"
   },
   {
    "duration": 11,
    "start_time": "2023-12-01T23:49:02.630Z"
   },
   {
    "duration": 1293,
    "start_time": "2023-12-02T00:01:00.700Z"
   },
   {
    "duration": 851,
    "start_time": "2023-12-02T00:01:01.995Z"
   },
   {
    "duration": 4,
    "start_time": "2023-12-02T00:01:02.847Z"
   },
   {
    "duration": 175,
    "start_time": "2023-12-02T00:01:02.853Z"
   },
   {
    "duration": 4,
    "start_time": "2023-12-02T00:01:03.030Z"
   },
   {
    "duration": 38,
    "start_time": "2023-12-02T00:01:03.035Z"
   },
   {
    "duration": 59,
    "start_time": "2023-12-02T00:01:03.074Z"
   },
   {
    "duration": 105,
    "start_time": "2023-12-02T00:01:03.135Z"
   },
   {
    "duration": 27,
    "start_time": "2023-12-02T00:01:03.241Z"
   },
   {
    "duration": 38,
    "start_time": "2023-12-02T00:01:03.269Z"
   },
   {
    "duration": 12,
    "start_time": "2023-12-02T00:01:03.308Z"
   },
   {
    "duration": 39,
    "start_time": "2023-12-02T00:01:03.322Z"
   },
   {
    "duration": 10,
    "start_time": "2023-12-02T00:01:03.363Z"
   },
   {
    "duration": 627,
    "start_time": "2023-12-02T00:01:03.376Z"
   },
   {
    "duration": 28,
    "start_time": "2023-12-02T00:01:04.005Z"
   },
   {
    "duration": 3,
    "start_time": "2023-12-02T00:01:04.035Z"
   },
   {
    "duration": 17,
    "start_time": "2023-12-02T00:01:04.040Z"
   },
   {
    "duration": 29,
    "start_time": "2023-12-02T00:01:04.058Z"
   },
   {
    "duration": 141,
    "start_time": "2023-12-02T00:01:04.088Z"
   },
   {
    "duration": 6,
    "start_time": "2023-12-02T00:01:04.230Z"
   },
   {
    "duration": 156,
    "start_time": "2023-12-02T00:01:04.238Z"
   },
   {
    "duration": 49,
    "start_time": "2023-12-02T00:01:04.396Z"
   },
   {
    "duration": 178,
    "start_time": "2023-12-02T00:01:04.447Z"
   },
   {
    "duration": 153,
    "start_time": "2023-12-02T00:01:04.627Z"
   },
   {
    "duration": 61,
    "start_time": "2023-12-02T00:01:04.782Z"
   },
   {
    "duration": 12,
    "start_time": "2023-12-02T00:01:04.844Z"
   },
   {
    "duration": 1422,
    "start_time": "2023-12-02T07:20:28.211Z"
   },
   {
    "duration": 474,
    "start_time": "2023-12-02T07:20:29.635Z"
   },
   {
    "duration": 3,
    "start_time": "2023-12-02T07:20:30.111Z"
   },
   {
    "duration": 156,
    "start_time": "2023-12-02T07:20:30.116Z"
   },
   {
    "duration": 4,
    "start_time": "2023-12-02T07:20:30.273Z"
   },
   {
    "duration": 44,
    "start_time": "2023-12-02T07:20:30.279Z"
   },
   {
    "duration": 57,
    "start_time": "2023-12-02T07:20:30.325Z"
   },
   {
    "duration": 116,
    "start_time": "2023-12-02T07:20:30.384Z"
   },
   {
    "duration": 32,
    "start_time": "2023-12-02T07:20:30.502Z"
   },
   {
    "duration": 11,
    "start_time": "2023-12-02T07:20:30.537Z"
   },
   {
    "duration": 49,
    "start_time": "2023-12-02T07:20:30.549Z"
   },
   {
    "duration": 47,
    "start_time": "2023-12-02T07:20:30.600Z"
   },
   {
    "duration": 11,
    "start_time": "2023-12-02T07:20:30.648Z"
   },
   {
    "duration": 663,
    "start_time": "2023-12-02T07:20:30.660Z"
   },
   {
    "duration": 21,
    "start_time": "2023-12-02T07:20:31.325Z"
   },
   {
    "duration": 39,
    "start_time": "2023-12-02T07:20:31.347Z"
   },
   {
    "duration": 42,
    "start_time": "2023-12-02T07:20:31.388Z"
   },
   {
    "duration": 73,
    "start_time": "2023-12-02T07:20:31.431Z"
   },
   {
    "duration": 131,
    "start_time": "2023-12-02T07:20:31.506Z"
   },
   {
    "duration": 6,
    "start_time": "2023-12-02T07:20:31.638Z"
   },
   {
    "duration": 232,
    "start_time": "2023-12-02T07:20:31.645Z"
   },
   {
    "duration": 55,
    "start_time": "2023-12-02T07:20:31.879Z"
   },
   {
    "duration": 183,
    "start_time": "2023-12-02T07:20:31.936Z"
   },
   {
    "duration": 138,
    "start_time": "2023-12-02T07:20:32.121Z"
   },
   {
    "duration": 92,
    "start_time": "2023-12-02T07:20:32.261Z"
   },
   {
    "duration": 11,
    "start_time": "2023-12-02T07:20:32.355Z"
   },
   {
    "duration": 103,
    "start_time": "2023-12-02T07:32:25.161Z"
   },
   {
    "duration": 20,
    "start_time": "2023-12-02T07:33:28.044Z"
   },
   {
    "duration": 18,
    "start_time": "2023-12-02T07:33:50.470Z"
   },
   {
    "duration": 1378,
    "start_time": "2023-12-02T07:34:31.067Z"
   },
   {
    "duration": 527,
    "start_time": "2023-12-02T07:34:32.447Z"
   },
   {
    "duration": 3,
    "start_time": "2023-12-02T07:34:32.976Z"
   },
   {
    "duration": 158,
    "start_time": "2023-12-02T07:34:32.982Z"
   },
   {
    "duration": 5,
    "start_time": "2023-12-02T07:34:33.142Z"
   },
   {
    "duration": 21,
    "start_time": "2023-12-02T07:34:33.148Z"
   },
   {
    "duration": 25,
    "start_time": "2023-12-02T07:34:33.170Z"
   },
   {
    "duration": 98,
    "start_time": "2023-12-02T07:34:33.232Z"
   },
   {
    "duration": 29,
    "start_time": "2023-12-02T07:34:33.332Z"
   },
   {
    "duration": 11,
    "start_time": "2023-12-02T07:34:33.364Z"
   },
   {
    "duration": 9,
    "start_time": "2023-12-02T07:34:33.377Z"
   },
   {
    "duration": 52,
    "start_time": "2023-12-02T07:34:33.388Z"
   },
   {
    "duration": 6,
    "start_time": "2023-12-02T07:34:33.442Z"
   },
   {
    "duration": 669,
    "start_time": "2023-12-02T07:34:33.450Z"
   },
   {
    "duration": 21,
    "start_time": "2023-12-02T07:34:34.122Z"
   },
   {
    "duration": 4,
    "start_time": "2023-12-02T07:34:34.145Z"
   },
   {
    "duration": 23,
    "start_time": "2023-12-02T07:34:34.151Z"
   },
   {
    "duration": 30,
    "start_time": "2023-12-02T07:34:34.176Z"
   },
   {
    "duration": 134,
    "start_time": "2023-12-02T07:34:34.232Z"
   },
   {
    "duration": 5,
    "start_time": "2023-12-02T07:34:34.368Z"
   },
   {
    "duration": 160,
    "start_time": "2023-12-02T07:34:34.375Z"
   },
   {
    "duration": 44,
    "start_time": "2023-12-02T07:34:34.536Z"
   },
   {
    "duration": 199,
    "start_time": "2023-12-02T07:34:34.582Z"
   },
   {
    "duration": 181,
    "start_time": "2023-12-02T07:34:34.783Z"
   },
   {
    "duration": 76,
    "start_time": "2023-12-02T07:34:34.966Z"
   },
   {
    "duration": 12,
    "start_time": "2023-12-02T07:34:35.043Z"
   },
   {
    "duration": 151,
    "start_time": "2023-12-02T07:34:35.057Z"
   },
   {
    "duration": 10,
    "start_time": "2023-12-02T07:35:16.588Z"
   },
   {
    "duration": 17,
    "start_time": "2023-12-02T07:35:34.084Z"
   },
   {
    "duration": 7,
    "start_time": "2023-12-02T07:35:39.078Z"
   },
   {
    "duration": 7,
    "start_time": "2023-12-02T07:35:52.245Z"
   },
   {
    "duration": 20,
    "start_time": "2023-12-02T07:42:57.322Z"
   },
   {
    "duration": 9,
    "start_time": "2023-12-02T07:43:07.662Z"
   },
   {
    "duration": 12,
    "start_time": "2023-12-02T07:43:14.898Z"
   },
   {
    "duration": 24,
    "start_time": "2023-12-02T07:43:53.800Z"
   },
   {
    "duration": 26,
    "start_time": "2023-12-02T07:44:03.772Z"
   },
   {
    "duration": 71,
    "start_time": "2023-12-02T07:49:18.045Z"
   },
   {
    "duration": 87,
    "start_time": "2023-12-02T07:50:10.874Z"
   },
   {
    "duration": 98,
    "start_time": "2023-12-02T07:51:15.079Z"
   },
   {
    "duration": 73,
    "start_time": "2023-12-02T07:51:20.224Z"
   },
   {
    "duration": 28,
    "start_time": "2023-12-02T07:55:02.516Z"
   },
   {
    "duration": 29,
    "start_time": "2023-12-02T07:56:42.248Z"
   },
   {
    "duration": 27,
    "start_time": "2023-12-02T07:56:53.494Z"
   },
   {
    "duration": 27,
    "start_time": "2023-12-02T07:57:52.225Z"
   },
   {
    "duration": 32,
    "start_time": "2023-12-02T08:16:38.391Z"
   },
   {
    "duration": 37,
    "start_time": "2023-12-02T08:19:50.999Z"
   },
   {
    "duration": 50,
    "start_time": "2023-12-02T08:20:05.871Z"
   },
   {
    "duration": 42,
    "start_time": "2023-12-02T08:20:31.600Z"
   },
   {
    "duration": 6,
    "start_time": "2023-12-02T08:36:07.464Z"
   },
   {
    "duration": 6,
    "start_time": "2023-12-02T08:38:08.294Z"
   },
   {
    "duration": 45,
    "start_time": "2023-12-02T08:38:08.897Z"
   },
   {
    "duration": 4,
    "start_time": "2023-12-02T08:39:21.622Z"
   },
   {
    "duration": 1233,
    "start_time": "2023-12-02T08:39:27.240Z"
   },
   {
    "duration": 585,
    "start_time": "2023-12-02T08:39:28.475Z"
   },
   {
    "duration": 3,
    "start_time": "2023-12-02T08:39:29.061Z"
   },
   {
    "duration": 136,
    "start_time": "2023-12-02T08:39:29.066Z"
   },
   {
    "duration": 4,
    "start_time": "2023-12-02T08:39:29.203Z"
   },
   {
    "duration": 38,
    "start_time": "2023-12-02T08:39:29.209Z"
   },
   {
    "duration": 28,
    "start_time": "2023-12-02T08:39:29.248Z"
   },
   {
    "duration": 96,
    "start_time": "2023-12-02T08:39:29.278Z"
   },
   {
    "duration": 26,
    "start_time": "2023-12-02T08:39:29.375Z"
   },
   {
    "duration": 11,
    "start_time": "2023-12-02T08:39:29.403Z"
   },
   {
    "duration": 8,
    "start_time": "2023-12-02T08:39:29.430Z"
   },
   {
    "duration": 23,
    "start_time": "2023-12-02T08:39:29.440Z"
   },
   {
    "duration": 5,
    "start_time": "2023-12-02T08:39:29.465Z"
   },
   {
    "duration": 632,
    "start_time": "2023-12-02T08:39:29.472Z"
   },
   {
    "duration": 29,
    "start_time": "2023-12-02T08:39:30.107Z"
   },
   {
    "duration": 23,
    "start_time": "2023-12-02T08:39:30.138Z"
   },
   {
    "duration": 31,
    "start_time": "2023-12-02T08:39:30.163Z"
   },
   {
    "duration": 30,
    "start_time": "2023-12-02T08:39:30.196Z"
   },
   {
    "duration": 116,
    "start_time": "2023-12-02T08:39:30.228Z"
   },
   {
    "duration": 6,
    "start_time": "2023-12-02T08:39:30.346Z"
   },
   {
    "duration": 164,
    "start_time": "2023-12-02T08:39:30.353Z"
   },
   {
    "duration": 51,
    "start_time": "2023-12-02T08:39:30.519Z"
   },
   {
    "duration": 189,
    "start_time": "2023-12-02T08:39:30.572Z"
   },
   {
    "duration": 161,
    "start_time": "2023-12-02T08:39:30.763Z"
   },
   {
    "duration": 55,
    "start_time": "2023-12-02T08:39:30.925Z"
   },
   {
    "duration": 25,
    "start_time": "2023-12-02T08:39:31.030Z"
   },
   {
    "duration": 80,
    "start_time": "2023-12-02T08:39:31.057Z"
   },
   {
    "duration": 7,
    "start_time": "2023-12-02T08:39:31.140Z"
   },
   {
    "duration": 194,
    "start_time": "2023-12-02T08:39:31.150Z"
   },
   {
    "duration": 0,
    "start_time": "2023-12-02T08:39:31.346Z"
   },
   {
    "duration": 7,
    "start_time": "2023-12-02T08:41:31.837Z"
   },
   {
    "duration": 7,
    "start_time": "2023-12-02T08:41:48.217Z"
   },
   {
    "duration": 93,
    "start_time": "2023-12-02T08:41:49.750Z"
   },
   {
    "duration": 7,
    "start_time": "2023-12-02T08:44:38.656Z"
   },
   {
    "duration": 63,
    "start_time": "2023-12-02T09:10:26.785Z"
   },
   {
    "duration": 55,
    "start_time": "2023-12-02T09:15:21.039Z"
   },
   {
    "duration": 59,
    "start_time": "2023-12-02T09:15:27.697Z"
   },
   {
    "duration": 15,
    "start_time": "2023-12-02T09:15:47.775Z"
   },
   {
    "duration": 1246,
    "start_time": "2023-12-02T09:15:58.072Z"
   },
   {
    "duration": 551,
    "start_time": "2023-12-02T09:15:59.320Z"
   },
   {
    "duration": 4,
    "start_time": "2023-12-02T09:15:59.873Z"
   },
   {
    "duration": 156,
    "start_time": "2023-12-02T09:15:59.878Z"
   },
   {
    "duration": 5,
    "start_time": "2023-12-02T09:16:00.036Z"
   },
   {
    "duration": 81,
    "start_time": "2023-12-02T09:16:00.042Z"
   },
   {
    "duration": 63,
    "start_time": "2023-12-02T09:16:00.124Z"
   },
   {
    "duration": 90,
    "start_time": "2023-12-02T09:16:00.188Z"
   },
   {
    "duration": 27,
    "start_time": "2023-12-02T09:16:00.280Z"
   },
   {
    "duration": 22,
    "start_time": "2023-12-02T09:16:00.308Z"
   },
   {
    "duration": 13,
    "start_time": "2023-12-02T09:16:00.332Z"
   },
   {
    "duration": 30,
    "start_time": "2023-12-02T09:16:00.347Z"
   },
   {
    "duration": 6,
    "start_time": "2023-12-02T09:16:00.379Z"
   },
   {
    "duration": 619,
    "start_time": "2023-12-02T09:16:00.387Z"
   },
   {
    "duration": 29,
    "start_time": "2023-12-02T09:16:01.008Z"
   },
   {
    "duration": 23,
    "start_time": "2023-12-02T09:16:01.039Z"
   },
   {
    "duration": 49,
    "start_time": "2023-12-02T09:16:01.064Z"
   },
   {
    "duration": 68,
    "start_time": "2023-12-02T09:16:01.115Z"
   },
   {
    "duration": 130,
    "start_time": "2023-12-02T09:16:01.184Z"
   },
   {
    "duration": 16,
    "start_time": "2023-12-02T09:16:01.316Z"
   },
   {
    "duration": 176,
    "start_time": "2023-12-02T09:16:01.333Z"
   },
   {
    "duration": 51,
    "start_time": "2023-12-02T09:16:01.510Z"
   },
   {
    "duration": 212,
    "start_time": "2023-12-02T09:16:01.563Z"
   },
   {
    "duration": 169,
    "start_time": "2023-12-02T09:16:01.778Z"
   },
   {
    "duration": 103,
    "start_time": "2023-12-02T09:16:01.950Z"
   },
   {
    "duration": 13,
    "start_time": "2023-12-02T09:16:02.054Z"
   },
   {
    "duration": 95,
    "start_time": "2023-12-02T09:16:02.068Z"
   },
   {
    "duration": 6,
    "start_time": "2023-12-02T09:16:02.165Z"
   },
   {
    "duration": 116,
    "start_time": "2023-12-02T09:16:02.173Z"
   },
   {
    "duration": 13,
    "start_time": "2023-12-02T09:16:20.471Z"
   },
   {
    "duration": 67,
    "start_time": "2023-12-02T09:20:50.591Z"
   },
   {
    "duration": 151,
    "start_time": "2023-12-02T09:20:54.771Z"
   },
   {
    "duration": 19,
    "start_time": "2023-12-02T09:21:22.916Z"
   },
   {
    "duration": 59,
    "start_time": "2023-12-02T09:21:29.372Z"
   },
   {
    "duration": 87,
    "start_time": "2023-12-02T09:22:00.640Z"
   },
   {
    "duration": 72,
    "start_time": "2023-12-02T09:22:14.036Z"
   },
   {
    "duration": 9,
    "start_time": "2023-12-02T09:29:24.713Z"
   },
   {
    "duration": 9,
    "start_time": "2023-12-02T09:29:40.384Z"
   },
   {
    "duration": 56,
    "start_time": "2023-12-02T09:29:57.389Z"
   },
   {
    "duration": 51,
    "start_time": "2023-12-02T09:31:22.715Z"
   },
   {
    "duration": 20,
    "start_time": "2023-12-02T09:32:05.746Z"
   },
   {
    "duration": 20,
    "start_time": "2023-12-02T09:36:53.321Z"
   },
   {
    "duration": 66,
    "start_time": "2023-12-02T09:37:13.304Z"
   },
   {
    "duration": 13,
    "start_time": "2023-12-02T09:38:57.546Z"
   },
   {
    "duration": 1349,
    "start_time": "2023-12-02T09:39:04.128Z"
   },
   {
    "duration": 522,
    "start_time": "2023-12-02T09:39:05.479Z"
   },
   {
    "duration": 4,
    "start_time": "2023-12-02T09:39:06.002Z"
   },
   {
    "duration": 178,
    "start_time": "2023-12-02T09:39:06.007Z"
   },
   {
    "duration": 4,
    "start_time": "2023-12-02T09:39:06.187Z"
   },
   {
    "duration": 43,
    "start_time": "2023-12-02T09:39:06.193Z"
   },
   {
    "duration": 36,
    "start_time": "2023-12-02T09:39:06.238Z"
   },
   {
    "duration": 85,
    "start_time": "2023-12-02T09:39:06.276Z"
   },
   {
    "duration": 27,
    "start_time": "2023-12-02T09:39:06.363Z"
   },
   {
    "duration": 11,
    "start_time": "2023-12-02T09:39:06.392Z"
   },
   {
    "duration": 26,
    "start_time": "2023-12-02T09:39:06.405Z"
   },
   {
    "duration": 21,
    "start_time": "2023-12-02T09:39:06.433Z"
   },
   {
    "duration": 5,
    "start_time": "2023-12-02T09:39:06.455Z"
   },
   {
    "duration": 622,
    "start_time": "2023-12-02T09:39:06.462Z"
   },
   {
    "duration": 17,
    "start_time": "2023-12-02T09:39:07.086Z"
   },
   {
    "duration": 26,
    "start_time": "2023-12-02T09:39:07.105Z"
   },
   {
    "duration": 22,
    "start_time": "2023-12-02T09:39:07.133Z"
   },
   {
    "duration": 29,
    "start_time": "2023-12-02T09:39:07.157Z"
   },
   {
    "duration": 143,
    "start_time": "2023-12-02T09:39:07.187Z"
   },
   {
    "duration": 6,
    "start_time": "2023-12-02T09:39:07.332Z"
   },
   {
    "duration": 152,
    "start_time": "2023-12-02T09:39:07.340Z"
   },
   {
    "duration": 61,
    "start_time": "2023-12-02T09:39:07.494Z"
   },
   {
    "duration": 15,
    "start_time": "2023-12-02T09:39:07.557Z"
   },
   {
    "duration": 202,
    "start_time": "2023-12-02T09:39:07.574Z"
   },
   {
    "duration": 158,
    "start_time": "2023-12-02T09:39:07.777Z"
   },
   {
    "duration": 111,
    "start_time": "2023-12-02T09:39:07.937Z"
   },
   {
    "duration": 13,
    "start_time": "2023-12-02T09:39:08.050Z"
   },
   {
    "duration": 102,
    "start_time": "2023-12-02T09:39:08.068Z"
   },
   {
    "duration": 6,
    "start_time": "2023-12-02T09:39:08.171Z"
   },
   {
    "duration": 138,
    "start_time": "2023-12-02T09:39:08.179Z"
   },
   {
    "duration": 131,
    "start_time": "2023-12-02T09:40:22.530Z"
   },
   {
    "duration": 81,
    "start_time": "2023-12-02T09:40:31.568Z"
   },
   {
    "duration": 1269,
    "start_time": "2023-12-02T09:54:11.828Z"
   },
   {
    "duration": 486,
    "start_time": "2023-12-02T09:54:13.099Z"
   },
   {
    "duration": 4,
    "start_time": "2023-12-02T09:54:13.587Z"
   },
   {
    "duration": 149,
    "start_time": "2023-12-02T09:54:13.593Z"
   },
   {
    "duration": 4,
    "start_time": "2023-12-02T09:54:13.744Z"
   },
   {
    "duration": 21,
    "start_time": "2023-12-02T09:54:13.749Z"
   },
   {
    "duration": 23,
    "start_time": "2023-12-02T09:54:13.771Z"
   },
   {
    "duration": 114,
    "start_time": "2023-12-02T09:54:13.796Z"
   },
   {
    "duration": 36,
    "start_time": "2023-12-02T09:54:13.911Z"
   },
   {
    "duration": 11,
    "start_time": "2023-12-02T09:54:13.950Z"
   },
   {
    "duration": 7,
    "start_time": "2023-12-02T09:54:13.963Z"
   },
   {
    "duration": 24,
    "start_time": "2023-12-02T09:54:13.971Z"
   },
   {
    "duration": 36,
    "start_time": "2023-12-02T09:54:13.996Z"
   },
   {
    "duration": 630,
    "start_time": "2023-12-02T09:54:14.033Z"
   },
   {
    "duration": 16,
    "start_time": "2023-12-02T09:54:14.665Z"
   },
   {
    "duration": 4,
    "start_time": "2023-12-02T09:54:14.683Z"
   },
   {
    "duration": 28,
    "start_time": "2023-12-02T09:54:14.688Z"
   },
   {
    "duration": 35,
    "start_time": "2023-12-02T09:54:14.718Z"
   },
   {
    "duration": 130,
    "start_time": "2023-12-02T09:54:14.755Z"
   },
   {
    "duration": 5,
    "start_time": "2023-12-02T09:54:14.887Z"
   },
   {
    "duration": 146,
    "start_time": "2023-12-02T09:54:14.894Z"
   },
   {
    "duration": 42,
    "start_time": "2023-12-02T09:54:15.042Z"
   },
   {
    "duration": 201,
    "start_time": "2023-12-02T09:54:15.085Z"
   },
   {
    "duration": 137,
    "start_time": "2023-12-02T09:54:15.287Z"
   },
   {
    "duration": 51,
    "start_time": "2023-12-02T09:54:15.425Z"
   },
   {
    "duration": 61,
    "start_time": "2023-12-02T09:54:15.478Z"
   },
   {
    "duration": 53,
    "start_time": "2023-12-02T09:54:15.541Z"
   },
   {
    "duration": 6,
    "start_time": "2023-12-02T09:54:15.596Z"
   },
   {
    "duration": 133,
    "start_time": "2023-12-02T09:54:15.603Z"
   },
   {
    "duration": 67,
    "start_time": "2023-12-02T09:59:52.442Z"
   },
   {
    "duration": 65,
    "start_time": "2023-12-02T10:00:33.315Z"
   },
   {
    "duration": 1201,
    "start_time": "2023-12-02T12:01:45.920Z"
   },
   {
    "duration": 616,
    "start_time": "2023-12-02T12:01:47.123Z"
   },
   {
    "duration": 4,
    "start_time": "2023-12-02T12:01:47.741Z"
   },
   {
    "duration": 185,
    "start_time": "2023-12-02T12:01:47.747Z"
   },
   {
    "duration": 5,
    "start_time": "2023-12-02T12:01:47.933Z"
   },
   {
    "duration": 22,
    "start_time": "2023-12-02T12:01:47.939Z"
   },
   {
    "duration": 23,
    "start_time": "2023-12-02T12:01:47.963Z"
   },
   {
    "duration": 113,
    "start_time": "2023-12-02T12:01:47.988Z"
   },
   {
    "duration": 35,
    "start_time": "2023-12-02T12:01:48.103Z"
   },
   {
    "duration": 20,
    "start_time": "2023-12-02T12:01:48.141Z"
   },
   {
    "duration": 8,
    "start_time": "2023-12-02T12:01:48.163Z"
   },
   {
    "duration": 24,
    "start_time": "2023-12-02T12:01:48.173Z"
   },
   {
    "duration": 35,
    "start_time": "2023-12-02T12:01:48.199Z"
   },
   {
    "duration": 662,
    "start_time": "2023-12-02T12:01:48.235Z"
   },
   {
    "duration": 18,
    "start_time": "2023-12-02T12:01:48.899Z"
   },
   {
    "duration": 14,
    "start_time": "2023-12-02T12:01:48.919Z"
   },
   {
    "duration": 16,
    "start_time": "2023-12-02T12:01:48.934Z"
   },
   {
    "duration": 31,
    "start_time": "2023-12-02T12:01:48.952Z"
   },
   {
    "duration": 147,
    "start_time": "2023-12-02T12:01:48.985Z"
   },
   {
    "duration": 6,
    "start_time": "2023-12-02T12:01:49.134Z"
   },
   {
    "duration": 162,
    "start_time": "2023-12-02T12:01:49.142Z"
   },
   {
    "duration": 51,
    "start_time": "2023-12-02T12:01:49.305Z"
   },
   {
    "duration": 213,
    "start_time": "2023-12-02T12:01:49.358Z"
   },
   {
    "duration": 156,
    "start_time": "2023-12-02T12:01:49.573Z"
   },
   {
    "duration": 107,
    "start_time": "2023-12-02T12:01:49.731Z"
   },
   {
    "duration": 12,
    "start_time": "2023-12-02T12:01:49.840Z"
   },
   {
    "duration": 192,
    "start_time": "2023-12-02T12:01:49.853Z"
   },
   {
    "duration": 6,
    "start_time": "2023-12-02T12:01:50.048Z"
   },
   {
    "duration": 116,
    "start_time": "2023-12-02T12:01:50.056Z"
   },
   {
    "duration": 145,
    "start_time": "2023-12-02T12:04:32.283Z"
   },
   {
    "duration": 138,
    "start_time": "2023-12-02T12:07:52.343Z"
   },
   {
    "duration": 167,
    "start_time": "2023-12-02T12:09:07.234Z"
   },
   {
    "duration": 154,
    "start_time": "2023-12-02T12:13:30.968Z"
   },
   {
    "duration": 1454,
    "start_time": "2023-12-02T16:30:47.115Z"
   },
   {
    "duration": 721,
    "start_time": "2023-12-02T16:30:48.571Z"
   },
   {
    "duration": 4,
    "start_time": "2023-12-02T16:30:49.294Z"
   },
   {
    "duration": 148,
    "start_time": "2023-12-02T16:30:49.299Z"
   },
   {
    "duration": 5,
    "start_time": "2023-12-02T16:30:49.449Z"
   },
   {
    "duration": 33,
    "start_time": "2023-12-02T16:30:49.455Z"
   },
   {
    "duration": 42,
    "start_time": "2023-12-02T16:30:49.490Z"
   },
   {
    "duration": 88,
    "start_time": "2023-12-02T16:30:49.533Z"
   },
   {
    "duration": 35,
    "start_time": "2023-12-02T16:30:49.622Z"
   },
   {
    "duration": 10,
    "start_time": "2023-12-02T16:30:49.660Z"
   },
   {
    "duration": 8,
    "start_time": "2023-12-02T16:30:49.672Z"
   },
   {
    "duration": 24,
    "start_time": "2023-12-02T16:30:49.681Z"
   },
   {
    "duration": 6,
    "start_time": "2023-12-02T16:30:49.730Z"
   },
   {
    "duration": 626,
    "start_time": "2023-12-02T16:30:49.737Z"
   },
   {
    "duration": 17,
    "start_time": "2023-12-02T16:30:50.364Z"
   },
   {
    "duration": 6,
    "start_time": "2023-12-02T16:30:50.383Z"
   },
   {
    "duration": 28,
    "start_time": "2023-12-02T16:30:50.390Z"
   },
   {
    "duration": 31,
    "start_time": "2023-12-02T16:30:50.420Z"
   },
   {
    "duration": 132,
    "start_time": "2023-12-02T16:30:50.453Z"
   },
   {
    "duration": 6,
    "start_time": "2023-12-02T16:30:50.587Z"
   },
   {
    "duration": 237,
    "start_time": "2023-12-02T16:30:50.595Z"
   },
   {
    "duration": 40,
    "start_time": "2023-12-02T16:30:50.834Z"
   },
   {
    "duration": 121,
    "start_time": "2023-12-02T16:30:50.876Z"
   },
   {
    "duration": 170,
    "start_time": "2023-12-02T16:30:50.999Z"
   },
   {
    "duration": 83,
    "start_time": "2023-12-02T16:30:51.171Z"
   },
   {
    "duration": 12,
    "start_time": "2023-12-02T16:30:51.256Z"
   },
   {
    "duration": 202,
    "start_time": "2023-12-02T16:30:51.269Z"
   },
   {
    "duration": 5,
    "start_time": "2023-12-02T16:30:51.473Z"
   },
   {
    "duration": 107,
    "start_time": "2023-12-02T16:30:51.480Z"
   },
   {
    "duration": 277,
    "start_time": "2023-12-02T16:34:06.845Z"
   },
   {
    "duration": 1322,
    "start_time": "2023-12-02T16:34:18.502Z"
   },
   {
    "duration": 564,
    "start_time": "2023-12-02T16:34:19.826Z"
   },
   {
    "duration": 4,
    "start_time": "2023-12-02T16:34:20.391Z"
   },
   {
    "duration": 145,
    "start_time": "2023-12-02T16:34:20.396Z"
   },
   {
    "duration": 4,
    "start_time": "2023-12-02T16:34:20.543Z"
   },
   {
    "duration": 35,
    "start_time": "2023-12-02T16:34:20.548Z"
   },
   {
    "duration": 22,
    "start_time": "2023-12-02T16:34:20.584Z"
   },
   {
    "duration": 96,
    "start_time": "2023-12-02T16:34:20.608Z"
   },
   {
    "duration": 33,
    "start_time": "2023-12-02T16:34:20.705Z"
   },
   {
    "duration": 10,
    "start_time": "2023-12-02T16:34:20.740Z"
   },
   {
    "duration": 11,
    "start_time": "2023-12-02T16:34:20.751Z"
   },
   {
    "duration": 27,
    "start_time": "2023-12-02T16:34:20.763Z"
   },
   {
    "duration": 6,
    "start_time": "2023-12-02T16:34:20.791Z"
   },
   {
    "duration": 662,
    "start_time": "2023-12-02T16:34:20.799Z"
   },
   {
    "duration": 17,
    "start_time": "2023-12-02T16:34:21.463Z"
   },
   {
    "duration": 6,
    "start_time": "2023-12-02T16:34:21.482Z"
   },
   {
    "duration": 24,
    "start_time": "2023-12-02T16:34:21.489Z"
   },
   {
    "duration": 49,
    "start_time": "2023-12-02T16:34:21.515Z"
   },
   {
    "duration": 131,
    "start_time": "2023-12-02T16:34:21.566Z"
   },
   {
    "duration": 5,
    "start_time": "2023-12-02T16:34:21.698Z"
   },
   {
    "duration": 173,
    "start_time": "2023-12-02T16:34:21.705Z"
   },
   {
    "duration": 41,
    "start_time": "2023-12-02T16:34:21.880Z"
   },
   {
    "duration": 206,
    "start_time": "2023-12-02T16:34:21.923Z"
   },
   {
    "duration": 134,
    "start_time": "2023-12-02T16:34:22.130Z"
   },
   {
    "duration": 79,
    "start_time": "2023-12-02T16:34:22.265Z"
   },
   {
    "duration": 13,
    "start_time": "2023-12-02T16:34:22.345Z"
   },
   {
    "duration": 297,
    "start_time": "2023-12-02T16:34:22.359Z"
   },
   {
    "duration": 0,
    "start_time": "2023-12-02T16:34:22.659Z"
   },
   {
    "duration": 0,
    "start_time": "2023-12-02T16:34:22.660Z"
   },
   {
    "duration": 149,
    "start_time": "2023-12-02T16:35:36.033Z"
   },
   {
    "duration": 163,
    "start_time": "2023-12-02T16:36:47.779Z"
   },
   {
    "duration": 1264,
    "start_time": "2023-12-02T18:09:32.949Z"
   },
   {
    "duration": 481,
    "start_time": "2023-12-02T18:09:34.215Z"
   },
   {
    "duration": 3,
    "start_time": "2023-12-02T18:09:34.698Z"
   },
   {
    "duration": 148,
    "start_time": "2023-12-02T18:09:34.703Z"
   },
   {
    "duration": 4,
    "start_time": "2023-12-02T18:09:34.853Z"
   },
   {
    "duration": 32,
    "start_time": "2023-12-02T18:09:34.859Z"
   },
   {
    "duration": 22,
    "start_time": "2023-12-02T18:09:34.893Z"
   },
   {
    "duration": 97,
    "start_time": "2023-12-02T18:09:34.917Z"
   },
   {
    "duration": 39,
    "start_time": "2023-12-02T18:09:35.016Z"
   },
   {
    "duration": 10,
    "start_time": "2023-12-02T18:09:35.057Z"
   },
   {
    "duration": 17,
    "start_time": "2023-12-02T18:09:35.069Z"
   },
   {
    "duration": 22,
    "start_time": "2023-12-02T18:09:35.087Z"
   },
   {
    "duration": 24,
    "start_time": "2023-12-02T18:09:35.110Z"
   },
   {
    "duration": 616,
    "start_time": "2023-12-02T18:09:35.137Z"
   },
   {
    "duration": 19,
    "start_time": "2023-12-02T18:09:35.755Z"
   },
   {
    "duration": 14,
    "start_time": "2023-12-02T18:09:35.775Z"
   },
   {
    "duration": 20,
    "start_time": "2023-12-02T18:09:35.791Z"
   },
   {
    "duration": 38,
    "start_time": "2023-12-02T18:09:35.813Z"
   },
   {
    "duration": 127,
    "start_time": "2023-12-02T18:09:35.853Z"
   },
   {
    "duration": 5,
    "start_time": "2023-12-02T18:09:35.982Z"
   },
   {
    "duration": 145,
    "start_time": "2023-12-02T18:09:35.988Z"
   },
   {
    "duration": 41,
    "start_time": "2023-12-02T18:09:36.135Z"
   },
   {
    "duration": 203,
    "start_time": "2023-12-02T18:09:36.178Z"
   },
   {
    "duration": 133,
    "start_time": "2023-12-02T18:09:36.382Z"
   },
   {
    "duration": 57,
    "start_time": "2023-12-02T18:09:36.517Z"
   },
   {
    "duration": 62,
    "start_time": "2023-12-02T18:09:36.575Z"
   },
   {
    "duration": 169,
    "start_time": "2023-12-02T18:09:36.639Z"
   },
   {
    "duration": 5,
    "start_time": "2023-12-02T18:09:36.810Z"
   },
   {
    "duration": 114,
    "start_time": "2023-12-02T18:09:36.817Z"
   },
   {
    "duration": 108,
    "start_time": "2023-12-02T18:09:36.932Z"
   },
   {
    "duration": 41,
    "start_time": "2023-12-02T18:11:20.832Z"
   },
   {
    "duration": 32,
    "start_time": "2023-12-02T18:11:38.147Z"
   },
   {
    "duration": 31,
    "start_time": "2023-12-02T18:12:19.983Z"
   },
   {
    "duration": 10,
    "start_time": "2023-12-02T18:15:17.175Z"
   },
   {
    "duration": 31,
    "start_time": "2023-12-02T18:15:25.187Z"
   },
   {
    "duration": 16,
    "start_time": "2023-12-02T18:19:56.993Z"
   },
   {
    "duration": 20,
    "start_time": "2023-12-02T18:20:29.562Z"
   },
   {
    "duration": 18,
    "start_time": "2023-12-02T18:20:35.550Z"
   },
   {
    "duration": 1177,
    "start_time": "2023-12-02T18:20:58.155Z"
   },
   {
    "duration": 609,
    "start_time": "2023-12-02T18:20:59.334Z"
   },
   {
    "duration": 3,
    "start_time": "2023-12-02T18:20:59.945Z"
   },
   {
    "duration": 142,
    "start_time": "2023-12-02T18:20:59.950Z"
   },
   {
    "duration": 4,
    "start_time": "2023-12-02T18:21:00.095Z"
   },
   {
    "duration": 44,
    "start_time": "2023-12-02T18:21:00.101Z"
   },
   {
    "duration": 29,
    "start_time": "2023-12-02T18:21:00.147Z"
   },
   {
    "duration": 97,
    "start_time": "2023-12-02T18:21:00.177Z"
   },
   {
    "duration": 27,
    "start_time": "2023-12-02T18:21:00.276Z"
   },
   {
    "duration": 25,
    "start_time": "2023-12-02T18:21:00.305Z"
   },
   {
    "duration": 7,
    "start_time": "2023-12-02T18:21:00.332Z"
   },
   {
    "duration": 26,
    "start_time": "2023-12-02T18:21:00.340Z"
   },
   {
    "duration": 15,
    "start_time": "2023-12-02T18:21:00.368Z"
   },
   {
    "duration": 622,
    "start_time": "2023-12-02T18:21:00.386Z"
   },
   {
    "duration": 24,
    "start_time": "2023-12-02T18:21:01.010Z"
   },
   {
    "duration": 36,
    "start_time": "2023-12-02T18:21:01.035Z"
   },
   {
    "duration": 122,
    "start_time": "2023-12-02T18:21:01.073Z"
   },
   {
    "duration": 81,
    "start_time": "2023-12-02T18:21:01.197Z"
   },
   {
    "duration": 178,
    "start_time": "2023-12-02T18:21:01.280Z"
   },
   {
    "duration": 5,
    "start_time": "2023-12-02T18:21:01.460Z"
   },
   {
    "duration": 292,
    "start_time": "2023-12-02T18:21:01.467Z"
   },
   {
    "duration": 46,
    "start_time": "2023-12-02T18:21:01.762Z"
   },
   {
    "duration": 26,
    "start_time": "2023-12-02T18:21:01.810Z"
   },
   {
    "duration": 209,
    "start_time": "2023-12-02T18:21:01.838Z"
   },
   {
    "duration": 156,
    "start_time": "2023-12-02T18:21:02.049Z"
   },
   {
    "duration": 58,
    "start_time": "2023-12-02T18:21:02.207Z"
   },
   {
    "duration": 12,
    "start_time": "2023-12-02T18:21:02.267Z"
   },
   {
    "duration": 172,
    "start_time": "2023-12-02T18:21:02.332Z"
   },
   {
    "duration": 6,
    "start_time": "2023-12-02T18:21:02.506Z"
   },
   {
    "duration": 242,
    "start_time": "2023-12-02T18:21:02.514Z"
   },
   {
    "duration": 119,
    "start_time": "2023-12-02T18:21:02.757Z"
   },
   {
    "duration": 69,
    "start_time": "2023-12-02T18:23:03.021Z"
   },
   {
    "duration": 149,
    "start_time": "2023-12-02T18:24:52.816Z"
   },
   {
    "duration": 543,
    "start_time": "2023-12-02T18:25:46.339Z"
   },
   {
    "duration": 161,
    "start_time": "2023-12-02T18:26:08.360Z"
   },
   {
    "duration": 1794,
    "start_time": "2023-12-02T19:01:40.341Z"
   },
   {
    "duration": 54,
    "start_time": "2023-12-02T19:02:24.668Z"
   },
   {
    "duration": 1312,
    "start_time": "2023-12-02T19:02:47.846Z"
   },
   {
    "duration": 62,
    "start_time": "2023-12-02T19:03:07.861Z"
   },
   {
    "duration": 60,
    "start_time": "2023-12-02T19:03:22.159Z"
   },
   {
    "duration": 61,
    "start_time": "2023-12-02T19:03:46.298Z"
   },
   {
    "duration": 61,
    "start_time": "2023-12-02T19:04:03.730Z"
   },
   {
    "duration": 57,
    "start_time": "2023-12-02T19:04:54.767Z"
   },
   {
    "duration": 56,
    "start_time": "2023-12-02T19:05:32.919Z"
   },
   {
    "duration": 59,
    "start_time": "2023-12-02T19:06:47.571Z"
   },
   {
    "duration": 59,
    "start_time": "2023-12-02T19:06:56.301Z"
   },
   {
    "duration": 53,
    "start_time": "2023-12-02T19:07:12.829Z"
   },
   {
    "duration": 70,
    "start_time": "2023-12-02T19:07:28.422Z"
   },
   {
    "duration": 55,
    "start_time": "2023-12-02T19:09:38.201Z"
   },
   {
    "duration": 68,
    "start_time": "2023-12-02T19:10:17.247Z"
   },
   {
    "duration": 66,
    "start_time": "2023-12-02T19:10:34.746Z"
   },
   {
    "duration": 65,
    "start_time": "2023-12-02T19:10:41.645Z"
   },
   {
    "duration": 64,
    "start_time": "2023-12-02T19:11:16.359Z"
   },
   {
    "duration": 1334,
    "start_time": "2023-12-02T19:11:24.027Z"
   },
   {
    "duration": 60,
    "start_time": "2023-12-02T19:11:43.301Z"
   },
   {
    "duration": 164,
    "start_time": "2023-12-02T19:13:00.965Z"
   },
   {
    "duration": 174,
    "start_time": "2023-12-02T19:13:10.647Z"
   },
   {
    "duration": 157,
    "start_time": "2023-12-02T19:13:24.144Z"
   },
   {
    "duration": 1791,
    "start_time": "2023-12-02T19:13:35.576Z"
   },
   {
    "duration": 156,
    "start_time": "2023-12-02T19:13:43.052Z"
   },
   {
    "duration": 29,
    "start_time": "2023-12-02T19:14:07.314Z"
   },
   {
    "duration": 148,
    "start_time": "2023-12-02T19:14:25.745Z"
   },
   {
    "duration": 155,
    "start_time": "2023-12-02T19:15:04.294Z"
   },
   {
    "duration": 40,
    "start_time": "2023-12-02T19:16:56.935Z"
   },
   {
    "duration": 1810,
    "start_time": "2023-12-02T19:17:32.068Z"
   },
   {
    "duration": 152,
    "start_time": "2023-12-02T19:17:48.745Z"
   },
   {
    "duration": 64,
    "start_time": "2023-12-02T19:18:17.936Z"
   },
   {
    "duration": 65,
    "start_time": "2023-12-02T19:18:29.763Z"
   },
   {
    "duration": 1274,
    "start_time": "2023-12-02T19:46:22.041Z"
   },
   {
    "duration": 593,
    "start_time": "2023-12-02T19:46:23.317Z"
   },
   {
    "duration": 4,
    "start_time": "2023-12-02T19:46:23.911Z"
   },
   {
    "duration": 134,
    "start_time": "2023-12-02T19:46:23.916Z"
   },
   {
    "duration": 4,
    "start_time": "2023-12-02T19:46:24.052Z"
   },
   {
    "duration": 32,
    "start_time": "2023-12-02T19:46:24.057Z"
   },
   {
    "duration": 22,
    "start_time": "2023-12-02T19:46:24.090Z"
   },
   {
    "duration": 82,
    "start_time": "2023-12-02T19:46:24.131Z"
   },
   {
    "duration": 39,
    "start_time": "2023-12-02T19:46:24.214Z"
   },
   {
    "duration": 9,
    "start_time": "2023-12-02T19:46:24.255Z"
   },
   {
    "duration": 6,
    "start_time": "2023-12-02T19:46:24.266Z"
   },
   {
    "duration": 20,
    "start_time": "2023-12-02T19:46:24.273Z"
   },
   {
    "duration": 5,
    "start_time": "2023-12-02T19:46:24.295Z"
   },
   {
    "duration": 627,
    "start_time": "2023-12-02T19:46:24.303Z"
   },
   {
    "duration": 16,
    "start_time": "2023-12-02T19:46:24.932Z"
   },
   {
    "duration": 4,
    "start_time": "2023-12-02T19:46:24.950Z"
   },
   {
    "duration": 14,
    "start_time": "2023-12-02T19:46:24.956Z"
   },
   {
    "duration": 29,
    "start_time": "2023-12-02T19:46:24.972Z"
   },
   {
    "duration": 145,
    "start_time": "2023-12-02T19:46:25.003Z"
   },
   {
    "duration": 6,
    "start_time": "2023-12-02T19:46:25.151Z"
   },
   {
    "duration": 151,
    "start_time": "2023-12-02T19:46:25.158Z"
   },
   {
    "duration": 50,
    "start_time": "2023-12-02T19:46:25.311Z"
   },
   {
    "duration": 10,
    "start_time": "2023-12-02T19:46:25.363Z"
   },
   {
    "duration": 217,
    "start_time": "2023-12-02T19:46:25.375Z"
   },
   {
    "duration": 155,
    "start_time": "2023-12-02T19:46:25.594Z"
   },
   {
    "duration": 100,
    "start_time": "2023-12-02T19:46:25.751Z"
   },
   {
    "duration": 13,
    "start_time": "2023-12-02T19:46:25.853Z"
   },
   {
    "duration": 207,
    "start_time": "2023-12-02T19:46:25.868Z"
   },
   {
    "duration": 6,
    "start_time": "2023-12-02T19:46:26.076Z"
   },
   {
    "duration": 97,
    "start_time": "2023-12-02T19:46:26.084Z"
   },
   {
    "duration": 159,
    "start_time": "2023-12-02T19:46:26.183Z"
   },
   {
    "duration": 53,
    "start_time": "2023-12-02T19:47:42.451Z"
   },
   {
    "duration": 57,
    "start_time": "2023-12-02T19:48:25.492Z"
   },
   {
    "duration": 61,
    "start_time": "2023-12-02T19:48:48.718Z"
   },
   {
    "duration": 59,
    "start_time": "2023-12-02T19:49:03.749Z"
   },
   {
    "duration": 151,
    "start_time": "2023-12-02T19:50:23.363Z"
   },
   {
    "duration": 155,
    "start_time": "2023-12-02T19:51:25.047Z"
   },
   {
    "duration": 148,
    "start_time": "2023-12-02T19:51:41.982Z"
   },
   {
    "duration": 161,
    "start_time": "2023-12-02T19:53:58.021Z"
   },
   {
    "duration": 148,
    "start_time": "2023-12-02T19:54:22.206Z"
   },
   {
    "duration": 171,
    "start_time": "2023-12-02T19:55:17.580Z"
   },
   {
    "duration": 149,
    "start_time": "2023-12-02T20:16:48.066Z"
   },
   {
    "duration": 149,
    "start_time": "2023-12-02T20:24:47.257Z"
   },
   {
    "duration": 159,
    "start_time": "2023-12-02T20:47:02.512Z"
   },
   {
    "duration": 28,
    "start_time": "2023-12-02T20:49:23.701Z"
   },
   {
    "duration": 36,
    "start_time": "2023-12-02T20:50:07.244Z"
   },
   {
    "duration": 1232,
    "start_time": "2023-12-02T20:50:21.990Z"
   },
   {
    "duration": 519,
    "start_time": "2023-12-02T20:50:23.224Z"
   },
   {
    "duration": 4,
    "start_time": "2023-12-02T20:50:23.745Z"
   },
   {
    "duration": 156,
    "start_time": "2023-12-02T20:50:23.750Z"
   },
   {
    "duration": 22,
    "start_time": "2023-12-02T20:50:23.908Z"
   },
   {
    "duration": 20,
    "start_time": "2023-12-02T20:50:23.932Z"
   },
   {
    "duration": 23,
    "start_time": "2023-12-02T20:50:23.954Z"
   },
   {
    "duration": 120,
    "start_time": "2023-12-02T20:50:23.978Z"
   },
   {
    "duration": 38,
    "start_time": "2023-12-02T20:50:24.100Z"
   },
   {
    "duration": 10,
    "start_time": "2023-12-02T20:50:24.140Z"
   },
   {
    "duration": 9,
    "start_time": "2023-12-02T20:50:24.151Z"
   },
   {
    "duration": 20,
    "start_time": "2023-12-02T20:50:24.161Z"
   },
   {
    "duration": 5,
    "start_time": "2023-12-02T20:50:24.182Z"
   },
   {
    "duration": 649,
    "start_time": "2023-12-02T20:50:24.190Z"
   },
   {
    "duration": 16,
    "start_time": "2023-12-02T20:50:24.841Z"
   },
   {
    "duration": 4,
    "start_time": "2023-12-02T20:50:24.858Z"
   },
   {
    "duration": 30,
    "start_time": "2023-12-02T20:50:24.864Z"
   },
   {
    "duration": 53,
    "start_time": "2023-12-02T20:50:24.895Z"
   },
   {
    "duration": 128,
    "start_time": "2023-12-02T20:50:24.949Z"
   },
   {
    "duration": 5,
    "start_time": "2023-12-02T20:50:25.079Z"
   },
   {
    "duration": 181,
    "start_time": "2023-12-02T20:50:25.086Z"
   },
   {
    "duration": 40,
    "start_time": "2023-12-02T20:50:25.269Z"
   },
   {
    "duration": 25,
    "start_time": "2023-12-02T20:50:25.311Z"
   },
   {
    "duration": 196,
    "start_time": "2023-12-02T20:50:25.338Z"
   },
   {
    "duration": 150,
    "start_time": "2023-12-02T20:50:25.535Z"
   },
   {
    "duration": 69,
    "start_time": "2023-12-02T20:50:25.686Z"
   },
   {
    "duration": 13,
    "start_time": "2023-12-02T20:50:25.757Z"
   },
   {
    "duration": 214,
    "start_time": "2023-12-02T20:50:25.771Z"
   },
   {
    "duration": 29,
    "start_time": "2023-12-02T20:50:25.987Z"
   },
   {
    "duration": 170,
    "start_time": "2023-12-02T20:50:26.017Z"
   },
   {
    "duration": 5,
    "start_time": "2023-12-02T20:50:26.189Z"
   },
   {
    "duration": 92,
    "start_time": "2023-12-02T20:50:26.195Z"
   },
   {
    "duration": 36,
    "start_time": "2023-12-02T20:51:14.266Z"
   },
   {
    "duration": 35,
    "start_time": "2023-12-02T20:51:33.161Z"
   },
   {
    "duration": 32,
    "start_time": "2023-12-02T20:52:07.213Z"
   },
   {
    "duration": 9,
    "start_time": "2023-12-02T20:52:10.727Z"
   },
   {
    "duration": 9,
    "start_time": "2023-12-02T20:52:32.065Z"
   },
   {
    "duration": 12,
    "start_time": "2023-12-02T20:52:56.487Z"
   },
   {
    "duration": 5,
    "start_time": "2023-12-02T20:53:13.751Z"
   },
   {
    "duration": 6,
    "start_time": "2023-12-02T21:06:52.471Z"
   },
   {
    "duration": 132,
    "start_time": "2023-12-02T21:06:52.483Z"
   },
   {
    "duration": 91,
    "start_time": "2023-12-02T21:09:41.931Z"
   },
   {
    "duration": 83,
    "start_time": "2023-12-02T21:12:40.338Z"
   },
   {
    "duration": 149,
    "start_time": "2023-12-02T21:20:06.005Z"
   },
   {
    "duration": 86,
    "start_time": "2023-12-02T21:20:20.529Z"
   },
   {
    "duration": 31,
    "start_time": "2023-12-02T21:21:01.353Z"
   },
   {
    "duration": 9,
    "start_time": "2023-12-02T21:21:34.930Z"
   },
   {
    "duration": 20,
    "start_time": "2023-12-02T21:21:55.747Z"
   },
   {
    "duration": 9,
    "start_time": "2023-12-02T21:25:20.615Z"
   },
   {
    "duration": 91,
    "start_time": "2023-12-02T21:25:41.997Z"
   },
   {
    "duration": 1294,
    "start_time": "2023-12-02T21:33:24.802Z"
   },
   {
    "duration": 595,
    "start_time": "2023-12-02T21:33:26.099Z"
   },
   {
    "duration": 3,
    "start_time": "2023-12-02T21:33:26.696Z"
   },
   {
    "duration": 150,
    "start_time": "2023-12-02T21:33:26.701Z"
   },
   {
    "duration": 5,
    "start_time": "2023-12-02T21:33:26.853Z"
   },
   {
    "duration": 25,
    "start_time": "2023-12-02T21:33:26.860Z"
   },
   {
    "duration": 56,
    "start_time": "2023-12-02T21:33:26.886Z"
   },
   {
    "duration": 104,
    "start_time": "2023-12-02T21:33:26.944Z"
   },
   {
    "duration": 28,
    "start_time": "2023-12-02T21:33:27.050Z"
   },
   {
    "duration": 10,
    "start_time": "2023-12-02T21:33:27.080Z"
   },
   {
    "duration": 6,
    "start_time": "2023-12-02T21:33:27.092Z"
   },
   {
    "duration": 49,
    "start_time": "2023-12-02T21:33:27.099Z"
   },
   {
    "duration": 4,
    "start_time": "2023-12-02T21:33:27.150Z"
   },
   {
    "duration": 632,
    "start_time": "2023-12-02T21:33:27.155Z"
   },
   {
    "duration": 17,
    "start_time": "2023-12-02T21:33:27.789Z"
   },
   {
    "duration": 58,
    "start_time": "2023-12-02T21:33:27.808Z"
   },
   {
    "duration": 27,
    "start_time": "2023-12-02T21:33:27.868Z"
   },
   {
    "duration": 30,
    "start_time": "2023-12-02T21:33:27.897Z"
   },
   {
    "duration": 131,
    "start_time": "2023-12-02T21:33:27.929Z"
   },
   {
    "duration": 6,
    "start_time": "2023-12-02T21:33:28.062Z"
   },
   {
    "duration": 156,
    "start_time": "2023-12-02T21:33:28.069Z"
   },
   {
    "duration": 43,
    "start_time": "2023-12-02T21:33:28.230Z"
   },
   {
    "duration": 10,
    "start_time": "2023-12-02T21:33:28.275Z"
   },
   {
    "duration": 210,
    "start_time": "2023-12-02T21:33:28.287Z"
   },
   {
    "duration": 137,
    "start_time": "2023-12-02T21:33:28.498Z"
   },
   {
    "duration": 105,
    "start_time": "2023-12-02T21:33:28.637Z"
   },
   {
    "duration": 13,
    "start_time": "2023-12-02T21:33:28.744Z"
   },
   {
    "duration": 202,
    "start_time": "2023-12-02T21:33:28.760Z"
   },
   {
    "duration": 27,
    "start_time": "2023-12-02T21:33:28.964Z"
   },
   {
    "duration": 5,
    "start_time": "2023-12-02T21:33:28.992Z"
   },
   {
    "duration": 180,
    "start_time": "2023-12-02T21:33:28.998Z"
   },
   {
    "duration": 6,
    "start_time": "2023-12-02T21:33:29.180Z"
   },
   {
    "duration": 97,
    "start_time": "2023-12-02T21:33:29.187Z"
   },
   {
    "duration": 89,
    "start_time": "2023-12-02T21:33:29.285Z"
   },
   {
    "duration": 92,
    "start_time": "2023-12-02T21:33:29.376Z"
   },
   {
    "duration": 8,
    "start_time": "2023-12-02T21:33:29.470Z"
   },
   {
    "duration": 111,
    "start_time": "2023-12-02T21:33:29.480Z"
   },
   {
    "duration": 84,
    "start_time": "2023-12-02T22:02:10.882Z"
   },
   {
    "duration": 157,
    "start_time": "2023-12-02T22:02:35.884Z"
   },
   {
    "duration": 336,
    "start_time": "2023-12-02T22:06:00.312Z"
   },
   {
    "duration": 324,
    "start_time": "2023-12-02T22:06:18.083Z"
   },
   {
    "duration": 322,
    "start_time": "2023-12-02T22:06:56.088Z"
   },
   {
    "duration": 332,
    "start_time": "2023-12-02T22:07:07.558Z"
   },
   {
    "duration": 311,
    "start_time": "2023-12-02T22:07:21.856Z"
   },
   {
    "duration": 1149,
    "start_time": "2023-12-02T22:45:09.575Z"
   },
   {
    "duration": 697,
    "start_time": "2023-12-02T22:45:10.726Z"
   },
   {
    "duration": 4,
    "start_time": "2023-12-02T22:45:11.424Z"
   },
   {
    "duration": 140,
    "start_time": "2023-12-02T22:45:11.429Z"
   },
   {
    "duration": 4,
    "start_time": "2023-12-02T22:45:11.571Z"
   },
   {
    "duration": 22,
    "start_time": "2023-12-02T22:45:11.576Z"
   },
   {
    "duration": 51,
    "start_time": "2023-12-02T22:45:11.599Z"
   },
   {
    "duration": 95,
    "start_time": "2023-12-02T22:45:11.651Z"
   },
   {
    "duration": 27,
    "start_time": "2023-12-02T22:45:11.747Z"
   },
   {
    "duration": 10,
    "start_time": "2023-12-02T22:45:11.776Z"
   },
   {
    "duration": 7,
    "start_time": "2023-12-02T22:45:11.787Z"
   },
   {
    "duration": 51,
    "start_time": "2023-12-02T22:45:11.796Z"
   },
   {
    "duration": 6,
    "start_time": "2023-12-02T22:45:11.849Z"
   },
   {
    "duration": 610,
    "start_time": "2023-12-02T22:45:11.856Z"
   },
   {
    "duration": 17,
    "start_time": "2023-12-02T22:45:12.468Z"
   },
   {
    "duration": 4,
    "start_time": "2023-12-02T22:45:12.486Z"
   },
   {
    "duration": 20,
    "start_time": "2023-12-02T22:45:12.491Z"
   },
   {
    "duration": 29,
    "start_time": "2023-12-02T22:45:12.530Z"
   },
   {
    "duration": 123,
    "start_time": "2023-12-02T22:45:12.560Z"
   },
   {
    "duration": 5,
    "start_time": "2023-12-02T22:45:12.685Z"
   },
   {
    "duration": 147,
    "start_time": "2023-12-02T22:45:12.692Z"
   },
   {
    "duration": 41,
    "start_time": "2023-12-02T22:45:12.841Z"
   },
   {
    "duration": 10,
    "start_time": "2023-12-02T22:45:12.884Z"
   },
   {
    "duration": 210,
    "start_time": "2023-12-02T22:45:12.895Z"
   },
   {
    "duration": 149,
    "start_time": "2023-12-02T22:45:13.106Z"
   },
   {
    "duration": 87,
    "start_time": "2023-12-02T22:45:13.257Z"
   },
   {
    "duration": 13,
    "start_time": "2023-12-02T22:45:13.346Z"
   },
   {
    "duration": 194,
    "start_time": "2023-12-02T22:45:13.362Z"
   },
   {
    "duration": 30,
    "start_time": "2023-12-02T22:45:13.558Z"
   },
   {
    "duration": 6,
    "start_time": "2023-12-02T22:45:13.590Z"
   },
   {
    "duration": 172,
    "start_time": "2023-12-02T22:45:13.598Z"
   },
   {
    "duration": 7,
    "start_time": "2023-12-02T22:45:13.771Z"
   },
   {
    "duration": 91,
    "start_time": "2023-12-02T22:45:13.780Z"
   },
   {
    "duration": 94,
    "start_time": "2023-12-02T22:45:13.873Z"
   },
   {
    "duration": 95,
    "start_time": "2023-12-02T22:45:13.969Z"
   },
   {
    "duration": 8,
    "start_time": "2023-12-02T22:45:14.066Z"
   },
   {
    "duration": 103,
    "start_time": "2023-12-02T22:45:14.076Z"
   },
   {
    "duration": 338,
    "start_time": "2023-12-02T22:45:14.180Z"
   },
   {
    "duration": 1115,
    "start_time": "2023-12-02T22:57:54.403Z"
   },
   {
    "duration": 448,
    "start_time": "2023-12-02T22:57:55.520Z"
   },
   {
    "duration": 3,
    "start_time": "2023-12-02T22:57:55.969Z"
   },
   {
    "duration": 114,
    "start_time": "2023-12-02T22:57:55.974Z"
   },
   {
    "duration": 3,
    "start_time": "2023-12-02T22:57:56.090Z"
   },
   {
    "duration": 28,
    "start_time": "2023-12-02T22:57:56.095Z"
   },
   {
    "duration": 19,
    "start_time": "2023-12-02T22:57:56.125Z"
   },
   {
    "duration": 77,
    "start_time": "2023-12-02T22:57:56.145Z"
   },
   {
    "duration": 21,
    "start_time": "2023-12-02T22:57:56.223Z"
   },
   {
    "duration": 8,
    "start_time": "2023-12-02T22:57:56.245Z"
   },
   {
    "duration": 5,
    "start_time": "2023-12-02T22:57:56.254Z"
   },
   {
    "duration": 17,
    "start_time": "2023-12-02T22:57:56.260Z"
   },
   {
    "duration": 39,
    "start_time": "2023-12-02T22:57:56.279Z"
   },
   {
    "duration": 497,
    "start_time": "2023-12-02T22:57:56.321Z"
   },
   {
    "duration": 15,
    "start_time": "2023-12-02T22:57:56.820Z"
   },
   {
    "duration": 4,
    "start_time": "2023-12-02T22:57:56.836Z"
   },
   {
    "duration": 12,
    "start_time": "2023-12-02T22:57:56.841Z"
   },
   {
    "duration": 24,
    "start_time": "2023-12-02T22:57:56.854Z"
   },
   {
    "duration": 123,
    "start_time": "2023-12-02T22:57:56.879Z"
   },
   {
    "duration": 12,
    "start_time": "2023-12-02T22:57:57.003Z"
   },
   {
    "duration": 125,
    "start_time": "2023-12-02T22:57:57.016Z"
   },
   {
    "duration": 36,
    "start_time": "2023-12-02T22:57:57.142Z"
   },
   {
    "duration": 8,
    "start_time": "2023-12-02T22:57:57.180Z"
   },
   {
    "duration": 161,
    "start_time": "2023-12-02T22:57:57.190Z"
   },
   {
    "duration": 200,
    "start_time": "2023-12-02T22:57:57.352Z"
   },
   {
    "duration": 70,
    "start_time": "2023-12-02T22:57:57.553Z"
   },
   {
    "duration": 10,
    "start_time": "2023-12-02T22:57:57.624Z"
   },
   {
    "duration": 162,
    "start_time": "2023-12-02T22:57:57.636Z"
   },
   {
    "duration": 24,
    "start_time": "2023-12-02T22:57:57.799Z"
   },
   {
    "duration": 3,
    "start_time": "2023-12-02T22:57:57.825Z"
   },
   {
    "duration": 133,
    "start_time": "2023-12-02T22:57:57.829Z"
   },
   {
    "duration": 5,
    "start_time": "2023-12-02T22:57:57.963Z"
   },
   {
    "duration": 75,
    "start_time": "2023-12-02T22:57:57.969Z"
   },
   {
    "duration": 58,
    "start_time": "2023-12-02T22:57:58.046Z"
   },
   {
    "duration": 67,
    "start_time": "2023-12-02T22:57:58.106Z"
   },
   {
    "duration": 6,
    "start_time": "2023-12-02T22:57:58.174Z"
   },
   {
    "duration": 78,
    "start_time": "2023-12-02T22:57:58.181Z"
   },
   {
    "duration": 284,
    "start_time": "2023-12-02T22:57:58.260Z"
   },
   {
    "duration": 1081,
    "start_time": "2023-12-02T23:30:49.467Z"
   },
   {
    "duration": 489,
    "start_time": "2023-12-02T23:30:50.549Z"
   },
   {
    "duration": 3,
    "start_time": "2023-12-02T23:30:51.039Z"
   },
   {
    "duration": 123,
    "start_time": "2023-12-02T23:30:51.043Z"
   },
   {
    "duration": 4,
    "start_time": "2023-12-02T23:30:51.168Z"
   },
   {
    "duration": 18,
    "start_time": "2023-12-02T23:30:51.174Z"
   },
   {
    "duration": 39,
    "start_time": "2023-12-02T23:30:51.193Z"
   },
   {
    "duration": 83,
    "start_time": "2023-12-02T23:30:51.233Z"
   },
   {
    "duration": 23,
    "start_time": "2023-12-02T23:30:51.317Z"
   },
   {
    "duration": 8,
    "start_time": "2023-12-02T23:30:51.341Z"
   },
   {
    "duration": 5,
    "start_time": "2023-12-02T23:30:51.350Z"
   },
   {
    "duration": 16,
    "start_time": "2023-12-02T23:30:51.356Z"
   },
   {
    "duration": 4,
    "start_time": "2023-12-02T23:30:51.373Z"
   },
   {
    "duration": 513,
    "start_time": "2023-12-02T23:30:51.380Z"
   },
   {
    "duration": 21,
    "start_time": "2023-12-02T23:30:51.894Z"
   },
   {
    "duration": 4,
    "start_time": "2023-12-02T23:30:51.916Z"
   },
   {
    "duration": 13,
    "start_time": "2023-12-02T23:30:51.922Z"
   },
   {
    "duration": 23,
    "start_time": "2023-12-02T23:30:51.936Z"
   },
   {
    "duration": 113,
    "start_time": "2023-12-02T23:30:51.960Z"
   },
   {
    "duration": 5,
    "start_time": "2023-12-02T23:30:52.074Z"
   },
   {
    "duration": 140,
    "start_time": "2023-12-02T23:30:52.081Z"
   },
   {
    "duration": 36,
    "start_time": "2023-12-02T23:30:52.222Z"
   },
   {
    "duration": 8,
    "start_time": "2023-12-02T23:30:52.259Z"
   },
   {
    "duration": 161,
    "start_time": "2023-12-02T23:30:52.268Z"
   },
   {
    "duration": 198,
    "start_time": "2023-12-02T23:30:52.430Z"
   },
   {
    "duration": 86,
    "start_time": "2023-12-02T23:30:52.629Z"
   },
   {
    "duration": 11,
    "start_time": "2023-12-02T23:30:52.716Z"
   },
   {
    "duration": 155,
    "start_time": "2023-12-02T23:30:52.728Z"
   },
   {
    "duration": 33,
    "start_time": "2023-12-02T23:30:52.885Z"
   },
   {
    "duration": 3,
    "start_time": "2023-12-02T23:30:52.920Z"
   },
   {
    "duration": 133,
    "start_time": "2023-12-02T23:30:52.925Z"
   },
   {
    "duration": 5,
    "start_time": "2023-12-02T23:30:53.059Z"
   },
   {
    "duration": 76,
    "start_time": "2023-12-02T23:30:53.065Z"
   },
   {
    "duration": 74,
    "start_time": "2023-12-02T23:30:53.142Z"
   },
   {
    "duration": 61,
    "start_time": "2023-12-02T23:30:53.217Z"
   },
   {
    "duration": 6,
    "start_time": "2023-12-02T23:30:53.279Z"
   },
   {
    "duration": 84,
    "start_time": "2023-12-02T23:30:53.286Z"
   },
   {
    "duration": 268,
    "start_time": "2023-12-02T23:30:53.371Z"
   },
   {
    "duration": 95,
    "start_time": "2023-12-03T15:36:23.469Z"
   },
   {
    "duration": 77,
    "start_time": "2023-12-03T15:37:56.645Z"
   },
   {
    "duration": 1211,
    "start_time": "2023-12-03T15:38:02.170Z"
   },
   {
    "duration": 646,
    "start_time": "2023-12-03T15:38:03.382Z"
   },
   {
    "duration": 4,
    "start_time": "2023-12-03T15:38:04.029Z"
   },
   {
    "duration": 116,
    "start_time": "2023-12-03T15:38:04.034Z"
   },
   {
    "duration": 74,
    "start_time": "2023-12-03T15:38:04.151Z"
   },
   {
    "duration": 0,
    "start_time": "2023-12-03T15:38:04.227Z"
   },
   {
    "duration": 0,
    "start_time": "2023-12-03T15:38:04.228Z"
   },
   {
    "duration": 0,
    "start_time": "2023-12-03T15:38:04.229Z"
   },
   {
    "duration": 0,
    "start_time": "2023-12-03T15:38:04.230Z"
   },
   {
    "duration": 0,
    "start_time": "2023-12-03T15:38:04.231Z"
   },
   {
    "duration": 0,
    "start_time": "2023-12-03T15:38:04.231Z"
   },
   {
    "duration": 0,
    "start_time": "2023-12-03T15:38:04.232Z"
   },
   {
    "duration": 0,
    "start_time": "2023-12-03T15:38:04.233Z"
   },
   {
    "duration": 0,
    "start_time": "2023-12-03T15:38:04.234Z"
   },
   {
    "duration": 0,
    "start_time": "2023-12-03T15:38:04.234Z"
   },
   {
    "duration": 0,
    "start_time": "2023-12-03T15:38:04.235Z"
   },
   {
    "duration": 0,
    "start_time": "2023-12-03T15:38:04.236Z"
   },
   {
    "duration": 0,
    "start_time": "2023-12-03T15:38:04.237Z"
   },
   {
    "duration": 0,
    "start_time": "2023-12-03T15:38:04.238Z"
   },
   {
    "duration": 0,
    "start_time": "2023-12-03T15:38:04.239Z"
   },
   {
    "duration": 0,
    "start_time": "2023-12-03T15:38:04.240Z"
   },
   {
    "duration": 0,
    "start_time": "2023-12-03T15:38:04.241Z"
   },
   {
    "duration": 0,
    "start_time": "2023-12-03T15:38:04.242Z"
   },
   {
    "duration": 0,
    "start_time": "2023-12-03T15:38:04.243Z"
   },
   {
    "duration": 0,
    "start_time": "2023-12-03T15:38:04.244Z"
   },
   {
    "duration": 0,
    "start_time": "2023-12-03T15:38:04.245Z"
   },
   {
    "duration": 0,
    "start_time": "2023-12-03T15:38:04.246Z"
   },
   {
    "duration": 0,
    "start_time": "2023-12-03T15:38:04.247Z"
   },
   {
    "duration": 0,
    "start_time": "2023-12-03T15:38:04.247Z"
   },
   {
    "duration": 0,
    "start_time": "2023-12-03T15:38:04.249Z"
   },
   {
    "duration": 0,
    "start_time": "2023-12-03T15:38:04.249Z"
   },
   {
    "duration": 0,
    "start_time": "2023-12-03T15:38:04.251Z"
   },
   {
    "duration": 0,
    "start_time": "2023-12-03T15:38:04.253Z"
   },
   {
    "duration": 0,
    "start_time": "2023-12-03T15:38:04.254Z"
   },
   {
    "duration": 0,
    "start_time": "2023-12-03T15:38:04.255Z"
   },
   {
    "duration": 0,
    "start_time": "2023-12-03T15:38:04.256Z"
   },
   {
    "duration": 0,
    "start_time": "2023-12-03T15:38:04.257Z"
   },
   {
    "duration": 0,
    "start_time": "2023-12-03T15:38:04.258Z"
   },
   {
    "duration": 74,
    "start_time": "2023-12-03T15:39:35.086Z"
   },
   {
    "duration": 5,
    "start_time": "2023-12-03T15:39:50.013Z"
   },
   {
    "duration": 1074,
    "start_time": "2023-12-03T15:39:56.848Z"
   },
   {
    "duration": 848,
    "start_time": "2023-12-03T15:39:57.923Z"
   },
   {
    "duration": 3,
    "start_time": "2023-12-03T15:39:58.775Z"
   },
   {
    "duration": 119,
    "start_time": "2023-12-03T15:39:58.779Z"
   },
   {
    "duration": 17,
    "start_time": "2023-12-03T15:39:58.899Z"
   },
   {
    "duration": 17,
    "start_time": "2023-12-03T15:39:58.917Z"
   },
   {
    "duration": 21,
    "start_time": "2023-12-03T15:39:58.936Z"
   },
   {
    "duration": 84,
    "start_time": "2023-12-03T15:39:58.958Z"
   },
   {
    "duration": 22,
    "start_time": "2023-12-03T15:39:59.045Z"
   },
   {
    "duration": 9,
    "start_time": "2023-12-03T15:39:59.068Z"
   },
   {
    "duration": 5,
    "start_time": "2023-12-03T15:39:59.079Z"
   },
   {
    "duration": 39,
    "start_time": "2023-12-03T15:39:59.085Z"
   },
   {
    "duration": 5,
    "start_time": "2023-12-03T15:39:59.125Z"
   },
   {
    "duration": 528,
    "start_time": "2023-12-03T15:39:59.131Z"
   },
   {
    "duration": 14,
    "start_time": "2023-12-03T15:39:59.661Z"
   },
   {
    "duration": 3,
    "start_time": "2023-12-03T15:39:59.676Z"
   },
   {
    "duration": 13,
    "start_time": "2023-12-03T15:39:59.680Z"
   },
   {
    "duration": 40,
    "start_time": "2023-12-03T15:39:59.694Z"
   },
   {
    "duration": 118,
    "start_time": "2023-12-03T15:39:59.735Z"
   },
   {
    "duration": 4,
    "start_time": "2023-12-03T15:39:59.855Z"
   },
   {
    "duration": 128,
    "start_time": "2023-12-03T15:39:59.860Z"
   },
   {
    "duration": 46,
    "start_time": "2023-12-03T15:39:59.990Z"
   },
   {
    "duration": 10,
    "start_time": "2023-12-03T15:40:00.037Z"
   },
   {
    "duration": 179,
    "start_time": "2023-12-03T15:40:00.048Z"
   },
   {
    "duration": 144,
    "start_time": "2023-12-03T15:40:00.229Z"
   },
   {
    "duration": 64,
    "start_time": "2023-12-03T15:40:00.375Z"
   },
   {
    "duration": 11,
    "start_time": "2023-12-03T15:40:00.442Z"
   },
   {
    "duration": 194,
    "start_time": "2023-12-03T15:40:00.454Z"
   },
   {
    "duration": 24,
    "start_time": "2023-12-03T15:40:00.650Z"
   },
   {
    "duration": 9,
    "start_time": "2023-12-03T15:40:00.675Z"
   },
   {
    "duration": 169,
    "start_time": "2023-12-03T15:40:00.686Z"
   },
   {
    "duration": 5,
    "start_time": "2023-12-03T15:40:00.856Z"
   },
   {
    "duration": 86,
    "start_time": "2023-12-03T15:40:00.862Z"
   },
   {
    "duration": 68,
    "start_time": "2023-12-03T15:40:00.949Z"
   },
   {
    "duration": 73,
    "start_time": "2023-12-03T15:40:01.018Z"
   },
   {
    "duration": 7,
    "start_time": "2023-12-03T15:40:01.093Z"
   },
   {
    "duration": 97,
    "start_time": "2023-12-03T15:40:01.101Z"
   },
   {
    "duration": 282,
    "start_time": "2023-12-03T15:40:01.199Z"
   },
   {
    "duration": 1372,
    "start_time": "2023-12-03T17:36:37.939Z"
   },
   {
    "duration": 484,
    "start_time": "2023-12-03T17:36:39.312Z"
   },
   {
    "duration": 3,
    "start_time": "2023-12-03T17:36:39.798Z"
   },
   {
    "duration": 126,
    "start_time": "2023-12-03T17:36:39.802Z"
   },
   {
    "duration": 4,
    "start_time": "2023-12-03T17:36:39.929Z"
   },
   {
    "duration": 48,
    "start_time": "2023-12-03T17:36:39.935Z"
   },
   {
    "duration": 24,
    "start_time": "2023-12-03T17:36:39.984Z"
   },
   {
    "duration": 90,
    "start_time": "2023-12-03T17:36:40.010Z"
   },
   {
    "duration": 24,
    "start_time": "2023-12-03T17:36:40.102Z"
   },
   {
    "duration": 10,
    "start_time": "2023-12-03T17:36:40.129Z"
   },
   {
    "duration": 6,
    "start_time": "2023-12-03T17:36:40.140Z"
   },
   {
    "duration": 18,
    "start_time": "2023-12-03T17:36:40.170Z"
   },
   {
    "duration": 10,
    "start_time": "2023-12-03T17:36:40.190Z"
   },
   {
    "duration": 646,
    "start_time": "2023-12-03T17:36:40.201Z"
   },
   {
    "duration": 0,
    "start_time": "2023-12-03T17:36:40.850Z"
   },
   {
    "duration": 1,
    "start_time": "2023-12-03T17:36:40.851Z"
   },
   {
    "duration": 0,
    "start_time": "2023-12-03T17:36:40.853Z"
   },
   {
    "duration": 0,
    "start_time": "2023-12-03T17:36:40.854Z"
   },
   {
    "duration": 0,
    "start_time": "2023-12-03T17:36:40.856Z"
   },
   {
    "duration": 0,
    "start_time": "2023-12-03T17:36:40.857Z"
   },
   {
    "duration": 0,
    "start_time": "2023-12-03T17:36:40.858Z"
   },
   {
    "duration": 0,
    "start_time": "2023-12-03T17:36:40.859Z"
   },
   {
    "duration": 0,
    "start_time": "2023-12-03T17:36:40.871Z"
   },
   {
    "duration": 0,
    "start_time": "2023-12-03T17:36:40.872Z"
   },
   {
    "duration": 0,
    "start_time": "2023-12-03T17:36:40.873Z"
   },
   {
    "duration": 0,
    "start_time": "2023-12-03T17:36:40.875Z"
   },
   {
    "duration": 0,
    "start_time": "2023-12-03T17:36:40.876Z"
   },
   {
    "duration": 0,
    "start_time": "2023-12-03T17:36:40.878Z"
   },
   {
    "duration": 0,
    "start_time": "2023-12-03T17:36:40.879Z"
   },
   {
    "duration": 0,
    "start_time": "2023-12-03T17:36:40.880Z"
   },
   {
    "duration": 0,
    "start_time": "2023-12-03T17:36:40.882Z"
   },
   {
    "duration": 0,
    "start_time": "2023-12-03T17:36:40.883Z"
   },
   {
    "duration": 0,
    "start_time": "2023-12-03T17:36:40.885Z"
   },
   {
    "duration": 0,
    "start_time": "2023-12-03T17:36:40.886Z"
   },
   {
    "duration": 0,
    "start_time": "2023-12-03T17:36:40.887Z"
   },
   {
    "duration": 0,
    "start_time": "2023-12-03T17:36:40.889Z"
   },
   {
    "duration": 0,
    "start_time": "2023-12-03T17:36:40.890Z"
   },
   {
    "duration": 0,
    "start_time": "2023-12-03T17:36:40.891Z"
   },
   {
    "duration": 556,
    "start_time": "2023-12-03T17:38:19.908Z"
   },
   {
    "duration": 499,
    "start_time": "2023-12-03T17:38:56.915Z"
   },
   {
    "duration": 144,
    "start_time": "2023-12-03T17:44:50.099Z"
   },
   {
    "duration": 196,
    "start_time": "2023-12-03T17:45:06.789Z"
   },
   {
    "duration": 541,
    "start_time": "2023-12-03T17:47:18.725Z"
   },
   {
    "duration": 475,
    "start_time": "2023-12-03T17:47:43.568Z"
   },
   {
    "duration": 494,
    "start_time": "2023-12-03T17:51:31.157Z"
   },
   {
    "duration": 565,
    "start_time": "2023-12-03T17:52:27.703Z"
   },
   {
    "duration": 497,
    "start_time": "2023-12-03T17:52:41.767Z"
   },
   {
    "duration": 1203,
    "start_time": "2023-12-03T17:53:04.309Z"
   },
   {
    "duration": 515,
    "start_time": "2023-12-03T17:53:05.515Z"
   },
   {
    "duration": 4,
    "start_time": "2023-12-03T17:53:06.031Z"
   },
   {
    "duration": 135,
    "start_time": "2023-12-03T17:53:06.037Z"
   },
   {
    "duration": 5,
    "start_time": "2023-12-03T17:53:06.174Z"
   },
   {
    "duration": 35,
    "start_time": "2023-12-03T17:53:06.180Z"
   },
   {
    "duration": 27,
    "start_time": "2023-12-03T17:53:06.216Z"
   },
   {
    "duration": 89,
    "start_time": "2023-12-03T17:53:06.244Z"
   },
   {
    "duration": 36,
    "start_time": "2023-12-03T17:53:06.334Z"
   },
   {
    "duration": 9,
    "start_time": "2023-12-03T17:53:06.372Z"
   },
   {
    "duration": 11,
    "start_time": "2023-12-03T17:53:06.382Z"
   },
   {
    "duration": 21,
    "start_time": "2023-12-03T17:53:06.395Z"
   },
   {
    "duration": 5,
    "start_time": "2023-12-03T17:53:06.418Z"
   },
   {
    "duration": 613,
    "start_time": "2023-12-03T17:53:06.426Z"
   },
   {
    "duration": 16,
    "start_time": "2023-12-03T17:53:07.041Z"
   },
   {
    "duration": 4,
    "start_time": "2023-12-03T17:53:07.069Z"
   },
   {
    "duration": 24,
    "start_time": "2023-12-03T17:53:07.074Z"
   },
   {
    "duration": 27,
    "start_time": "2023-12-03T17:53:07.100Z"
   },
   {
    "duration": 128,
    "start_time": "2023-12-03T17:53:07.129Z"
   },
   {
    "duration": 12,
    "start_time": "2023-12-03T17:53:07.258Z"
   },
   {
    "duration": 140,
    "start_time": "2023-12-03T17:53:07.271Z"
   },
   {
    "duration": 41,
    "start_time": "2023-12-03T17:53:07.413Z"
   },
   {
    "duration": 22,
    "start_time": "2023-12-03T17:53:07.456Z"
   },
   {
    "duration": 204,
    "start_time": "2023-12-03T17:53:07.480Z"
   },
   {
    "duration": 151,
    "start_time": "2023-12-03T17:53:07.685Z"
   },
   {
    "duration": 61,
    "start_time": "2023-12-03T17:53:07.837Z"
   },
   {
    "duration": 14,
    "start_time": "2023-12-03T17:53:07.899Z"
   },
   {
    "duration": 236,
    "start_time": "2023-12-03T17:53:07.914Z"
   },
   {
    "duration": 37,
    "start_time": "2023-12-03T17:53:08.151Z"
   },
   {
    "duration": 4,
    "start_time": "2023-12-03T17:53:08.190Z"
   },
   {
    "duration": 164,
    "start_time": "2023-12-03T17:53:08.196Z"
   },
   {
    "duration": 8,
    "start_time": "2023-12-03T17:53:08.362Z"
   },
   {
    "duration": 85,
    "start_time": "2023-12-03T17:53:08.372Z"
   },
   {
    "duration": 79,
    "start_time": "2023-12-03T17:53:08.458Z"
   },
   {
    "duration": 92,
    "start_time": "2023-12-03T17:53:08.539Z"
   },
   {
    "duration": 7,
    "start_time": "2023-12-03T17:53:08.633Z"
   },
   {
    "duration": 105,
    "start_time": "2023-12-03T17:53:08.642Z"
   },
   {
    "duration": 306,
    "start_time": "2023-12-03T17:53:08.749Z"
   },
   {
    "duration": 11,
    "start_time": "2023-12-03T17:55:02.876Z"
   },
   {
    "duration": 12,
    "start_time": "2023-12-03T17:55:44.858Z"
   },
   {
    "duration": 130,
    "start_time": "2023-12-03T17:57:15.092Z"
   },
   {
    "duration": 24,
    "start_time": "2023-12-03T17:58:41.658Z"
   },
   {
    "duration": 17,
    "start_time": "2023-12-03T17:59:05.093Z"
   },
   {
    "duration": 17,
    "start_time": "2023-12-03T17:59:11.386Z"
   },
   {
    "duration": 12,
    "start_time": "2023-12-03T17:59:17.638Z"
   },
   {
    "duration": 1382,
    "start_time": "2023-12-03T18:00:13.453Z"
   },
   {
    "duration": 455,
    "start_time": "2023-12-03T18:00:14.838Z"
   },
   {
    "duration": 3,
    "start_time": "2023-12-03T18:00:15.295Z"
   },
   {
    "duration": 143,
    "start_time": "2023-12-03T18:00:15.300Z"
   },
   {
    "duration": 5,
    "start_time": "2023-12-03T18:00:15.445Z"
   },
   {
    "duration": 40,
    "start_time": "2023-12-03T18:00:15.452Z"
   },
   {
    "duration": 46,
    "start_time": "2023-12-03T18:00:15.494Z"
   },
   {
    "duration": 90,
    "start_time": "2023-12-03T18:00:15.541Z"
   },
   {
    "duration": 30,
    "start_time": "2023-12-03T18:00:15.632Z"
   },
   {
    "duration": 20,
    "start_time": "2023-12-03T18:00:15.664Z"
   },
   {
    "duration": 42,
    "start_time": "2023-12-03T18:00:15.686Z"
   },
   {
    "duration": 53,
    "start_time": "2023-12-03T18:00:15.730Z"
   },
   {
    "duration": 16,
    "start_time": "2023-12-03T18:00:15.785Z"
   },
   {
    "duration": 653,
    "start_time": "2023-12-03T18:00:15.804Z"
   },
   {
    "duration": 30,
    "start_time": "2023-12-03T18:00:16.458Z"
   },
   {
    "duration": 72,
    "start_time": "2023-12-03T18:00:16.489Z"
   },
   {
    "duration": 53,
    "start_time": "2023-12-03T18:00:16.563Z"
   },
   {
    "duration": 74,
    "start_time": "2023-12-03T18:00:16.618Z"
   },
   {
    "duration": 123,
    "start_time": "2023-12-03T18:00:16.694Z"
   },
   {
    "duration": 6,
    "start_time": "2023-12-03T18:00:16.819Z"
   },
   {
    "duration": 158,
    "start_time": "2023-12-03T18:00:16.826Z"
   },
   {
    "duration": 42,
    "start_time": "2023-12-03T18:00:16.985Z"
   },
   {
    "duration": 9,
    "start_time": "2023-12-03T18:00:17.029Z"
   },
   {
    "duration": 202,
    "start_time": "2023-12-03T18:00:17.039Z"
   },
   {
    "duration": 154,
    "start_time": "2023-12-03T18:00:17.242Z"
   },
   {
    "duration": 96,
    "start_time": "2023-12-03T18:00:17.398Z"
   },
   {
    "duration": 13,
    "start_time": "2023-12-03T18:00:17.496Z"
   },
   {
    "duration": 191,
    "start_time": "2023-12-03T18:00:17.510Z"
   },
   {
    "duration": 27,
    "start_time": "2023-12-03T18:00:17.703Z"
   },
   {
    "duration": 5,
    "start_time": "2023-12-03T18:00:17.731Z"
   },
   {
    "duration": 186,
    "start_time": "2023-12-03T18:00:17.744Z"
   },
   {
    "duration": 5,
    "start_time": "2023-12-03T18:00:17.932Z"
   },
   {
    "duration": 117,
    "start_time": "2023-12-03T18:00:17.939Z"
   },
   {
    "duration": 77,
    "start_time": "2023-12-03T18:00:18.058Z"
   },
   {
    "duration": 85,
    "start_time": "2023-12-03T18:00:18.137Z"
   },
   {
    "duration": 7,
    "start_time": "2023-12-03T18:00:18.223Z"
   },
   {
    "duration": 153,
    "start_time": "2023-12-03T18:00:18.231Z"
   },
   {
    "duration": 301,
    "start_time": "2023-12-03T18:00:18.386Z"
   },
   {
    "duration": 1172,
    "start_time": "2023-12-03T18:48:12.149Z"
   },
   {
    "duration": 493,
    "start_time": "2023-12-03T18:48:13.323Z"
   },
   {
    "duration": 3,
    "start_time": "2023-12-03T18:48:13.818Z"
   },
   {
    "duration": 152,
    "start_time": "2023-12-03T18:48:13.823Z"
   },
   {
    "duration": 4,
    "start_time": "2023-12-03T18:48:13.976Z"
   },
   {
    "duration": 21,
    "start_time": "2023-12-03T18:48:13.981Z"
   },
   {
    "duration": 22,
    "start_time": "2023-12-03T18:48:14.003Z"
   },
   {
    "duration": 98,
    "start_time": "2023-12-03T18:48:14.026Z"
   },
   {
    "duration": 25,
    "start_time": "2023-12-03T18:48:14.125Z"
   },
   {
    "duration": 19,
    "start_time": "2023-12-03T18:48:14.152Z"
   },
   {
    "duration": 5,
    "start_time": "2023-12-03T18:48:14.173Z"
   },
   {
    "duration": 32,
    "start_time": "2023-12-03T18:48:14.179Z"
   },
   {
    "duration": 5,
    "start_time": "2023-12-03T18:48:14.213Z"
   },
   {
    "duration": 538,
    "start_time": "2023-12-03T18:48:14.220Z"
   },
   {
    "duration": 17,
    "start_time": "2023-12-03T18:48:14.759Z"
   },
   {
    "duration": 4,
    "start_time": "2023-12-03T18:48:14.777Z"
   },
   {
    "duration": 14,
    "start_time": "2023-12-03T18:48:14.782Z"
   },
   {
    "duration": 41,
    "start_time": "2023-12-03T18:48:14.797Z"
   },
   {
    "duration": 111,
    "start_time": "2023-12-03T18:48:14.839Z"
   },
   {
    "duration": 19,
    "start_time": "2023-12-03T18:48:14.952Z"
   },
   {
    "duration": 139,
    "start_time": "2023-12-03T18:48:14.973Z"
   },
   {
    "duration": 40,
    "start_time": "2023-12-03T18:48:15.114Z"
   },
   {
    "duration": 195,
    "start_time": "2023-12-03T18:48:15.155Z"
   },
   {
    "duration": 205,
    "start_time": "2023-12-03T18:48:15.352Z"
   },
   {
    "duration": 166,
    "start_time": "2023-12-03T18:48:15.558Z"
   },
   {
    "duration": 62,
    "start_time": "2023-12-03T18:48:15.726Z"
   },
   {
    "duration": 12,
    "start_time": "2023-12-03T18:48:15.789Z"
   },
   {
    "duration": 185,
    "start_time": "2023-12-03T18:48:15.804Z"
   },
   {
    "duration": 25,
    "start_time": "2023-12-03T18:48:15.990Z"
   },
   {
    "duration": 3,
    "start_time": "2023-12-03T18:48:16.017Z"
   },
   {
    "duration": 152,
    "start_time": "2023-12-03T18:48:16.022Z"
   },
   {
    "duration": 6,
    "start_time": "2023-12-03T18:48:16.175Z"
   },
   {
    "duration": 79,
    "start_time": "2023-12-03T18:48:16.182Z"
   },
   {
    "duration": 71,
    "start_time": "2023-12-03T18:48:16.262Z"
   },
   {
    "duration": 81,
    "start_time": "2023-12-03T18:48:16.334Z"
   },
   {
    "duration": 5,
    "start_time": "2023-12-03T18:48:16.417Z"
   },
   {
    "duration": 75,
    "start_time": "2023-12-03T18:48:16.423Z"
   },
   {
    "duration": 296,
    "start_time": "2023-12-03T18:48:16.500Z"
   },
   {
    "duration": 1303,
    "start_time": "2023-12-04T07:51:58.937Z"
   },
   {
    "duration": 526,
    "start_time": "2023-12-04T07:52:00.242Z"
   },
   {
    "duration": 4,
    "start_time": "2023-12-04T07:52:00.770Z"
   },
   {
    "duration": 195,
    "start_time": "2023-12-04T07:52:00.776Z"
   },
   {
    "duration": 5,
    "start_time": "2023-12-04T07:52:00.972Z"
   },
   {
    "duration": 56,
    "start_time": "2023-12-04T07:52:00.978Z"
   },
   {
    "duration": 44,
    "start_time": "2023-12-04T07:52:01.036Z"
   },
   {
    "duration": 97,
    "start_time": "2023-12-04T07:52:01.082Z"
   },
   {
    "duration": 29,
    "start_time": "2023-12-04T07:52:01.181Z"
   },
   {
    "duration": 69,
    "start_time": "2023-12-04T07:52:01.222Z"
   },
   {
    "duration": 86,
    "start_time": "2023-12-04T07:52:01.293Z"
   },
   {
    "duration": 64,
    "start_time": "2023-12-04T07:52:01.381Z"
   },
   {
    "duration": 30,
    "start_time": "2023-12-04T07:52:01.446Z"
   },
   {
    "duration": 723,
    "start_time": "2023-12-04T07:52:01.478Z"
   },
   {
    "duration": 26,
    "start_time": "2023-12-04T07:52:02.202Z"
   },
   {
    "duration": 88,
    "start_time": "2023-12-04T07:52:02.230Z"
   },
   {
    "duration": 72,
    "start_time": "2023-12-04T07:52:02.320Z"
   },
   {
    "duration": 36,
    "start_time": "2023-12-04T07:52:02.394Z"
   },
   {
    "duration": 135,
    "start_time": "2023-12-04T07:52:02.431Z"
   },
   {
    "duration": 5,
    "start_time": "2023-12-04T07:52:02.568Z"
   },
   {
    "duration": 211,
    "start_time": "2023-12-04T07:52:02.575Z"
   },
   {
    "duration": 55,
    "start_time": "2023-12-04T07:52:02.787Z"
   },
   {
    "duration": 25,
    "start_time": "2023-12-04T07:52:02.844Z"
   },
   {
    "duration": 215,
    "start_time": "2023-12-04T07:52:02.871Z"
   },
   {
    "duration": 221,
    "start_time": "2023-12-04T07:52:03.087Z"
   },
   {
    "duration": 63,
    "start_time": "2023-12-04T07:52:03.310Z"
   },
   {
    "duration": 15,
    "start_time": "2023-12-04T07:52:03.422Z"
   },
   {
    "duration": 211,
    "start_time": "2023-12-04T07:52:03.440Z"
   },
   {
    "duration": 28,
    "start_time": "2023-12-04T07:52:03.653Z"
   },
   {
    "duration": 22,
    "start_time": "2023-12-04T07:52:03.682Z"
   },
   {
    "duration": 245,
    "start_time": "2023-12-04T07:52:03.706Z"
   },
   {
    "duration": 153,
    "start_time": "2023-12-04T07:52:03.953Z"
   },
   {
    "duration": 96,
    "start_time": "2023-12-04T07:52:04.108Z"
   },
   {
    "duration": 86,
    "start_time": "2023-12-04T07:52:04.205Z"
   },
   {
    "duration": 92,
    "start_time": "2023-12-04T07:52:04.292Z"
   },
   {
    "duration": 8,
    "start_time": "2023-12-04T07:52:04.386Z"
   },
   {
    "duration": 113,
    "start_time": "2023-12-04T07:52:04.395Z"
   },
   {
    "duration": 374,
    "start_time": "2023-12-04T07:52:04.510Z"
   },
   {
    "duration": 1335,
    "start_time": "2023-12-04T07:56:39.621Z"
   },
   {
    "duration": 544,
    "start_time": "2023-12-04T07:56:40.958Z"
   },
   {
    "duration": 4,
    "start_time": "2023-12-04T07:56:41.503Z"
   },
   {
    "duration": 170,
    "start_time": "2023-12-04T07:56:41.509Z"
   },
   {
    "duration": 5,
    "start_time": "2023-12-04T07:56:41.681Z"
   },
   {
    "duration": 44,
    "start_time": "2023-12-04T07:56:41.688Z"
   },
   {
    "duration": 23,
    "start_time": "2023-12-04T07:56:41.734Z"
   },
   {
    "duration": 100,
    "start_time": "2023-12-04T07:56:41.759Z"
   },
   {
    "duration": 27,
    "start_time": "2023-12-04T07:56:41.860Z"
   },
   {
    "duration": 10,
    "start_time": "2023-12-04T07:56:41.890Z"
   },
   {
    "duration": 26,
    "start_time": "2023-12-04T07:56:41.902Z"
   },
   {
    "duration": 25,
    "start_time": "2023-12-04T07:56:41.929Z"
   },
   {
    "duration": 5,
    "start_time": "2023-12-04T07:56:41.955Z"
   },
   {
    "duration": 743,
    "start_time": "2023-12-04T07:56:41.962Z"
   },
   {
    "duration": 29,
    "start_time": "2023-12-04T07:56:42.706Z"
   },
   {
    "duration": 17,
    "start_time": "2023-12-04T07:56:42.737Z"
   },
   {
    "duration": 24,
    "start_time": "2023-12-04T07:56:42.756Z"
   },
   {
    "duration": 30,
    "start_time": "2023-12-04T07:56:42.782Z"
   },
   {
    "duration": 135,
    "start_time": "2023-12-04T07:56:42.814Z"
   },
   {
    "duration": 5,
    "start_time": "2023-12-04T07:56:42.951Z"
   },
   {
    "duration": 176,
    "start_time": "2023-12-04T07:56:42.958Z"
   },
   {
    "duration": 45,
    "start_time": "2023-12-04T07:56:43.136Z"
   },
   {
    "duration": 9,
    "start_time": "2023-12-04T07:56:43.183Z"
   },
   {
    "duration": 211,
    "start_time": "2023-12-04T07:56:43.195Z"
   },
   {
    "duration": 217,
    "start_time": "2023-12-04T07:56:43.407Z"
   },
   {
    "duration": 126,
    "start_time": "2023-12-04T07:56:43.626Z"
   },
   {
    "duration": 14,
    "start_time": "2023-12-04T07:56:43.754Z"
   },
   {
    "duration": 177,
    "start_time": "2023-12-04T07:56:43.822Z"
   },
   {
    "duration": 36,
    "start_time": "2023-12-04T07:56:44.000Z"
   },
   {
    "duration": 5,
    "start_time": "2023-12-04T07:56:44.037Z"
   },
   {
    "duration": 200,
    "start_time": "2023-12-04T07:56:44.044Z"
   },
   {
    "duration": 6,
    "start_time": "2023-12-04T07:56:44.246Z"
   },
   {
    "duration": 127,
    "start_time": "2023-12-04T07:56:44.254Z"
   },
   {
    "duration": 86,
    "start_time": "2023-12-04T07:56:44.383Z"
   },
   {
    "duration": 96,
    "start_time": "2023-12-04T07:56:44.471Z"
   },
   {
    "duration": 8,
    "start_time": "2023-12-04T07:56:44.569Z"
   },
   {
    "duration": 111,
    "start_time": "2023-12-04T07:56:44.578Z"
   },
   {
    "duration": 382,
    "start_time": "2023-12-04T07:56:44.690Z"
   },
   {
    "duration": 52,
    "start_time": "2023-12-25T22:49:12.509Z"
   },
   {
    "duration": 1312,
    "start_time": "2023-12-25T22:49:19.728Z"
   },
   {
    "duration": 774,
    "start_time": "2023-12-25T22:49:21.042Z"
   },
   {
    "duration": 5,
    "start_time": "2023-12-25T22:49:21.818Z"
   },
   {
    "duration": 179,
    "start_time": "2023-12-25T22:49:21.825Z"
   },
   {
    "duration": 6,
    "start_time": "2023-12-25T22:49:22.006Z"
   },
   {
    "duration": 24,
    "start_time": "2023-12-25T22:49:22.014Z"
   },
   {
    "duration": 26,
    "start_time": "2023-12-25T22:49:22.040Z"
   },
   {
    "duration": 115,
    "start_time": "2023-12-25T22:49:22.068Z"
   },
   {
    "duration": 39,
    "start_time": "2023-12-25T22:49:22.185Z"
   },
   {
    "duration": 11,
    "start_time": "2023-12-25T22:49:22.226Z"
   },
   {
    "duration": 8,
    "start_time": "2023-12-25T22:49:22.238Z"
   },
   {
    "duration": 23,
    "start_time": "2023-12-25T22:49:22.248Z"
   },
   {
    "duration": 5,
    "start_time": "2023-12-25T22:49:22.301Z"
   },
   {
    "duration": 739,
    "start_time": "2023-12-25T22:49:22.310Z"
   },
   {
    "duration": 19,
    "start_time": "2023-12-25T22:49:23.051Z"
   },
   {
    "duration": 5,
    "start_time": "2023-12-25T22:49:23.071Z"
   },
   {
    "duration": 33,
    "start_time": "2023-12-25T22:49:23.077Z"
   },
   {
    "duration": 52,
    "start_time": "2023-12-25T22:49:23.112Z"
   },
   {
    "duration": 138,
    "start_time": "2023-12-25T22:49:23.166Z"
   },
   {
    "duration": 6,
    "start_time": "2023-12-25T22:49:23.305Z"
   },
   {
    "duration": 170,
    "start_time": "2023-12-25T22:49:23.313Z"
   },
   {
    "duration": 55,
    "start_time": "2023-12-25T22:49:23.485Z"
   },
   {
    "duration": 10,
    "start_time": "2023-12-25T22:49:23.541Z"
   },
   {
    "duration": 220,
    "start_time": "2023-12-25T22:49:23.553Z"
   },
   {
    "duration": 163,
    "start_time": "2023-12-25T22:49:23.774Z"
   },
   {
    "duration": 93,
    "start_time": "2023-12-25T22:49:23.939Z"
   },
   {
    "duration": 14,
    "start_time": "2023-12-25T22:49:24.034Z"
   },
   {
    "duration": 183,
    "start_time": "2023-12-25T22:49:24.099Z"
   },
   {
    "duration": 39,
    "start_time": "2023-12-25T22:49:24.284Z"
   },
   {
    "duration": 5,
    "start_time": "2023-12-25T22:49:24.325Z"
   },
   {
    "duration": 183,
    "start_time": "2023-12-25T22:49:24.331Z"
   },
   {
    "duration": 6,
    "start_time": "2023-12-25T22:49:24.516Z"
   },
   {
    "duration": 102,
    "start_time": "2023-12-25T22:49:24.524Z"
   },
   {
    "duration": 99,
    "start_time": "2023-12-25T22:49:24.627Z"
   },
   {
    "duration": 103,
    "start_time": "2023-12-25T22:49:24.727Z"
   },
   {
    "duration": 8,
    "start_time": "2023-12-25T22:49:24.832Z"
   },
   {
    "duration": 131,
    "start_time": "2023-12-25T22:49:24.842Z"
   },
   {
    "duration": 401,
    "start_time": "2023-12-25T22:49:24.975Z"
   },
   {
    "duration": 1159,
    "start_time": "2024-04-04T15:14:18.458Z"
   },
   {
    "duration": 590,
    "start_time": "2024-04-04T15:14:19.618Z"
   },
   {
    "duration": 2,
    "start_time": "2024-04-04T15:14:20.210Z"
   },
   {
    "duration": 139,
    "start_time": "2024-04-04T15:14:20.214Z"
   },
   {
    "duration": 4,
    "start_time": "2024-04-04T15:14:20.354Z"
   },
   {
    "duration": 33,
    "start_time": "2024-04-04T15:14:20.360Z"
   },
   {
    "duration": 22,
    "start_time": "2024-04-04T15:14:20.395Z"
   },
   {
    "duration": 83,
    "start_time": "2024-04-04T15:14:20.418Z"
   },
   {
    "duration": 23,
    "start_time": "2024-04-04T15:14:20.503Z"
   },
   {
    "duration": 10,
    "start_time": "2024-04-04T15:14:20.528Z"
   },
   {
    "duration": 23,
    "start_time": "2024-04-04T15:14:20.539Z"
   },
   {
    "duration": 35,
    "start_time": "2024-04-04T15:14:20.564Z"
   },
   {
    "duration": 5,
    "start_time": "2024-04-04T15:14:20.601Z"
   },
   {
    "duration": 543,
    "start_time": "2024-04-04T15:14:20.608Z"
   },
   {
    "duration": 15,
    "start_time": "2024-04-04T15:14:21.152Z"
   },
   {
    "duration": 4,
    "start_time": "2024-04-04T15:14:21.168Z"
   },
   {
    "duration": 13,
    "start_time": "2024-04-04T15:14:21.184Z"
   },
   {
    "duration": 39,
    "start_time": "2024-04-04T15:14:21.198Z"
   },
   {
    "duration": 107,
    "start_time": "2024-04-04T15:14:21.238Z"
   },
   {
    "duration": 4,
    "start_time": "2024-04-04T15:14:21.346Z"
   },
   {
    "duration": 138,
    "start_time": "2024-04-04T15:14:21.352Z"
   },
   {
    "duration": 39,
    "start_time": "2024-04-04T15:14:21.491Z"
   },
   {
    "duration": 8,
    "start_time": "2024-04-04T15:14:21.531Z"
   },
   {
    "duration": 170,
    "start_time": "2024-04-04T15:14:21.540Z"
   },
   {
    "duration": 111,
    "start_time": "2024-04-04T15:14:21.711Z"
   },
   {
    "duration": 88,
    "start_time": "2024-04-04T15:14:21.823Z"
   },
   {
    "duration": 12,
    "start_time": "2024-04-04T15:14:21.913Z"
   },
   {
    "duration": 213,
    "start_time": "2024-04-04T15:14:21.928Z"
   },
   {
    "duration": 26,
    "start_time": "2024-04-04T15:14:22.142Z"
   },
   {
    "duration": 16,
    "start_time": "2024-04-04T15:14:22.169Z"
   },
   {
    "duration": 150,
    "start_time": "2024-04-04T15:14:22.186Z"
   },
   {
    "duration": 6,
    "start_time": "2024-04-04T15:14:22.337Z"
   },
   {
    "duration": 88,
    "start_time": "2024-04-04T15:14:22.344Z"
   },
   {
    "duration": 83,
    "start_time": "2024-04-04T15:14:22.434Z"
   },
   {
    "duration": 83,
    "start_time": "2024-04-04T15:14:22.518Z"
   },
   {
    "duration": 7,
    "start_time": "2024-04-04T15:14:22.603Z"
   },
   {
    "duration": 103,
    "start_time": "2024-04-04T15:14:22.611Z"
   },
   {
    "duration": 326,
    "start_time": "2024-04-04T15:14:22.716Z"
   }
  ],
  "kernelspec": {
   "display_name": "Python 3 (ipykernel)",
   "language": "python",
   "name": "python3"
  },
  "language_info": {
   "codemirror_mode": {
    "name": "ipython",
    "version": 3
   },
   "file_extension": ".py",
   "mimetype": "text/x-python",
   "name": "python",
   "nbconvert_exporter": "python",
   "pygments_lexer": "ipython3",
   "version": "3.9.18"
  },
  "toc": {
   "base_numbering": 1,
   "nav_menu": {},
   "number_sections": true,
   "sideBar": true,
   "skip_h1_title": true,
   "title_cell": "Содержание",
   "title_sidebar": "Contents",
   "toc_cell": true,
   "toc_position": {
    "height": "468px",
    "left": "29px",
    "top": "111.141px",
    "width": "287.391px"
   },
   "toc_section_display": true,
   "toc_window_display": true
  }
 },
 "nbformat": 4,
 "nbformat_minor": 2
}
