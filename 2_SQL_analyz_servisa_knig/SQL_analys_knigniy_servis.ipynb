{
 "cells": [
  {
   "cell_type": "markdown",
   "metadata": {},
   "source": [
    "# ПРОЕКТ ПО SQL: АНАЛИЗ БАЗЫ ДАННЫХ КРУПНОГО СЕРВИСА ДЛЯ ЧТЕНИЯ КНИГ.\n",
    "<a id = \"start\"></a>"
   ]
  },
  {
   "cell_type": "markdown",
   "metadata": {},
   "source": [
    "__Описание проекта:__ Получена база данных сервиса для чтения книг по подписке, необходимо исследовать ее для дальнейшего развития компании во времена эпидемии коронавируса.\n",
    "\n",
    "__Цель проекта:__ Проанализировать базу данных сервиса для чтения книг по подписке.\n",
    "\n",
    "__Ход исследования:__\n",
    "\n",
    "1. [Обзор данных.](#Обзор-данных)\n",
    "2. [Рассчет количества книг вышедших после 1 января 2000 года.](#Рассчет-количества-книг-вышедших-после-1-января-2000-года.)\n",
    "3. [Для каждой книги посчитать количество обзоров и среднюю оценку.](#Расчет-количества-обзоров-и-средней-оценки-для-каждой-книги)\n",
    "4. [Определение издательства, которое выпустило наибольшее число книг толще 50 страниц.](#Определение-издательства,-которое-выпустило-наибольшее-число-книг-толще-50-страниц.)\n",
    "5. [Определение автора с самой высокой средней оценкой книг.](#Определение-автора-с-самой-высокой-средней-оценкой-книг.)\n",
    "6. [Расчет среднего количества обзоров от пользователей, которые поставили больше 48 оценок.](#Расчет-среднего-количества-обзоров-от-пользователей,-которые-поставили-больше-48-оценок.)\n",
    "7. [Итоговый вывод.](#Итоговый-вывод-по-проекту.)\n",
    "\n"
   ]
  },
  {
   "cell_type": "markdown",
   "metadata": {},
   "source": [
    "Вернуться в [начало проекта](#start)"
   ]
  },
  {
   "cell_type": "markdown",
   "metadata": {},
   "source": [
    "## Обзор данных"
   ]
  },
  {
   "cell_type": "markdown",
   "metadata": {},
   "source": [
    "Импортируем библиотеки для работы с SQL запросами. "
   ]
  },
  {
   "cell_type": "code",
   "execution_count": 1,
   "metadata": {},
   "outputs": [],
   "source": [
    "# импортируем библиотеки\n",
    "import pandas as pd\n",
    "import sqlalchemy as sa\n",
    "from sqlalchemy import text, create_engine"
   ]
  },
  {
   "cell_type": "markdown",
   "metadata": {},
   "source": [
    "Установим параметры для подключения к базе данных и сохраним коннектор."
   ]
  },
  {
   "cell_type": "code",
   "execution_count": 2,
   "metadata": {},
   "outputs": [],
   "source": [
    "# устанавливаем параметры\n",
    "db_config = {\n",
    "    'user': 'p', # имя пользователя\n",
    "    'pwd': 'p', # пароль\n",
    "    'host': 'p',\n",
    "    'port': 7777, # порт подключения\n",
    "    'db': 'data'\n",
    "} # название базы данных\n",
    "\n",
    "connection_string = 'postgresql://{u}:{p}@{h}:{p}/{d}'.format(\n",
    "    **db_config\n",
    ")\n",
    "\n",
    "# сохраняем коннектор\n",
    "engine = sa.create_engine(connection_string, connect_args={'sslmode':'require'})\n"
   ]
  },
  {
   "cell_type": "markdown",
   "metadata": {},
   "source": [
    "Зададим функцию для выполнения SQL-запроса"
   ]
  },
  {
   "cell_type": "code",
   "execution_count": 3,
   "metadata": {},
   "outputs": [],
   "source": [
    "# чтобы выполнить SQL-запрос, пишем функцию с использованием Pandas\n",
    "def get_sql_data(query:str, engine:sa.engine.base.Engine=engine) -> pd.DataFrame:\n",
    "    '''Открываем соединение, получаем данные из sql, закрываем соединение'''\n",
    "    with engine.connect() as con:\n",
    "        return pd.read_sql(sql=sa.text(query), con = con)"
   ]
  },
  {
   "cell_type": "markdown",
   "metadata": {},
   "source": [
    "Исследуем таблицы - выведем первые строки и посчитаем количество строк в каждой таблице"
   ]
  },
  {
   "cell_type": "code",
   "execution_count": 4,
   "metadata": {},
   "outputs": [
    {
     "data": {
      "text/html": [
       "<div>\n",
       "<style scoped>\n",
       "    .dataframe tbody tr th:only-of-type {\n",
       "        vertical-align: middle;\n",
       "    }\n",
       "\n",
       "    .dataframe tbody tr th {\n",
       "        vertical-align: top;\n",
       "    }\n",
       "\n",
       "    .dataframe thead th {\n",
       "        text-align: right;\n",
       "    }\n",
       "</style>\n",
       "<table border=\"1\" class=\"dataframe\">\n",
       "  <thead>\n",
       "    <tr style=\"text-align: right;\">\n",
       "      <th></th>\n",
       "      <th>book_id</th>\n",
       "      <th>author_id</th>\n",
       "      <th>title</th>\n",
       "      <th>num_pages</th>\n",
       "      <th>publication_date</th>\n",
       "      <th>publisher_id</th>\n",
       "    </tr>\n",
       "  </thead>\n",
       "  <tbody>\n",
       "    <tr>\n",
       "      <th>0</th>\n",
       "      <td>1</td>\n",
       "      <td>546</td>\n",
       "      <td>'Salem's Lot</td>\n",
       "      <td>594</td>\n",
       "      <td>2005-11-01</td>\n",
       "      <td>93</td>\n",
       "    </tr>\n",
       "    <tr>\n",
       "      <th>1</th>\n",
       "      <td>2</td>\n",
       "      <td>465</td>\n",
       "      <td>1 000 Places to See Before You Die</td>\n",
       "      <td>992</td>\n",
       "      <td>2003-05-22</td>\n",
       "      <td>336</td>\n",
       "    </tr>\n",
       "    <tr>\n",
       "      <th>2</th>\n",
       "      <td>3</td>\n",
       "      <td>407</td>\n",
       "      <td>13 Little Blue Envelopes (Little Blue Envelope...</td>\n",
       "      <td>322</td>\n",
       "      <td>2010-12-21</td>\n",
       "      <td>135</td>\n",
       "    </tr>\n",
       "    <tr>\n",
       "      <th>3</th>\n",
       "      <td>4</td>\n",
       "      <td>82</td>\n",
       "      <td>1491: New Revelations of the Americas Before C...</td>\n",
       "      <td>541</td>\n",
       "      <td>2006-10-10</td>\n",
       "      <td>309</td>\n",
       "    </tr>\n",
       "    <tr>\n",
       "      <th>4</th>\n",
       "      <td>5</td>\n",
       "      <td>125</td>\n",
       "      <td>1776</td>\n",
       "      <td>386</td>\n",
       "      <td>2006-07-04</td>\n",
       "      <td>268</td>\n",
       "    </tr>\n",
       "  </tbody>\n",
       "</table>\n",
       "</div>"
      ],
      "text/plain": [
       "   book_id  author_id                                              title  \\\n",
       "0        1        546                                       'Salem's Lot   \n",
       "1        2        465                 1 000 Places to See Before You Die   \n",
       "2        3        407  13 Little Blue Envelopes (Little Blue Envelope...   \n",
       "3        4         82  1491: New Revelations of the Americas Before C...   \n",
       "4        5        125                                               1776   \n",
       "\n",
       "   num_pages publication_date  publisher_id  \n",
       "0        594       2005-11-01            93  \n",
       "1        992       2003-05-22           336  \n",
       "2        322       2010-12-21           135  \n",
       "3        541       2006-10-10           309  \n",
       "4        386       2006-07-04           268  "
      ]
     },
     "execution_count": 4,
     "metadata": {},
     "output_type": "execute_result"
    }
   ],
   "source": [
    "# формируем запрос и выводим данные\n",
    "query_books = '''\n",
    "        SELECT * \n",
    "        FROM books \n",
    "        LIMIT 5\n",
    "        '''\n",
    "get_sql_data(query_books)"
   ]
  },
  {
   "cell_type": "code",
   "execution_count": 5,
   "metadata": {},
   "outputs": [
    {
     "data": {
      "text/html": [
       "<div>\n",
       "<style scoped>\n",
       "    .dataframe tbody tr th:only-of-type {\n",
       "        vertical-align: middle;\n",
       "    }\n",
       "\n",
       "    .dataframe tbody tr th {\n",
       "        vertical-align: top;\n",
       "    }\n",
       "\n",
       "    .dataframe thead th {\n",
       "        text-align: right;\n",
       "    }\n",
       "</style>\n",
       "<table border=\"1\" class=\"dataframe\">\n",
       "  <thead>\n",
       "    <tr style=\"text-align: right;\">\n",
       "      <th></th>\n",
       "      <th>?column?</th>\n",
       "      <th>count</th>\n",
       "    </tr>\n",
       "  </thead>\n",
       "  <tbody>\n",
       "    <tr>\n",
       "      <th>0</th>\n",
       "      <td>Количество строк в таблице \"books\":</td>\n",
       "      <td>1000</td>\n",
       "    </tr>\n",
       "  </tbody>\n",
       "</table>\n",
       "</div>"
      ],
      "text/plain": [
       "                              ?column?  count\n",
       "0  Количество строк в таблице \"books\":   1000"
      ]
     },
     "execution_count": 5,
     "metadata": {},
     "output_type": "execute_result"
    }
   ],
   "source": [
    "# выведем количество строк в таблице books\n",
    "query_count_books = '''\n",
    "        SELECT 'Количество строк в таблице \"books\":', \n",
    "                COUNT(*) \n",
    "        FROM books \n",
    "        LIMIT 5\n",
    "        '''\n",
    "get_sql_data(query_count_books)"
   ]
  },
  {
   "cell_type": "code",
   "execution_count": 6,
   "metadata": {},
   "outputs": [
    {
     "data": {
      "text/html": [
       "<div>\n",
       "<style scoped>\n",
       "    .dataframe tbody tr th:only-of-type {\n",
       "        vertical-align: middle;\n",
       "    }\n",
       "\n",
       "    .dataframe tbody tr th {\n",
       "        vertical-align: top;\n",
       "    }\n",
       "\n",
       "    .dataframe thead th {\n",
       "        text-align: right;\n",
       "    }\n",
       "</style>\n",
       "<table border=\"1\" class=\"dataframe\">\n",
       "  <thead>\n",
       "    <tr style=\"text-align: right;\">\n",
       "      <th></th>\n",
       "      <th>author_id</th>\n",
       "      <th>author</th>\n",
       "    </tr>\n",
       "  </thead>\n",
       "  <tbody>\n",
       "    <tr>\n",
       "      <th>0</th>\n",
       "      <td>1</td>\n",
       "      <td>A.S. Byatt</td>\n",
       "    </tr>\n",
       "    <tr>\n",
       "      <th>1</th>\n",
       "      <td>2</td>\n",
       "      <td>Aesop/Laura Harris/Laura Gibbs</td>\n",
       "    </tr>\n",
       "    <tr>\n",
       "      <th>2</th>\n",
       "      <td>3</td>\n",
       "      <td>Agatha Christie</td>\n",
       "    </tr>\n",
       "    <tr>\n",
       "      <th>3</th>\n",
       "      <td>4</td>\n",
       "      <td>Alan Brennert</td>\n",
       "    </tr>\n",
       "    <tr>\n",
       "      <th>4</th>\n",
       "      <td>5</td>\n",
       "      <td>Alan Moore/David   Lloyd</td>\n",
       "    </tr>\n",
       "  </tbody>\n",
       "</table>\n",
       "</div>"
      ],
      "text/plain": [
       "   author_id                          author\n",
       "0          1                      A.S. Byatt\n",
       "1          2  Aesop/Laura Harris/Laura Gibbs\n",
       "2          3                 Agatha Christie\n",
       "3          4                   Alan Brennert\n",
       "4          5        Alan Moore/David   Lloyd"
      ]
     },
     "execution_count": 6,
     "metadata": {},
     "output_type": "execute_result"
    }
   ],
   "source": [
    "# формируем запрос и выводим данные\n",
    "query_authors = '''\n",
    "        SELECT * \n",
    "        FROM authors \n",
    "        LIMIT 5\n",
    "        '''\n",
    "get_sql_data(query_authors)"
   ]
  },
  {
   "cell_type": "code",
   "execution_count": 7,
   "metadata": {},
   "outputs": [
    {
     "data": {
      "text/html": [
       "<div>\n",
       "<style scoped>\n",
       "    .dataframe tbody tr th:only-of-type {\n",
       "        vertical-align: middle;\n",
       "    }\n",
       "\n",
       "    .dataframe tbody tr th {\n",
       "        vertical-align: top;\n",
       "    }\n",
       "\n",
       "    .dataframe thead th {\n",
       "        text-align: right;\n",
       "    }\n",
       "</style>\n",
       "<table border=\"1\" class=\"dataframe\">\n",
       "  <thead>\n",
       "    <tr style=\"text-align: right;\">\n",
       "      <th></th>\n",
       "      <th>?column?</th>\n",
       "      <th>count</th>\n",
       "    </tr>\n",
       "  </thead>\n",
       "  <tbody>\n",
       "    <tr>\n",
       "      <th>0</th>\n",
       "      <td>Количество строк в таблице \"authors\":</td>\n",
       "      <td>636</td>\n",
       "    </tr>\n",
       "  </tbody>\n",
       "</table>\n",
       "</div>"
      ],
      "text/plain": [
       "                                ?column?  count\n",
       "0  Количество строк в таблице \"authors\":    636"
      ]
     },
     "execution_count": 7,
     "metadata": {},
     "output_type": "execute_result"
    }
   ],
   "source": [
    "# выведем количество строк в таблице authors\n",
    "query_count_authors = '''\n",
    "        SELECT 'Количество строк в таблице \"authors\":', \n",
    "                COUNT(*) \n",
    "        FROM authors \n",
    "        LIMIT 5\n",
    "        '''\n",
    "get_sql_data(query_count_authors)"
   ]
  },
  {
   "cell_type": "code",
   "execution_count": 8,
   "metadata": {},
   "outputs": [
    {
     "data": {
      "text/html": [
       "<div>\n",
       "<style scoped>\n",
       "    .dataframe tbody tr th:only-of-type {\n",
       "        vertical-align: middle;\n",
       "    }\n",
       "\n",
       "    .dataframe tbody tr th {\n",
       "        vertical-align: top;\n",
       "    }\n",
       "\n",
       "    .dataframe thead th {\n",
       "        text-align: right;\n",
       "    }\n",
       "</style>\n",
       "<table border=\"1\" class=\"dataframe\">\n",
       "  <thead>\n",
       "    <tr style=\"text-align: right;\">\n",
       "      <th></th>\n",
       "      <th>publisher_id</th>\n",
       "      <th>publisher</th>\n",
       "    </tr>\n",
       "  </thead>\n",
       "  <tbody>\n",
       "    <tr>\n",
       "      <th>0</th>\n",
       "      <td>1</td>\n",
       "      <td>Ace</td>\n",
       "    </tr>\n",
       "    <tr>\n",
       "      <th>1</th>\n",
       "      <td>2</td>\n",
       "      <td>Ace Book</td>\n",
       "    </tr>\n",
       "    <tr>\n",
       "      <th>2</th>\n",
       "      <td>3</td>\n",
       "      <td>Ace Books</td>\n",
       "    </tr>\n",
       "    <tr>\n",
       "      <th>3</th>\n",
       "      <td>4</td>\n",
       "      <td>Ace Hardcover</td>\n",
       "    </tr>\n",
       "    <tr>\n",
       "      <th>4</th>\n",
       "      <td>5</td>\n",
       "      <td>Addison Wesley Publishing Company</td>\n",
       "    </tr>\n",
       "  </tbody>\n",
       "</table>\n",
       "</div>"
      ],
      "text/plain": [
       "   publisher_id                          publisher\n",
       "0             1                                Ace\n",
       "1             2                           Ace Book\n",
       "2             3                          Ace Books\n",
       "3             4                      Ace Hardcover\n",
       "4             5  Addison Wesley Publishing Company"
      ]
     },
     "execution_count": 8,
     "metadata": {},
     "output_type": "execute_result"
    }
   ],
   "source": [
    "# формируем запрос и выводим данные\n",
    "query_publishers = '''\n",
    "        SELECT * \n",
    "        FROM publishers \n",
    "        LIMIT 5\n",
    "        '''\n",
    "get_sql_data(query_publishers)"
   ]
  },
  {
   "cell_type": "code",
   "execution_count": 9,
   "metadata": {},
   "outputs": [
    {
     "data": {
      "text/html": [
       "<div>\n",
       "<style scoped>\n",
       "    .dataframe tbody tr th:only-of-type {\n",
       "        vertical-align: middle;\n",
       "    }\n",
       "\n",
       "    .dataframe tbody tr th {\n",
       "        vertical-align: top;\n",
       "    }\n",
       "\n",
       "    .dataframe thead th {\n",
       "        text-align: right;\n",
       "    }\n",
       "</style>\n",
       "<table border=\"1\" class=\"dataframe\">\n",
       "  <thead>\n",
       "    <tr style=\"text-align: right;\">\n",
       "      <th></th>\n",
       "      <th>?column?</th>\n",
       "      <th>count</th>\n",
       "    </tr>\n",
       "  </thead>\n",
       "  <tbody>\n",
       "    <tr>\n",
       "      <th>0</th>\n",
       "      <td>Количество строк в таблице \"publishers\":</td>\n",
       "      <td>340</td>\n",
       "    </tr>\n",
       "  </tbody>\n",
       "</table>\n",
       "</div>"
      ],
      "text/plain": [
       "                                   ?column?  count\n",
       "0  Количество строк в таблице \"publishers\":    340"
      ]
     },
     "execution_count": 9,
     "metadata": {},
     "output_type": "execute_result"
    }
   ],
   "source": [
    "# выведем количество строк в таблице publishers\n",
    "query_count_publishers = '''\n",
    "        SELECT 'Количество строк в таблице \"publishers\":', \n",
    "                COUNT(*) \n",
    "        FROM publishers \n",
    "        LIMIT 5\n",
    "        '''\n",
    "get_sql_data(query_count_publishers)"
   ]
  },
  {
   "cell_type": "code",
   "execution_count": 10,
   "metadata": {},
   "outputs": [
    {
     "data": {
      "text/html": [
       "<div>\n",
       "<style scoped>\n",
       "    .dataframe tbody tr th:only-of-type {\n",
       "        vertical-align: middle;\n",
       "    }\n",
       "\n",
       "    .dataframe tbody tr th {\n",
       "        vertical-align: top;\n",
       "    }\n",
       "\n",
       "    .dataframe thead th {\n",
       "        text-align: right;\n",
       "    }\n",
       "</style>\n",
       "<table border=\"1\" class=\"dataframe\">\n",
       "  <thead>\n",
       "    <tr style=\"text-align: right;\">\n",
       "      <th></th>\n",
       "      <th>rating_id</th>\n",
       "      <th>book_id</th>\n",
       "      <th>username</th>\n",
       "      <th>rating</th>\n",
       "    </tr>\n",
       "  </thead>\n",
       "  <tbody>\n",
       "    <tr>\n",
       "      <th>0</th>\n",
       "      <td>1</td>\n",
       "      <td>1</td>\n",
       "      <td>ryanfranco</td>\n",
       "      <td>4</td>\n",
       "    </tr>\n",
       "    <tr>\n",
       "      <th>1</th>\n",
       "      <td>2</td>\n",
       "      <td>1</td>\n",
       "      <td>grantpatricia</td>\n",
       "      <td>2</td>\n",
       "    </tr>\n",
       "    <tr>\n",
       "      <th>2</th>\n",
       "      <td>3</td>\n",
       "      <td>1</td>\n",
       "      <td>brandtandrea</td>\n",
       "      <td>5</td>\n",
       "    </tr>\n",
       "    <tr>\n",
       "      <th>3</th>\n",
       "      <td>4</td>\n",
       "      <td>2</td>\n",
       "      <td>lorichen</td>\n",
       "      <td>3</td>\n",
       "    </tr>\n",
       "    <tr>\n",
       "      <th>4</th>\n",
       "      <td>5</td>\n",
       "      <td>2</td>\n",
       "      <td>mariokeller</td>\n",
       "      <td>2</td>\n",
       "    </tr>\n",
       "  </tbody>\n",
       "</table>\n",
       "</div>"
      ],
      "text/plain": [
       "   rating_id  book_id       username  rating\n",
       "0          1        1     ryanfranco       4\n",
       "1          2        1  grantpatricia       2\n",
       "2          3        1   brandtandrea       5\n",
       "3          4        2       lorichen       3\n",
       "4          5        2    mariokeller       2"
      ]
     },
     "execution_count": 10,
     "metadata": {},
     "output_type": "execute_result"
    }
   ],
   "source": [
    "# формируем запрос и выводим данные\n",
    "query_ratings = '''\n",
    "        SELECT * \n",
    "        FROM ratings \n",
    "        LIMIT 5\n",
    "        '''\n",
    "get_sql_data(query_ratings)"
   ]
  },
  {
   "cell_type": "code",
   "execution_count": 11,
   "metadata": {},
   "outputs": [
    {
     "data": {
      "text/html": [
       "<div>\n",
       "<style scoped>\n",
       "    .dataframe tbody tr th:only-of-type {\n",
       "        vertical-align: middle;\n",
       "    }\n",
       "\n",
       "    .dataframe tbody tr th {\n",
       "        vertical-align: top;\n",
       "    }\n",
       "\n",
       "    .dataframe thead th {\n",
       "        text-align: right;\n",
       "    }\n",
       "</style>\n",
       "<table border=\"1\" class=\"dataframe\">\n",
       "  <thead>\n",
       "    <tr style=\"text-align: right;\">\n",
       "      <th></th>\n",
       "      <th>?column?</th>\n",
       "      <th>count</th>\n",
       "    </tr>\n",
       "  </thead>\n",
       "  <tbody>\n",
       "    <tr>\n",
       "      <th>0</th>\n",
       "      <td>Количество строк в таблице \"ratings\":</td>\n",
       "      <td>6456</td>\n",
       "    </tr>\n",
       "  </tbody>\n",
       "</table>\n",
       "</div>"
      ],
      "text/plain": [
       "                                ?column?  count\n",
       "0  Количество строк в таблице \"ratings\":   6456"
      ]
     },
     "execution_count": 11,
     "metadata": {},
     "output_type": "execute_result"
    }
   ],
   "source": [
    "# выведем количество строк в таблице ratings\n",
    "query_count_ratings = '''\n",
    "        SELECT 'Количество строк в таблице \"ratings\":', \n",
    "               COUNT(*) \n",
    "        FROM ratings \n",
    "        LIMIT 5\n",
    "        '''\n",
    "get_sql_data(query_count_ratings)"
   ]
  },
  {
   "cell_type": "code",
   "execution_count": 12,
   "metadata": {},
   "outputs": [
    {
     "data": {
      "text/html": [
       "<div>\n",
       "<style scoped>\n",
       "    .dataframe tbody tr th:only-of-type {\n",
       "        vertical-align: middle;\n",
       "    }\n",
       "\n",
       "    .dataframe tbody tr th {\n",
       "        vertical-align: top;\n",
       "    }\n",
       "\n",
       "    .dataframe thead th {\n",
       "        text-align: right;\n",
       "    }\n",
       "</style>\n",
       "<table border=\"1\" class=\"dataframe\">\n",
       "  <thead>\n",
       "    <tr style=\"text-align: right;\">\n",
       "      <th></th>\n",
       "      <th>review_id</th>\n",
       "      <th>book_id</th>\n",
       "      <th>username</th>\n",
       "      <th>text</th>\n",
       "    </tr>\n",
       "  </thead>\n",
       "  <tbody>\n",
       "    <tr>\n",
       "      <th>0</th>\n",
       "      <td>1</td>\n",
       "      <td>1</td>\n",
       "      <td>brandtandrea</td>\n",
       "      <td>Mention society tell send professor analysis. ...</td>\n",
       "    </tr>\n",
       "    <tr>\n",
       "      <th>1</th>\n",
       "      <td>2</td>\n",
       "      <td>1</td>\n",
       "      <td>ryanfranco</td>\n",
       "      <td>Foot glass pretty audience hit themselves. Amo...</td>\n",
       "    </tr>\n",
       "    <tr>\n",
       "      <th>2</th>\n",
       "      <td>3</td>\n",
       "      <td>2</td>\n",
       "      <td>lorichen</td>\n",
       "      <td>Listen treat keep worry. Miss husband tax but ...</td>\n",
       "    </tr>\n",
       "    <tr>\n",
       "      <th>3</th>\n",
       "      <td>4</td>\n",
       "      <td>3</td>\n",
       "      <td>johnsonamanda</td>\n",
       "      <td>Finally month interesting blue could nature cu...</td>\n",
       "    </tr>\n",
       "    <tr>\n",
       "      <th>4</th>\n",
       "      <td>5</td>\n",
       "      <td>3</td>\n",
       "      <td>scotttamara</td>\n",
       "      <td>Nation purpose heavy give wait song will. List...</td>\n",
       "    </tr>\n",
       "  </tbody>\n",
       "</table>\n",
       "</div>"
      ],
      "text/plain": [
       "   review_id  book_id       username  \\\n",
       "0          1        1   brandtandrea   \n",
       "1          2        1     ryanfranco   \n",
       "2          3        2       lorichen   \n",
       "3          4        3  johnsonamanda   \n",
       "4          5        3    scotttamara   \n",
       "\n",
       "                                                text  \n",
       "0  Mention society tell send professor analysis. ...  \n",
       "1  Foot glass pretty audience hit themselves. Amo...  \n",
       "2  Listen treat keep worry. Miss husband tax but ...  \n",
       "3  Finally month interesting blue could nature cu...  \n",
       "4  Nation purpose heavy give wait song will. List...  "
      ]
     },
     "execution_count": 12,
     "metadata": {},
     "output_type": "execute_result"
    }
   ],
   "source": [
    "# формируем запрос и выводим данные\n",
    "query_reviews = '''\n",
    "        SELECT * \n",
    "        FROM reviews \n",
    "        LIMIT 5\n",
    "        '''\n",
    "get_sql_data(query_reviews)"
   ]
  },
  {
   "cell_type": "code",
   "execution_count": 13,
   "metadata": {},
   "outputs": [
    {
     "data": {
      "text/html": [
       "<div>\n",
       "<style scoped>\n",
       "    .dataframe tbody tr th:only-of-type {\n",
       "        vertical-align: middle;\n",
       "    }\n",
       "\n",
       "    .dataframe tbody tr th {\n",
       "        vertical-align: top;\n",
       "    }\n",
       "\n",
       "    .dataframe thead th {\n",
       "        text-align: right;\n",
       "    }\n",
       "</style>\n",
       "<table border=\"1\" class=\"dataframe\">\n",
       "  <thead>\n",
       "    <tr style=\"text-align: right;\">\n",
       "      <th></th>\n",
       "      <th>?column?</th>\n",
       "      <th>count</th>\n",
       "    </tr>\n",
       "  </thead>\n",
       "  <tbody>\n",
       "    <tr>\n",
       "      <th>0</th>\n",
       "      <td>Количество строк в таблице \"reviews\":</td>\n",
       "      <td>2793</td>\n",
       "    </tr>\n",
       "  </tbody>\n",
       "</table>\n",
       "</div>"
      ],
      "text/plain": [
       "                                ?column?  count\n",
       "0  Количество строк в таблице \"reviews\":   2793"
      ]
     },
     "execution_count": 13,
     "metadata": {},
     "output_type": "execute_result"
    }
   ],
   "source": [
    "# выведем количество строк в таблице reviews\n",
    "query_count_reviews = '''\n",
    "        SELECT 'Количество строк в таблице \"reviews\":', \n",
    "                COUNT(*) \n",
    "        FROM reviews \n",
    "        LIMIT 5\n",
    "        '''\n",
    "get_sql_data(query_count_reviews)"
   ]
  },
  {
   "cell_type": "markdown",
   "metadata": {},
   "source": [
    "__Вывод:__\n",
    "Данные содержатся в 5 таблицах:\n",
    "- В таблице `books` 1000 строк и 6 колонок.\n",
    "- В таблице `authors` 636 строк и 2 колонки.\n",
    "- В таблице `publishers` 340 строк и 2 колонки.\n",
    "- В таблице `ratings` 6456 строк и 4 колонки.\n",
    "- В таблице `reviews` 2793 строки и 4 колонки."
   ]
  },
  {
   "cell_type": "markdown",
   "metadata": {},
   "source": [
    "Вернуться в [начало проекта](#start)"
   ]
  },
  {
   "cell_type": "markdown",
   "metadata": {},
   "source": [
    "## Рассчет количества книг вышедших после 1 января 2000 года."
   ]
  },
  {
   "cell_type": "code",
   "execution_count": 14,
   "metadata": {},
   "outputs": [
    {
     "data": {
      "text/html": [
       "<div>\n",
       "<style scoped>\n",
       "    .dataframe tbody tr th:only-of-type {\n",
       "        vertical-align: middle;\n",
       "    }\n",
       "\n",
       "    .dataframe tbody tr th {\n",
       "        vertical-align: top;\n",
       "    }\n",
       "\n",
       "    .dataframe thead th {\n",
       "        text-align: right;\n",
       "    }\n",
       "</style>\n",
       "<table border=\"1\" class=\"dataframe\">\n",
       "  <thead>\n",
       "    <tr style=\"text-align: right;\">\n",
       "      <th></th>\n",
       "      <th>?column?</th>\n",
       "      <th>count</th>\n",
       "    </tr>\n",
       "  </thead>\n",
       "  <tbody>\n",
       "    <tr>\n",
       "      <th>0</th>\n",
       "      <td>Количество книг вышедших после 1 января 2000 г...</td>\n",
       "      <td>821</td>\n",
       "    </tr>\n",
       "  </tbody>\n",
       "</table>\n",
       "</div>"
      ],
      "text/plain": [
       "                                            ?column?  count\n",
       "0  Количество книг вышедших после 1 января 2000 г...    821"
      ]
     },
     "execution_count": 14,
     "metadata": {},
     "output_type": "execute_result"
    }
   ],
   "source": [
    "# формируем запрос и выводим данные\n",
    "query_count_2000 = '''\n",
    "        SELECT 'Количество книг вышедших после 1 января 2000 года:',\n",
    "                COUNT(book_id) \n",
    "        FROM books \n",
    "        WHERE EXTRACT(YEAR FROM publication_date) >= 2000;\n",
    "        '''\n",
    "get_sql_data(query_count_2000)"
   ]
  },
  {
   "cell_type": "markdown",
   "metadata": {},
   "source": [
    "__Согласно данным зарегистрированым в БД после 1 января 2000 года было выпущено книг 821.__"
   ]
  },
  {
   "cell_type": "markdown",
   "metadata": {},
   "source": [
    "Вернуться в [начало проекта](#start)"
   ]
  },
  {
   "cell_type": "markdown",
   "metadata": {},
   "source": [
    "## Расчет количества обзоров и средней оценки для каждой книги"
   ]
  },
  {
   "cell_type": "code",
   "execution_count": 15,
   "metadata": {},
   "outputs": [
    {
     "data": {
      "text/html": [
       "<div>\n",
       "<style scoped>\n",
       "    .dataframe tbody tr th:only-of-type {\n",
       "        vertical-align: middle;\n",
       "    }\n",
       "\n",
       "    .dataframe tbody tr th {\n",
       "        vertical-align: top;\n",
       "    }\n",
       "\n",
       "    .dataframe thead th {\n",
       "        text-align: right;\n",
       "    }\n",
       "</style>\n",
       "<table border=\"1\" class=\"dataframe\">\n",
       "  <thead>\n",
       "    <tr style=\"text-align: right;\">\n",
       "      <th></th>\n",
       "      <th>book_id</th>\n",
       "      <th>title</th>\n",
       "      <th>count_review</th>\n",
       "      <th>avg_rating</th>\n",
       "    </tr>\n",
       "  </thead>\n",
       "  <tbody>\n",
       "    <tr>\n",
       "      <th>0</th>\n",
       "      <td>948</td>\n",
       "      <td>Twilight (Twilight  #1)</td>\n",
       "      <td>7</td>\n",
       "      <td>4.0</td>\n",
       "    </tr>\n",
       "    <tr>\n",
       "      <th>1</th>\n",
       "      <td>854</td>\n",
       "      <td>The Road</td>\n",
       "      <td>6</td>\n",
       "      <td>4.0</td>\n",
       "    </tr>\n",
       "    <tr>\n",
       "      <th>2</th>\n",
       "      <td>627</td>\n",
       "      <td>The Alchemist</td>\n",
       "      <td>6</td>\n",
       "      <td>4.0</td>\n",
       "    </tr>\n",
       "    <tr>\n",
       "      <th>3</th>\n",
       "      <td>733</td>\n",
       "      <td>The Giver (The Giver  #1)</td>\n",
       "      <td>6</td>\n",
       "      <td>4.0</td>\n",
       "    </tr>\n",
       "    <tr>\n",
       "      <th>4</th>\n",
       "      <td>673</td>\n",
       "      <td>The Catcher in the Rye</td>\n",
       "      <td>6</td>\n",
       "      <td>4.0</td>\n",
       "    </tr>\n",
       "    <tr>\n",
       "      <th>...</th>\n",
       "      <td>...</td>\n",
       "      <td>...</td>\n",
       "      <td>...</td>\n",
       "      <td>...</td>\n",
       "    </tr>\n",
       "    <tr>\n",
       "      <th>995</th>\n",
       "      <td>191</td>\n",
       "      <td>Disney's Beauty and the Beast (A Little Golden...</td>\n",
       "      <td>0</td>\n",
       "      <td>4.0</td>\n",
       "    </tr>\n",
       "    <tr>\n",
       "      <th>996</th>\n",
       "      <td>83</td>\n",
       "      <td>Anne Rice's The Vampire Lestat: A Graphic Novel</td>\n",
       "      <td>0</td>\n",
       "      <td>4.0</td>\n",
       "    </tr>\n",
       "    <tr>\n",
       "      <th>997</th>\n",
       "      <td>221</td>\n",
       "      <td>Essential Tales and Poems</td>\n",
       "      <td>0</td>\n",
       "      <td>4.0</td>\n",
       "    </tr>\n",
       "    <tr>\n",
       "      <th>998</th>\n",
       "      <td>387</td>\n",
       "      <td>Leonardo's Notebooks</td>\n",
       "      <td>0</td>\n",
       "      <td>4.0</td>\n",
       "    </tr>\n",
       "    <tr>\n",
       "      <th>999</th>\n",
       "      <td>808</td>\n",
       "      <td>The Natural Way to Draw</td>\n",
       "      <td>0</td>\n",
       "      <td>3.0</td>\n",
       "    </tr>\n",
       "  </tbody>\n",
       "</table>\n",
       "<p>1000 rows × 4 columns</p>\n",
       "</div>"
      ],
      "text/plain": [
       "     book_id                                              title  count_review  \\\n",
       "0        948                            Twilight (Twilight  #1)             7   \n",
       "1        854                                           The Road             6   \n",
       "2        627                                      The Alchemist             6   \n",
       "3        733                          The Giver (The Giver  #1)             6   \n",
       "4        673                             The Catcher in the Rye             6   \n",
       "..       ...                                                ...           ...   \n",
       "995      191  Disney's Beauty and the Beast (A Little Golden...             0   \n",
       "996       83    Anne Rice's The Vampire Lestat: A Graphic Novel             0   \n",
       "997      221                          Essential Tales and Poems             0   \n",
       "998      387                               Leonardo's Notebooks             0   \n",
       "999      808                            The Natural Way to Draw             0   \n",
       "\n",
       "     avg_rating  \n",
       "0           4.0  \n",
       "1           4.0  \n",
       "2           4.0  \n",
       "3           4.0  \n",
       "4           4.0  \n",
       "..          ...  \n",
       "995         4.0  \n",
       "996         4.0  \n",
       "997         4.0  \n",
       "998         4.0  \n",
       "999         3.0  \n",
       "\n",
       "[1000 rows x 4 columns]"
      ]
     },
     "execution_count": 15,
     "metadata": {},
     "output_type": "execute_result"
    }
   ],
   "source": [
    "# формируем запрос и выводим данные\n",
    "query_avg_rating = '''\n",
    "        SELECT bk.book_id,\n",
    "               bk.title,\n",
    "               COUNT(DISTINCT rev.review_id) AS count_review,\n",
    "               ROUND(AVG(rat.rating)) AS avg_rating\n",
    "        FROM books AS bk\n",
    "        JOIN ratings AS rat ON bk.book_id = rat.book_id\n",
    "        LEFT JOIN reviews AS rev ON bk.book_id = rev.book_id\n",
    "        \n",
    "        GROUP BY bk.book_id\n",
    "        ORDER BY count_review DESC,\n",
    "                 avg_rating DESC;\n",
    "        '''\n",
    "get_sql_data(query_avg_rating)"
   ]
  },
  {
   "cell_type": "markdown",
   "metadata": {},
   "source": [
    "__Больше всего обзоров у книги `Twilight` - 7 обзоров, при этом средний рейтинг у этой книги 4.__"
   ]
  },
  {
   "cell_type": "markdown",
   "metadata": {},
   "source": [
    "Вернуться в [начало проекта](#start)"
   ]
  },
  {
   "cell_type": "markdown",
   "metadata": {},
   "source": [
    "## Определение издательства, которое выпустило наибольшее число книг толще 50 страниц."
   ]
  },
  {
   "cell_type": "code",
   "execution_count": 16,
   "metadata": {},
   "outputs": [
    {
     "data": {
      "text/html": [
       "<div>\n",
       "<style scoped>\n",
       "    .dataframe tbody tr th:only-of-type {\n",
       "        vertical-align: middle;\n",
       "    }\n",
       "\n",
       "    .dataframe tbody tr th {\n",
       "        vertical-align: top;\n",
       "    }\n",
       "\n",
       "    .dataframe thead th {\n",
       "        text-align: right;\n",
       "    }\n",
       "</style>\n",
       "<table border=\"1\" class=\"dataframe\">\n",
       "  <thead>\n",
       "    <tr style=\"text-align: right;\">\n",
       "      <th></th>\n",
       "      <th>publisher_id</th>\n",
       "      <th>publisher</th>\n",
       "      <th>count_books</th>\n",
       "    </tr>\n",
       "  </thead>\n",
       "  <tbody>\n",
       "    <tr>\n",
       "      <th>0</th>\n",
       "      <td>212</td>\n",
       "      <td>Penguin Books</td>\n",
       "      <td>42</td>\n",
       "    </tr>\n",
       "    <tr>\n",
       "      <th>1</th>\n",
       "      <td>309</td>\n",
       "      <td>Vintage</td>\n",
       "      <td>31</td>\n",
       "    </tr>\n",
       "    <tr>\n",
       "      <th>2</th>\n",
       "      <td>116</td>\n",
       "      <td>Grand Central Publishing</td>\n",
       "      <td>25</td>\n",
       "    </tr>\n",
       "    <tr>\n",
       "      <th>3</th>\n",
       "      <td>217</td>\n",
       "      <td>Penguin Classics</td>\n",
       "      <td>24</td>\n",
       "    </tr>\n",
       "    <tr>\n",
       "      <th>4</th>\n",
       "      <td>35</td>\n",
       "      <td>Bantam</td>\n",
       "      <td>19</td>\n",
       "    </tr>\n",
       "  </tbody>\n",
       "</table>\n",
       "</div>"
      ],
      "text/plain": [
       "   publisher_id                 publisher  count_books\n",
       "0           212             Penguin Books           42\n",
       "1           309                   Vintage           31\n",
       "2           116  Grand Central Publishing           25\n",
       "3           217          Penguin Classics           24\n",
       "4            35                    Bantam           19"
      ]
     },
     "execution_count": 16,
     "metadata": {},
     "output_type": "execute_result"
    }
   ],
   "source": [
    "# формируем запрос и выводим данные\n",
    "query_top_publisher = '''\n",
    "        SELECT pub.publisher_id,\n",
    "               pub.publisher,\n",
    "               COUNT(b.book_id) AS count_books\n",
    "        FROM publishers AS pub\n",
    "        JOIN books AS b ON pub.publisher_id = b.publisher_id\n",
    "        WHERE b.num_pages > 50\n",
    "        GROUP BY pub.publisher_id\n",
    "        ORDER BY count_books DESC\n",
    "        LIMIT 5;\n",
    "        '''\n",
    "get_sql_data(query_top_publisher)"
   ]
  },
  {
   "cell_type": "markdown",
   "metadata": {},
   "source": [
    "__Издательтво `Penguin Books` выпустило наибольшее число книг (42 книги) толще 50 страниц.__"
   ]
  },
  {
   "cell_type": "markdown",
   "metadata": {},
   "source": [
    "Вернуться в [начало проекта](#start)"
   ]
  },
  {
   "cell_type": "markdown",
   "metadata": {},
   "source": [
    "## Определение автора с самой высокой средней оценкой книг.\n",
    "Учитываем только книги с 50 и более оценками."
   ]
  },
  {
   "cell_type": "code",
   "execution_count": 17,
   "metadata": {},
   "outputs": [
    {
     "data": {
      "text/html": [
       "<div>\n",
       "<style scoped>\n",
       "    .dataframe tbody tr th:only-of-type {\n",
       "        vertical-align: middle;\n",
       "    }\n",
       "\n",
       "    .dataframe tbody tr th {\n",
       "        vertical-align: top;\n",
       "    }\n",
       "\n",
       "    .dataframe thead th {\n",
       "        text-align: right;\n",
       "    }\n",
       "</style>\n",
       "<table border=\"1\" class=\"dataframe\">\n",
       "  <thead>\n",
       "    <tr style=\"text-align: right;\">\n",
       "      <th></th>\n",
       "      <th>author_id</th>\n",
       "      <th>author</th>\n",
       "      <th>avg_rating</th>\n",
       "    </tr>\n",
       "  </thead>\n",
       "  <tbody>\n",
       "    <tr>\n",
       "      <th>0</th>\n",
       "      <td>236</td>\n",
       "      <td>J.K. Rowling/Mary GrandPré</td>\n",
       "      <td>4.287</td>\n",
       "    </tr>\n",
       "    <tr>\n",
       "      <th>1</th>\n",
       "      <td>402</td>\n",
       "      <td>Markus Zusak/Cao Xuân Việt Khương</td>\n",
       "      <td>4.264</td>\n",
       "    </tr>\n",
       "    <tr>\n",
       "      <th>2</th>\n",
       "      <td>240</td>\n",
       "      <td>J.R.R. Tolkien</td>\n",
       "      <td>4.247</td>\n",
       "    </tr>\n",
       "    <tr>\n",
       "      <th>3</th>\n",
       "      <td>376</td>\n",
       "      <td>Louisa May Alcott</td>\n",
       "      <td>4.192</td>\n",
       "    </tr>\n",
       "    <tr>\n",
       "      <th>4</th>\n",
       "      <td>498</td>\n",
       "      <td>Rick Riordan</td>\n",
       "      <td>4.081</td>\n",
       "    </tr>\n",
       "  </tbody>\n",
       "</table>\n",
       "</div>"
      ],
      "text/plain": [
       "   author_id                             author  avg_rating\n",
       "0        236         J.K. Rowling/Mary GrandPré       4.287\n",
       "1        402  Markus Zusak/Cao Xuân Việt Khương       4.264\n",
       "2        240                     J.R.R. Tolkien       4.247\n",
       "3        376                  Louisa May Alcott       4.192\n",
       "4        498                       Rick Riordan       4.081"
      ]
     },
     "execution_count": 17,
     "metadata": {},
     "output_type": "execute_result"
    }
   ],
   "source": [
    "# формируем запрос и выводим данные\n",
    "query_top_author = '''\n",
    "        SELECT au.author_id,\n",
    "               au.author,\n",
    "               ROUND(AVG(rat.rating), 3) AS avg_rating\n",
    "        FROM authors AS au\n",
    "        JOIN books AS b ON au.author_id = b.author_id\n",
    "        JOIN ratings AS rat ON b.book_id = rat.book_id\n",
    "        WHERE b.book_id IN (SELECT book_id\n",
    "                          FROM  ratings\n",
    "                          GROUP BY book_id \n",
    "                          HAVING COUNT(rating_id) > 50)\n",
    "        GROUP BY au.author_id\n",
    "        ORDER BY avg_rating DESC\n",
    "        LIMIT 5;\n",
    "        '''\n",
    "get_sql_data(query_top_author)"
   ]
  },
  {
   "cell_type": "markdown",
   "metadata": {},
   "source": [
    "__Автор с самой высокой средней оценков книг - J.K. Rowling/Mary GrandPré, средний рейтинг ее книг составил 4.287__"
   ]
  },
  {
   "cell_type": "markdown",
   "metadata": {},
   "source": [
    "Вернуться в [начало проекта](#start)"
   ]
  },
  {
   "cell_type": "markdown",
   "metadata": {},
   "source": [
    "## Расчет среднего количества обзоров от пользователей, которые поставили больше 48 оценок."
   ]
  },
  {
   "cell_type": "code",
   "execution_count": 18,
   "metadata": {},
   "outputs": [
    {
     "data": {
      "text/html": [
       "<div>\n",
       "<style scoped>\n",
       "    .dataframe tbody tr th:only-of-type {\n",
       "        vertical-align: middle;\n",
       "    }\n",
       "\n",
       "    .dataframe tbody tr th {\n",
       "        vertical-align: top;\n",
       "    }\n",
       "\n",
       "    .dataframe thead th {\n",
       "        text-align: right;\n",
       "    }\n",
       "</style>\n",
       "<table border=\"1\" class=\"dataframe\">\n",
       "  <thead>\n",
       "    <tr style=\"text-align: right;\">\n",
       "      <th></th>\n",
       "      <th>?column?</th>\n",
       "      <th>avg</th>\n",
       "    </tr>\n",
       "  </thead>\n",
       "  <tbody>\n",
       "    <tr>\n",
       "      <th>0</th>\n",
       "      <td>Среднее количество обзоров от пользователей:</td>\n",
       "      <td>24.0</td>\n",
       "    </tr>\n",
       "  </tbody>\n",
       "</table>\n",
       "</div>"
      ],
      "text/plain": [
       "                                       ?column?   avg\n",
       "0  Среднее количество обзоров от пользователей:  24.0"
      ]
     },
     "execution_count": 18,
     "metadata": {},
     "output_type": "execute_result"
    }
   ],
   "source": [
    "#  формируем запрос и выводим данные\n",
    "query_avg_review = '''\n",
    "        SELECT 'Среднее количество обзоров от пользователей:',\n",
    "                AVG(rev.review_count)\n",
    "        FROM (SELECT username,\n",
    "               COUNT(review_id) AS review_count\n",
    "        FROM reviews\n",
    "        WHERE username IN (SELECT username\n",
    "                           FROM ratings \n",
    "                           GROUP BY username\n",
    "                           HAVING COUNT(rating_id) > 48)\n",
    "        GROUP BY username) AS rev;\n",
    "        '''\n",
    "get_sql_data(query_avg_review)"
   ]
  },
  {
   "cell_type": "markdown",
   "metadata": {},
   "source": [
    "__В среднем количество обзоров, от пользователей поставивших больше 48 оценок, равняется 24, что состовляет 50% от минимального количество поставленных оценок среди таких пользователей. Можно предположить, что пользователи ставят оценкку в два раза чаще чем пишут отзыв.__"
   ]
  },
  {
   "cell_type": "markdown",
   "metadata": {},
   "source": [
    "Вернуться в [начало проекта](#start)"
   ]
  },
  {
   "cell_type": "markdown",
   "metadata": {},
   "source": [
    "## Итоговый вывод по проекту."
   ]
  },
  {
   "cell_type": "markdown",
   "metadata": {},
   "source": [
    "В ходе исследования базы данных сервиса для чтения книг выявлено:\n",
    "\n",
    "- Таблица `books` содержит информацию о 1 000 книг.\n",
    "- Таблица `authors` содержит информацию о 636 авторах.\n",
    "- Таблица `publishers` содержит информацию о 340 издательствах.\n",
    "- Таблица `ratings` содержит информацию о 6 456 пользовательских оценках книг.\n",
    "- Таблица `reviews` содержит информацию о 2 793 пользовательских обзорах на книги.\n",
    "- После 1 января 2000 года было выпущено 821 книга.\n",
    "- Больше всего обзоров у книги `Twilight` - 7 обзоров, при этом средний рейтинг у этой книги 4.\n",
    "- Издательтво `Penguin Books` выпустило наибольшее число книг (42 книги) толще 50 страниц.\n",
    "- Автор с самой высокой средней оценков книг - `J.K. Rowling/Mary GrandPré`, средний рейтинг ее книг составил 4.287\n",
    "- В среднем количество обзоров, от пользователей поставивших больше 48 оценок, равняется 24, что состовляет 50% от минимального количество поставленных оценок среди таких пользователей. Можно предположить, что пользователи ставят оценкку в два раза чаще чем пишут отзыв.\n",
    "\n",
    "__Рекомендации:__\n",
    "1. Мотивировать пользователей больше писать обзоров.\n",
    "2. Выводить в рекомендованное книги авторов с наивысшим рейтингом, таких как  `J.K. Rowling/Mary GrandPré`, `Markus Zusak/Cao Xuân Việt Khương`, `J.R.R. Tolkien`.\n",
    "3. Большая часть книг в сервисе современные, стоит расширить базу и книгами выпущенными в прошллом столетии."
   ]
  },
  {
   "cell_type": "markdown",
   "metadata": {},
   "source": [
    "Вернуться в [начало проекта](#start)"
   ]
  }
 ],
 "metadata": {
  "ExecuteTimeLog": [
   {
    "duration": 537,
    "start_time": "2024-02-28T15:46:14.095Z"
   },
   {
    "duration": 3,
    "start_time": "2024-02-28T16:07:42.578Z"
   },
   {
    "duration": 7934,
    "start_time": "2024-02-28T16:07:43.444Z"
   },
   {
    "duration": 76,
    "start_time": "2024-02-28T16:58:15.171Z"
   },
   {
    "duration": 75,
    "start_time": "2024-02-28T16:58:15.800Z"
   },
   {
    "duration": 10,
    "start_time": "2024-02-28T16:59:21.994Z"
   },
   {
    "duration": 10,
    "start_time": "2024-02-28T17:02:20.175Z"
   },
   {
    "duration": 8,
    "start_time": "2024-02-28T17:02:22.905Z"
   },
   {
    "duration": 3,
    "start_time": "2024-02-28T17:03:17.866Z"
   },
   {
    "duration": 5,
    "start_time": "2024-02-28T17:06:34.642Z"
   },
   {
    "duration": 3,
    "start_time": "2024-02-28T17:07:07.612Z"
   },
   {
    "duration": 229,
    "start_time": "2024-02-28T17:07:11.220Z"
   },
   {
    "duration": 65,
    "start_time": "2024-02-28T17:10:37.051Z"
   },
   {
    "duration": 57,
    "start_time": "2024-02-28T17:22:32.898Z"
   },
   {
    "duration": 53,
    "start_time": "2024-02-28T17:22:59.224Z"
   },
   {
    "duration": 54,
    "start_time": "2024-02-28T17:23:34.834Z"
   },
   {
    "duration": 53,
    "start_time": "2024-02-28T17:24:06.805Z"
   },
   {
    "duration": 485,
    "start_time": "2024-02-29T06:56:50.795Z"
   },
   {
    "duration": 7648,
    "start_time": "2024-02-29T06:56:51.281Z"
   },
   {
    "duration": 6,
    "start_time": "2024-02-29T06:56:58.931Z"
   },
   {
    "duration": 223,
    "start_time": "2024-02-29T06:56:58.940Z"
   },
   {
    "duration": 49,
    "start_time": "2024-02-29T06:56:59.165Z"
   },
   {
    "duration": 52,
    "start_time": "2024-02-29T06:56:59.216Z"
   },
   {
    "duration": 53,
    "start_time": "2024-02-29T06:56:59.270Z"
   },
   {
    "duration": 52,
    "start_time": "2024-02-29T06:56:59.325Z"
   },
   {
    "duration": 51,
    "start_time": "2024-02-29T06:56:59.378Z"
   },
   {
    "duration": 52,
    "start_time": "2024-02-29T06:56:59.431Z"
   },
   {
    "duration": 52,
    "start_time": "2024-02-29T06:56:59.484Z"
   },
   {
    "duration": 51,
    "start_time": "2024-02-29T06:56:59.537Z"
   },
   {
    "duration": 50,
    "start_time": "2024-02-29T06:56:59.590Z"
   },
   {
    "duration": 117,
    "start_time": "2024-02-29T07:27:53.100Z"
   },
   {
    "duration": 51,
    "start_time": "2024-02-29T07:28:03.167Z"
   },
   {
    "duration": 96,
    "start_time": "2024-02-29T07:37:12.286Z"
   },
   {
    "duration": 50,
    "start_time": "2024-02-29T07:38:10.949Z"
   },
   {
    "duration": 51,
    "start_time": "2024-02-29T07:38:15.743Z"
   },
   {
    "duration": 50,
    "start_time": "2024-02-29T07:43:43.621Z"
   },
   {
    "duration": 50,
    "start_time": "2024-02-29T07:44:12.802Z"
   },
   {
    "duration": 51,
    "start_time": "2024-02-29T07:45:57.841Z"
   },
   {
    "duration": 51,
    "start_time": "2024-02-29T07:46:22.098Z"
   },
   {
    "duration": 507,
    "start_time": "2024-02-29T07:50:38.030Z"
   },
   {
    "duration": 7667,
    "start_time": "2024-02-29T07:50:38.539Z"
   },
   {
    "duration": 3,
    "start_time": "2024-02-29T07:50:46.208Z"
   },
   {
    "duration": 230,
    "start_time": "2024-02-29T07:50:46.213Z"
   },
   {
    "duration": 52,
    "start_time": "2024-02-29T07:50:46.445Z"
   },
   {
    "duration": 52,
    "start_time": "2024-02-29T07:50:46.499Z"
   },
   {
    "duration": 50,
    "start_time": "2024-02-29T07:50:46.553Z"
   },
   {
    "duration": 52,
    "start_time": "2024-02-29T07:50:46.605Z"
   },
   {
    "duration": 50,
    "start_time": "2024-02-29T07:50:46.658Z"
   },
   {
    "duration": 54,
    "start_time": "2024-02-29T07:50:46.711Z"
   },
   {
    "duration": 52,
    "start_time": "2024-02-29T07:50:46.766Z"
   },
   {
    "duration": 52,
    "start_time": "2024-02-29T07:50:46.819Z"
   },
   {
    "duration": 50,
    "start_time": "2024-02-29T07:50:46.872Z"
   },
   {
    "duration": 52,
    "start_time": "2024-02-29T07:50:46.924Z"
   },
   {
    "duration": 51,
    "start_time": "2024-02-29T07:50:46.978Z"
   },
   {
    "duration": 53,
    "start_time": "2024-02-29T07:50:47.031Z"
   },
   {
    "duration": 52,
    "start_time": "2024-02-29T07:50:47.085Z"
   },
   {
    "duration": 53,
    "start_time": "2024-02-29T07:50:47.139Z"
   },
   {
    "duration": 512,
    "start_time": "2024-02-29T07:58:36.270Z"
   },
   {
    "duration": 7897,
    "start_time": "2024-02-29T07:58:36.784Z"
   },
   {
    "duration": 3,
    "start_time": "2024-02-29T07:58:44.682Z"
   },
   {
    "duration": 231,
    "start_time": "2024-02-29T07:58:44.687Z"
   },
   {
    "duration": 52,
    "start_time": "2024-02-29T07:58:44.919Z"
   },
   {
    "duration": 51,
    "start_time": "2024-02-29T07:58:44.972Z"
   },
   {
    "duration": 51,
    "start_time": "2024-02-29T07:58:45.024Z"
   },
   {
    "duration": 51,
    "start_time": "2024-02-29T07:58:45.077Z"
   },
   {
    "duration": 51,
    "start_time": "2024-02-29T07:58:45.129Z"
   },
   {
    "duration": 58,
    "start_time": "2024-02-29T07:58:45.183Z"
   },
   {
    "duration": 51,
    "start_time": "2024-02-29T07:58:45.243Z"
   },
   {
    "duration": 52,
    "start_time": "2024-02-29T07:58:45.295Z"
   },
   {
    "duration": 51,
    "start_time": "2024-02-29T07:58:45.348Z"
   },
   {
    "duration": 2,
    "start_time": "2024-02-29T07:58:45.401Z"
   },
   {
    "duration": 33,
    "start_time": "2024-02-29T07:58:45.405Z"
   },
   {
    "duration": 26,
    "start_time": "2024-02-29T07:58:45.440Z"
   },
   {
    "duration": 18,
    "start_time": "2024-02-29T07:58:45.468Z"
   },
   {
    "duration": 13,
    "start_time": "2024-02-29T07:58:45.487Z"
   },
   {
    "duration": 51,
    "start_time": "2024-02-29T08:10:54.872Z"
   },
   {
    "duration": 51,
    "start_time": "2024-02-29T08:11:52.793Z"
   },
   {
    "duration": 51,
    "start_time": "2024-02-29T08:12:53.607Z"
   },
   {
    "duration": 511,
    "start_time": "2024-02-29T08:15:15.514Z"
   },
   {
    "duration": 8243,
    "start_time": "2024-02-29T08:15:16.027Z"
   },
   {
    "duration": 3,
    "start_time": "2024-02-29T08:15:24.272Z"
   },
   {
    "duration": 234,
    "start_time": "2024-02-29T08:15:24.277Z"
   },
   {
    "duration": 51,
    "start_time": "2024-02-29T08:15:24.512Z"
   },
   {
    "duration": 51,
    "start_time": "2024-02-29T08:15:24.564Z"
   },
   {
    "duration": 51,
    "start_time": "2024-02-29T08:15:24.616Z"
   },
   {
    "duration": 51,
    "start_time": "2024-02-29T08:15:24.668Z"
   },
   {
    "duration": 50,
    "start_time": "2024-02-29T08:15:24.721Z"
   },
   {
    "duration": 50,
    "start_time": "2024-02-29T08:15:24.774Z"
   },
   {
    "duration": 52,
    "start_time": "2024-02-29T08:15:24.826Z"
   },
   {
    "duration": 53,
    "start_time": "2024-02-29T08:15:24.879Z"
   },
   {
    "duration": 51,
    "start_time": "2024-02-29T08:15:24.933Z"
   },
   {
    "duration": 2,
    "start_time": "2024-02-29T08:15:24.985Z"
   },
   {
    "duration": 10,
    "start_time": "2024-02-29T08:15:24.989Z"
   },
   {
    "duration": 3,
    "start_time": "2024-02-29T08:15:25.000Z"
   },
   {
    "duration": 4,
    "start_time": "2024-02-29T08:15:25.005Z"
   },
   {
    "duration": 26,
    "start_time": "2024-02-29T08:15:25.010Z"
   },
   {
    "duration": 123,
    "start_time": "2024-02-29T08:25:02.416Z"
   },
   {
    "duration": 52,
    "start_time": "2024-02-29T08:25:44.423Z"
   },
   {
    "duration": 61,
    "start_time": "2024-02-29T08:26:32.464Z"
   },
   {
    "duration": 60,
    "start_time": "2024-02-29T08:26:41.193Z"
   },
   {
    "duration": 51,
    "start_time": "2024-02-29T08:26:45.337Z"
   },
   {
    "duration": 64,
    "start_time": "2024-02-29T08:51:19.695Z"
   },
   {
    "duration": 61,
    "start_time": "2024-02-29T08:51:43.294Z"
   },
   {
    "duration": 61,
    "start_time": "2024-02-29T08:52:23.687Z"
   },
   {
    "duration": 60,
    "start_time": "2024-02-29T08:53:13.731Z"
   },
   {
    "duration": 61,
    "start_time": "2024-02-29T08:53:46.862Z"
   },
   {
    "duration": 77,
    "start_time": "2024-02-29T08:54:31.180Z"
   },
   {
    "duration": 85,
    "start_time": "2024-02-29T09:02:48.967Z"
   },
   {
    "duration": 88,
    "start_time": "2024-02-29T09:06:47.157Z"
   },
   {
    "duration": 61,
    "start_time": "2024-02-29T09:27:33.261Z"
   },
   {
    "duration": 51,
    "start_time": "2024-02-29T09:29:41.379Z"
   },
   {
    "duration": 51,
    "start_time": "2024-02-29T09:29:49.361Z"
   },
   {
    "duration": 51,
    "start_time": "2024-02-29T09:30:54.112Z"
   },
   {
    "duration": 51,
    "start_time": "2024-02-29T09:31:20.882Z"
   },
   {
    "duration": 50,
    "start_time": "2024-02-29T09:31:53.360Z"
   },
   {
    "duration": 50,
    "start_time": "2024-02-29T09:32:06.810Z"
   },
   {
    "duration": 52,
    "start_time": "2024-02-29T09:32:20.435Z"
   },
   {
    "duration": 52,
    "start_time": "2024-02-29T09:32:30.152Z"
   },
   {
    "duration": 52,
    "start_time": "2024-02-29T09:32:36.845Z"
   },
   {
    "duration": 51,
    "start_time": "2024-02-29T09:33:16.805Z"
   },
   {
    "duration": 89,
    "start_time": "2024-02-29T09:33:40.769Z"
   },
   {
    "duration": 53,
    "start_time": "2024-02-29T09:34:04.137Z"
   },
   {
    "duration": 55,
    "start_time": "2024-02-29T09:35:23.106Z"
   },
   {
    "duration": 51,
    "start_time": "2024-02-29T09:35:32.730Z"
   },
   {
    "duration": 64,
    "start_time": "2024-02-29T10:27:05.582Z"
   },
   {
    "duration": 67,
    "start_time": "2024-02-29T10:27:11.142Z"
   },
   {
    "duration": 52,
    "start_time": "2024-02-29T10:37:36.245Z"
   },
   {
    "duration": 552,
    "start_time": "2024-02-29T11:31:10.773Z"
   },
   {
    "duration": 8305,
    "start_time": "2024-02-29T11:31:11.327Z"
   },
   {
    "duration": 4,
    "start_time": "2024-02-29T11:31:19.633Z"
   },
   {
    "duration": 249,
    "start_time": "2024-02-29T11:31:19.639Z"
   },
   {
    "duration": 53,
    "start_time": "2024-02-29T11:31:19.889Z"
   },
   {
    "duration": 51,
    "start_time": "2024-02-29T11:31:19.944Z"
   },
   {
    "duration": 51,
    "start_time": "2024-02-29T11:31:19.997Z"
   },
   {
    "duration": 50,
    "start_time": "2024-02-29T11:31:20.050Z"
   },
   {
    "duration": 51,
    "start_time": "2024-02-29T11:31:20.102Z"
   },
   {
    "duration": 52,
    "start_time": "2024-02-29T11:31:20.156Z"
   },
   {
    "duration": 51,
    "start_time": "2024-02-29T11:31:20.209Z"
   },
   {
    "duration": 52,
    "start_time": "2024-02-29T11:31:20.262Z"
   },
   {
    "duration": 52,
    "start_time": "2024-02-29T11:31:20.316Z"
   },
   {
    "duration": 53,
    "start_time": "2024-02-29T11:31:20.369Z"
   },
   {
    "duration": 89,
    "start_time": "2024-02-29T11:31:20.424Z"
   },
   {
    "duration": 53,
    "start_time": "2024-02-29T11:31:20.514Z"
   },
   {
    "duration": 144,
    "start_time": "2024-02-29T11:31:20.569Z"
   },
   {
    "duration": 0,
    "start_time": "2024-02-29T11:31:20.715Z"
   },
   {
    "duration": 63,
    "start_time": "2024-02-29T11:47:46.637Z"
   },
   {
    "duration": 61,
    "start_time": "2024-02-29T11:48:06.302Z"
   },
   {
    "duration": 56,
    "start_time": "2024-02-29T11:48:28.877Z"
   },
   {
    "duration": 57,
    "start_time": "2024-02-29T11:48:50.471Z"
   },
   {
    "duration": 56,
    "start_time": "2024-02-29T11:49:41.841Z"
   },
   {
    "duration": 57,
    "start_time": "2024-02-29T11:55:59.734Z"
   },
   {
    "duration": 53,
    "start_time": "2024-02-29T12:09:51.831Z"
   },
   {
    "duration": 62,
    "start_time": "2024-02-29T12:14:17.145Z"
   },
   {
    "duration": 61,
    "start_time": "2024-02-29T12:14:59.886Z"
   },
   {
    "duration": 61,
    "start_time": "2024-02-29T12:15:18.384Z"
   },
   {
    "duration": 61,
    "start_time": "2024-02-29T12:19:05.487Z"
   },
   {
    "duration": 62,
    "start_time": "2024-02-29T12:19:26.670Z"
   },
   {
    "duration": 62,
    "start_time": "2024-02-29T12:20:21.615Z"
   },
   {
    "duration": 61,
    "start_time": "2024-02-29T12:20:26.952Z"
   },
   {
    "duration": 54,
    "start_time": "2024-02-29T12:23:38.226Z"
   },
   {
    "duration": 54,
    "start_time": "2024-02-29T12:25:28.064Z"
   },
   {
    "duration": 67,
    "start_time": "2024-02-29T12:36:33.704Z"
   },
   {
    "duration": 50,
    "start_time": "2024-02-29T12:37:20.283Z"
   },
   {
    "duration": 51,
    "start_time": "2024-02-29T12:37:33.190Z"
   },
   {
    "duration": 550,
    "start_time": "2024-02-29T12:51:31.651Z"
   },
   {
    "duration": 7873,
    "start_time": "2024-02-29T12:51:32.203Z"
   },
   {
    "duration": 4,
    "start_time": "2024-02-29T12:51:40.077Z"
   },
   {
    "duration": 247,
    "start_time": "2024-02-29T12:51:40.083Z"
   },
   {
    "duration": 50,
    "start_time": "2024-02-29T12:51:40.332Z"
   },
   {
    "duration": 50,
    "start_time": "2024-02-29T12:51:40.384Z"
   },
   {
    "duration": 51,
    "start_time": "2024-02-29T12:51:40.435Z"
   },
   {
    "duration": 50,
    "start_time": "2024-02-29T12:51:40.488Z"
   },
   {
    "duration": 49,
    "start_time": "2024-02-29T12:51:40.540Z"
   },
   {
    "duration": 51,
    "start_time": "2024-02-29T12:51:40.592Z"
   },
   {
    "duration": 50,
    "start_time": "2024-02-29T12:51:40.645Z"
   },
   {
    "duration": 51,
    "start_time": "2024-02-29T12:51:40.697Z"
   },
   {
    "duration": 50,
    "start_time": "2024-02-29T12:51:40.749Z"
   },
   {
    "duration": 50,
    "start_time": "2024-02-29T12:51:40.801Z"
   },
   {
    "duration": 89,
    "start_time": "2024-02-29T12:51:40.852Z"
   },
   {
    "duration": 50,
    "start_time": "2024-02-29T12:51:40.942Z"
   },
   {
    "duration": 55,
    "start_time": "2024-02-29T12:51:40.993Z"
   },
   {
    "duration": 53,
    "start_time": "2024-02-29T12:51:41.049Z"
   },
   {
    "duration": 458,
    "start_time": "2024-03-01T04:24:24.324Z"
   },
   {
    "duration": 7829,
    "start_time": "2024-03-01T04:24:24.783Z"
   },
   {
    "duration": 3,
    "start_time": "2024-03-01T04:24:32.614Z"
   },
   {
    "duration": 275,
    "start_time": "2024-03-01T04:24:32.618Z"
   },
   {
    "duration": 52,
    "start_time": "2024-03-01T04:24:32.894Z"
   },
   {
    "duration": 51,
    "start_time": "2024-03-01T04:24:32.948Z"
   },
   {
    "duration": 52,
    "start_time": "2024-03-01T04:24:33.001Z"
   },
   {
    "duration": 54,
    "start_time": "2024-03-01T04:24:33.055Z"
   },
   {
    "duration": 51,
    "start_time": "2024-03-01T04:24:33.110Z"
   },
   {
    "duration": 52,
    "start_time": "2024-03-01T04:24:33.163Z"
   },
   {
    "duration": 52,
    "start_time": "2024-03-01T04:24:33.217Z"
   },
   {
    "duration": 54,
    "start_time": "2024-03-01T04:24:33.270Z"
   },
   {
    "duration": 53,
    "start_time": "2024-03-01T04:24:33.326Z"
   },
   {
    "duration": 58,
    "start_time": "2024-03-01T04:24:33.380Z"
   },
   {
    "duration": 94,
    "start_time": "2024-03-01T04:24:33.439Z"
   },
   {
    "duration": 53,
    "start_time": "2024-03-01T04:24:33.534Z"
   },
   {
    "duration": 57,
    "start_time": "2024-03-01T04:24:33.589Z"
   },
   {
    "duration": 63,
    "start_time": "2024-03-01T04:24:33.647Z"
   },
   {
    "duration": 52,
    "start_time": "2024-03-01T04:55:12.992Z"
   },
   {
    "duration": 557,
    "start_time": "2024-03-01T04:55:20.604Z"
   },
   {
    "duration": 10963,
    "start_time": "2024-03-01T04:55:21.162Z"
   },
   {
    "duration": 3,
    "start_time": "2024-03-01T04:55:32.127Z"
   },
   {
    "duration": 72,
    "start_time": "2024-03-01T04:55:32.132Z"
   },
   {
    "duration": 10,
    "start_time": "2024-03-01T04:55:32.206Z"
   },
   {
    "duration": 27,
    "start_time": "2024-03-01T04:55:32.217Z"
   },
   {
    "duration": 24,
    "start_time": "2024-03-01T04:55:32.245Z"
   },
   {
    "duration": 25,
    "start_time": "2024-03-01T04:55:32.271Z"
   },
   {
    "duration": 9,
    "start_time": "2024-03-01T04:55:32.303Z"
   },
   {
    "duration": 18,
    "start_time": "2024-03-01T04:55:32.314Z"
   },
   {
    "duration": 12,
    "start_time": "2024-03-01T04:55:32.334Z"
   },
   {
    "duration": 11,
    "start_time": "2024-03-01T04:55:32.347Z"
   },
   {
    "duration": 25,
    "start_time": "2024-03-01T04:55:32.359Z"
   },
   {
    "duration": 31,
    "start_time": "2024-03-01T04:55:32.386Z"
   },
   {
    "duration": 29,
    "start_time": "2024-03-01T04:55:32.419Z"
   },
   {
    "duration": 11,
    "start_time": "2024-03-01T04:55:32.449Z"
   },
   {
    "duration": 16,
    "start_time": "2024-03-01T04:55:32.462Z"
   },
   {
    "duration": 24,
    "start_time": "2024-03-01T04:55:32.480Z"
   },
   {
    "duration": 484,
    "start_time": "2024-03-01T13:26:35.481Z"
   },
   {
    "duration": 8266,
    "start_time": "2024-03-01T13:26:35.967Z"
   },
   {
    "duration": 3,
    "start_time": "2024-03-01T13:26:44.235Z"
   },
   {
    "duration": 250,
    "start_time": "2024-03-01T13:26:44.240Z"
   },
   {
    "duration": 49,
    "start_time": "2024-03-01T13:26:44.492Z"
   },
   {
    "duration": 50,
    "start_time": "2024-03-01T13:26:44.543Z"
   },
   {
    "duration": 50,
    "start_time": "2024-03-01T13:26:44.595Z"
   },
   {
    "duration": 51,
    "start_time": "2024-03-01T13:26:44.647Z"
   },
   {
    "duration": 48,
    "start_time": "2024-03-01T13:26:44.700Z"
   },
   {
    "duration": 53,
    "start_time": "2024-03-01T13:26:44.750Z"
   },
   {
    "duration": 51,
    "start_time": "2024-03-01T13:26:44.804Z"
   },
   {
    "duration": 51,
    "start_time": "2024-03-01T13:26:44.856Z"
   },
   {
    "duration": 50,
    "start_time": "2024-03-01T13:26:44.908Z"
   },
   {
    "duration": 50,
    "start_time": "2024-03-01T13:26:44.960Z"
   },
   {
    "duration": 89,
    "start_time": "2024-03-01T13:26:45.011Z"
   },
   {
    "duration": 52,
    "start_time": "2024-03-01T13:26:45.101Z"
   },
   {
    "duration": 55,
    "start_time": "2024-03-01T13:26:45.155Z"
   },
   {
    "duration": 53,
    "start_time": "2024-03-01T13:26:45.212Z"
   }
  ],
  "kernelspec": {
   "display_name": "Python 3 (ipykernel)",
   "language": "python",
   "name": "python3"
  },
  "language_info": {
   "codemirror_mode": {
    "name": "ipython",
    "version": 3
   },
   "file_extension": ".py",
   "mimetype": "text/x-python",
   "name": "python",
   "nbconvert_exporter": "python",
   "pygments_lexer": "ipython3",
   "version": "3.9.18"
  },
  "toc": {
   "base_numbering": 1,
   "nav_menu": {},
   "number_sections": true,
   "sideBar": true,
   "skip_h1_title": true,
   "title_cell": "Table of Contents",
   "title_sidebar": "Contents",
   "toc_cell": false,
   "toc_position": {},
   "toc_section_display": true,
   "toc_window_display": false
  }
 },
 "nbformat": 4,
 "nbformat_minor": 2
}
