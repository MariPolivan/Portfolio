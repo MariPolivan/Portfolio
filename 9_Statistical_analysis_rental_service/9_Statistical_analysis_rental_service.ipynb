{
 "cells": [
  {
   "cell_type": "markdown",
   "id": "a42e417d",
   "metadata": {},
   "source": [
    "# ПРОЕКТНАЯ РАБОТА ПО  СТАТИСТИЧЕСКОМУ АНАЛИЗУ ДАННЫХ\n",
    "<a id = \"start\"></a>"
   ]
  },
  {
   "cell_type": "markdown",
   "id": "5523f267",
   "metadata": {
    "toc": true
   },
   "source": [
    "<h1>Содержание<span class=\"tocSkip\"></span></h1>\n",
    "<div class=\"toc\"><ul class=\"toc-item\"><li><span><a href=\"#Шаг-1.-Загрузка-данных\" data-toc-modified-id=\"Шаг-1.-Загрузка-данных-1\"><span class=\"toc-item-num\">1&nbsp;&nbsp;</span>Шаг 1. Загрузка данных</a></span></li><li><span><a href=\"#Шаг-2.-Предобработка-данных\" data-toc-modified-id=\"Шаг-2.-Предобработка-данных-2\"><span class=\"toc-item-num\">2&nbsp;&nbsp;</span>Шаг 2. Предобработка данных</a></span><ul class=\"toc-item\"><li><span><a href=\"#Приведение-столбцов-к-необходимому-типу\" data-toc-modified-id=\"Приведение-столбцов-к-необходимому-типу-2.1\"><span class=\"toc-item-num\">2.1&nbsp;&nbsp;</span>Приведение столбцов к необходимому типу</a></span></li><li><span><a href=\"#Проверка-на-наличие-пропущенных-значений-в-данных.\" data-toc-modified-id=\"Проверка-на-наличие-пропущенных-значений-в-данных.-2.2\"><span class=\"toc-item-num\">2.2&nbsp;&nbsp;</span>Проверка на наличие пропущенных значений в данных.</a></span></li><li><span><a href=\"#Проверка-на-наличие-дубликатов\" data-toc-modified-id=\"Проверка-на-наличие-дубликатов-2.3\"><span class=\"toc-item-num\">2.3&nbsp;&nbsp;</span>Проверка на наличие дубликатов</a></span></li></ul></li><li><span><a href=\"#Шаг-3.-Исследовательский-анализ-данных\" data-toc-modified-id=\"Шаг-3.-Исследовательский-анализ-данных-3\"><span class=\"toc-item-num\">3&nbsp;&nbsp;</span>Шаг 3. Исследовательский анализ данных</a></span><ul class=\"toc-item\"><li><span><a href=\"#Рассмотрим-частоту-встречаемости-городов.\" data-toc-modified-id=\"Рассмотрим-частоту-встречаемости-городов.-3.1\"><span class=\"toc-item-num\">3.1&nbsp;&nbsp;</span>Рассмотрим частоту встречаемости городов.</a></span></li><li><span><a href=\"#Рассмотрим-соотношение-пользователей-с-подпиской-и-без-подписки.\" data-toc-modified-id=\"Рассмотрим-соотношение-пользователей-с-подпиской-и-без-подписки.-3.2\"><span class=\"toc-item-num\">3.2&nbsp;&nbsp;</span>Рассмотрим соотношение пользователей с подпиской и без подписки.</a></span></li><li><span><a href=\"#Рассмотрим-параметр-возраст-пользователей.\" data-toc-modified-id=\"Рассмотрим-параметр-возраст-пользователей.-3.3\"><span class=\"toc-item-num\">3.3&nbsp;&nbsp;</span>Рассмотрим параметр возраст пользователей.</a></span></li><li><span><a href=\"#Исследуем-параметр-расстояние,-которое-пользователь-преодалел-за-одну-поездку.\" data-toc-modified-id=\"Исследуем-параметр-расстояние,-которое-пользователь-преодалел-за-одну-поездку.-3.4\"><span class=\"toc-item-num\">3.4&nbsp;&nbsp;</span>Исследуем параметр расстояние, которое пользователь преодалел за одну поездку.</a></span></li><li><span><a href=\"#Рассмотрим-продолжительность-поездок.\" data-toc-modified-id=\"Рассмотрим-продолжительность-поездок.-3.5\"><span class=\"toc-item-num\">3.5&nbsp;&nbsp;</span>Рассмотрим продолжительность поездок.</a></span></li></ul></li><li><span><a href=\"#Шаг-4.-Объединение-данных\" data-toc-modified-id=\"Шаг-4.-Объединение-данных-4\"><span class=\"toc-item-num\">4&nbsp;&nbsp;</span>Шаг 4. Объединение данных</a></span><ul class=\"toc-item\"><li><span><a href=\"#Объеденим-данные-из-трех-датафреймов-в-один\" data-toc-modified-id=\"Объеденим-данные-из-трех-датафреймов-в-один-4.1\"><span class=\"toc-item-num\">4.1&nbsp;&nbsp;</span>Объеденим данные из трех датафреймов в один</a></span></li><li><span><a href=\"#На-основе-общего-датафрейма-со-всеми-данными,-создадим-датафрейм-с-пользователями-без-подписки\" data-toc-modified-id=\"На-основе-общего-датафрейма-со-всеми-данными,-создадим-датафрейм-с-пользователями-без-подписки-4.2\"><span class=\"toc-item-num\">4.2&nbsp;&nbsp;</span>На основе общего датафрейма со всеми данными, создадим датафрейм с пользователями без подписки</a></span></li><li><span><a href=\"#На-основе-общего-датафрейма-со-всеми-данными,-создадим-датафрейм-с-пользователями-оформившими-подписку\" data-toc-modified-id=\"На-основе-общего-датафрейма-со-всеми-данными,-создадим-датафрейм-с-пользователями-оформившими-подписку-4.3\"><span class=\"toc-item-num\">4.3&nbsp;&nbsp;</span>На основе общего датафрейма со всеми данными, создадим датафрейм с пользователями оформившими подписку</a></span></li><li><span><a href=\"#Построим-график-о-расстоянии-поездок-для-пользователей-без-подписки-и-с-подпиской.\" data-toc-modified-id=\"Построим-график-о-расстоянии-поездок-для-пользователей-без-подписки-и-с-подпиской.-4.4\"><span class=\"toc-item-num\">4.4&nbsp;&nbsp;</span>Построим график о расстоянии поездок для пользователей без подписки и с подпиской.</a></span></li><li><span><a href=\"#Построим-график-о-времени-поездок-для-пользователей-без-подписки-и-с-подпиской.\" data-toc-modified-id=\"Построим-график-о-времени-поездок-для-пользователей-без-подписки-и-с-подпиской.-4.5\"><span class=\"toc-item-num\">4.5&nbsp;&nbsp;</span>Построим график о времени поездок для пользователей без подписки и с подпиской.</a></span></li></ul></li><li><span><a href=\"#Шаг-5.-Подсчет-выручки\" data-toc-modified-id=\"Шаг-5.-Подсчет-выручки-5\"><span class=\"toc-item-num\">5&nbsp;&nbsp;</span>Шаг 5. Подсчет выручки</a></span><ul class=\"toc-item\"><li><span><a href=\"#Подготовим-сводную-таблицу\" data-toc-modified-id=\"Подготовим-сводную-таблицу-5.1\"><span class=\"toc-item-num\">5.1&nbsp;&nbsp;</span>Подготовим сводную таблицу</a></span></li><li><span><a href=\"#Посчитаем-помесячную-выручку,-которую-принес-каждый-пользователь.\" data-toc-modified-id=\"Посчитаем-помесячную-выручку,-которую-принес-каждый-пользователь.-5.2\"><span class=\"toc-item-num\">5.2&nbsp;&nbsp;</span>Посчитаем помесячную выручку, которую принес каждый пользователь.</a></span></li></ul></li><li><span><a href=\"#Шаг-6.-Проверка-гипотез.\" data-toc-modified-id=\"Шаг-6.-Проверка-гипотез.-6\"><span class=\"toc-item-num\">6&nbsp;&nbsp;</span>Шаг 6. Проверка гипотез.</a></span><ul class=\"toc-item\"><li><span><a href=\"#Проверка-гипотезы---о-равенстве-времени-поездки-пользователей-с-подпиской-и-без-подписки\" data-toc-modified-id=\"Проверка-гипотезы---о-равенстве-времени-поездки-пользователей-с-подпиской-и-без-подписки-6.1\"><span class=\"toc-item-num\">6.1&nbsp;&nbsp;</span>Проверка гипотезы - о равенстве времени поездки пользователей с подпиской и без подписки</a></span></li><li><span><a href=\"#Проверка-гипотезы--&quot;Среднее-расстояние,-которое-проезжают-пользователи-с-подпиской-за-одну-поездку-равно-3130&quot;\" data-toc-modified-id=\"Проверка-гипотезы--&quot;Среднее-расстояние,-которое-проезжают-пользователи-с-подпиской-за-одну-поездку-равно-3130&quot;-6.2\"><span class=\"toc-item-num\">6.2&nbsp;&nbsp;</span>Проверка гипотезы -\"Среднее расстояние, которое проезжают пользователи с подпиской за одну поездку равно 3130\"</a></span></li><li><span><a href=\"#Проверка-гипотезы---&quot;Помесячная-выручка-от-пользователей-обеих-групп-равна&quot;\" data-toc-modified-id=\"Проверка-гипотезы---&quot;Помесячная-выручка-от-пользователей-обеих-групп-равна&quot;-6.3\"><span class=\"toc-item-num\">6.3&nbsp;&nbsp;</span>Проверка гипотезы - \"Помесячная выручка от пользователей обеих групп равна\"</a></span></li></ul></li><li><span><a href=\"#Шаг-7.-Распределения\" data-toc-modified-id=\"Шаг-7.-Распределения-7\"><span class=\"toc-item-num\">7&nbsp;&nbsp;</span>Шаг 7. Распределения</a></span><ul class=\"toc-item\"><li><span><a href=\"#Подсчет-данных-для-проведения-акции-с-раздачей-промокодов.\" data-toc-modified-id=\"Подсчет-данных-для-проведения-акции-с-раздачей-промокодов.-7.1\"><span class=\"toc-item-num\">7.1&nbsp;&nbsp;</span>Подсчет данных для проведения акции с раздачей промокодов.</a></span></li><li><span><a href=\"#Распределение-вероятности-успешности-рассылки-push-уведомлений\" data-toc-modified-id=\"Распределение-вероятности-успешности-рассылки-push-уведомлений-7.2\"><span class=\"toc-item-num\">7.2&nbsp;&nbsp;</span>Распределение вероятности успешности рассылки push-уведомлений</a></span></li></ul></li><li><span><a href=\"#Шаг-8.-Итоговый-вывод-по-проекту\" data-toc-modified-id=\"Шаг-8.-Итоговый-вывод-по-проекту-8\"><span class=\"toc-item-num\">8&nbsp;&nbsp;</span>Шаг 8. Итоговый вывод по проекту</a></span></li></ul></div>"
   ]
  },
  {
   "cell_type": "markdown",
   "id": "599f148f",
   "metadata": {},
   "source": [
    "Проектная работа по анализу сервиса аренды самокатов.\n",
    "\n",
    "__Цель исследования:__ Проанализировать данные и проверить некоторые гипотезы, которые могут помочь бизнесу вырасти.\n",
    "\n",
    "Для решения поставленной цели определим этапы исследования. \n",
    "\n",
    "__Ход исследования:__\n",
    "1. [Обзор данных](#Шаг-1.-Загрузка-данных) (ознакомление с общей информацией). \n",
    "2. [Предобработка данных](#Шаг-2.-Предобработка-данных) (обработка пропусков, проверка дубликатов, выявление и устранение аномалий).\n",
    "3. [Визуализация информации и исследование параметров](#Шаг-3.-Исследовательский-анализ-данных).\n",
    "4. [Создание дополнительных столбцов, создание датафреймов и обьединение данных.](#Шаг-4.-Объединение-данных)\n",
    "5. [Подсчет выручки.](#Шаг-5.-Подсчет-выручки)\n",
    "6. [Проверка гипотез:](#Шаг-6.-Проверка-гипотез.)\n",
    "    - тратят ли пользователи с подпиской больше времени на поездки;\n",
    "    - расстояние одной поездки в 3130 метров — оптимальное с точки зрения износа самоката. Можно ли сказать, что среднее расстояние, которое проезжают пользователи с подпиской за одну поездку, не превышает 3130 метров?\n",
    "    - будет ли помесячная выручка от пользователей с подпиской по месяцам выше, чем выручка от пользователей без подписки;]\n",
    "    - количество обращений в техподдержку значимо снизилось после того как техническая команда сервиса обновила сервера, с которыми взаимодействует мобильное приложение.\n",
    "7. [Построить графики распределения для промоакции отдела маркетинга.](#Шаг-7.-Распределения)\n",
    "8. [Подвести итоги и сделать выводы по проделанной работе.](#Шаг-8.-Итоговый-вывод-по-проекту)\n",
    "\n",
    "Чтобы совершать поездки по городу, пользователи сервиса пользуются мобильным приложением.  \n",
    "Сервисом можно пользоваться:\n",
    "\n",
    "1. без подписки\n",
    "- абонентская плата отсутствует;\n",
    "- стоимость одной минуты поездки — 8 рублей;\n",
    "- стоимость старта (начала поездки) — 50 рублей;\n",
    "\n",
    "2. с подпиской Ultra\n",
    "- абонентская плата — 199 рублей в месяц;\n",
    "- стоимость одной минуты поездки — 6 рублей;\n",
    "- стоимость старта — бесплатно.\n",
    "\n",
    "В основных данных есть информация о пользователях, их поездках и подписках."
   ]
  },
  {
   "cell_type": "markdown",
   "id": "1f13fbed",
   "metadata": {},
   "source": [
    "##  Шаг 1. Загрузка данных"
   ]
  },
  {
   "cell_type": "code",
   "execution_count": 1,
   "id": "261f801c",
   "metadata": {},
   "outputs": [
    {
     "name": "stderr",
     "output_type": "stream",
     "text": [
      "/Users/mariapolivanova/anaconda3/envs/practicum/lib/python3.9/site-packages/scipy/__init__.py:146: UserWarning: A NumPy version >=1.17.3 and <1.25.0 is required for this version of SciPy (detected version 1.26.4\n",
      "  warnings.warn(f\"A NumPy version >={np_minversion} and <{np_maxversion}\"\n"
     ]
    }
   ],
   "source": [
    "#для дальнейшей работы  подгрузим необходимые библиотеки \n",
    "import pandas as pd\n",
    "import seaborn as sns\n",
    "from scipy import stats as st\n",
    "import matplotlib\n",
    "import matplotlib.pyplot as plt\n",
    "from matplotlib import pyplot as plt\n",
    "import plotly.express as px\n",
    "import numpy as np\n",
    "from scipy.stats import binom\n",
    "from math import sqrt\n",
    "\n",
    "import warnings\n",
    "warnings.filterwarnings('ignore')"
   ]
  },
  {
   "cell_type": "markdown",
   "id": "4afa3d13",
   "metadata": {},
   "source": [
    "На данном этапе необходимо загрузить данные и ознакомиться с общей информацией."
   ]
  },
  {
   "cell_type": "code",
   "execution_count": 2,
   "id": "b7d4c5a4",
   "metadata": {},
   "outputs": [],
   "source": [
    "#считываем информацию и сохраняем в датафреймы\n",
    "try:\n",
    "    users = pd.read_csv(' .csv')\n",
    "    rides = pd.read_csv(' .csv', parse_dates=['date'])\n",
    "    subs = pd.read_csv(' .csv')\n",
    "except:\n",
    "    users = pd.read_csv(' .csv')\n",
    "    rides = pd.read_csv(' .csv', parse_dates=['date'] )\n",
    "    subs = pd.read_csv(' .csv')"
   ]
  },
  {
   "cell_type": "code",
   "execution_count": 3,
   "id": "16eeea6b",
   "metadata": {},
   "outputs": [],
   "source": [
    "#Зададим функцию для просмотра общей информации, первых строк \n",
    "#датафрейма и  на распределение значений в данных\n",
    "def general_info(dataframe):   \n",
    "    return display(\n",
    "        dataframe.info(), \n",
    "        dataframe.describe(),\n",
    "        dataframe.head()\n",
    "    )"
   ]
  },
  {
   "cell_type": "code",
   "execution_count": 4,
   "id": "5f09cc73",
   "metadata": {},
   "outputs": [
    {
     "name": "stdout",
     "output_type": "stream",
     "text": [
      "<class 'pandas.core.frame.DataFrame'>\n",
      "RangeIndex: 1565 entries, 0 to 1564\n",
      "Data columns (total 5 columns):\n",
      " #   Column             Non-Null Count  Dtype \n",
      "---  ------             --------------  ----- \n",
      " 0   user_id            1565 non-null   int64 \n",
      " 1   name               1565 non-null   object\n",
      " 2   age                1565 non-null   int64 \n",
      " 3   city               1565 non-null   object\n",
      " 4   subscription_type  1565 non-null   object\n",
      "dtypes: int64(2), object(3)\n",
      "memory usage: 61.3+ KB\n"
     ]
    },
    {
     "data": {
      "text/plain": [
       "None"
      ]
     },
     "metadata": {},
     "output_type": "display_data"
    },
    {
     "data": {
      "text/html": [
       "<div>\n",
       "<style scoped>\n",
       "    .dataframe tbody tr th:only-of-type {\n",
       "        vertical-align: middle;\n",
       "    }\n",
       "\n",
       "    .dataframe tbody tr th {\n",
       "        vertical-align: top;\n",
       "    }\n",
       "\n",
       "    .dataframe thead th {\n",
       "        text-align: right;\n",
       "    }\n",
       "</style>\n",
       "<table border=\"1\" class=\"dataframe\">\n",
       "  <thead>\n",
       "    <tr style=\"text-align: right;\">\n",
       "      <th></th>\n",
       "      <th>user_id</th>\n",
       "      <th>age</th>\n",
       "    </tr>\n",
       "  </thead>\n",
       "  <tbody>\n",
       "    <tr>\n",
       "      <th>count</th>\n",
       "      <td>1565.000000</td>\n",
       "      <td>1565.000000</td>\n",
       "    </tr>\n",
       "    <tr>\n",
       "      <th>mean</th>\n",
       "      <td>762.633866</td>\n",
       "      <td>24.922045</td>\n",
       "    </tr>\n",
       "    <tr>\n",
       "      <th>std</th>\n",
       "      <td>443.260155</td>\n",
       "      <td>4.553496</td>\n",
       "    </tr>\n",
       "    <tr>\n",
       "      <th>min</th>\n",
       "      <td>1.000000</td>\n",
       "      <td>12.000000</td>\n",
       "    </tr>\n",
       "    <tr>\n",
       "      <th>25%</th>\n",
       "      <td>378.000000</td>\n",
       "      <td>22.000000</td>\n",
       "    </tr>\n",
       "    <tr>\n",
       "      <th>50%</th>\n",
       "      <td>762.000000</td>\n",
       "      <td>25.000000</td>\n",
       "    </tr>\n",
       "    <tr>\n",
       "      <th>75%</th>\n",
       "      <td>1146.000000</td>\n",
       "      <td>28.000000</td>\n",
       "    </tr>\n",
       "    <tr>\n",
       "      <th>max</th>\n",
       "      <td>1534.000000</td>\n",
       "      <td>43.000000</td>\n",
       "    </tr>\n",
       "  </tbody>\n",
       "</table>\n",
       "</div>"
      ],
      "text/plain": [
       "           user_id          age\n",
       "count  1565.000000  1565.000000\n",
       "mean    762.633866    24.922045\n",
       "std     443.260155     4.553496\n",
       "min       1.000000    12.000000\n",
       "25%     378.000000    22.000000\n",
       "50%     762.000000    25.000000\n",
       "75%    1146.000000    28.000000\n",
       "max    1534.000000    43.000000"
      ]
     },
     "metadata": {},
     "output_type": "display_data"
    },
    {
     "data": {
      "text/html": [
       "<div>\n",
       "<style scoped>\n",
       "    .dataframe tbody tr th:only-of-type {\n",
       "        vertical-align: middle;\n",
       "    }\n",
       "\n",
       "    .dataframe tbody tr th {\n",
       "        vertical-align: top;\n",
       "    }\n",
       "\n",
       "    .dataframe thead th {\n",
       "        text-align: right;\n",
       "    }\n",
       "</style>\n",
       "<table border=\"1\" class=\"dataframe\">\n",
       "  <thead>\n",
       "    <tr style=\"text-align: right;\">\n",
       "      <th></th>\n",
       "      <th>user_id</th>\n",
       "      <th>name</th>\n",
       "      <th>age</th>\n",
       "      <th>city</th>\n",
       "      <th>subscription_type</th>\n",
       "    </tr>\n",
       "  </thead>\n",
       "  <tbody>\n",
       "    <tr>\n",
       "      <th>0</th>\n",
       "      <td>1</td>\n",
       "      <td>Кира</td>\n",
       "      <td>22</td>\n",
       "      <td>Тюмень</td>\n",
       "      <td>ultra</td>\n",
       "    </tr>\n",
       "    <tr>\n",
       "      <th>1</th>\n",
       "      <td>2</td>\n",
       "      <td>Станислав</td>\n",
       "      <td>31</td>\n",
       "      <td>Омск</td>\n",
       "      <td>ultra</td>\n",
       "    </tr>\n",
       "    <tr>\n",
       "      <th>2</th>\n",
       "      <td>3</td>\n",
       "      <td>Алексей</td>\n",
       "      <td>20</td>\n",
       "      <td>Москва</td>\n",
       "      <td>ultra</td>\n",
       "    </tr>\n",
       "    <tr>\n",
       "      <th>3</th>\n",
       "      <td>4</td>\n",
       "      <td>Константин</td>\n",
       "      <td>26</td>\n",
       "      <td>Ростов-на-Дону</td>\n",
       "      <td>ultra</td>\n",
       "    </tr>\n",
       "    <tr>\n",
       "      <th>4</th>\n",
       "      <td>5</td>\n",
       "      <td>Адель</td>\n",
       "      <td>28</td>\n",
       "      <td>Омск</td>\n",
       "      <td>ultra</td>\n",
       "    </tr>\n",
       "  </tbody>\n",
       "</table>\n",
       "</div>"
      ],
      "text/plain": [
       "   user_id        name  age            city subscription_type\n",
       "0        1        Кира   22          Тюмень             ultra\n",
       "1        2   Станислав   31            Омск             ultra\n",
       "2        3     Алексей   20          Москва             ultra\n",
       "3        4  Константин   26  Ростов-на-Дону             ultra\n",
       "4        5       Адель   28            Омск             ultra"
      ]
     },
     "metadata": {},
     "output_type": "display_data"
    }
   ],
   "source": [
    "general_info(users)"
   ]
  },
  {
   "cell_type": "code",
   "execution_count": 5,
   "id": "ffcbff9b",
   "metadata": {},
   "outputs": [
    {
     "name": "stdout",
     "output_type": "stream",
     "text": [
      "<class 'pandas.core.frame.DataFrame'>\n",
      "RangeIndex: 18068 entries, 0 to 18067\n",
      "Data columns (total 4 columns):\n",
      " #   Column    Non-Null Count  Dtype         \n",
      "---  ------    --------------  -----         \n",
      " 0   user_id   18068 non-null  int64         \n",
      " 1   distance  18068 non-null  float64       \n",
      " 2   duration  18068 non-null  float64       \n",
      " 3   date      18068 non-null  datetime64[ns]\n",
      "dtypes: datetime64[ns](1), float64(2), int64(1)\n",
      "memory usage: 564.8 KB\n"
     ]
    },
    {
     "data": {
      "text/plain": [
       "None"
      ]
     },
     "metadata": {},
     "output_type": "display_data"
    },
    {
     "data": {
      "text/html": [
       "<div>\n",
       "<style scoped>\n",
       "    .dataframe tbody tr th:only-of-type {\n",
       "        vertical-align: middle;\n",
       "    }\n",
       "\n",
       "    .dataframe tbody tr th {\n",
       "        vertical-align: top;\n",
       "    }\n",
       "\n",
       "    .dataframe thead th {\n",
       "        text-align: right;\n",
       "    }\n",
       "</style>\n",
       "<table border=\"1\" class=\"dataframe\">\n",
       "  <thead>\n",
       "    <tr style=\"text-align: right;\">\n",
       "      <th></th>\n",
       "      <th>user_id</th>\n",
       "      <th>distance</th>\n",
       "      <th>duration</th>\n",
       "    </tr>\n",
       "  </thead>\n",
       "  <tbody>\n",
       "    <tr>\n",
       "      <th>count</th>\n",
       "      <td>18068.000000</td>\n",
       "      <td>18068.000000</td>\n",
       "      <td>18068.000000</td>\n",
       "    </tr>\n",
       "    <tr>\n",
       "      <th>mean</th>\n",
       "      <td>842.869936</td>\n",
       "      <td>3070.659976</td>\n",
       "      <td>17.805011</td>\n",
       "    </tr>\n",
       "    <tr>\n",
       "      <th>std</th>\n",
       "      <td>434.734317</td>\n",
       "      <td>1116.831209</td>\n",
       "      <td>6.091051</td>\n",
       "    </tr>\n",
       "    <tr>\n",
       "      <th>min</th>\n",
       "      <td>1.000000</td>\n",
       "      <td>0.855683</td>\n",
       "      <td>0.500000</td>\n",
       "    </tr>\n",
       "    <tr>\n",
       "      <th>25%</th>\n",
       "      <td>487.000000</td>\n",
       "      <td>2543.226360</td>\n",
       "      <td>13.597563</td>\n",
       "    </tr>\n",
       "    <tr>\n",
       "      <th>50%</th>\n",
       "      <td>889.000000</td>\n",
       "      <td>3133.609994</td>\n",
       "      <td>17.678395</td>\n",
       "    </tr>\n",
       "    <tr>\n",
       "      <th>75%</th>\n",
       "      <td>1213.250000</td>\n",
       "      <td>3776.222735</td>\n",
       "      <td>21.724800</td>\n",
       "    </tr>\n",
       "    <tr>\n",
       "      <th>max</th>\n",
       "      <td>1534.000000</td>\n",
       "      <td>7211.007745</td>\n",
       "      <td>40.823963</td>\n",
       "    </tr>\n",
       "  </tbody>\n",
       "</table>\n",
       "</div>"
      ],
      "text/plain": [
       "            user_id      distance      duration\n",
       "count  18068.000000  18068.000000  18068.000000\n",
       "mean     842.869936   3070.659976     17.805011\n",
       "std      434.734317   1116.831209      6.091051\n",
       "min        1.000000      0.855683      0.500000\n",
       "25%      487.000000   2543.226360     13.597563\n",
       "50%      889.000000   3133.609994     17.678395\n",
       "75%     1213.250000   3776.222735     21.724800\n",
       "max     1534.000000   7211.007745     40.823963"
      ]
     },
     "metadata": {},
     "output_type": "display_data"
    },
    {
     "data": {
      "text/html": [
       "<div>\n",
       "<style scoped>\n",
       "    .dataframe tbody tr th:only-of-type {\n",
       "        vertical-align: middle;\n",
       "    }\n",
       "\n",
       "    .dataframe tbody tr th {\n",
       "        vertical-align: top;\n",
       "    }\n",
       "\n",
       "    .dataframe thead th {\n",
       "        text-align: right;\n",
       "    }\n",
       "</style>\n",
       "<table border=\"1\" class=\"dataframe\">\n",
       "  <thead>\n",
       "    <tr style=\"text-align: right;\">\n",
       "      <th></th>\n",
       "      <th>user_id</th>\n",
       "      <th>distance</th>\n",
       "      <th>duration</th>\n",
       "      <th>date</th>\n",
       "    </tr>\n",
       "  </thead>\n",
       "  <tbody>\n",
       "    <tr>\n",
       "      <th>0</th>\n",
       "      <td>1</td>\n",
       "      <td>4409.919140</td>\n",
       "      <td>25.599769</td>\n",
       "      <td>2021-01-01</td>\n",
       "    </tr>\n",
       "    <tr>\n",
       "      <th>1</th>\n",
       "      <td>1</td>\n",
       "      <td>2617.592153</td>\n",
       "      <td>15.816871</td>\n",
       "      <td>2021-01-18</td>\n",
       "    </tr>\n",
       "    <tr>\n",
       "      <th>2</th>\n",
       "      <td>1</td>\n",
       "      <td>754.159807</td>\n",
       "      <td>6.232113</td>\n",
       "      <td>2021-04-20</td>\n",
       "    </tr>\n",
       "    <tr>\n",
       "      <th>3</th>\n",
       "      <td>1</td>\n",
       "      <td>2694.783254</td>\n",
       "      <td>18.511000</td>\n",
       "      <td>2021-08-11</td>\n",
       "    </tr>\n",
       "    <tr>\n",
       "      <th>4</th>\n",
       "      <td>1</td>\n",
       "      <td>4028.687306</td>\n",
       "      <td>26.265803</td>\n",
       "      <td>2021-08-28</td>\n",
       "    </tr>\n",
       "  </tbody>\n",
       "</table>\n",
       "</div>"
      ],
      "text/plain": [
       "   user_id     distance   duration       date\n",
       "0        1  4409.919140  25.599769 2021-01-01\n",
       "1        1  2617.592153  15.816871 2021-01-18\n",
       "2        1   754.159807   6.232113 2021-04-20\n",
       "3        1  2694.783254  18.511000 2021-08-11\n",
       "4        1  4028.687306  26.265803 2021-08-28"
      ]
     },
     "metadata": {},
     "output_type": "display_data"
    }
   ],
   "source": [
    "general_info(rides)"
   ]
  },
  {
   "cell_type": "code",
   "execution_count": 6,
   "id": "d5543da4",
   "metadata": {},
   "outputs": [
    {
     "name": "stdout",
     "output_type": "stream",
     "text": [
      "<class 'pandas.core.frame.DataFrame'>\n",
      "RangeIndex: 2 entries, 0 to 1\n",
      "Data columns (total 4 columns):\n",
      " #   Column             Non-Null Count  Dtype \n",
      "---  ------             --------------  ----- \n",
      " 0   subscription_type  2 non-null      object\n",
      " 1   minute_price       2 non-null      int64 \n",
      " 2   start_ride_price   2 non-null      int64 \n",
      " 3   subscription_fee   2 non-null      int64 \n",
      "dtypes: int64(3), object(1)\n",
      "memory usage: 192.0+ bytes\n"
     ]
    },
    {
     "data": {
      "text/plain": [
       "None"
      ]
     },
     "metadata": {},
     "output_type": "display_data"
    },
    {
     "data": {
      "text/html": [
       "<div>\n",
       "<style scoped>\n",
       "    .dataframe tbody tr th:only-of-type {\n",
       "        vertical-align: middle;\n",
       "    }\n",
       "\n",
       "    .dataframe tbody tr th {\n",
       "        vertical-align: top;\n",
       "    }\n",
       "\n",
       "    .dataframe thead th {\n",
       "        text-align: right;\n",
       "    }\n",
       "</style>\n",
       "<table border=\"1\" class=\"dataframe\">\n",
       "  <thead>\n",
       "    <tr style=\"text-align: right;\">\n",
       "      <th></th>\n",
       "      <th>minute_price</th>\n",
       "      <th>start_ride_price</th>\n",
       "      <th>subscription_fee</th>\n",
       "    </tr>\n",
       "  </thead>\n",
       "  <tbody>\n",
       "    <tr>\n",
       "      <th>count</th>\n",
       "      <td>2.000000</td>\n",
       "      <td>2.000000</td>\n",
       "      <td>2.000000</td>\n",
       "    </tr>\n",
       "    <tr>\n",
       "      <th>mean</th>\n",
       "      <td>7.000000</td>\n",
       "      <td>25.000000</td>\n",
       "      <td>99.500000</td>\n",
       "    </tr>\n",
       "    <tr>\n",
       "      <th>std</th>\n",
       "      <td>1.414214</td>\n",
       "      <td>35.355339</td>\n",
       "      <td>140.714249</td>\n",
       "    </tr>\n",
       "    <tr>\n",
       "      <th>min</th>\n",
       "      <td>6.000000</td>\n",
       "      <td>0.000000</td>\n",
       "      <td>0.000000</td>\n",
       "    </tr>\n",
       "    <tr>\n",
       "      <th>25%</th>\n",
       "      <td>6.500000</td>\n",
       "      <td>12.500000</td>\n",
       "      <td>49.750000</td>\n",
       "    </tr>\n",
       "    <tr>\n",
       "      <th>50%</th>\n",
       "      <td>7.000000</td>\n",
       "      <td>25.000000</td>\n",
       "      <td>99.500000</td>\n",
       "    </tr>\n",
       "    <tr>\n",
       "      <th>75%</th>\n",
       "      <td>7.500000</td>\n",
       "      <td>37.500000</td>\n",
       "      <td>149.250000</td>\n",
       "    </tr>\n",
       "    <tr>\n",
       "      <th>max</th>\n",
       "      <td>8.000000</td>\n",
       "      <td>50.000000</td>\n",
       "      <td>199.000000</td>\n",
       "    </tr>\n",
       "  </tbody>\n",
       "</table>\n",
       "</div>"
      ],
      "text/plain": [
       "       minute_price  start_ride_price  subscription_fee\n",
       "count      2.000000          2.000000          2.000000\n",
       "mean       7.000000         25.000000         99.500000\n",
       "std        1.414214         35.355339        140.714249\n",
       "min        6.000000          0.000000          0.000000\n",
       "25%        6.500000         12.500000         49.750000\n",
       "50%        7.000000         25.000000         99.500000\n",
       "75%        7.500000         37.500000        149.250000\n",
       "max        8.000000         50.000000        199.000000"
      ]
     },
     "metadata": {},
     "output_type": "display_data"
    },
    {
     "data": {
      "text/html": [
       "<div>\n",
       "<style scoped>\n",
       "    .dataframe tbody tr th:only-of-type {\n",
       "        vertical-align: middle;\n",
       "    }\n",
       "\n",
       "    .dataframe tbody tr th {\n",
       "        vertical-align: top;\n",
       "    }\n",
       "\n",
       "    .dataframe thead th {\n",
       "        text-align: right;\n",
       "    }\n",
       "</style>\n",
       "<table border=\"1\" class=\"dataframe\">\n",
       "  <thead>\n",
       "    <tr style=\"text-align: right;\">\n",
       "      <th></th>\n",
       "      <th>subscription_type</th>\n",
       "      <th>minute_price</th>\n",
       "      <th>start_ride_price</th>\n",
       "      <th>subscription_fee</th>\n",
       "    </tr>\n",
       "  </thead>\n",
       "  <tbody>\n",
       "    <tr>\n",
       "      <th>0</th>\n",
       "      <td>free</td>\n",
       "      <td>8</td>\n",
       "      <td>50</td>\n",
       "      <td>0</td>\n",
       "    </tr>\n",
       "    <tr>\n",
       "      <th>1</th>\n",
       "      <td>ultra</td>\n",
       "      <td>6</td>\n",
       "      <td>0</td>\n",
       "      <td>199</td>\n",
       "    </tr>\n",
       "  </tbody>\n",
       "</table>\n",
       "</div>"
      ],
      "text/plain": [
       "  subscription_type  minute_price  start_ride_price  subscription_fee\n",
       "0              free             8                50                 0\n",
       "1             ultra             6                 0               199"
      ]
     },
     "metadata": {},
     "output_type": "display_data"
    }
   ],
   "source": [
    "general_info(subs)"
   ]
  },
  {
   "cell_type": "markdown",
   "id": "b79e90fe",
   "metadata": {},
   "source": [
    "Вывод: На этапе ознакомления с общей информацией можно заметить, что все наименования столбцов в едином змеином регистре, нет пропущенных значений, тип данных в подходящем описанию формате, кроме столбца `date` (указан тип `object`) - его необходимо привести к типу даты pandas."
   ]
  },
  {
   "cell_type": "markdown",
   "id": "04084c3a",
   "metadata": {},
   "source": [
    "Вернуться в [начало проекта](#start)"
   ]
  },
  {
   "cell_type": "markdown",
   "id": "9b374a2c",
   "metadata": {},
   "source": [
    "## Шаг 2. Предобработка данных"
   ]
  },
  {
   "cell_type": "markdown",
   "id": "eaa5def8",
   "metadata": {},
   "source": [
    "### Приведение столбцов к необходимому типу"
   ]
  },
  {
   "cell_type": "markdown",
   "id": "64ba2a3e",
   "metadata": {},
   "source": [
    "На данном этапе необходимо проверить наличие пропущенных значений и дубликатов, обрабодать их. Также необходимо привести столбец `date` к типу даты pandas и создать новый столбец с номером месяца. "
   ]
  },
  {
   "cell_type": "code",
   "execution_count": 7,
   "id": "abce7387",
   "metadata": {},
   "outputs": [
    {
     "name": "stdout",
     "output_type": "stream",
     "text": [
      "date - ok\n"
     ]
    }
   ],
   "source": [
    "#Приведем столбец date к типу даты pandas\n",
    "try:\n",
    "    rides['date'] = pd.to_datetime(rides['date'], format = '%Y-%m-%d')\n",
    "    print('date - ok')\n",
    "except:\n",
    "    print('date - fail')"
   ]
  },
  {
   "cell_type": "code",
   "execution_count": 8,
   "id": "a5094ab3",
   "metadata": {},
   "outputs": [
    {
     "data": {
      "text/plain": [
       "array([2021])"
      ]
     },
     "execution_count": 8,
     "metadata": {},
     "output_type": "execute_result"
    }
   ],
   "source": [
    "#Для создания столбца с номером месяца, \n",
    "#необходимо проветить за какой период предоставлены данные\n",
    "rides['date'].dt.year.unique()"
   ]
  },
  {
   "cell_type": "markdown",
   "id": "97165e03",
   "metadata": {},
   "source": [
    "Важно выбрать корректный метод для вычленения месяца, иначе месяца разных годов могут стать одним месяцем. В данном случае данные представлены только за 2021 год."
   ]
  },
  {
   "cell_type": "code",
   "execution_count": 9,
   "id": "9d469bc1",
   "metadata": {},
   "outputs": [
    {
     "data": {
      "text/plain": [
       "1     1585\n",
       "5     1560\n",
       "6     1553\n",
       "3     1544\n",
       "7     1529\n",
       "12    1527\n",
       "8     1518\n",
       "9     1517\n",
       "4     1506\n",
       "10    1475\n",
       "11    1418\n",
       "2     1336\n",
       "Name: month, dtype: int64"
      ]
     },
     "execution_count": 9,
     "metadata": {},
     "output_type": "execute_result"
    }
   ],
   "source": [
    "#создадим новый столбец с номером месяца на основе столбца date.\n",
    "rides['month'] = pd.DatetimeIndex(rides['date']).month\n",
    "rides['month'].value_counts()"
   ]
  },
  {
   "cell_type": "markdown",
   "id": "d426a11a",
   "metadata": {},
   "source": [
    "Вернуться в [начало проекта](#start)"
   ]
  },
  {
   "cell_type": "markdown",
   "id": "5b2a2925",
   "metadata": {},
   "source": [
    "### Проверка на наличие пропущенных значений в данных."
   ]
  },
  {
   "cell_type": "code",
   "execution_count": 10,
   "id": "28584b98",
   "metadata": {},
   "outputs": [
    {
     "data": {
      "text/plain": [
       "user_id              0\n",
       "name                 0\n",
       "age                  0\n",
       "city                 0\n",
       "subscription_type    0\n",
       "dtype: int64"
      ]
     },
     "execution_count": 10,
     "metadata": {},
     "output_type": "execute_result"
    }
   ],
   "source": [
    "users.isna().sum()"
   ]
  },
  {
   "cell_type": "code",
   "execution_count": 11,
   "id": "28fddf10",
   "metadata": {},
   "outputs": [
    {
     "data": {
      "text/plain": [
       "user_id     0\n",
       "distance    0\n",
       "duration    0\n",
       "date        0\n",
       "month       0\n",
       "dtype: int64"
      ]
     },
     "execution_count": 11,
     "metadata": {},
     "output_type": "execute_result"
    }
   ],
   "source": [
    "rides.isna().sum()"
   ]
  },
  {
   "cell_type": "code",
   "execution_count": 12,
   "id": "0186319f",
   "metadata": {},
   "outputs": [
    {
     "data": {
      "text/plain": [
       "subscription_type    0\n",
       "minute_price         0\n",
       "start_ride_price     0\n",
       "subscription_fee     0\n",
       "dtype: int64"
      ]
     },
     "execution_count": 12,
     "metadata": {},
     "output_type": "execute_result"
    }
   ],
   "source": [
    "subs.isna().sum()"
   ]
  },
  {
   "cell_type": "markdown",
   "id": "4ea654c4",
   "metadata": {},
   "source": [
    "_Пропущеных значений в данных не выявлено_"
   ]
  },
  {
   "cell_type": "markdown",
   "id": "86c50b83",
   "metadata": {},
   "source": [
    "Вернуться в [начало проекта](#start)"
   ]
  },
  {
   "cell_type": "markdown",
   "id": "0936417f",
   "metadata": {},
   "source": [
    "### Проверка на наличие дубликатов"
   ]
  },
  {
   "cell_type": "code",
   "execution_count": 13,
   "id": "2809cf21",
   "metadata": {},
   "outputs": [
    {
     "name": "stdout",
     "output_type": "stream",
     "text": [
      "Дубликатов среди данных с пользователями: 31\n",
      "Дубликатов среди данных о поездках: 0\n",
      "Дубликатов среди данных о подписках: 0\n"
     ]
    }
   ],
   "source": [
    "print(\n",
    "    'Дубликатов среди данных с пользователями:', \n",
    "    users.duplicated().sum()\n",
    ")\n",
    "print('Дубликатов среди данных о поездках:', rides.duplicated().sum())\n",
    "print('Дубликатов среди данных о подписках:', subs.duplicated().sum())"
   ]
  },
  {
   "cell_type": "markdown",
   "id": "879dca1e",
   "metadata": {},
   "source": [
    "_В датафрейме с инфоормацией о пользователях выявлено 31 дубликат_"
   ]
  },
  {
   "cell_type": "code",
   "execution_count": 14,
   "id": "8f46b7a4",
   "metadata": {},
   "outputs": [
    {
     "data": {
      "text/plain": [
       "user_id  name       age  city            subscription_type\n",
       "209      Андрей     23   Омск            ultra                2\n",
       "807      Александр  28   Екатеринбург    free                 2\n",
       "611      Владимир   28   Омск            ultra                2\n",
       "43       Стефания   22   Омск            ultra                2\n",
       "737      Мелания    27   Ростов-на-Дону  free                 2\n",
       "47       Юрий       28   Тюмень          ultra                2\n",
       "1198     Демид      29   Ростов-на-Дону  free                 2\n",
       "829      Федор      29   Пятигорск       free                 2\n",
       "924      Мария      23   Пятигорск       free                 2\n",
       "153      Герман     23   Москва          ultra                2\n",
       "dtype: int64"
      ]
     },
     "execution_count": 14,
     "metadata": {},
     "output_type": "execute_result"
    }
   ],
   "source": [
    "#посмотрим на данные с дубликатами\n",
    "users.value_counts().head(10)"
   ]
  },
  {
   "cell_type": "markdown",
   "id": "8be6ebe8",
   "metadata": {},
   "source": [
    "Можно смело удалять дубликаты по столбцу `user_id`"
   ]
  },
  {
   "cell_type": "code",
   "execution_count": 15,
   "id": "72c89606",
   "metadata": {},
   "outputs": [
    {
     "name": "stdout",
     "output_type": "stream",
     "text": [
      "Дубликатов среди данных с пользователями: 0\n"
     ]
    }
   ],
   "source": [
    "users = users.drop_duplicates(\n",
    "    subset = ['user_id'], \n",
    "    keep = 'first'\n",
    ")\n",
    "\n",
    "users = users.reset_index(drop=True)\n",
    "print(\n",
    "    'Дубликатов среди данных с пользователями:', \n",
    "    users.duplicated().sum()\n",
    ")"
   ]
  },
  {
   "cell_type": "markdown",
   "id": "7997d3a4",
   "metadata": {},
   "source": [
    "Изучим уникальные значения в столбце с наименованием городов для выявления неявных дубликатов"
   ]
  },
  {
   "cell_type": "code",
   "execution_count": 16,
   "id": "484462f9",
   "metadata": {},
   "outputs": [
    {
     "data": {
      "text/plain": [
       "['Екатеринбург',\n",
       " 'Краснодар',\n",
       " 'Москва',\n",
       " 'Омск',\n",
       " 'Пятигорск',\n",
       " 'Ростов-на-Дону',\n",
       " 'Сочи',\n",
       " 'Тюмень']"
      ]
     },
     "execution_count": 16,
     "metadata": {},
     "output_type": "execute_result"
    }
   ],
   "source": [
    "sorted(users['city'].unique())"
   ]
  },
  {
   "cell_type": "markdown",
   "id": "8c437e76",
   "metadata": {},
   "source": [
    "На этапе предобработки данных:\n",
    "- Столбец с датой приведен к нужному формату;\n",
    "- Добавлен столбец с месяцем;\n",
    "- Пропущенных значений не выявлено;\n",
    "- Выявленыы и удалены явные дубликаты;\n",
    "- Неявных дубликатов среди наименования городов не выявлено."
   ]
  },
  {
   "cell_type": "markdown",
   "id": "3928979d",
   "metadata": {},
   "source": [
    "Вернуться в [начало проекта](#start)"
   ]
  },
  {
   "cell_type": "markdown",
   "id": "238b10bc",
   "metadata": {},
   "source": [
    "## Шаг 3. Исследовательский анализ данных"
   ]
  },
  {
   "cell_type": "markdown",
   "id": "e9a2416f",
   "metadata": {},
   "source": [
    "### Рассмотрим частоту встречаемости городов."
   ]
  },
  {
   "cell_type": "code",
   "execution_count": 17,
   "id": "10e8ab30",
   "metadata": {},
   "outputs": [
    {
     "data": {
      "text/html": [
       "<div>\n",
       "<style scoped>\n",
       "    .dataframe tbody tr th:only-of-type {\n",
       "        vertical-align: middle;\n",
       "    }\n",
       "\n",
       "    .dataframe tbody tr th {\n",
       "        vertical-align: top;\n",
       "    }\n",
       "\n",
       "    .dataframe thead th {\n",
       "        text-align: right;\n",
       "    }\n",
       "</style>\n",
       "<table border=\"1\" class=\"dataframe\">\n",
       "  <thead>\n",
       "    <tr style=\"text-align: right;\">\n",
       "      <th></th>\n",
       "      <th>count</th>\n",
       "      <th>share_percent</th>\n",
       "    </tr>\n",
       "    <tr>\n",
       "      <th>city</th>\n",
       "      <th></th>\n",
       "      <th></th>\n",
       "    </tr>\n",
       "  </thead>\n",
       "  <tbody>\n",
       "    <tr>\n",
       "      <th>Екатеринбург</th>\n",
       "      <td>204</td>\n",
       "      <td>13.298566</td>\n",
       "    </tr>\n",
       "    <tr>\n",
       "      <th>Краснодар</th>\n",
       "      <td>193</td>\n",
       "      <td>12.581486</td>\n",
       "    </tr>\n",
       "    <tr>\n",
       "      <th>Москва</th>\n",
       "      <td>168</td>\n",
       "      <td>10.951760</td>\n",
       "    </tr>\n",
       "    <tr>\n",
       "      <th>Омск</th>\n",
       "      <td>183</td>\n",
       "      <td>11.929596</td>\n",
       "    </tr>\n",
       "    <tr>\n",
       "      <th>Пятигорск</th>\n",
       "      <td>219</td>\n",
       "      <td>14.276402</td>\n",
       "    </tr>\n",
       "    <tr>\n",
       "      <th>Ростов-на-Дону</th>\n",
       "      <td>198</td>\n",
       "      <td>12.907432</td>\n",
       "    </tr>\n",
       "    <tr>\n",
       "      <th>Сочи</th>\n",
       "      <td>189</td>\n",
       "      <td>12.320730</td>\n",
       "    </tr>\n",
       "    <tr>\n",
       "      <th>Тюмень</th>\n",
       "      <td>180</td>\n",
       "      <td>11.734029</td>\n",
       "    </tr>\n",
       "  </tbody>\n",
       "</table>\n",
       "</div>"
      ],
      "text/plain": [
       "                count  share_percent\n",
       "city                                \n",
       "Екатеринбург      204      13.298566\n",
       "Краснодар         193      12.581486\n",
       "Москва            168      10.951760\n",
       "Омск              183      11.929596\n",
       "Пятигорск         219      14.276402\n",
       "Ростов-на-Дону    198      12.907432\n",
       "Сочи              189      12.320730\n",
       "Тюмень            180      11.734029"
      ]
     },
     "execution_count": 17,
     "metadata": {},
     "output_type": "execute_result"
    },
    {
     "data": {
      "image/png": "[encoded data removed]",
      "text/plain": [
       "<Figure size 700x500 with 1 Axes>"
      ]
     },
     "metadata": {},
     "output_type": "display_data"
    }
   ],
   "source": [
    "# сформируем сводную таблицу и вычислим процентное соотношение \n",
    "# между городами к общему колличеству пользователей\n",
    "users_city_pivot = users.pivot_table(\n",
    "    index = ['city'], \n",
    "    values = 'age', \n",
    "    aggfunc = {'count'}\n",
    ")\n",
    "\n",
    "users_city_pivot['share_percent'] = (\n",
    "    users_city_pivot['count'] / users_city_pivot['count'].sum() * 100\n",
    ")\n",
    "\n",
    "# Посмотрим на распределение количества пользователей по \n",
    "# городам на столбчатой диаграмме\n",
    "users.groupby(by='city')['city'].count().plot(\n",
    "    kind='bar', \n",
    "    xlabel = 'Город', \n",
    "    ylabel = 'Количество пользователей', \n",
    "    grid=True,\n",
    "    figsize=(7,5), \n",
    "    title='Распределение пользователей по городам');\n",
    "\n",
    "users_city_pivot.sort_values(by = 'share_percent', ascending = False)\n",
    "users_city_pivot"
   ]
  },
  {
   "cell_type": "markdown",
   "id": "009184e9",
   "metadata": {},
   "source": [
    "Вывод: распределение частоты встречаемости городов равномерное (на круговой диаграмме видно что доли практически равные), разброс между максимальным и минимальным колличеством пользователей не большой. Больше всего пользователей зарегистрировано в Пятигорске (14,27%), а меньше всего в Москве (10,95%).\n",
    "\n",
    "Не смотря на то что Москва столица и самый большой город по численности, меньшее колличество пользователей может быть обусловлено большим колличеством конкурентов.\n"
   ]
  },
  {
   "cell_type": "markdown",
   "id": "f6ff6b45",
   "metadata": {},
   "source": [
    "Вернуться в [начало проекта](#start)"
   ]
  },
  {
   "cell_type": "markdown",
   "id": "e1eb334a",
   "metadata": {},
   "source": [
    "### Рассмотрим соотношение пользователей с подпиской и без подписки."
   ]
  },
  {
   "cell_type": "code",
   "execution_count": 18,
   "id": "614b379c",
   "metadata": {},
   "outputs": [
    {
     "data": {
      "text/html": [
       "<div>\n",
       "<style scoped>\n",
       "    .dataframe tbody tr th:only-of-type {\n",
       "        vertical-align: middle;\n",
       "    }\n",
       "\n",
       "    .dataframe tbody tr th {\n",
       "        vertical-align: top;\n",
       "    }\n",
       "\n",
       "    .dataframe thead th {\n",
       "        text-align: right;\n",
       "    }\n",
       "</style>\n",
       "<table border=\"1\" class=\"dataframe\">\n",
       "  <thead>\n",
       "    <tr style=\"text-align: right;\">\n",
       "      <th></th>\n",
       "      <th>count</th>\n",
       "      <th>share_percent</th>\n",
       "    </tr>\n",
       "    <tr>\n",
       "      <th>subscription_type</th>\n",
       "      <th></th>\n",
       "      <th></th>\n",
       "    </tr>\n",
       "  </thead>\n",
       "  <tbody>\n",
       "    <tr>\n",
       "      <th>free</th>\n",
       "      <td>835</td>\n",
       "      <td>54.432855</td>\n",
       "    </tr>\n",
       "    <tr>\n",
       "      <th>ultra</th>\n",
       "      <td>699</td>\n",
       "      <td>45.567145</td>\n",
       "    </tr>\n",
       "  </tbody>\n",
       "</table>\n",
       "</div>"
      ],
      "text/plain": [
       "                   count  share_percent\n",
       "subscription_type                      \n",
       "free                 835      54.432855\n",
       "ultra                699      45.567145"
      ]
     },
     "execution_count": 18,
     "metadata": {},
     "output_type": "execute_result"
    },
    {
     "data": {
      "image/png": "[encoded data removed]",
      "text/plain": [
       "<Figure size 700x500 with 1 Axes>"
      ]
     },
     "metadata": {},
     "output_type": "display_data"
    }
   ],
   "source": [
    "users_subs_pivot = users.pivot_table(\n",
    "    index = ['subscription_type'], \n",
    "    values = 'age', \n",
    "    aggfunc = {'count'}\n",
    ")\n",
    "\n",
    "users_subs_pivot['share_percent'] = (\n",
    "    users_subs_pivot['count'] / users_subs_pivot['count'].sum() * 100\n",
    ")\n",
    "\n",
    "users_subs_pivot.plot(\n",
    "    kind='bar', \n",
    "    y = 'share_percent',\n",
    "    xlabel = 'Тип подписки', \n",
    "    ylabel = 'Процентное соотношение пользователей', \n",
    "    grid=True, \n",
    "    figsize=(7,5), \n",
    "    title='Распределение пользователей по типу подписки'\n",
    ");\n",
    "\n",
    "users_subs_pivot"
   ]
  },
  {
   "cell_type": "markdown",
   "id": "f5965320",
   "metadata": {},
   "source": [
    "__Среди пользователей сервиса больше тех кто зарегестрирован без подписки - 54%, что на 8% больше тех кто выбрал платный тариф (46%).__\n",
    "\n",
    "Разница не велика, с учетом того, что те кто оформил подписку вероятнее всего чаще пользуется прокатом, и для такого варианта достаточно большой процент пользователей. Надо выяснить кто из пользователей выгоднее для компании.\n"
   ]
  },
  {
   "cell_type": "markdown",
   "id": "304319ff",
   "metadata": {},
   "source": [
    "Вернуться в [начало проекта](#start)"
   ]
  },
  {
   "cell_type": "markdown",
   "id": "c185c1c6",
   "metadata": {},
   "source": [
    "### Рассмотрим параметр возраст пользователей."
   ]
  },
  {
   "cell_type": "code",
   "execution_count": 19,
   "id": "815351b0",
   "metadata": {},
   "outputs": [
    {
     "data": {
      "text/plain": [
       "count    1534.000000\n",
       "mean       24.903520\n",
       "std         4.572367\n",
       "min        12.000000\n",
       "25%        22.000000\n",
       "50%        25.000000\n",
       "75%        28.000000\n",
       "max        43.000000\n",
       "Name: age, dtype: float64"
      ]
     },
     "execution_count": 19,
     "metadata": {},
     "output_type": "execute_result"
    }
   ],
   "source": [
    "# рассмотрим статистические данные\n",
    "users['age'].describe()"
   ]
  },
  {
   "cell_type": "code",
   "execution_count": 20,
   "id": "ce96dc47",
   "metadata": {},
   "outputs": [
    {
     "data": {
      "image/png": "[encoded data removed]",
      "text/plain": [
       "<Figure size 640x480 with 1 Axes>"
      ]
     },
     "metadata": {},
     "output_type": "display_data"
    }
   ],
   "source": [
    "# построим график распределения\n",
    "plt.hist(\n",
    "    users['age'], \n",
    "    color = 'lightblue',\n",
    "    edgecolor = 'black',\n",
    "    bins = 30\n",
    ")\n",
    "plt.title('Распределение возрастов пользователей')\n",
    "plt.xlabel('Возраст пользователей')\n",
    "plt.ylabel('Количество пользователей')\n",
    "plt.show();"
   ]
  },
  {
   "cell_type": "code",
   "execution_count": 21,
   "id": "7df945c6",
   "metadata": {},
   "outputs": [
    {
     "data": {
      "image/png": "[encoded data removed]",
      "text/plain": [
       "<Figure size 800x400 with 1 Axes>"
      ]
     },
     "metadata": {},
     "output_type": "display_data"
    }
   ],
   "source": [
    "#построим боксплот для наглядности данных\n",
    "sns.set_style('whitegrid');\n",
    "plt.figure(figsize=(8, 4))\n",
    "\n",
    "sns.boxplot(x = 'age', data = users)\n",
    "\n",
    "plt.title('Боксплот по возростам пользователей')\n",
    "plt.xlabel('Возраст пользователя')\n",
    "#plt.ylabel('')\n",
    "plt.show();"
   ]
  },
  {
   "cell_type": "markdown",
   "id": "e51b316f",
   "metadata": {},
   "source": [
    "__Распределение по возрастам близкое к нормальному, колоколообразное. Основной возрастной группой пользователей сервиса являются клиенты от 22 до 28 лет. Самым юным пользователям по 12 лет, а самому старшему - 43 года.__ \n",
    "\n",
    "Клиенты старше 36 лет и младше 13 лет являются редкими и выбивающимися значениями. "
   ]
  },
  {
   "cell_type": "code",
   "execution_count": 22,
   "id": "8582b96b",
   "metadata": {},
   "outputs": [
    {
     "name": "stdout",
     "output_type": "stream",
     "text": [
      "Пользователей младше 13 лет: 4\n",
      "Пользователей старше 36 лет: 7\n"
     ]
    }
   ],
   "source": [
    "print(\n",
    "    'Пользователей младше 13 лет: ' \n",
    "    + str(users.query('age < 13')['age'].count())\n",
    ")\n",
    "print(\n",
    "    'Пользователей старше 36 лет: ' \n",
    "    + str(users.query('age > 36')['age'].count())\n",
    ")"
   ]
  },
  {
   "cell_type": "markdown",
   "id": "3e727d2f",
   "metadata": {},
   "source": [
    "Удалять аномалии не стоит, так как в дальнейшем это может привести к неправильной интерпретации и искажению результатов. "
   ]
  },
  {
   "cell_type": "markdown",
   "id": "4cc08aff",
   "metadata": {},
   "source": [
    "Вернуться в [начало проекта](#start)"
   ]
  },
  {
   "cell_type": "markdown",
   "id": "981263af",
   "metadata": {},
   "source": [
    "### Исследуем параметр расстояние, которое пользователь преодалел за одну поездку."
   ]
  },
  {
   "cell_type": "code",
   "execution_count": 23,
   "id": "fd61afcd",
   "metadata": {},
   "outputs": [
    {
     "data": {
      "text/plain": [
       "count    18068.000000\n",
       "mean      3070.659976\n",
       "std       1116.831209\n",
       "min          0.855683\n",
       "25%       2543.226360\n",
       "50%       3133.609994\n",
       "75%       3776.222735\n",
       "max       7211.007745\n",
       "Name: distance, dtype: float64"
      ]
     },
     "execution_count": 23,
     "metadata": {},
     "output_type": "execute_result"
    }
   ],
   "source": [
    "# посмотрим как распределяются данные статистически\n",
    "rides['distance'].describe()"
   ]
  },
  {
   "cell_type": "code",
   "execution_count": 24,
   "id": "2f164446",
   "metadata": {},
   "outputs": [
    {
     "data": {
      "image/png": "[encoded data removed]",
      "text/plain": [
       "<Figure size 800x400 with 1 Axes>"
      ]
     },
     "metadata": {},
     "output_type": "display_data"
    }
   ],
   "source": [
    "#построим боксплот для наглядности данных\n",
    "sns.set_style('whitegrid');\n",
    "plt.figure(figsize=(8, 4))\n",
    "\n",
    "sns.boxplot(x = 'distance', data = rides)\n",
    "\n",
    "plt.title('Боксплот дистанции пользователей')\n",
    "plt.xlabel('Преодаленное расстояние за одну поездку')\n",
    "plt.show();"
   ]
  },
  {
   "cell_type": "code",
   "execution_count": 25,
   "id": "54d8274c",
   "metadata": {},
   "outputs": [
    {
     "data": {
      "image/png": "[encoded data removed]",
      "text/plain": [
       "<Figure size 640x480 with 1 Axes>"
      ]
     },
     "metadata": {},
     "output_type": "display_data"
    }
   ],
   "source": [
    "# построим график распределения\n",
    "plt.hist(\n",
    "    rides['distance'], \n",
    "    color = 'lightblue',\n",
    "    edgecolor = 'black',\n",
    "    bins = 50\n",
    ")\n",
    "plt.title('Распределение дистанций одной поездки')\n",
    "plt.xlabel('Расстояние преодаленное за одну поездку')\n",
    "plt.ylabel('Количество поездок')\n",
    "plt.show();"
   ]
  },
  {
   "cell_type": "code",
   "execution_count": 26,
   "id": "f7930db1",
   "metadata": {},
   "outputs": [
    {
     "data": {
      "text/html": [
       "<div>\n",
       "<style scoped>\n",
       "    .dataframe tbody tr th:only-of-type {\n",
       "        vertical-align: middle;\n",
       "    }\n",
       "\n",
       "    .dataframe tbody tr th {\n",
       "        vertical-align: top;\n",
       "    }\n",
       "\n",
       "    .dataframe thead th {\n",
       "        text-align: right;\n",
       "    }\n",
       "</style>\n",
       "<table border=\"1\" class=\"dataframe\">\n",
       "  <thead>\n",
       "    <tr style=\"text-align: right;\">\n",
       "      <th></th>\n",
       "      <th>user_id</th>\n",
       "      <th>distance</th>\n",
       "      <th>duration</th>\n",
       "      <th>date</th>\n",
       "      <th>month</th>\n",
       "    </tr>\n",
       "  </thead>\n",
       "  <tbody>\n",
       "    <tr>\n",
       "      <th>7841</th>\n",
       "      <td>796</td>\n",
       "      <td>7.097072</td>\n",
       "      <td>10.026614</td>\n",
       "      <td>2021-11-26</td>\n",
       "      <td>11</td>\n",
       "    </tr>\n",
       "    <tr>\n",
       "      <th>8658</th>\n",
       "      <td>861</td>\n",
       "      <td>6.784447</td>\n",
       "      <td>6.015656</td>\n",
       "      <td>2021-07-21</td>\n",
       "      <td>7</td>\n",
       "    </tr>\n",
       "    <tr>\n",
       "      <th>9541</th>\n",
       "      <td>925</td>\n",
       "      <td>2.570787</td>\n",
       "      <td>3.011018</td>\n",
       "      <td>2021-10-19</td>\n",
       "      <td>10</td>\n",
       "    </tr>\n",
       "    <tr>\n",
       "      <th>11555</th>\n",
       "      <td>1069</td>\n",
       "      <td>0.855683</td>\n",
       "      <td>10.001902</td>\n",
       "      <td>2021-01-31</td>\n",
       "      <td>1</td>\n",
       "    </tr>\n",
       "    <tr>\n",
       "      <th>13690</th>\n",
       "      <td>1223</td>\n",
       "      <td>4.329506</td>\n",
       "      <td>4.008958</td>\n",
       "      <td>2021-05-22</td>\n",
       "      <td>5</td>\n",
       "    </tr>\n",
       "  </tbody>\n",
       "</table>\n",
       "</div>"
      ],
      "text/plain": [
       "       user_id  distance   duration       date  month\n",
       "7841       796  7.097072  10.026614 2021-11-26     11\n",
       "8658       861  6.784447   6.015656 2021-07-21      7\n",
       "9541       925  2.570787   3.011018 2021-10-19     10\n",
       "11555     1069  0.855683  10.001902 2021-01-31      1\n",
       "13690     1223  4.329506   4.008958 2021-05-22      5"
      ]
     },
     "execution_count": 26,
     "metadata": {},
     "output_type": "execute_result"
    }
   ],
   "source": [
    "#Посмотрим на срез данных по поездкам до 10 метров\n",
    "rides.query('distance < 10')"
   ]
  },
  {
   "cell_type": "markdown",
   "id": "bab3f449",
   "metadata": {},
   "source": [
    "- В среднем пользователи преодолевают расстояние 3070 метров.\n",
    "- Медианное значение немного выше - 3133 метра. \n",
    "- Среднее значение - 3070 метра, немного искажено в меньшую сторону из-за всплеска значений на расстоянии от 0.85 метров до примерно 1200 метров, который видно на столбчатой гистограмме. Если посмотреть на график `boxplot`, то видно что значения меньше 800 метров являются аномальными - выходящими за грани усов, как и значения свыше 5600 метров.\n",
    "- Самые быстрые поездки зафиксированы на 0.86 метров, при этом время сессии в этой поездке составила 10 минут.\n",
    "- Самая долгая поездка среди пользователей - 7211 метров."
   ]
  },
  {
   "cell_type": "markdown",
   "id": "02312b8f",
   "metadata": {},
   "source": [
    "Вернуться в [начало проекта](#start)"
   ]
  },
  {
   "cell_type": "markdown",
   "id": "89bccdd9",
   "metadata": {},
   "source": [
    "### Рассмотрим продолжительность поездок."
   ]
  },
  {
   "cell_type": "code",
   "execution_count": 27,
   "id": "f59072eb",
   "metadata": {},
   "outputs": [
    {
     "name": "stdout",
     "output_type": "stream",
     "text": [
      "count    18068.000000\n",
      "mean        17.805011\n",
      "std          6.091051\n",
      "min          0.500000\n",
      "25%         13.597563\n",
      "50%         17.678395\n",
      "75%         21.724800\n",
      "max         40.823963\n",
      "Name: duration, dtype: float64\n"
     ]
    }
   ],
   "source": [
    "# посмотрим на числовые характеристики показателя\n",
    "print(rides['duration'].describe())"
   ]
  },
  {
   "cell_type": "code",
   "execution_count": 28,
   "id": "44e8d2c7",
   "metadata": {},
   "outputs": [
    {
     "data": {
      "image/png": "[encoded data removed]",
      "text/plain": [
       "<Figure size 800x400 with 1 Axes>"
      ]
     },
     "metadata": {},
     "output_type": "display_data"
    }
   ],
   "source": [
    "#построим боксплот для наглядности данных\n",
    "sns.set_style('whitegrid');\n",
    "plt.figure(figsize=(8, 4))\n",
    "\n",
    "sns.boxplot(x = 'duration', data = rides)\n",
    "\n",
    "plt.title('Боксплот распределения продолжительности поездок')\n",
    "plt.xlabel('Продолжительность поездки')\n",
    "plt.show();"
   ]
  },
  {
   "cell_type": "code",
   "execution_count": 29,
   "id": "5e7f8d8e",
   "metadata": {},
   "outputs": [
    {
     "data": {
      "image/png": "[encoded data removed]",
      "text/plain": [
       "<Figure size 640x480 with 1 Axes>"
      ]
     },
     "metadata": {},
     "output_type": "display_data"
    }
   ],
   "source": [
    "# построим столбчатый график распределения\n",
    "plt.hist(\n",
    "    rides['duration'], \n",
    "    color = 'lightblue',\n",
    "    edgecolor = 'black',\n",
    "    bins = 50\n",
    ")\n",
    "plt.title('Распределение продолжительности поездок')\n",
    "plt.xlabel('Продолжительность поездки')\n",
    "plt.ylabel('Количество поездок')\n",
    "plt.show();"
   ]
  },
  {
   "cell_type": "markdown",
   "id": "24f34b9e",
   "metadata": {},
   "source": [
    "Поездки до 1 минуты аномальные и выглядят подозрительными, посмотрим на них."
   ]
  },
  {
   "cell_type": "code",
   "execution_count": 30,
   "id": "5ec4e324",
   "metadata": {},
   "outputs": [
    {
     "name": "stdout",
     "output_type": "stream",
     "text": [
      "Продолжительность поездок короче 1 минут:95\n"
     ]
    }
   ],
   "source": [
    "print(\n",
    "    'Продолжительность поездок короче 1 минут:'\n",
    "    + str(rides.query('duration < 1')['duration'].count())\n",
    ")"
   ]
  },
  {
   "cell_type": "code",
   "execution_count": 31,
   "id": "438346b0",
   "metadata": {},
   "outputs": [
    {
     "data": {
      "text/html": [
       "<div>\n",
       "<style scoped>\n",
       "    .dataframe tbody tr th:only-of-type {\n",
       "        vertical-align: middle;\n",
       "    }\n",
       "\n",
       "    .dataframe tbody tr th {\n",
       "        vertical-align: top;\n",
       "    }\n",
       "\n",
       "    .dataframe thead th {\n",
       "        text-align: right;\n",
       "    }\n",
       "</style>\n",
       "<table border=\"1\" class=\"dataframe\">\n",
       "  <thead>\n",
       "    <tr style=\"text-align: right;\">\n",
       "      <th></th>\n",
       "      <th>user_id</th>\n",
       "      <th>distance</th>\n",
       "      <th>duration</th>\n",
       "      <th>month</th>\n",
       "    </tr>\n",
       "  </thead>\n",
       "  <tbody>\n",
       "    <tr>\n",
       "      <th>count</th>\n",
       "      <td>95.000000</td>\n",
       "      <td>95.000000</td>\n",
       "      <td>95.0</td>\n",
       "      <td>95.000000</td>\n",
       "    </tr>\n",
       "    <tr>\n",
       "      <th>mean</th>\n",
       "      <td>1092.210526</td>\n",
       "      <td>5113.176549</td>\n",
       "      <td>0.5</td>\n",
       "      <td>6.484211</td>\n",
       "    </tr>\n",
       "    <tr>\n",
       "      <th>std</th>\n",
       "      <td>244.028551</td>\n",
       "      <td>658.254104</td>\n",
       "      <td>0.0</td>\n",
       "      <td>3.709858</td>\n",
       "    </tr>\n",
       "    <tr>\n",
       "      <th>min</th>\n",
       "      <td>701.000000</td>\n",
       "      <td>4030.308008</td>\n",
       "      <td>0.5</td>\n",
       "      <td>1.000000</td>\n",
       "    </tr>\n",
       "    <tr>\n",
       "      <th>25%</th>\n",
       "      <td>901.000000</td>\n",
       "      <td>4611.510820</td>\n",
       "      <td>0.5</td>\n",
       "      <td>3.000000</td>\n",
       "    </tr>\n",
       "    <tr>\n",
       "      <th>50%</th>\n",
       "      <td>1069.000000</td>\n",
       "      <td>5052.769411</td>\n",
       "      <td>0.5</td>\n",
       "      <td>6.000000</td>\n",
       "    </tr>\n",
       "    <tr>\n",
       "      <th>75%</th>\n",
       "      <td>1310.500000</td>\n",
       "      <td>5488.459099</td>\n",
       "      <td>0.5</td>\n",
       "      <td>10.000000</td>\n",
       "    </tr>\n",
       "    <tr>\n",
       "      <th>max</th>\n",
       "      <td>1524.000000</td>\n",
       "      <td>7211.007745</td>\n",
       "      <td>0.5</td>\n",
       "      <td>12.000000</td>\n",
       "    </tr>\n",
       "  </tbody>\n",
       "</table>\n",
       "</div>"
      ],
      "text/plain": [
       "           user_id     distance  duration      month\n",
       "count    95.000000    95.000000      95.0  95.000000\n",
       "mean   1092.210526  5113.176549       0.5   6.484211\n",
       "std     244.028551   658.254104       0.0   3.709858\n",
       "min     701.000000  4030.308008       0.5   1.000000\n",
       "25%     901.000000  4611.510820       0.5   3.000000\n",
       "50%    1069.000000  5052.769411       0.5   6.000000\n",
       "75%    1310.500000  5488.459099       0.5  10.000000\n",
       "max    1524.000000  7211.007745       0.5  12.000000"
      ]
     },
     "execution_count": 31,
     "metadata": {},
     "output_type": "execute_result"
    }
   ],
   "source": [
    "#Посмотрим на поездки быстрее 1 минут\n",
    "rides.query('duration < 1').describe()"
   ]
  },
  {
   "cell_type": "markdown",
   "id": "f0a55de1",
   "metadata": {},
   "source": [
    "Значения не правдоподобные, при времени сессии 0.5 минут 95 поездок на расстояние от 4030 до 7211 метров. При этом средняя скорость которую можно развить на электросамокате 20-25 км/ч, это примерно 333 метров за 1 минуту. В среднем, такое расстояние в 5113 метров можно преодалеть за примерно 15 минут. Заменим время 0.5 минут на медианное значение."
   ]
  },
  {
   "cell_type": "code",
   "execution_count": 32,
   "id": "9322ee18",
   "metadata": {},
   "outputs": [],
   "source": [
    "rides.loc[rides['duration'] == 0.5, 'duration'] = rides['duration'].median()"
   ]
  },
  {
   "cell_type": "code",
   "execution_count": 33,
   "id": "2e3e3752",
   "metadata": {},
   "outputs": [
    {
     "name": "stdout",
     "output_type": "stream",
     "text": [
      "count    18068.000000\n",
      "mean        17.895334\n",
      "std          5.959714\n",
      "min          2.035632\n",
      "25%         13.697117\n",
      "50%         17.679120\n",
      "75%         21.724800\n",
      "max         40.823963\n",
      "Name: duration, dtype: float64\n"
     ]
    }
   ],
   "source": [
    "print(rides['duration'].describe())"
   ]
  },
  {
   "cell_type": "code",
   "execution_count": 34,
   "id": "ccfbec46",
   "metadata": {},
   "outputs": [
    {
     "data": {
      "image/png": "[encoded data removed]",
      "text/plain": [
       "<Figure size 800x400 with 1 Axes>"
      ]
     },
     "metadata": {},
     "output_type": "display_data"
    }
   ],
   "source": [
    "#построим боксплот для наглядности данных\n",
    "sns.set_style('whitegrid');\n",
    "plt.figure(figsize=(8, 4))\n",
    "\n",
    "sns.boxplot(x = 'duration', data = rides)\n",
    "\n",
    "plt.title('Боксплот распределения продолжительности поездок')\n",
    "plt.xlabel('Продолжительность поездки')\n",
    "plt.show();"
   ]
  },
  {
   "cell_type": "code",
   "execution_count": 35,
   "id": "6b4fdfbd",
   "metadata": {},
   "outputs": [
    {
     "data": {
      "image/png": "[encoded data removed]",
      "text/plain": [
       "<Figure size 640x480 with 1 Axes>"
      ]
     },
     "metadata": {},
     "output_type": "display_data"
    }
   ],
   "source": [
    "# построим столбчатый график распределения\n",
    "plt.hist(\n",
    "    rides['duration'], \n",
    "    color = 'lightblue',\n",
    "    edgecolor = 'black',\n",
    "    bins = 50\n",
    ")\n",
    "plt.title('Распределение продолжительности поездок')\n",
    "plt.xlabel('Продолжительность поездки')\n",
    "plt.ylabel('Количество поездок')\n",
    "plt.show();"
   ]
  },
  {
   "cell_type": "markdown",
   "id": "497c02bd",
   "metadata": {},
   "source": [
    "- Распределение выглядит нормальным. \n",
    "- В среднем время поездки занимает около 18 минут.\n",
    "- Самые короткие сессии составляют от 2 минут. \n",
    "- Самая долгая поездка составила 41 минуту. \n",
    "- Чаще всего поездки совершаются в промежутке между 13 и 22 минутами."
   ]
  },
  {
   "cell_type": "markdown",
   "id": "a6d3e64e",
   "metadata": {},
   "source": [
    "Вернуться в [начало проекта](#start)"
   ]
  },
  {
   "cell_type": "markdown",
   "id": "0636d904",
   "metadata": {},
   "source": [
    "## Шаг 4. Объединение данных"
   ]
  },
  {
   "cell_type": "markdown",
   "id": "66312b19",
   "metadata": {},
   "source": [
    "### Объеденим данные из трех датафреймов в один"
   ]
  },
  {
   "cell_type": "markdown",
   "id": "d710d59a",
   "metadata": {},
   "source": [
    "Для дальнейшего проведения исследования и проверки гипотез, необходимо объединить все данные в один датафрейм."
   ]
  },
  {
   "cell_type": "code",
   "execution_count": 36,
   "id": "2586a93a",
   "metadata": {},
   "outputs": [],
   "source": [
    "#объеденим данные из трех датафреймов в один с помощью метода merge()\n",
    "data = users.merge(\n",
    "    rides, \n",
    "    on = 'user_id', \n",
    "    how='outer'\n",
    ").merge(subs, on = 'subscription_type', how='outer')"
   ]
  },
  {
   "cell_type": "code",
   "execution_count": 37,
   "id": "0f0140f6",
   "metadata": {},
   "outputs": [
    {
     "name": "stdout",
     "output_type": "stream",
     "text": [
      "<class 'pandas.core.frame.DataFrame'>\n",
      "Int64Index: 18068 entries, 0 to 18067\n",
      "Data columns (total 12 columns):\n",
      " #   Column             Non-Null Count  Dtype         \n",
      "---  ------             --------------  -----         \n",
      " 0   user_id            18068 non-null  int64         \n",
      " 1   name               18068 non-null  object        \n",
      " 2   age                18068 non-null  int64         \n",
      " 3   city               18068 non-null  object        \n",
      " 4   subscription_type  18068 non-null  object        \n",
      " 5   distance           18068 non-null  float64       \n",
      " 6   duration           18068 non-null  float64       \n",
      " 7   date               18068 non-null  datetime64[ns]\n",
      " 8   month              18068 non-null  int64         \n",
      " 9   minute_price       18068 non-null  int64         \n",
      " 10  start_ride_price   18068 non-null  int64         \n",
      " 11  subscription_fee   18068 non-null  int64         \n",
      "dtypes: datetime64[ns](1), float64(2), int64(6), object(3)\n",
      "memory usage: 1.8+ MB\n"
     ]
    }
   ],
   "source": [
    "data.info()"
   ]
  },
  {
   "cell_type": "markdown",
   "id": "32c09464",
   "metadata": {},
   "source": [
    "### На основе общего датафрейма со всеми данными, создадим датафрейм с пользователями без подписки"
   ]
  },
  {
   "cell_type": "code",
   "execution_count": 38,
   "id": "cd439073",
   "metadata": {},
   "outputs": [
    {
     "data": {
      "text/html": [
       "<div>\n",
       "<style scoped>\n",
       "    .dataframe tbody tr th:only-of-type {\n",
       "        vertical-align: middle;\n",
       "    }\n",
       "\n",
       "    .dataframe tbody tr th {\n",
       "        vertical-align: top;\n",
       "    }\n",
       "\n",
       "    .dataframe thead th {\n",
       "        text-align: right;\n",
       "    }\n",
       "</style>\n",
       "<table border=\"1\" class=\"dataframe\">\n",
       "  <thead>\n",
       "    <tr style=\"text-align: right;\">\n",
       "      <th></th>\n",
       "      <th>user_id</th>\n",
       "      <th>name</th>\n",
       "      <th>age</th>\n",
       "      <th>city</th>\n",
       "      <th>subscription_type</th>\n",
       "      <th>distance</th>\n",
       "      <th>duration</th>\n",
       "      <th>date</th>\n",
       "      <th>month</th>\n",
       "      <th>minute_price</th>\n",
       "      <th>start_ride_price</th>\n",
       "      <th>subscription_fee</th>\n",
       "    </tr>\n",
       "  </thead>\n",
       "  <tbody>\n",
       "    <tr>\n",
       "      <th>6500</th>\n",
       "      <td>700</td>\n",
       "      <td>Айдар</td>\n",
       "      <td>22</td>\n",
       "      <td>Омск</td>\n",
       "      <td>free</td>\n",
       "      <td>2515.690719</td>\n",
       "      <td>14.944286</td>\n",
       "      <td>2021-01-02</td>\n",
       "      <td>1</td>\n",
       "      <td>8</td>\n",
       "      <td>50</td>\n",
       "      <td>0</td>\n",
       "    </tr>\n",
       "    <tr>\n",
       "      <th>6501</th>\n",
       "      <td>700</td>\n",
       "      <td>Айдар</td>\n",
       "      <td>22</td>\n",
       "      <td>Омск</td>\n",
       "      <td>free</td>\n",
       "      <td>846.932642</td>\n",
       "      <td>16.234663</td>\n",
       "      <td>2021-02-01</td>\n",
       "      <td>2</td>\n",
       "      <td>8</td>\n",
       "      <td>50</td>\n",
       "      <td>0</td>\n",
       "    </tr>\n",
       "    <tr>\n",
       "      <th>6502</th>\n",
       "      <td>700</td>\n",
       "      <td>Айдар</td>\n",
       "      <td>22</td>\n",
       "      <td>Омск</td>\n",
       "      <td>free</td>\n",
       "      <td>4004.434142</td>\n",
       "      <td>20.016628</td>\n",
       "      <td>2021-02-04</td>\n",
       "      <td>2</td>\n",
       "      <td>8</td>\n",
       "      <td>50</td>\n",
       "      <td>0</td>\n",
       "    </tr>\n",
       "    <tr>\n",
       "      <th>6503</th>\n",
       "      <td>700</td>\n",
       "      <td>Айдар</td>\n",
       "      <td>22</td>\n",
       "      <td>Омск</td>\n",
       "      <td>free</td>\n",
       "      <td>1205.911290</td>\n",
       "      <td>9.782872</td>\n",
       "      <td>2021-02-10</td>\n",
       "      <td>2</td>\n",
       "      <td>8</td>\n",
       "      <td>50</td>\n",
       "      <td>0</td>\n",
       "    </tr>\n",
       "    <tr>\n",
       "      <th>6504</th>\n",
       "      <td>700</td>\n",
       "      <td>Айдар</td>\n",
       "      <td>22</td>\n",
       "      <td>Омск</td>\n",
       "      <td>free</td>\n",
       "      <td>3047.379435</td>\n",
       "      <td>17.427673</td>\n",
       "      <td>2021-02-14</td>\n",
       "      <td>2</td>\n",
       "      <td>8</td>\n",
       "      <td>50</td>\n",
       "      <td>0</td>\n",
       "    </tr>\n",
       "  </tbody>\n",
       "</table>\n",
       "</div>"
      ],
      "text/plain": [
       "      user_id   name  age  city subscription_type     distance   duration  \\\n",
       "6500      700  Айдар   22  Омск              free  2515.690719  14.944286   \n",
       "6501      700  Айдар   22  Омск              free   846.932642  16.234663   \n",
       "6502      700  Айдар   22  Омск              free  4004.434142  20.016628   \n",
       "6503      700  Айдар   22  Омск              free  1205.911290   9.782872   \n",
       "6504      700  Айдар   22  Омск              free  3047.379435  17.427673   \n",
       "\n",
       "           date  month  minute_price  start_ride_price  subscription_fee  \n",
       "6500 2021-01-02      1             8                50                 0  \n",
       "6501 2021-02-01      2             8                50                 0  \n",
       "6502 2021-02-04      2             8                50                 0  \n",
       "6503 2021-02-10      2             8                50                 0  \n",
       "6504 2021-02-14      2             8                50                 0  "
      ]
     },
     "execution_count": 38,
     "metadata": {},
     "output_type": "execute_result"
    }
   ],
   "source": [
    "data_free_sub = data.query(\"subscription_type == 'free'\")\n",
    "data_free_sub.head()"
   ]
  },
  {
   "cell_type": "markdown",
   "id": "0a391594",
   "metadata": {},
   "source": [
    "### На основе общего датафрейма со всеми данными, создадим датафрейм с пользователями оформившими подписку"
   ]
  },
  {
   "cell_type": "code",
   "execution_count": 39,
   "id": "b741f8ec",
   "metadata": {},
   "outputs": [
    {
     "data": {
      "text/html": [
       "<div>\n",
       "<style scoped>\n",
       "    .dataframe tbody tr th:only-of-type {\n",
       "        vertical-align: middle;\n",
       "    }\n",
       "\n",
       "    .dataframe tbody tr th {\n",
       "        vertical-align: top;\n",
       "    }\n",
       "\n",
       "    .dataframe thead th {\n",
       "        text-align: right;\n",
       "    }\n",
       "</style>\n",
       "<table border=\"1\" class=\"dataframe\">\n",
       "  <thead>\n",
       "    <tr style=\"text-align: right;\">\n",
       "      <th></th>\n",
       "      <th>user_id</th>\n",
       "      <th>name</th>\n",
       "      <th>age</th>\n",
       "      <th>city</th>\n",
       "      <th>subscription_type</th>\n",
       "      <th>distance</th>\n",
       "      <th>duration</th>\n",
       "      <th>date</th>\n",
       "      <th>month</th>\n",
       "      <th>minute_price</th>\n",
       "      <th>start_ride_price</th>\n",
       "      <th>subscription_fee</th>\n",
       "    </tr>\n",
       "  </thead>\n",
       "  <tbody>\n",
       "    <tr>\n",
       "      <th>0</th>\n",
       "      <td>1</td>\n",
       "      <td>Кира</td>\n",
       "      <td>22</td>\n",
       "      <td>Тюмень</td>\n",
       "      <td>ultra</td>\n",
       "      <td>4409.919140</td>\n",
       "      <td>25.599769</td>\n",
       "      <td>2021-01-01</td>\n",
       "      <td>1</td>\n",
       "      <td>6</td>\n",
       "      <td>0</td>\n",
       "      <td>199</td>\n",
       "    </tr>\n",
       "    <tr>\n",
       "      <th>1</th>\n",
       "      <td>1</td>\n",
       "      <td>Кира</td>\n",
       "      <td>22</td>\n",
       "      <td>Тюмень</td>\n",
       "      <td>ultra</td>\n",
       "      <td>2617.592153</td>\n",
       "      <td>15.816871</td>\n",
       "      <td>2021-01-18</td>\n",
       "      <td>1</td>\n",
       "      <td>6</td>\n",
       "      <td>0</td>\n",
       "      <td>199</td>\n",
       "    </tr>\n",
       "    <tr>\n",
       "      <th>2</th>\n",
       "      <td>1</td>\n",
       "      <td>Кира</td>\n",
       "      <td>22</td>\n",
       "      <td>Тюмень</td>\n",
       "      <td>ultra</td>\n",
       "      <td>754.159807</td>\n",
       "      <td>6.232113</td>\n",
       "      <td>2021-04-20</td>\n",
       "      <td>4</td>\n",
       "      <td>6</td>\n",
       "      <td>0</td>\n",
       "      <td>199</td>\n",
       "    </tr>\n",
       "    <tr>\n",
       "      <th>3</th>\n",
       "      <td>1</td>\n",
       "      <td>Кира</td>\n",
       "      <td>22</td>\n",
       "      <td>Тюмень</td>\n",
       "      <td>ultra</td>\n",
       "      <td>2694.783254</td>\n",
       "      <td>18.511000</td>\n",
       "      <td>2021-08-11</td>\n",
       "      <td>8</td>\n",
       "      <td>6</td>\n",
       "      <td>0</td>\n",
       "      <td>199</td>\n",
       "    </tr>\n",
       "    <tr>\n",
       "      <th>4</th>\n",
       "      <td>1</td>\n",
       "      <td>Кира</td>\n",
       "      <td>22</td>\n",
       "      <td>Тюмень</td>\n",
       "      <td>ultra</td>\n",
       "      <td>4028.687306</td>\n",
       "      <td>26.265803</td>\n",
       "      <td>2021-08-28</td>\n",
       "      <td>8</td>\n",
       "      <td>6</td>\n",
       "      <td>0</td>\n",
       "      <td>199</td>\n",
       "    </tr>\n",
       "  </tbody>\n",
       "</table>\n",
       "</div>"
      ],
      "text/plain": [
       "   user_id  name  age    city subscription_type     distance   duration  \\\n",
       "0        1  Кира   22  Тюмень             ultra  4409.919140  25.599769   \n",
       "1        1  Кира   22  Тюмень             ultra  2617.592153  15.816871   \n",
       "2        1  Кира   22  Тюмень             ultra   754.159807   6.232113   \n",
       "3        1  Кира   22  Тюмень             ultra  2694.783254  18.511000   \n",
       "4        1  Кира   22  Тюмень             ultra  4028.687306  26.265803   \n",
       "\n",
       "        date  month  minute_price  start_ride_price  subscription_fee  \n",
       "0 2021-01-01      1             6                 0               199  \n",
       "1 2021-01-18      1             6                 0               199  \n",
       "2 2021-04-20      4             6                 0               199  \n",
       "3 2021-08-11      8             6                 0               199  \n",
       "4 2021-08-28      8             6                 0               199  "
      ]
     },
     "execution_count": 39,
     "metadata": {},
     "output_type": "execute_result"
    }
   ],
   "source": [
    "data_ultra_sub = data.query(\"subscription_type == 'ultra'\")\n",
    "data_ultra_sub.head()"
   ]
  },
  {
   "cell_type": "markdown",
   "id": "41aec45c",
   "metadata": {},
   "source": [
    "### Построим график о расстоянии поездок для пользователей без подписки и с подпиской."
   ]
  },
  {
   "cell_type": "code",
   "execution_count": 40,
   "id": "4058691e",
   "metadata": {},
   "outputs": [
    {
     "data": {
      "image/png": "[encoded data removed]",
      "text/plain": [
       "<Figure size 640x480 with 1 Axes>"
      ]
     },
     "metadata": {},
     "output_type": "display_data"
    }
   ],
   "source": [
    "ax = data_free_sub.plot(\n",
    "    kind = 'hist',\n",
    "    y = 'distance',\n",
    "    histtype = 'step',\n",
    "    range = (0,7000),\n",
    "    bins = 50,\n",
    "    linewidth = 5,\n",
    "    alpha = 0.7,\n",
    "    label = 'free',\n",
    ");\n",
    "data_ultra_sub.plot(\n",
    "    kind = 'hist',\n",
    "    y = 'distance',\n",
    "    histtype = 'step',\n",
    "    range = (0,7000),\n",
    "    bins = 50,\n",
    "    linewidth = 5,\n",
    "    alpha = 0.7,\n",
    "    label = 'ultra',\n",
    "    ax = ax,\n",
    "    grid = True,\n",
    "    legend = True,\n",
    "    title  = 'Расстояние поездок для платного и бесплатного тарифов',\n",
    ");\n",
    "plt.xlabel('Расстояние в метрах')\n",
    "plt.ylabel('Количество поездок')\n",
    "plt.show();"
   ]
  },
  {
   "cell_type": "markdown",
   "id": "c8175718",
   "metadata": {},
   "source": [
    "Вывод: \n",
    "\n",
    "На графике можно увидеть, что пользователи с платным тарифом (линия оранжевого цвета) чаще используют самокаты для поездок в 3000 метров. То есть, вероятнее всего пользователь оформляют подписку для регулярных поездок по определенному маршруту на расстояние в среднем 3000 метров.\n",
    "\n",
    "Пользователи с бесплатным тарифом (голубая линия) достаточно часто берут самокаты в прокат и на короткие дистанции, но и на длинные, и график распределен более равномерно, по сравнению с графиком платного тарифа, у которого наблюдается резкий скачок к медианному значению.\n",
    "\n",
    "На обоих графиках наблюдается по два пика, у бесплатного тарифа первый пик (меньший) на расстоянии ~700 метров, далее спад на расстоянии 1300 метров и второй (больший) пик на промежутке 2500-3500 метров. У платного тарифа первый (меньший) пик на расстоянии 1000 метров, далее сильный спад на 2000 метрах, и резкий рост до большего пика на расстоянии 3000-3200 метров."
   ]
  },
  {
   "cell_type": "markdown",
   "id": "a379f1a4",
   "metadata": {},
   "source": [
    "### Построим график о времени поездок для пользователей без подписки и с подпиской."
   ]
  },
  {
   "cell_type": "code",
   "execution_count": 41,
   "id": "c75e2291",
   "metadata": {},
   "outputs": [
    {
     "data": {
      "image/png": "[encoded data removed]",
      "text/plain": [
       "<Figure size 640x480 with 1 Axes>"
      ]
     },
     "metadata": {},
     "output_type": "display_data"
    }
   ],
   "source": [
    "ax = data_free_sub.plot(\n",
    "    kind = 'hist',\n",
    "    y = 'duration',\n",
    "    histtype = 'step',\n",
    "    range = (0,40),\n",
    "    bins = 30,\n",
    "    linewidth = 5,\n",
    "    alpha = 0.7,\n",
    "    label = 'free',\n",
    ");\n",
    "data_ultra_sub.plot(\n",
    "    kind = 'hist',\n",
    "    y = 'duration',\n",
    "    histtype = 'step',\n",
    "    range = (0,40),\n",
    "    bins = 30,\n",
    "    linewidth = 5,\n",
    "    alpha = 0.7,\n",
    "    label = 'ultra',\n",
    "    ax = ax,\n",
    "    grid = True,\n",
    "    legend = True,\n",
    "    title  = 'Время поездок для платного и бесплатного тарифов',\n",
    ");\n",
    "plt.xlabel('Время поездок в минутах')\n",
    "plt.ylabel('Количество поездок')\n",
    "plt.show();"
   ]
  },
  {
   "cell_type": "markdown",
   "id": "cd2f59cb",
   "metadata": {},
   "source": [
    "Вывод:\n",
    "\n",
    "Оба графика платного и бесплатного тарифа имеют форму нормального распределения (или стремящегося к нормальному), с равными пиковыми значениями в районе ~17 минут. \n",
    "\n",
    "__Несмотря на то, что на бесплатном тарифе стоимость одной минуты выше на два рубля чем на платном тарифе, пользователи без абонентской платы примерно с той же продолжительностью по времени используют самокаты как и те что оформили платную подписку.__"
   ]
  },
  {
   "cell_type": "markdown",
   "id": "dce1665a",
   "metadata": {},
   "source": [
    "Вернуться в [начало проекта](#start)"
   ]
  },
  {
   "cell_type": "markdown",
   "id": "a63c6959",
   "metadata": {},
   "source": [
    "## Шаг 5. Подсчет выручки"
   ]
  },
  {
   "cell_type": "markdown",
   "id": "77404abc",
   "metadata": {},
   "source": [
    "### Подготовим сводную таблицу"
   ]
  },
  {
   "cell_type": "markdown",
   "id": "5b5a11cc",
   "metadata": {},
   "source": [
    "Для подсчета выручки создадим датафрейм на основе объедененного датафрейма и выведем новые параметры для каждого пользователя:\n",
    "- суммарное расстояние;\n",
    "- количество поездок;\n",
    "- суммарное время (округлить значения методом \"потолка\" -  `np.ceil`)."
   ]
  },
  {
   "cell_type": "code",
   "execution_count": 42,
   "id": "06fbf8e3",
   "metadata": {},
   "outputs": [],
   "source": [
    "data_pivot = data.pivot_table(\n",
    "    index = ['user_id', 'month'],\n",
    "    values = [\n",
    "        'distance', \n",
    "        'duration', \n",
    "        'name', \n",
    "        'subscription_type', \n",
    "        'minute_price',\n",
    "        'start_ride_price', \n",
    "        'subscription_fee'\n",
    "    ],\n",
    "    aggfunc = {\n",
    "        'distance': sum, \n",
    "        'duration' : sum, \n",
    "        'name' : len,\n",
    "        'subscription_type' : 'first', \n",
    "        'minute_price': 'first',\n",
    "        'start_ride_price': 'first', \n",
    "        'subscription_fee' : 'first'}\n",
    ")\n",
    "\n",
    "data_pivot.rename(\n",
    "    columns = {'name' : 'rides_count'}, \n",
    "    inplace = True\n",
    ")"
   ]
  },
  {
   "cell_type": "code",
   "execution_count": 43,
   "id": "37a19a44",
   "metadata": {},
   "outputs": [],
   "source": [
    "#округлим суммарное время до целого числа методом \"потолка\"\n",
    "data_pivot['duration'] = np.ceil(data_pivot['duration'])"
   ]
  },
  {
   "cell_type": "code",
   "execution_count": 44,
   "id": "705dbbd6",
   "metadata": {},
   "outputs": [
    {
     "data": {
      "text/html": [
       "<div>\n",
       "<style scoped>\n",
       "    .dataframe tbody tr th:only-of-type {\n",
       "        vertical-align: middle;\n",
       "    }\n",
       "\n",
       "    .dataframe tbody tr th {\n",
       "        vertical-align: top;\n",
       "    }\n",
       "\n",
       "    .dataframe thead th {\n",
       "        text-align: right;\n",
       "    }\n",
       "</style>\n",
       "<table border=\"1\" class=\"dataframe\">\n",
       "  <thead>\n",
       "    <tr style=\"text-align: right;\">\n",
       "      <th></th>\n",
       "      <th></th>\n",
       "      <th>distance</th>\n",
       "      <th>duration</th>\n",
       "      <th>minute_price</th>\n",
       "      <th>rides_count</th>\n",
       "      <th>start_ride_price</th>\n",
       "      <th>subscription_fee</th>\n",
       "      <th>subscription_type</th>\n",
       "    </tr>\n",
       "    <tr>\n",
       "      <th>user_id</th>\n",
       "      <th>month</th>\n",
       "      <th></th>\n",
       "      <th></th>\n",
       "      <th></th>\n",
       "      <th></th>\n",
       "      <th></th>\n",
       "      <th></th>\n",
       "      <th></th>\n",
       "    </tr>\n",
       "  </thead>\n",
       "  <tbody>\n",
       "    <tr>\n",
       "      <th rowspan=\"5\" valign=\"top\">1</th>\n",
       "      <th>1</th>\n",
       "      <td>7027.511294</td>\n",
       "      <td>42.0</td>\n",
       "      <td>6</td>\n",
       "      <td>2</td>\n",
       "      <td>0</td>\n",
       "      <td>199</td>\n",
       "      <td>ultra</td>\n",
       "    </tr>\n",
       "    <tr>\n",
       "      <th>4</th>\n",
       "      <td>754.159807</td>\n",
       "      <td>7.0</td>\n",
       "      <td>6</td>\n",
       "      <td>1</td>\n",
       "      <td>0</td>\n",
       "      <td>199</td>\n",
       "      <td>ultra</td>\n",
       "    </tr>\n",
       "    <tr>\n",
       "      <th>8</th>\n",
       "      <td>6723.470560</td>\n",
       "      <td>45.0</td>\n",
       "      <td>6</td>\n",
       "      <td>2</td>\n",
       "      <td>0</td>\n",
       "      <td>199</td>\n",
       "      <td>ultra</td>\n",
       "    </tr>\n",
       "    <tr>\n",
       "      <th>10</th>\n",
       "      <td>5809.911100</td>\n",
       "      <td>32.0</td>\n",
       "      <td>6</td>\n",
       "      <td>2</td>\n",
       "      <td>0</td>\n",
       "      <td>199</td>\n",
       "      <td>ultra</td>\n",
       "    </tr>\n",
       "    <tr>\n",
       "      <th>11</th>\n",
       "      <td>7003.499363</td>\n",
       "      <td>54.0</td>\n",
       "      <td>6</td>\n",
       "      <td>3</td>\n",
       "      <td>0</td>\n",
       "      <td>199</td>\n",
       "      <td>ultra</td>\n",
       "    </tr>\n",
       "  </tbody>\n",
       "</table>\n",
       "</div>"
      ],
      "text/plain": [
       "                  distance  duration  minute_price  rides_count  \\\n",
       "user_id month                                                     \n",
       "1       1      7027.511294      42.0             6            2   \n",
       "        4       754.159807       7.0             6            1   \n",
       "        8      6723.470560      45.0             6            2   \n",
       "        10     5809.911100      32.0             6            2   \n",
       "        11     7003.499363      54.0             6            3   \n",
       "\n",
       "               start_ride_price  subscription_fee subscription_type  \n",
       "user_id month                                                        \n",
       "1       1                     0               199             ultra  \n",
       "        4                     0               199             ultra  \n",
       "        8                     0               199             ultra  \n",
       "        10                    0               199             ultra  \n",
       "        11                    0               199             ultra  "
      ]
     },
     "execution_count": 44,
     "metadata": {},
     "output_type": "execute_result"
    }
   ],
   "source": [
    "data_pivot.head()"
   ]
  },
  {
   "cell_type": "markdown",
   "id": "9dfe1df4",
   "metadata": {},
   "source": [
    "### Посчитаем помесячную выручку, которую принес каждый пользователь."
   ]
  },
  {
   "cell_type": "code",
   "execution_count": 45,
   "id": "e2876d2a",
   "metadata": {},
   "outputs": [],
   "source": [
    "def income(row):\n",
    "    try:\n",
    "        if row['subscription_type'] == 'ultra':\n",
    "            return row['minute_price'] * row['duration'] + row['subscription_fee']\n",
    "        elif row['subscription_type'] == 'free':\n",
    "            return (\n",
    "                row['start_ride_price'] * row['rides_count'] \\\n",
    "                + row['minute_price'] * row['duration']\n",
    "            )\n",
    "    except:\n",
    "        return 'fail'"
   ]
  },
  {
   "cell_type": "code",
   "execution_count": 46,
   "id": "82b6c020",
   "metadata": {},
   "outputs": [],
   "source": [
    "data_pivot['income_mounth'] = data_pivot.apply(income, axis=1)"
   ]
  },
  {
   "cell_type": "code",
   "execution_count": 47,
   "id": "a9a72bde",
   "metadata": {},
   "outputs": [
    {
     "data": {
      "text/html": [
       "<div>\n",
       "<style scoped>\n",
       "    .dataframe tbody tr th:only-of-type {\n",
       "        vertical-align: middle;\n",
       "    }\n",
       "\n",
       "    .dataframe tbody tr th {\n",
       "        vertical-align: top;\n",
       "    }\n",
       "\n",
       "    .dataframe thead th {\n",
       "        text-align: right;\n",
       "    }\n",
       "</style>\n",
       "<table border=\"1\" class=\"dataframe\">\n",
       "  <thead>\n",
       "    <tr style=\"text-align: right;\">\n",
       "      <th></th>\n",
       "      <th></th>\n",
       "      <th>distance</th>\n",
       "      <th>duration</th>\n",
       "      <th>minute_price</th>\n",
       "      <th>rides_count</th>\n",
       "      <th>start_ride_price</th>\n",
       "      <th>subscription_fee</th>\n",
       "      <th>subscription_type</th>\n",
       "      <th>income_mounth</th>\n",
       "    </tr>\n",
       "    <tr>\n",
       "      <th>user_id</th>\n",
       "      <th>month</th>\n",
       "      <th></th>\n",
       "      <th></th>\n",
       "      <th></th>\n",
       "      <th></th>\n",
       "      <th></th>\n",
       "      <th></th>\n",
       "      <th></th>\n",
       "      <th></th>\n",
       "    </tr>\n",
       "  </thead>\n",
       "  <tbody>\n",
       "    <tr>\n",
       "      <th rowspan=\"6\" valign=\"top\">1</th>\n",
       "      <th>1</th>\n",
       "      <td>7027.511294</td>\n",
       "      <td>42.0</td>\n",
       "      <td>6</td>\n",
       "      <td>2</td>\n",
       "      <td>0</td>\n",
       "      <td>199</td>\n",
       "      <td>ultra</td>\n",
       "      <td>451.0</td>\n",
       "    </tr>\n",
       "    <tr>\n",
       "      <th>4</th>\n",
       "      <td>754.159807</td>\n",
       "      <td>7.0</td>\n",
       "      <td>6</td>\n",
       "      <td>1</td>\n",
       "      <td>0</td>\n",
       "      <td>199</td>\n",
       "      <td>ultra</td>\n",
       "      <td>241.0</td>\n",
       "    </tr>\n",
       "    <tr>\n",
       "      <th>8</th>\n",
       "      <td>6723.470560</td>\n",
       "      <td>45.0</td>\n",
       "      <td>6</td>\n",
       "      <td>2</td>\n",
       "      <td>0</td>\n",
       "      <td>199</td>\n",
       "      <td>ultra</td>\n",
       "      <td>469.0</td>\n",
       "    </tr>\n",
       "    <tr>\n",
       "      <th>10</th>\n",
       "      <td>5809.911100</td>\n",
       "      <td>32.0</td>\n",
       "      <td>6</td>\n",
       "      <td>2</td>\n",
       "      <td>0</td>\n",
       "      <td>199</td>\n",
       "      <td>ultra</td>\n",
       "      <td>391.0</td>\n",
       "    </tr>\n",
       "    <tr>\n",
       "      <th>11</th>\n",
       "      <td>7003.499363</td>\n",
       "      <td>54.0</td>\n",
       "      <td>6</td>\n",
       "      <td>3</td>\n",
       "      <td>0</td>\n",
       "      <td>199</td>\n",
       "      <td>ultra</td>\n",
       "      <td>523.0</td>\n",
       "    </tr>\n",
       "    <tr>\n",
       "      <th>12</th>\n",
       "      <td>6751.629942</td>\n",
       "      <td>28.0</td>\n",
       "      <td>6</td>\n",
       "      <td>2</td>\n",
       "      <td>0</td>\n",
       "      <td>199</td>\n",
       "      <td>ultra</td>\n",
       "      <td>367.0</td>\n",
       "    </tr>\n",
       "    <tr>\n",
       "      <th rowspan=\"4\" valign=\"top\">2</th>\n",
       "      <th>3</th>\n",
       "      <td>10187.723006</td>\n",
       "      <td>61.0</td>\n",
       "      <td>6</td>\n",
       "      <td>3</td>\n",
       "      <td>0</td>\n",
       "      <td>199</td>\n",
       "      <td>ultra</td>\n",
       "      <td>565.0</td>\n",
       "    </tr>\n",
       "    <tr>\n",
       "      <th>4</th>\n",
       "      <td>6164.381824</td>\n",
       "      <td>40.0</td>\n",
       "      <td>6</td>\n",
       "      <td>2</td>\n",
       "      <td>0</td>\n",
       "      <td>199</td>\n",
       "      <td>ultra</td>\n",
       "      <td>439.0</td>\n",
       "    </tr>\n",
       "    <tr>\n",
       "      <th>6</th>\n",
       "      <td>3255.338202</td>\n",
       "      <td>14.0</td>\n",
       "      <td>6</td>\n",
       "      <td>1</td>\n",
       "      <td>0</td>\n",
       "      <td>199</td>\n",
       "      <td>ultra</td>\n",
       "      <td>283.0</td>\n",
       "    </tr>\n",
       "    <tr>\n",
       "      <th>7</th>\n",
       "      <td>6780.722964</td>\n",
       "      <td>47.0</td>\n",
       "      <td>6</td>\n",
       "      <td>2</td>\n",
       "      <td>0</td>\n",
       "      <td>199</td>\n",
       "      <td>ultra</td>\n",
       "      <td>481.0</td>\n",
       "    </tr>\n",
       "  </tbody>\n",
       "</table>\n",
       "</div>"
      ],
      "text/plain": [
       "                   distance  duration  minute_price  rides_count  \\\n",
       "user_id month                                                      \n",
       "1       1       7027.511294      42.0             6            2   \n",
       "        4        754.159807       7.0             6            1   \n",
       "        8       6723.470560      45.0             6            2   \n",
       "        10      5809.911100      32.0             6            2   \n",
       "        11      7003.499363      54.0             6            3   \n",
       "        12      6751.629942      28.0             6            2   \n",
       "2       3      10187.723006      61.0             6            3   \n",
       "        4       6164.381824      40.0             6            2   \n",
       "        6       3255.338202      14.0             6            1   \n",
       "        7       6780.722964      47.0             6            2   \n",
       "\n",
       "               start_ride_price  subscription_fee subscription_type  \\\n",
       "user_id month                                                         \n",
       "1       1                     0               199             ultra   \n",
       "        4                     0               199             ultra   \n",
       "        8                     0               199             ultra   \n",
       "        10                    0               199             ultra   \n",
       "        11                    0               199             ultra   \n",
       "        12                    0               199             ultra   \n",
       "2       3                     0               199             ultra   \n",
       "        4                     0               199             ultra   \n",
       "        6                     0               199             ultra   \n",
       "        7                     0               199             ultra   \n",
       "\n",
       "               income_mounth  \n",
       "user_id month                 \n",
       "1       1              451.0  \n",
       "        4              241.0  \n",
       "        8              469.0  \n",
       "        10             391.0  \n",
       "        11             523.0  \n",
       "        12             367.0  \n",
       "2       3              565.0  \n",
       "        4              439.0  \n",
       "        6              283.0  \n",
       "        7              481.0  "
      ]
     },
     "execution_count": 47,
     "metadata": {},
     "output_type": "execute_result"
    }
   ],
   "source": [
    "data_pivot.head(10)"
   ]
  },
  {
   "cell_type": "markdown",
   "id": "13c66673",
   "metadata": {},
   "source": [
    "На данном этапе создан датафрейм с агрегированными данными о поездках на основе датафрейма с объединёнными данными, в котором выведены и посчитаны для каждого пользователя за каждый месяц:\n",
    "- суммарное расстояние; \n",
    "- количество поездок; \n",
    "- суммарное время;\n",
    "- помесячная выручка."
   ]
  },
  {
   "cell_type": "markdown",
   "id": "b3ebc6fd",
   "metadata": {},
   "source": [
    "Вернуться в [начало проекта](#start)"
   ]
  },
  {
   "cell_type": "markdown",
   "id": "dbc69071",
   "metadata": {},
   "source": [
    "## Шаг 6. Проверка гипотез."
   ]
  },
  {
   "cell_type": "markdown",
   "id": "ebc86bc2",
   "metadata": {},
   "source": [
    "### Проверка гипотезы - о равенстве времени поездки пользователей с подпиской и без подписки"
   ]
  },
  {
   "cell_type": "markdown",
   "id": "a874261a",
   "metadata": {},
   "source": [
    "С целью увеличения количества пользователей с подпиской, для продакт-менеджеров, необходимо проверить несколько гипотез.\n",
    "\n",
    "__Необходимо понять, тратят ли пользователи с подпиской больше времени на поездки.__\n",
    "\n",
    "Проверим гипотезу: \n",
    "\n",
    "* Нулевая гипотеза (Н0) - \"Среднее значение времени на поездки пользователей обеих групп равны\"\n",
    "\n",
    "* Альтернативная гипотеза (Н1) - \"Среднее значение времени на поездки пользователей с платной подпиской больше чем среднее значение времени пользователей без подписки\"\n",
    "\n",
    "Зададим уровень значимости 0.05"
   ]
  },
  {
   "cell_type": "code",
   "execution_count": 48,
   "id": "a8307e26",
   "metadata": {},
   "outputs": [
    {
     "name": "stdout",
     "output_type": "stream",
     "text": [
      "p-value:3.308059750715837e-28\n",
      "Отвергаем нулевую гипотезу\n"
     ]
    }
   ],
   "source": [
    "free = data_free_sub['duration']\n",
    "ultra = data_ultra_sub['duration']\n",
    "alpha = 0.05\n",
    "\n",
    "results = st.ttest_ind(ultra, free, alternative = 'greater')\n",
    "\n",
    "print(f'p-value:{results.pvalue}')\n",
    "\n",
    "if results.pvalue < alpha:\n",
    "    print('Отвергаем нулевую гипотезу')\n",
    "else:\n",
    "    print('Нет оснований отвергнуть нулевую гипотезу')"
   ]
  },
  {
   "cell_type": "markdown",
   "id": "097f70e2",
   "metadata": {},
   "source": [
    "___Вывод: Есть основания говорить, что пользователи с подпиской в среднем тратят больше времени на поездки чем пользователи без подписки. Нулевую гипотезу о том что обе группы пользователей тратят одинаково времени на поездки отвергаем.___"
   ]
  },
  {
   "cell_type": "markdown",
   "id": "37d913ff",
   "metadata": {},
   "source": [
    "### Проверка гипотезы -\"Среднее расстояние, которое проезжают пользователи с подпиской за одну поездку равно 3130\""
   ]
  },
  {
   "cell_type": "markdown",
   "id": "982d724f",
   "metadata": {},
   "source": [
    "__Расстояние одной поездки в 3130 метров — оптимальное с точки зрения износа самоката. Выясним, можно ли сказать, что среднее расстояние, которое проезжают пользователи с подпиской за одну поездку, не превышает 3130 метров?__\n",
    "\n",
    "Проверим гипотезу: \n",
    "\n",
    "* Нулевая гипотеза (Н0) - \"Среднее расстояние, которое проезжают пользователи с подпиской за одну поездку равно 3130\"\n",
    "* Альтернативная гипотеза (Н1) - \"Среднее расстояние, которое проезжают пользователи с подпиской за одну поездку больше 3130\"\n",
    "\n",
    "Зададим уровень значимости 0.05"
   ]
  },
  {
   "cell_type": "code",
   "execution_count": 49,
   "id": "ef6ac523",
   "metadata": {},
   "outputs": [
    {
     "name": "stdout",
     "output_type": "stream",
     "text": [
      "p-значение: 0.9195368847849785\n",
      "Не получилось отвергнуть нулевую гипотезу\n"
     ]
    }
   ],
   "source": [
    "distance_ultra = data_ultra_sub['distance']\n",
    "optimal_value = 3130 \n",
    "alpha = 0.05 \n",
    "\n",
    "results = st.ttest_1samp(\n",
    "    distance_ultra, \n",
    "    optimal_value,\n",
    "    alternative='greater')\n",
    "\n",
    "print('p-значение:', results.pvalue)\n",
    "\n",
    "if results.pvalue < alpha:\n",
    "    print('Отвергаем нулевую гипотезу')\n",
    "else:\n",
    "    print('Не получилось отвергнуть нулевую гипотезу')"
   ]
  },
  {
   "cell_type": "markdown",
   "id": "c3869493",
   "metadata": {},
   "source": [
    "___Вывод: Не удалось отвергнуть нулевую гипотезу, что среднее расстояние, которое проезжают пользователи с подпиской за одну поездку равно 3130. Альтернативная гипотеза -  \"Подписчики в среднем проезжают расстояние больше оптимального\" не подтвердилась. Вероятнее всего, в среднем пользователи с подпиской укладываются в это оптимальное с точки зрения для износа самоката расстояние.___"
   ]
  },
  {
   "cell_type": "markdown",
   "id": "864b6b5a",
   "metadata": {},
   "source": [
    "### Проверка гипотезы - \"Помесячная выручка от пользователей обеих групп равна\""
   ]
  },
  {
   "cell_type": "markdown",
   "id": "4757d39d",
   "metadata": {},
   "source": [
    "__Проверем гипотезу о том, будет ли помесячная выручка от пользователей с подпиской по месяцам выше, чем выручка от пользователей без подписки.__\n",
    "\n",
    "Проверим гипотезу: \n",
    "\n",
    "* Нулевая гипотеза (Н0) - \"Помесячная выручка от пользователей обеих групп равна\"\n",
    "\n",
    "* Альтернативная гипотеза (Н1) - \"Помесячная выручка от пользователей с подпиской больше чем выручка от пользователей без подписки.\"\n",
    "\n",
    "Зададим уровень значимости 0.05"
   ]
  },
  {
   "cell_type": "code",
   "execution_count": 50,
   "id": "5d22b150",
   "metadata": {},
   "outputs": [
    {
     "name": "stdout",
     "output_type": "stream",
     "text": [
      "p-value:9.370942252328435e-32\n",
      "Отвергаем нулевую гипотезу\n"
     ]
    }
   ],
   "source": [
    "ultra_income = data_pivot.loc[\n",
    "    data_pivot['subscription_type']=='ultra', \n",
    "    'income_mounth'\n",
    "]\n",
    "\n",
    "free_income = data_pivot.loc[\n",
    "    data_pivot['subscription_type']=='free', \n",
    "    'income_mounth'\n",
    "]\n",
    "\n",
    "alpha = 0.05\n",
    "\n",
    "results = st.ttest_ind(\n",
    "    ultra_income, \n",
    "    free_income, \n",
    "    alternative = 'greater'\n",
    ")\n",
    "\n",
    "print(f'p-value:{results.pvalue}')\n",
    "\n",
    "if results.pvalue < alpha:\n",
    "    print('Отвергаем нулевую гипотезу')\n",
    "else:\n",
    "    print('Нет оснований отвергнуть нулевую гипотезу')"
   ]
  },
  {
   "cell_type": "markdown",
   "id": "3b95eac3",
   "metadata": {},
   "source": [
    "___Отвергаем нулевую гипотезу в пользу альтернативной - \"Помесячная выручка от пользователей с подпиской больше чем выручка от пользователей без подписки.\"___\n",
    "\n",
    "_Похоже, продакт-менеджеры сервиса не ошибаются в своём намерении увеличить количество пользователей с подпиской. По результатам проверки трех гипотез связанных с пользователями с платной подпиской - все они подтвердились в пользу того что такие пользователи \"выгоднее\" для компании_"
   ]
  },
  {
   "cell_type": "markdown",
   "id": "31a36112",
   "metadata": {},
   "source": [
    "__4. Представим такую ситуацию: техническая команда сервиса обновила сервера, с которыми взаимодействует мобильное приложение. Она надеется, что из-за этого количество обращений в техподдержку значимо снизилось. Некоторый файл содержит для каждого пользователя данные о количестве обращений до обновления и после него. Какой тест вам понадобился бы для проверки этой гипотезы?__\n",
    "\n",
    "В данном случае необходимо проверить равны ли средние совокупности данных о количестве обращений до и после обновления сервера, данные будут зависимые (парные).\n",
    "\n",
    "Нулевая гипотеза будет проверять равенство средних значений до и после изменения, а альтернативная - неравенство.\n",
    "\n",
    "Для проверки этой гипотезы понадобится тест `scipy.stats.ttest_rel()`, которому достаточно передать наборы данных до и после обновления сервера."
   ]
  },
  {
   "cell_type": "markdown",
   "id": "45ebb0b5",
   "metadata": {},
   "source": [
    "Вернуться в [начало проекта](#start)"
   ]
  },
  {
   "cell_type": "markdown",
   "id": "8a163726",
   "metadata": {},
   "source": [
    "## Шаг 7. Распределения"
   ]
  },
  {
   "cell_type": "markdown",
   "id": "6081c18d",
   "metadata": {},
   "source": [
    "### Подсчет данных для проведения акции с раздачей промокодов."
   ]
  },
  {
   "cell_type": "markdown",
   "id": "fa15a281",
   "metadata": {},
   "source": [
    "Отделу маркетинга поставили задачу: нужно провести акцию с раздачей промокодов на один бесплатный месяц подписки, в рамках которой как минимум 100 существующих клиентов должны продлить эту подписку. То есть по завершении периода действия подписки пользователь может либо отказаться от неё, либо продлить, совершив соответствующий платёж. \n",
    "\n",
    "\n",
    "Эта акция уже проводилась ранее и по итогу выяснилось, что после бесплатного пробного периода подписку продлевают 10 % пользователей. Выясните, какое минимальное количество промокодов нужно разослать, чтобы вероятность не выполнить план была примерно 5 %. Подберите параметры распределения, описывающего эту ситуацию, постройте график распределения и сформулируйте ответ на вопрос о количестве промокодов.\n",
    "\n",
    "Нужно использовать биномиальное распределение, которое описывает указанную ситуацию. Затем подобрать подходящее значение параметра N для заданного параметра p=0.1 с помощью графиков и метода cdf() , сформулировать вывод и ответ."
   ]
  },
  {
   "cell_type": "code",
   "execution_count": 51,
   "id": "32fdabf2",
   "metadata": {},
   "outputs": [
    {
     "name": "stdout",
     "output_type": "stream",
     "text": [
      "Минимальное количество промокодов: 1161\n",
      "Вероятность не выполнить план при раздаче 1161 промокода:     4.98%\n"
     ]
    }
   ],
   "source": [
    "target = 100 #ожидаемое количество клиентов после рассылки\n",
    "p = 0.1 # вероятностьпродления подписки\n",
    "\n",
    "#Найдем минимальное количество промокодов необходимое для рассылки\n",
    "n = 1 \n",
    "while binom.cdf(target-1, n, p)>0.05:\n",
    "    n+=1\n",
    "    \n",
    "print('Минимальное количество промокодов:', n)\n",
    "print(\n",
    "    f'Вероятность не выполнить план при раздаче {n} промокода: \\\n",
    "    {binom.cdf(target-1, n, p):.2%}'\n",
    ")"
   ]
  },
  {
   "cell_type": "code",
   "execution_count": 52,
   "id": "57656dc6",
   "metadata": {},
   "outputs": [
    {
     "data": {
      "image/png": "[encoded data removed]",
      "text/plain": [
       "<Figure size 1800x600 with 1 Axes>"
      ]
     },
     "metadata": {},
     "output_type": "display_data"
    }
   ],
   "source": [
    "#Построим график распределения\n",
    "n = 1161\n",
    "p = 0.1\n",
    "\n",
    "mu = n * p\n",
    "sigma = sqrt(n*p*(1-p))\n",
    "\n",
    "# объявляем график\n",
    "fig, ax = plt.subplots(figsize=(18, 6))\n",
    "\n",
    "# подготовка данных\n",
    "df_plot = np.random.normal(mu, sigma, n)\n",
    "\n",
    "# подписи графика\n",
    "ax.set_title(\n",
    "    f'Нормальное распределение с параметрами (mu = {mu}, sigma = {sigma:.2f})',\n",
    "    size=16\n",
    ")\n",
    "ax.set_xlabel('Количество новых клиентов', size=16)\n",
    "\n",
    "plt.hist(df_plot, 50, color='blue');"
   ]
  },
  {
   "cell_type": "markdown",
   "id": "89e1bf67",
   "metadata": {},
   "source": [
    "Ответ: Для выполнения поставленной задачи отделу маркетинга GoFast, в рамках проведения акци с раздачей промокодов на один бесплатный месяц подписки, в результате которой как минимум 100 существующих клиентов должны продлить эту подписку, необходимо разослать минимум 1161 промокод. Вероятность не выполнить план при раздаче 1161 промокода равна 4.98%."
   ]
  },
  {
   "cell_type": "markdown",
   "id": "f00e1b48",
   "metadata": {},
   "source": [
    "Вернуться в [начало проекта](#start)"
   ]
  },
  {
   "cell_type": "markdown",
   "id": "551d0eb1",
   "metadata": {},
   "source": [
    "### Распределение вероятности успешности рассылки push-уведомлений"
   ]
  },
  {
   "cell_type": "markdown",
   "id": "8906492f",
   "metadata": {},
   "source": [
    "Отдел маркетинга рассылает клиентам push-уведомления в мобильном приложении. Клиенты могут открыть его или не открывать. Известно, что уведомления открывают около 40 % получивших клиентов. Отдел планирует разослать 1 млн уведомлений. С помощью аппроксимации постройте примерный график распределения и оцените вероятность того, что уведомление откроют не более 399,5 тыс. пользователей."
   ]
  },
  {
   "cell_type": "code",
   "execution_count": 53,
   "id": "da93dc88",
   "metadata": {},
   "outputs": [
    {
     "name": "stdout",
     "output_type": "stream",
     "text": [
      "Вероятность того, что уведомление откроют не более 399,5 тыс. пользователей равна 15.37%\n"
     ]
    },
    {
     "data": {
      "image/png": "[encoded data removed]",
      "text/plain": [
       "<Figure size 1800x600 with 1 Axes>"
      ]
     },
     "metadata": {},
     "output_type": "display_data"
    }
   ],
   "source": [
    "n_notice = 1000000\n",
    "p_open = 0.4\n",
    "\n",
    "mu = n_notice * p_open\n",
    "sigma = sqrt(n_notice*p_open*(1-p_open))\n",
    "\n",
    "distr = st.norm(mu, sigma)\n",
    "\n",
    "result = distr.cdf(399500)\n",
    "print(\n",
    "    f'Вероятность того, что уведомление откроют не более 399,5 тыс. пользователей равна {result:.2%}'\n",
    ")\n",
    "\n",
    "# объявляем график\n",
    "fig, ax = plt.subplots(figsize=(18, 6))\n",
    "\n",
    "# подготовка данных\n",
    "data_plot = np.random.normal(mu, sigma, 1000000)\n",
    "\n",
    "# подписи графика\n",
    "ax.set_title(\n",
    "    f'Нормальное распределение с параметрами (mu = {mu}, sigma = {sigma:.2f})', \n",
    "    size=16\n",
    ")\n",
    "ax.set_xlabel('Количество открытых push-уведомлений', size=16)\n",
    "\n",
    "plt.hist(data_plot, 100, color='green');"
   ]
  },
  {
   "cell_type": "markdown",
   "id": "6dce219b",
   "metadata": {},
   "source": [
    "Вероятность того, что уведомление откроют не более 399,5 тыс. пользователей равна 15.37%, можно смело рассылать, стратегия выбрана верно, вероятность большего открытия уведомлений высока. "
   ]
  },
  {
   "cell_type": "markdown",
   "id": "d8fc2d32",
   "metadata": {},
   "source": [
    "Вернуться в [начало проекта](#start)"
   ]
  },
  {
   "cell_type": "markdown",
   "id": "c54e54dc",
   "metadata": {},
   "source": [
    "## Шаг 8. Итоговый вывод по проекту"
   ]
  },
  {
   "cell_type": "markdown",
   "id": "9e7b08bd",
   "metadata": {},
   "source": [
    "Для проведения анализа сервиса аренды самокатов GoFast, получены три датафрейма с информацией о пользователях, их поездках и подписках.\n",
    "\n",
    "В ходе работы на начальном этапе были загружены три датафрема, и изучена общая информация о каждом из них:\n",
    "- В датафрейме с информацией о пользователях 5 столбцов, 1565 строк. Датафрейм содержит информацию о имени пользователя, его возраст, город, тип подписки и уникальный идентификатор.\n",
    "- В таблице с информацией о совершенных поездках 4 столбца, 18068 строк, содержащие данные с уникальным идентификатором пользователя; расстояние, которое пользователь проехал в текущей сессии (в метрах), продолжительность сессии (в минутах), дата совершения поездки.\n",
    "- В датафрейме \"Подписки\" - 4 столбца и 2 строки, содержащие информацию о типе подписки, стоимости 1 минуты поездки, стоимости начало поездки и стоимости ежемесячного платежа для каждого из Тарифов.\n",
    "\n",
    "Всего тарифа два - __платный \"ultra\"__ (с абонентской платой 199 руб. и стоимостью 1 минуты поездки 6 руб.) и __без абонентской платы тариф \"Free\"__ (стоимость начала поездки 50 руб. и стоимость 1 минуты поездки 8 руб.)\n",
    "\n",
    "На этапе предобработки данных проделана следующая работа:\n",
    "1. Отформатирован столбец с датой в датафрейме с поездками - приведен к типу даты pandas.\n",
    "2. Для дальнейшей работы создан новый столбец с номером месяца, данные представлены только за 2021 год.\n",
    "3. Проверены датафреймы на наличие пропущенных значений - не выявлены.\n",
    "4. Выявлены и удалены 31 дубликат с информацией о пользователях.\n",
    "5. Проведена проверка на неявные дубликаты - не выявлены.\n",
    "\n",
    "На этапе проведения исследовательского анализа данных были изучены и визуализированы данные по направлениям:\n",
    "1. __Частота встречаемости городов__ - распределение частоты встречаемости городов равномерное (на круговой диаграмме видно что доли практически равные), разброс между максимальным и минимальным количеством пользователей не большой, чуть больше 3%. Больше всего пользователей зарегистрировано в Пятигорске (14,27%), а меньше всего в Москве (10,95%). Не смотря на то, что Москва столица и самый большой город по численности, меньшее количество пользователей, вероятно, может быть обусловлено, большим количеством конкурентов.\n",
    "\n",
    "2. __Соотношение пользователей без подписки и с подпиской__ - среди пользователей сервиса больше тех кто зарегистрирован без подписки - 54%, что на 8% больше тех кто выбрал платный тариф (46%). Разница не велика, с учетом того, что те кто оформил подписку вероятнее всего чаще пользуется прокатом, и для такого варианта достаточно большой процент пользователей. Стоит выяснить кто из пользователей выгоднее для компании. \n",
    "\n",
    "3. __Возраст пользователей__ - распределение по возрастам близкое к нормальному. Основной возрастной группой пользователей сервиса являются клиенты от 22 до 28 лет. Самым юным пользователям по 12 лет, а самому старшему - 43 года. Согласно графику \"ящик с усами\" видно что клиенты старше 36 лет и младше 13 лет являются редкими и выбивающимися значениями, данные аномалии удалять не стала, так как это может исказить результаты исследования.\n",
    "\n",
    "4. __Расстояние, которое пользователь преодолел за одну поездку__ - в среднем пользователи преодолевают расстояние 3070 метров, медианное значение немного выше - 3133 метра. Среднее значение немного искажено в меньшую сторону из-за всплеска значений на расстоянии от 0.85 метров до примерно 1200 метров, который видно на столбчатой гистограмме. Если посмотреть на график `boxplot`, то видно что значения меньше 800 метров являются аномальными - выходящими за границей усов, как и значения свыше 5600 метров.\n",
    "Самая быстрая поездка зафиксирована на 0.86 метров, такое значение единственное, но такое расстояние нельзя назвать поездкой, скорее клиент передумал брать самокат из-за отсутствия заряда или поломки и поменял на другой. Удалять аномалии не будем, так как данные поездки тоже приносят выручку организации, и удаление данных поездок может повлиять на результаты исследования.\n",
    "Самая долгая поездка среди пользователей - 7211 метров.\n",
    "\n",
    "5. __Продолжительность поездок__ - в среднем время поездки занимает меньше 18 минут, самые короткие сессии составляют от 2 минут, а самая долгая поездка составила 41 минуту. Чаще всего поездки совершаются в промежутке между 13 и 22 минутами. Были обнаружены \"неправдоподобные\" поездки на 0,5 минутах, при расстоянии поездки в среднем в 5 км, данные выбросы были обработаны.\n",
    "\n",
    "На следующем этапе были объединены данные о пользователях, поездках и подписках в 1 общий датафрейм с 12 столбцами, 18068 строками. \n",
    "\n",
    "Далее, на основе полученного общего датафрема, были созданы ещё два датафрейма - один с данными о пользователях с подпиской, второй - без подписки. \n",
    "\n",
    "Были построены графики о расстоянии поездок для пользователей без подписки и с подпиской.\n",
    "\n",
    "На графике можно увидеть, что пользователи с платным тарифом (линия оранжевого цвета) чаще используют самокаты для поездок в 3000 метров. То есть, вероятнее всего пользователь оформляют подписку для регулярных поездок по определенному маршруту на расстояние в среднем 3000 метров.\n",
    "\n",
    "Пользователи с бесплатным тарифом (голубая линия) достаточно часто берут самокаты в прокат и на короткие дистанции, но и на длинные, и график распределен более равномерно, по сравнению с графиком платного тарифа, у которого наблюдается резкий скачок к медианному значению.\n",
    "\n",
    "На обоих графиках наблюдается по два пика, у бесплатного тарифа первый пик (меньший) на расстоянии ~700 метров, далее спад на расстоянии 1300 метров и второй (больший) пик на промежутке 2500-3500 метров. У платного тарифа первый (меньший) пик на расстоянии 1000 метров, далее сильный спад на 2000 метрах, и резкий рост до большего пика на расстоянии 3000-3200 метров.\n",
    "\n",
    "Были построены графики о времени поездок для пользователей без подписки и с подпиской. Оба графика платного и бесплатного тарифа имеют форму нормального распределения (или стремящегося к нормальному), с равными пиковыми значениями в районе ~17 минут. Несмотря на то, что на бесплатном тарифе стоимость одной минуты выше на два рубля чем на платном тарифе, пользователи без абонентской платы примерно с той же продолжительностью по времени используют самокаты как и те что оформили платную подписку.\n",
    "\n",
    "На следующем этапе создан датафрейм с агрегированными данными о поездках на основе датафрейма с объединёнными данными, в котором выведены и посчитаны для каждого пользователя за каждый месяц:\n",
    "* суммарное расстояние;\n",
    "* количество поездок;\n",
    "* суммарное время;\n",
    "* помесячная выручка.\n",
    "\n",
    "Далее были проверены гипотезы.\n",
    "\n",
    "1. Есть основания говорить, что пользователи с подпиской в среднем тратят больше времени на поездки чем пользователи без подписки. Нулевую гипотезу о том что обе группы пользователей тратят одинаково времени на поездки отвергаем.\n",
    "\n",
    "2. Не удалось отвергнуть нулевую гипотезу, что среднее расстояние, которое проезжают пользователи с подпиской за одну поездку равно 3130. Альтернативная гипотеза что пользователи с подпиской проезжают больше оптимального не подтвердилась. Вероятнее всего, в среднем пользователи с подпиской укладываются в это оптимальное с точки зрения для износа самоката расстояние.\n",
    "\n",
    "3. Отвергаем нулевую гипотезу в пользу альтернативной - \"Помесячная выручка от пользователей с подпиской больше чем выручка от пользователей без подписки.\"\n",
    "\n",
    "Похоже, продакт-менеджеры сервиса не ошибаются в своём намерении увеличить количество пользователей с подпиской. По результатам проверки трех гипотез связанных с пользователями с платной подпиской - все они подтвердились в пользу того что такие пользователи \"выгоднее\" для компании.\n",
    "\n",
    "Далее необходимо было ответить на вопрос какой тест понадобиться для проверки гипотезы, что количество обращений в техподдержку значимо снизится после обновления сервера. \n",
    "В данном случае необходимо проверить равны ли средние совокупности данных о количестве обращений до и после обновления сервера, данные будут зависимые (парные). Нулевая гипотеза будет проверять равенство средних значений до и после изменения, а альтернативная - неравенство. Для проверки этой гипотезы понадобится тест `scipy.stats.ttest_rel()`, которому достаточно передать наборы данных до и после обновления сервера.\n",
    "\n",
    "И на последнем этапе проведения статистического анализа, были построены распределения и даны рекомендации для отдела маркетинга: \n",
    "\n",
    "1. Для выполнения поставленной задачи отделу маркетинга GoFast, в рамках проведения акции с раздачей промокодов на один бесплатный месяц подписки, в результате которой как минимум 100 существующих клиентов должны продлить эту подписку, необходимо разослать минимум 1161 промокодов. Вероятность не выполнить план при раздаче 1161 промокода равна 4.98%.\n",
    "\n",
    "2. Отдел маркетинга планирует разослать 1 млн. уведомлений. Вероятность того, что уведомление откроют не более 399,5 тыс. пользователей равна 15.37%, можно смело рассылать, стратегия выбрана верно, вероятность большего открытия уведомлений высока.\n",
    "\n",
    "__Подведем общий итог и рекомендации для бизнеса:__\n",
    "\n",
    "Пользователи с подпиской выгоднее для компании, следовательно стоит проводить промо-акции с целью увеличения пользователей с подпиской.\n",
    "\n",
    "Отделу маркетинга для реализации поставленной задачи, необходимо разослать не менее 1161 промокодов.\n",
    "\n",
    "Руководству компании стоит рассмотреть вопрос увеличения клиентской базы в городе Москва. Не смотря на большое количество конкурентов, Москва - мегаполис, в этом городе больше средний доход у населения. Из-за большого количества транспорта, а следовательно и пробок на дорогах, пользователи заинтересованы в использовании более мобильного транспорта (коим и является самокат) с целью передвигаться между остановками или добраться до ближайшей станции метро. Так же можно сказать что город прогрессивный и много молодого населения, которые и являются основными пользователями сервиса, зачастую еще не успевшими обзавестись автомобилями и стремящиеся к большей мобильности."
   ]
  },
  {
   "cell_type": "markdown",
   "id": "72f6e8ef",
   "metadata": {},
   "source": [
    "Вернуться в [начало проекта](#start)"
   ]
  }
 ],
 "metadata": {
  "ExecuteTimeLog": [
   {
    "duration": 1375,
    "start_time": "2023-09-04T14:50:56.837Z"
   },
   {
    "duration": 257,
    "start_time": "2023-09-04T14:50:58.214Z"
   },
   {
    "duration": 19,
    "start_time": "2023-09-04T14:50:58.473Z"
   },
   {
    "duration": 15,
    "start_time": "2023-09-04T14:50:58.493Z"
   },
   {
    "duration": 12,
    "start_time": "2023-09-04T14:50:58.510Z"
   },
   {
    "duration": 40,
    "start_time": "2023-09-04T14:50:58.524Z"
   },
   {
    "duration": 8,
    "start_time": "2023-09-04T14:50:58.566Z"
   },
   {
    "duration": 7,
    "start_time": "2023-09-04T14:50:58.575Z"
   },
   {
    "duration": 6,
    "start_time": "2023-09-04T14:50:58.583Z"
   },
   {
    "duration": 7,
    "start_time": "2023-09-04T14:50:58.590Z"
   },
   {
    "duration": 17,
    "start_time": "2023-09-04T14:50:58.599Z"
   },
   {
    "duration": 11,
    "start_time": "2023-09-04T14:50:58.617Z"
   },
   {
    "duration": 20,
    "start_time": "2023-09-04T14:50:58.630Z"
   },
   {
    "duration": 7,
    "start_time": "2023-09-04T14:50:58.653Z"
   },
   {
    "duration": 10,
    "start_time": "2023-09-04T14:50:58.662Z"
   },
   {
    "duration": 280,
    "start_time": "2023-09-04T14:50:58.674Z"
   },
   {
    "duration": 153,
    "start_time": "2023-09-04T14:50:58.955Z"
   },
   {
    "duration": 8,
    "start_time": "2023-09-04T14:50:59.110Z"
   },
   {
    "duration": 155,
    "start_time": "2023-09-04T14:50:59.120Z"
   },
   {
    "duration": 91,
    "start_time": "2023-09-04T14:50:59.276Z"
   },
   {
    "duration": 7,
    "start_time": "2023-09-04T14:50:59.369Z"
   },
   {
    "duration": 15,
    "start_time": "2023-09-04T14:50:59.378Z"
   },
   {
    "duration": 109,
    "start_time": "2023-09-04T14:50:59.394Z"
   },
   {
    "duration": 166,
    "start_time": "2023-09-04T14:50:59.505Z"
   },
   {
    "duration": 105,
    "start_time": "2023-09-04T14:50:59.672Z"
   },
   {
    "duration": 170,
    "start_time": "2023-09-04T14:50:59.779Z"
   },
   {
    "duration": 8,
    "start_time": "2023-09-04T14:50:59.950Z"
   },
   {
    "duration": 5,
    "start_time": "2023-09-04T14:50:59.959Z"
   },
   {
    "duration": 15,
    "start_time": "2023-09-04T14:50:59.965Z"
   },
   {
    "duration": 13,
    "start_time": "2023-09-04T14:50:59.982Z"
   },
   {
    "duration": 12,
    "start_time": "2023-09-04T14:50:59.997Z"
   },
   {
    "duration": 41,
    "start_time": "2023-09-04T14:51:00.011Z"
   },
   {
    "duration": 108,
    "start_time": "2023-09-04T14:51:00.054Z"
   },
   {
    "duration": 13,
    "start_time": "2023-09-04T14:51:00.163Z"
   },
   {
    "duration": 184,
    "start_time": "2023-09-04T14:51:00.177Z"
   },
   {
    "duration": 167,
    "start_time": "2023-09-04T14:51:00.363Z"
   },
   {
    "duration": 93,
    "start_time": "2023-09-04T14:51:00.531Z"
   },
   {
    "duration": 3,
    "start_time": "2023-09-04T14:51:00.626Z"
   },
   {
    "duration": 50,
    "start_time": "2023-09-04T14:51:00.631Z"
   },
   {
    "duration": 37,
    "start_time": "2023-09-04T14:51:00.684Z"
   },
   {
    "duration": 211,
    "start_time": "2023-09-04T14:51:00.724Z"
   },
   {
    "duration": 13,
    "start_time": "2023-09-04T14:51:00.937Z"
   },
   {
    "duration": 45,
    "start_time": "2023-09-04T14:51:00.951Z"
   },
   {
    "duration": 46,
    "start_time": "2023-09-04T14:51:00.998Z"
   },
   {
    "duration": 42,
    "start_time": "2023-09-04T14:51:01.046Z"
   },
   {
    "duration": 154,
    "start_time": "2023-09-04T14:51:01.089Z"
   },
   {
    "duration": 204,
    "start_time": "2023-09-04T14:51:01.245Z"
   },
   {
    "duration": 301,
    "start_time": "2023-09-04T14:51:01.451Z"
   },
   {
    "duration": 89,
    "start_time": "2023-09-04T17:38:50.005Z"
   },
   {
    "duration": 82,
    "start_time": "2023-09-04T17:39:27.794Z"
   },
   {
    "duration": 153,
    "start_time": "2023-09-04T17:39:45.369Z"
   },
   {
    "duration": 91,
    "start_time": "2023-09-04T17:40:20.616Z"
   },
   {
    "duration": 93,
    "start_time": "2023-09-04T17:41:00.680Z"
   },
   {
    "duration": 108,
    "start_time": "2023-09-04T17:41:19.364Z"
   },
   {
    "duration": 97,
    "start_time": "2023-09-04T17:41:28.948Z"
   },
   {
    "duration": 0,
    "start_time": "2023-09-04T17:41:29.049Z"
   },
   {
    "duration": 0,
    "start_time": "2023-09-04T17:41:29.051Z"
   },
   {
    "duration": 0,
    "start_time": "2023-09-04T17:41:29.052Z"
   },
   {
    "duration": 0,
    "start_time": "2023-09-04T17:41:29.054Z"
   },
   {
    "duration": 0,
    "start_time": "2023-09-04T17:41:29.060Z"
   },
   {
    "duration": 0,
    "start_time": "2023-09-04T17:41:29.061Z"
   },
   {
    "duration": 0,
    "start_time": "2023-09-04T17:41:29.062Z"
   },
   {
    "duration": 0,
    "start_time": "2023-09-04T17:41:29.064Z"
   },
   {
    "duration": 0,
    "start_time": "2023-09-04T17:41:29.065Z"
   },
   {
    "duration": 85,
    "start_time": "2023-09-04T17:41:29.068Z"
   },
   {
    "duration": 0,
    "start_time": "2023-09-04T17:41:29.156Z"
   },
   {
    "duration": 0,
    "start_time": "2023-09-04T17:41:29.158Z"
   },
   {
    "duration": 0,
    "start_time": "2023-09-04T17:41:29.159Z"
   },
   {
    "duration": 0,
    "start_time": "2023-09-04T17:41:29.161Z"
   },
   {
    "duration": 0,
    "start_time": "2023-09-04T17:41:29.162Z"
   },
   {
    "duration": 0,
    "start_time": "2023-09-04T17:41:29.164Z"
   },
   {
    "duration": 0,
    "start_time": "2023-09-04T17:41:29.165Z"
   },
   {
    "duration": 0,
    "start_time": "2023-09-04T17:41:29.167Z"
   },
   {
    "duration": 0,
    "start_time": "2023-09-04T17:41:29.169Z"
   },
   {
    "duration": 0,
    "start_time": "2023-09-04T17:41:29.170Z"
   },
   {
    "duration": 0,
    "start_time": "2023-09-04T17:41:29.171Z"
   },
   {
    "duration": 0,
    "start_time": "2023-09-04T17:41:29.213Z"
   },
   {
    "duration": 0,
    "start_time": "2023-09-04T17:41:29.215Z"
   },
   {
    "duration": 0,
    "start_time": "2023-09-04T17:41:29.217Z"
   },
   {
    "duration": 0,
    "start_time": "2023-09-04T17:41:29.219Z"
   },
   {
    "duration": 0,
    "start_time": "2023-09-04T17:41:29.220Z"
   },
   {
    "duration": 0,
    "start_time": "2023-09-04T17:41:29.222Z"
   },
   {
    "duration": 0,
    "start_time": "2023-09-04T17:41:29.223Z"
   },
   {
    "duration": 0,
    "start_time": "2023-09-04T17:41:29.225Z"
   },
   {
    "duration": 0,
    "start_time": "2023-09-04T17:41:29.225Z"
   },
   {
    "duration": 0,
    "start_time": "2023-09-04T17:41:29.226Z"
   },
   {
    "duration": 9,
    "start_time": "2023-09-04T17:41:29.231Z"
   },
   {
    "duration": 0,
    "start_time": "2023-09-04T17:41:29.242Z"
   },
   {
    "duration": 0,
    "start_time": "2023-09-04T17:41:29.243Z"
   },
   {
    "duration": 0,
    "start_time": "2023-09-04T17:41:29.244Z"
   },
   {
    "duration": 0,
    "start_time": "2023-09-04T17:41:29.245Z"
   },
   {
    "duration": 0,
    "start_time": "2023-09-04T17:41:29.246Z"
   },
   {
    "duration": 0,
    "start_time": "2023-09-04T17:41:29.247Z"
   },
   {
    "duration": 0,
    "start_time": "2023-09-04T17:41:29.248Z"
   },
   {
    "duration": 0,
    "start_time": "2023-09-04T17:41:29.249Z"
   },
   {
    "duration": 0,
    "start_time": "2023-09-04T17:41:29.250Z"
   },
   {
    "duration": 0,
    "start_time": "2023-09-04T17:41:29.252Z"
   },
   {
    "duration": 0,
    "start_time": "2023-09-04T17:41:29.253Z"
   },
   {
    "duration": 0,
    "start_time": "2023-09-04T17:41:29.309Z"
   },
   {
    "duration": 0,
    "start_time": "2023-09-04T17:41:29.311Z"
   },
   {
    "duration": 0,
    "start_time": "2023-09-04T17:41:29.312Z"
   },
   {
    "duration": 0,
    "start_time": "2023-09-04T17:41:29.313Z"
   },
   {
    "duration": 0,
    "start_time": "2023-09-04T17:41:29.315Z"
   },
   {
    "duration": 0,
    "start_time": "2023-09-04T17:41:29.316Z"
   },
   {
    "duration": 1585,
    "start_time": "2023-09-04T18:02:28.568Z"
   },
   {
    "duration": 803,
    "start_time": "2023-09-04T18:02:30.155Z"
   },
   {
    "duration": 23,
    "start_time": "2023-09-04T18:02:30.960Z"
   },
   {
    "duration": 35,
    "start_time": "2023-09-04T18:02:30.985Z"
   },
   {
    "duration": 51,
    "start_time": "2023-09-04T18:02:31.022Z"
   },
   {
    "duration": 38,
    "start_time": "2023-09-04T18:02:31.075Z"
   },
   {
    "duration": 55,
    "start_time": "2023-09-04T18:02:31.115Z"
   },
   {
    "duration": 38,
    "start_time": "2023-09-04T18:02:31.171Z"
   },
   {
    "duration": 44,
    "start_time": "2023-09-04T18:02:31.211Z"
   },
   {
    "duration": 60,
    "start_time": "2023-09-04T18:02:31.257Z"
   },
   {
    "duration": 48,
    "start_time": "2023-09-04T18:02:31.318Z"
   },
   {
    "duration": 35,
    "start_time": "2023-09-04T18:02:31.368Z"
   },
   {
    "duration": 17,
    "start_time": "2023-09-04T18:02:31.404Z"
   },
   {
    "duration": 24,
    "start_time": "2023-09-04T18:02:31.423Z"
   },
   {
    "duration": 15,
    "start_time": "2023-09-04T18:02:31.449Z"
   },
   {
    "duration": 338,
    "start_time": "2023-09-04T18:02:31.466Z"
   },
   {
    "duration": 163,
    "start_time": "2023-09-04T18:02:31.808Z"
   },
   {
    "duration": 0,
    "start_time": "2023-09-04T18:02:31.972Z"
   },
   {
    "duration": 0,
    "start_time": "2023-09-04T18:02:31.973Z"
   },
   {
    "duration": 0,
    "start_time": "2023-09-04T18:02:31.974Z"
   },
   {
    "duration": 0,
    "start_time": "2023-09-04T18:02:31.975Z"
   },
   {
    "duration": 0,
    "start_time": "2023-09-04T18:02:31.976Z"
   },
   {
    "duration": 0,
    "start_time": "2023-09-04T18:02:31.977Z"
   },
   {
    "duration": 0,
    "start_time": "2023-09-04T18:02:31.977Z"
   },
   {
    "duration": 0,
    "start_time": "2023-09-04T18:02:31.978Z"
   },
   {
    "duration": 0,
    "start_time": "2023-09-04T18:02:31.979Z"
   },
   {
    "duration": 0,
    "start_time": "2023-09-04T18:02:31.981Z"
   },
   {
    "duration": 0,
    "start_time": "2023-09-04T18:02:31.982Z"
   },
   {
    "duration": 0,
    "start_time": "2023-09-04T18:02:31.982Z"
   },
   {
    "duration": 0,
    "start_time": "2023-09-04T18:02:31.983Z"
   },
   {
    "duration": 0,
    "start_time": "2023-09-04T18:02:31.985Z"
   },
   {
    "duration": 1,
    "start_time": "2023-09-04T18:02:31.985Z"
   },
   {
    "duration": 0,
    "start_time": "2023-09-04T18:02:31.987Z"
   },
   {
    "duration": 0,
    "start_time": "2023-09-04T18:02:31.987Z"
   },
   {
    "duration": 0,
    "start_time": "2023-09-04T18:02:31.988Z"
   },
   {
    "duration": 0,
    "start_time": "2023-09-04T18:02:31.989Z"
   },
   {
    "duration": 0,
    "start_time": "2023-09-04T18:02:31.990Z"
   },
   {
    "duration": 0,
    "start_time": "2023-09-04T18:02:31.991Z"
   },
   {
    "duration": 0,
    "start_time": "2023-09-04T18:02:31.992Z"
   },
   {
    "duration": 0,
    "start_time": "2023-09-04T18:02:31.993Z"
   },
   {
    "duration": 0,
    "start_time": "2023-09-04T18:02:31.994Z"
   },
   {
    "duration": 0,
    "start_time": "2023-09-04T18:02:31.995Z"
   },
   {
    "duration": 0,
    "start_time": "2023-09-04T18:02:31.996Z"
   },
   {
    "duration": 0,
    "start_time": "2023-09-04T18:02:31.997Z"
   },
   {
    "duration": 0,
    "start_time": "2023-09-04T18:02:31.998Z"
   },
   {
    "duration": 0,
    "start_time": "2023-09-04T18:02:31.999Z"
   },
   {
    "duration": 0,
    "start_time": "2023-09-04T18:02:32.000Z"
   },
   {
    "duration": 0,
    "start_time": "2023-09-04T18:02:32.001Z"
   },
   {
    "duration": 0,
    "start_time": "2023-09-04T18:02:32.002Z"
   },
   {
    "duration": 1371,
    "start_time": "2023-09-04T18:05:41.272Z"
   },
   {
    "duration": 199,
    "start_time": "2023-09-04T18:05:42.646Z"
   },
   {
    "duration": 21,
    "start_time": "2023-09-04T18:05:42.847Z"
   },
   {
    "duration": 18,
    "start_time": "2023-09-04T18:05:42.871Z"
   },
   {
    "duration": 14,
    "start_time": "2023-09-04T18:05:42.891Z"
   },
   {
    "duration": 11,
    "start_time": "2023-09-04T18:05:42.907Z"
   },
   {
    "duration": 8,
    "start_time": "2023-09-04T18:05:42.920Z"
   },
   {
    "duration": 8,
    "start_time": "2023-09-04T18:05:42.929Z"
   },
   {
    "duration": 8,
    "start_time": "2023-09-04T18:05:42.939Z"
   },
   {
    "duration": 7,
    "start_time": "2023-09-04T18:05:42.950Z"
   },
   {
    "duration": 6,
    "start_time": "2023-09-04T18:05:42.959Z"
   },
   {
    "duration": 44,
    "start_time": "2023-09-04T18:05:42.967Z"
   },
   {
    "duration": 10,
    "start_time": "2023-09-04T18:05:43.013Z"
   },
   {
    "duration": 15,
    "start_time": "2023-09-04T18:05:43.025Z"
   },
   {
    "duration": 12,
    "start_time": "2023-09-04T18:05:43.041Z"
   },
   {
    "duration": 317,
    "start_time": "2023-09-04T18:05:43.055Z"
   },
   {
    "duration": 176,
    "start_time": "2023-09-04T18:05:43.374Z"
   },
   {
    "duration": 8,
    "start_time": "2023-09-04T18:05:43.552Z"
   },
   {
    "duration": 186,
    "start_time": "2023-09-04T18:05:43.561Z"
   },
   {
    "duration": 110,
    "start_time": "2023-09-04T18:05:43.749Z"
   },
   {
    "duration": 10,
    "start_time": "2023-09-04T18:05:43.860Z"
   },
   {
    "duration": 83,
    "start_time": "2023-09-04T18:05:43.872Z"
   },
   {
    "duration": 178,
    "start_time": "2023-09-04T18:05:43.957Z"
   },
   {
    "duration": 212,
    "start_time": "2023-09-04T18:05:44.136Z"
   },
   {
    "duration": 137,
    "start_time": "2023-09-04T18:05:44.350Z"
   },
   {
    "duration": 213,
    "start_time": "2023-09-04T18:05:44.489Z"
   },
   {
    "duration": 14,
    "start_time": "2023-09-04T18:05:44.704Z"
   },
   {
    "duration": 3,
    "start_time": "2023-09-04T18:05:44.722Z"
   },
   {
    "duration": 18,
    "start_time": "2023-09-04T18:05:44.727Z"
   },
   {
    "duration": 17,
    "start_time": "2023-09-04T18:05:44.747Z"
   },
   {
    "duration": 55,
    "start_time": "2023-09-04T18:05:44.766Z"
   },
   {
    "duration": 5,
    "start_time": "2023-09-04T18:05:44.823Z"
   },
   {
    "duration": 28,
    "start_time": "2023-09-04T18:05:44.829Z"
   },
   {
    "duration": 16,
    "start_time": "2023-09-04T18:05:44.859Z"
   },
   {
    "duration": 303,
    "start_time": "2023-09-04T18:05:44.877Z"
   },
   {
    "duration": 205,
    "start_time": "2023-09-04T18:05:45.182Z"
   },
   {
    "duration": 125,
    "start_time": "2023-09-04T18:05:45.390Z"
   },
   {
    "duration": 4,
    "start_time": "2023-09-04T18:05:45.517Z"
   },
   {
    "duration": 12,
    "start_time": "2023-09-04T18:05:45.523Z"
   },
   {
    "duration": 12,
    "start_time": "2023-09-04T18:05:45.538Z"
   },
   {
    "duration": 239,
    "start_time": "2023-09-04T18:05:45.552Z"
   },
   {
    "duration": 16,
    "start_time": "2023-09-04T18:05:45.793Z"
   },
   {
    "duration": 10,
    "start_time": "2023-09-04T18:05:45.811Z"
   },
   {
    "duration": 8,
    "start_time": "2023-09-04T18:05:45.823Z"
   },
   {
    "duration": 12,
    "start_time": "2023-09-04T18:05:45.832Z"
   },
   {
    "duration": 165,
    "start_time": "2023-09-04T18:05:45.846Z"
   },
   {
    "duration": 269,
    "start_time": "2023-09-04T18:05:46.013Z"
   },
   {
    "duration": 364,
    "start_time": "2023-09-04T18:05:46.283Z"
   },
   {
    "duration": 72,
    "start_time": "2023-09-05T17:00:43.205Z"
   },
   {
    "duration": 1645,
    "start_time": "2023-09-05T17:00:55.743Z"
   },
   {
    "duration": 275,
    "start_time": "2023-09-05T17:00:57.390Z"
   },
   {
    "duration": 20,
    "start_time": "2023-09-05T17:00:57.666Z"
   },
   {
    "duration": 85,
    "start_time": "2023-09-05T17:00:57.688Z"
   },
   {
    "duration": 71,
    "start_time": "2023-09-05T17:00:57.775Z"
   },
   {
    "duration": 19,
    "start_time": "2023-09-05T17:00:57.848Z"
   },
   {
    "duration": 22,
    "start_time": "2023-09-05T17:00:57.869Z"
   },
   {
    "duration": 51,
    "start_time": "2023-09-05T17:00:57.894Z"
   },
   {
    "duration": 9,
    "start_time": "2023-09-05T17:00:57.948Z"
   },
   {
    "duration": 31,
    "start_time": "2023-09-05T17:00:57.960Z"
   },
   {
    "duration": 18,
    "start_time": "2023-09-05T17:00:57.993Z"
   },
   {
    "duration": 52,
    "start_time": "2023-09-05T17:00:58.013Z"
   },
   {
    "duration": 31,
    "start_time": "2023-09-05T17:00:58.067Z"
   },
   {
    "duration": 18,
    "start_time": "2023-09-05T17:00:58.099Z"
   },
   {
    "duration": 31,
    "start_time": "2023-09-05T17:00:58.119Z"
   },
   {
    "duration": 327,
    "start_time": "2023-09-05T17:00:58.151Z"
   },
   {
    "duration": 125,
    "start_time": "2023-09-05T17:00:58.480Z"
   },
   {
    "duration": 0,
    "start_time": "2023-09-05T17:00:58.608Z"
   },
   {
    "duration": 0,
    "start_time": "2023-09-05T17:00:58.609Z"
   },
   {
    "duration": 0,
    "start_time": "2023-09-05T17:00:58.611Z"
   },
   {
    "duration": 0,
    "start_time": "2023-09-05T17:00:58.612Z"
   },
   {
    "duration": 0,
    "start_time": "2023-09-05T17:00:58.613Z"
   },
   {
    "duration": 0,
    "start_time": "2023-09-05T17:00:58.629Z"
   },
   {
    "duration": 0,
    "start_time": "2023-09-05T17:00:58.630Z"
   },
   {
    "duration": 0,
    "start_time": "2023-09-05T17:00:58.633Z"
   },
   {
    "duration": 0,
    "start_time": "2023-09-05T17:00:58.634Z"
   },
   {
    "duration": 0,
    "start_time": "2023-09-05T17:00:58.636Z"
   },
   {
    "duration": 0,
    "start_time": "2023-09-05T17:00:58.638Z"
   },
   {
    "duration": 0,
    "start_time": "2023-09-05T17:00:58.643Z"
   },
   {
    "duration": 0,
    "start_time": "2023-09-05T17:00:58.646Z"
   },
   {
    "duration": 0,
    "start_time": "2023-09-05T17:00:58.647Z"
   },
   {
    "duration": 0,
    "start_time": "2023-09-05T17:00:58.648Z"
   },
   {
    "duration": 0,
    "start_time": "2023-09-05T17:00:58.649Z"
   },
   {
    "duration": 0,
    "start_time": "2023-09-05T17:00:58.650Z"
   },
   {
    "duration": 0,
    "start_time": "2023-09-05T17:00:58.651Z"
   },
   {
    "duration": 0,
    "start_time": "2023-09-05T17:00:58.652Z"
   },
   {
    "duration": 0,
    "start_time": "2023-09-05T17:00:58.653Z"
   },
   {
    "duration": 0,
    "start_time": "2023-09-05T17:00:58.654Z"
   },
   {
    "duration": 0,
    "start_time": "2023-09-05T17:00:58.655Z"
   },
   {
    "duration": 0,
    "start_time": "2023-09-05T17:00:58.656Z"
   },
   {
    "duration": 0,
    "start_time": "2023-09-05T17:00:58.657Z"
   },
   {
    "duration": 0,
    "start_time": "2023-09-05T17:00:58.658Z"
   },
   {
    "duration": 0,
    "start_time": "2023-09-05T17:00:58.659Z"
   },
   {
    "duration": 0,
    "start_time": "2023-09-05T17:00:58.661Z"
   },
   {
    "duration": 0,
    "start_time": "2023-09-05T17:00:58.662Z"
   },
   {
    "duration": 0,
    "start_time": "2023-09-05T17:00:58.663Z"
   },
   {
    "duration": 0,
    "start_time": "2023-09-05T17:00:58.664Z"
   },
   {
    "duration": 0,
    "start_time": "2023-09-05T17:00:58.666Z"
   },
   {
    "duration": 0,
    "start_time": "2023-09-05T17:00:58.667Z"
   },
   {
    "duration": 13,
    "start_time": "2023-09-05T17:02:32.240Z"
   },
   {
    "duration": 13,
    "start_time": "2023-09-05T17:08:52.054Z"
   },
   {
    "duration": 90,
    "start_time": "2023-09-05T17:13:57.403Z"
   },
   {
    "duration": 116,
    "start_time": "2023-09-05T17:14:21.099Z"
   },
   {
    "duration": 330,
    "start_time": "2023-09-05T17:15:10.939Z"
   },
   {
    "duration": 21,
    "start_time": "2023-09-05T17:16:23.299Z"
   },
   {
    "duration": 26,
    "start_time": "2023-09-05T17:22:54.438Z"
   },
   {
    "duration": 23,
    "start_time": "2023-09-05T17:23:01.922Z"
   },
   {
    "duration": 17,
    "start_time": "2023-09-05T17:23:06.904Z"
   },
   {
    "duration": 197,
    "start_time": "2023-09-05T17:23:38.247Z"
   },
   {
    "duration": 18,
    "start_time": "2023-09-05T17:23:48.745Z"
   },
   {
    "duration": 16,
    "start_time": "2023-09-05T17:23:55.262Z"
   },
   {
    "duration": 4,
    "start_time": "2023-09-05T17:25:19.941Z"
   },
   {
    "duration": 1312,
    "start_time": "2023-09-05T17:25:27.871Z"
   },
   {
    "duration": 326,
    "start_time": "2023-09-05T17:25:29.185Z"
   },
   {
    "duration": 21,
    "start_time": "2023-09-05T17:25:29.513Z"
   },
   {
    "duration": 28,
    "start_time": "2023-09-05T17:25:29.536Z"
   },
   {
    "duration": 14,
    "start_time": "2023-09-05T17:25:29.566Z"
   },
   {
    "duration": 8,
    "start_time": "2023-09-05T17:25:29.581Z"
   },
   {
    "duration": 48,
    "start_time": "2023-09-05T17:25:29.590Z"
   },
   {
    "duration": 10,
    "start_time": "2023-09-05T17:25:29.641Z"
   },
   {
    "duration": 7,
    "start_time": "2023-09-05T17:25:29.654Z"
   },
   {
    "duration": 6,
    "start_time": "2023-09-05T17:25:29.665Z"
   },
   {
    "duration": 5,
    "start_time": "2023-09-05T17:25:29.673Z"
   },
   {
    "duration": 11,
    "start_time": "2023-09-05T17:25:29.680Z"
   },
   {
    "duration": 12,
    "start_time": "2023-09-05T17:25:29.733Z"
   },
   {
    "duration": 6,
    "start_time": "2023-09-05T17:25:29.746Z"
   },
   {
    "duration": 5,
    "start_time": "2023-09-05T17:25:29.754Z"
   },
   {
    "duration": 322,
    "start_time": "2023-09-05T17:25:29.760Z"
   },
   {
    "duration": 120,
    "start_time": "2023-09-05T17:25:30.084Z"
   },
   {
    "duration": 0,
    "start_time": "2023-09-05T17:25:30.206Z"
   },
   {
    "duration": 0,
    "start_time": "2023-09-05T17:25:30.208Z"
   },
   {
    "duration": 0,
    "start_time": "2023-09-05T17:25:30.209Z"
   },
   {
    "duration": 0,
    "start_time": "2023-09-05T17:25:30.210Z"
   },
   {
    "duration": 0,
    "start_time": "2023-09-05T17:25:30.212Z"
   },
   {
    "duration": 0,
    "start_time": "2023-09-05T17:25:30.229Z"
   },
   {
    "duration": 0,
    "start_time": "2023-09-05T17:25:30.231Z"
   },
   {
    "duration": 0,
    "start_time": "2023-09-05T17:25:30.233Z"
   },
   {
    "duration": 0,
    "start_time": "2023-09-05T17:25:30.235Z"
   },
   {
    "duration": 0,
    "start_time": "2023-09-05T17:25:30.236Z"
   },
   {
    "duration": 0,
    "start_time": "2023-09-05T17:25:30.237Z"
   },
   {
    "duration": 0,
    "start_time": "2023-09-05T17:25:30.238Z"
   },
   {
    "duration": 0,
    "start_time": "2023-09-05T17:25:30.239Z"
   },
   {
    "duration": 0,
    "start_time": "2023-09-05T17:25:30.240Z"
   },
   {
    "duration": 0,
    "start_time": "2023-09-05T17:25:30.241Z"
   },
   {
    "duration": 0,
    "start_time": "2023-09-05T17:25:30.242Z"
   },
   {
    "duration": 0,
    "start_time": "2023-09-05T17:25:30.244Z"
   },
   {
    "duration": 0,
    "start_time": "2023-09-05T17:25:30.245Z"
   },
   {
    "duration": 0,
    "start_time": "2023-09-05T17:25:30.247Z"
   },
   {
    "duration": 0,
    "start_time": "2023-09-05T17:25:30.249Z"
   },
   {
    "duration": 0,
    "start_time": "2023-09-05T17:25:30.250Z"
   },
   {
    "duration": 0,
    "start_time": "2023-09-05T17:25:30.251Z"
   },
   {
    "duration": 0,
    "start_time": "2023-09-05T17:25:30.252Z"
   },
   {
    "duration": 0,
    "start_time": "2023-09-05T17:25:30.253Z"
   },
   {
    "duration": 0,
    "start_time": "2023-09-05T17:25:30.254Z"
   },
   {
    "duration": 0,
    "start_time": "2023-09-05T17:25:30.255Z"
   },
   {
    "duration": 0,
    "start_time": "2023-09-05T17:25:30.256Z"
   },
   {
    "duration": 0,
    "start_time": "2023-09-05T17:25:30.257Z"
   },
   {
    "duration": 0,
    "start_time": "2023-09-05T17:25:30.258Z"
   },
   {
    "duration": 0,
    "start_time": "2023-09-05T17:25:30.259Z"
   },
   {
    "duration": 0,
    "start_time": "2023-09-05T17:25:30.260Z"
   },
   {
    "duration": 1,
    "start_time": "2023-09-05T17:25:30.261Z"
   },
   {
    "duration": 346,
    "start_time": "2023-09-05T17:26:32.654Z"
   },
   {
    "duration": 7,
    "start_time": "2023-09-05T17:27:15.554Z"
   },
   {
    "duration": 15,
    "start_time": "2023-09-05T17:27:49.305Z"
   },
   {
    "duration": 13,
    "start_time": "2023-09-05T17:28:21.179Z"
   },
   {
    "duration": 310,
    "start_time": "2023-09-05T17:29:14.200Z"
   },
   {
    "duration": 11,
    "start_time": "2023-09-05T17:29:58.542Z"
   },
   {
    "duration": 10,
    "start_time": "2023-09-05T17:32:01.601Z"
   },
   {
    "duration": 21,
    "start_time": "2023-09-05T17:32:06.523Z"
   },
   {
    "duration": 120,
    "start_time": "2023-09-05T17:32:16.093Z"
   },
   {
    "duration": 20,
    "start_time": "2023-09-05T17:32:42.037Z"
   },
   {
    "duration": 126,
    "start_time": "2023-09-05T17:33:05.953Z"
   },
   {
    "duration": 17,
    "start_time": "2023-09-05T17:35:12.479Z"
   },
   {
    "duration": 178,
    "start_time": "2023-09-05T17:35:52.831Z"
   },
   {
    "duration": 13,
    "start_time": "2023-09-05T17:37:18.171Z"
   },
   {
    "duration": 1472,
    "start_time": "2023-09-05T17:39:41.755Z"
   },
   {
    "duration": 1587,
    "start_time": "2023-09-05T17:39:56.282Z"
   },
   {
    "duration": 1504,
    "start_time": "2023-09-05T17:40:47.502Z"
   },
   {
    "duration": 301,
    "start_time": "2023-09-05T17:41:06.563Z"
   },
   {
    "duration": 18,
    "start_time": "2023-09-05T17:42:13.666Z"
   },
   {
    "duration": 28,
    "start_time": "2023-09-05T17:42:43.221Z"
   },
   {
    "duration": 35,
    "start_time": "2023-09-05T17:43:56.118Z"
   },
   {
    "duration": 87,
    "start_time": "2023-09-06T08:43:14.214Z"
   },
   {
    "duration": 14,
    "start_time": "2023-09-06T08:43:29.805Z"
   },
   {
    "duration": 9,
    "start_time": "2023-09-06T08:44:03.651Z"
   },
   {
    "duration": 4,
    "start_time": "2023-09-06T08:44:14.860Z"
   },
   {
    "duration": 8,
    "start_time": "2023-09-06T08:44:23.465Z"
   },
   {
    "duration": 17,
    "start_time": "2023-09-06T08:46:46.030Z"
   },
   {
    "duration": 4,
    "start_time": "2023-09-06T08:47:11.597Z"
   },
   {
    "duration": 12,
    "start_time": "2023-09-06T08:47:14.913Z"
   },
   {
    "duration": 13,
    "start_time": "2023-09-06T08:47:26.802Z"
   },
   {
    "duration": 6,
    "start_time": "2023-09-06T08:48:26.092Z"
   },
   {
    "duration": 15,
    "start_time": "2023-09-06T08:48:35.376Z"
   },
   {
    "duration": 3,
    "start_time": "2023-09-06T08:48:43.393Z"
   },
   {
    "duration": 8,
    "start_time": "2023-09-06T08:48:43.904Z"
   },
   {
    "duration": 4,
    "start_time": "2023-09-06T09:02:03.578Z"
   },
   {
    "duration": 8,
    "start_time": "2023-09-06T09:02:08.197Z"
   },
   {
    "duration": 4,
    "start_time": "2023-09-06T09:03:32.955Z"
   },
   {
    "duration": 8,
    "start_time": "2023-09-06T09:03:38.448Z"
   },
   {
    "duration": 7,
    "start_time": "2023-09-06T09:03:44.076Z"
   },
   {
    "duration": 3,
    "start_time": "2023-09-06T09:04:02.270Z"
   },
   {
    "duration": 9,
    "start_time": "2023-09-06T09:04:17.103Z"
   },
   {
    "duration": 8,
    "start_time": "2023-09-06T09:04:27.183Z"
   },
   {
    "duration": 4,
    "start_time": "2023-09-06T09:20:45.007Z"
   },
   {
    "duration": 8,
    "start_time": "2023-09-06T09:20:48.192Z"
   },
   {
    "duration": 10,
    "start_time": "2023-09-06T09:20:54.855Z"
   },
   {
    "duration": 3,
    "start_time": "2023-09-06T09:42:29.813Z"
   },
   {
    "duration": 6,
    "start_time": "2023-09-06T09:42:41.330Z"
   },
   {
    "duration": 8,
    "start_time": "2023-09-06T09:42:43.325Z"
   },
   {
    "duration": 82,
    "start_time": "2023-09-06T09:42:59.354Z"
   },
   {
    "duration": 4,
    "start_time": "2023-09-06T09:43:04.156Z"
   },
   {
    "duration": 3,
    "start_time": "2023-09-06T09:43:17.960Z"
   },
   {
    "duration": 2,
    "start_time": "2023-09-06T09:43:29.864Z"
   },
   {
    "duration": 7,
    "start_time": "2023-09-06T09:43:31.426Z"
   },
   {
    "duration": 11,
    "start_time": "2023-09-06T09:44:22.676Z"
   },
   {
    "duration": 191,
    "start_time": "2023-09-06T09:45:01.104Z"
   },
   {
    "duration": 6,
    "start_time": "2023-09-06T09:45:01.826Z"
   },
   {
    "duration": 74,
    "start_time": "2023-09-06T09:45:05.898Z"
   },
   {
    "duration": 92,
    "start_time": "2023-09-06T09:45:13.557Z"
   },
   {
    "duration": 1736,
    "start_time": "2023-09-06T10:02:10.642Z"
   },
   {
    "duration": 360,
    "start_time": "2023-09-06T10:02:12.381Z"
   },
   {
    "duration": 26,
    "start_time": "2023-09-06T10:02:12.743Z"
   },
   {
    "duration": 20,
    "start_time": "2023-09-06T10:02:12.772Z"
   },
   {
    "duration": 28,
    "start_time": "2023-09-06T10:02:12.795Z"
   },
   {
    "duration": 3,
    "start_time": "2023-09-06T10:02:12.825Z"
   },
   {
    "duration": 15,
    "start_time": "2023-09-06T10:02:12.830Z"
   },
   {
    "duration": 14,
    "start_time": "2023-09-06T10:02:12.851Z"
   },
   {
    "duration": 8,
    "start_time": "2023-09-06T10:02:12.867Z"
   },
   {
    "duration": 13,
    "start_time": "2023-09-06T10:02:12.877Z"
   },
   {
    "duration": 16,
    "start_time": "2023-09-06T10:02:12.913Z"
   },
   {
    "duration": 11,
    "start_time": "2023-09-06T10:02:12.933Z"
   },
   {
    "duration": 8,
    "start_time": "2023-09-06T10:02:12.946Z"
   },
   {
    "duration": 20,
    "start_time": "2023-09-06T10:02:12.957Z"
   },
   {
    "duration": 40,
    "start_time": "2023-09-06T10:02:12.979Z"
   },
   {
    "duration": 16,
    "start_time": "2023-09-06T10:02:13.021Z"
   },
   {
    "duration": 35,
    "start_time": "2023-09-06T10:02:13.039Z"
   },
   {
    "duration": 379,
    "start_time": "2023-09-06T10:02:13.075Z"
   },
   {
    "duration": 2525,
    "start_time": "2023-09-06T10:02:13.456Z"
   },
   {
    "duration": 0,
    "start_time": "2023-09-06T10:02:15.983Z"
   },
   {
    "duration": 0,
    "start_time": "2023-09-06T10:02:15.984Z"
   },
   {
    "duration": 0,
    "start_time": "2023-09-06T10:02:15.986Z"
   },
   {
    "duration": 0,
    "start_time": "2023-09-06T10:02:15.987Z"
   },
   {
    "duration": 0,
    "start_time": "2023-09-06T10:02:15.988Z"
   },
   {
    "duration": 0,
    "start_time": "2023-09-06T10:02:15.989Z"
   },
   {
    "duration": 0,
    "start_time": "2023-09-06T10:02:15.991Z"
   },
   {
    "duration": 0,
    "start_time": "2023-09-06T10:02:15.992Z"
   },
   {
    "duration": 0,
    "start_time": "2023-09-06T10:02:15.993Z"
   },
   {
    "duration": 0,
    "start_time": "2023-09-06T10:02:15.994Z"
   },
   {
    "duration": 0,
    "start_time": "2023-09-06T10:02:15.996Z"
   },
   {
    "duration": 0,
    "start_time": "2023-09-06T10:02:15.997Z"
   },
   {
    "duration": 0,
    "start_time": "2023-09-06T10:02:15.998Z"
   },
   {
    "duration": 0,
    "start_time": "2023-09-06T10:02:15.999Z"
   },
   {
    "duration": 0,
    "start_time": "2023-09-06T10:02:16.000Z"
   },
   {
    "duration": 0,
    "start_time": "2023-09-06T10:02:16.002Z"
   },
   {
    "duration": 0,
    "start_time": "2023-09-06T10:02:16.003Z"
   },
   {
    "duration": 0,
    "start_time": "2023-09-06T10:02:16.004Z"
   },
   {
    "duration": 0,
    "start_time": "2023-09-06T10:02:16.005Z"
   },
   {
    "duration": 0,
    "start_time": "2023-09-06T10:02:16.006Z"
   },
   {
    "duration": 0,
    "start_time": "2023-09-06T10:02:16.007Z"
   },
   {
    "duration": 0,
    "start_time": "2023-09-06T10:02:16.008Z"
   },
   {
    "duration": 0,
    "start_time": "2023-09-06T10:02:16.014Z"
   },
   {
    "duration": 0,
    "start_time": "2023-09-06T10:02:16.016Z"
   },
   {
    "duration": 0,
    "start_time": "2023-09-06T10:02:16.019Z"
   },
   {
    "duration": 0,
    "start_time": "2023-09-06T10:02:16.020Z"
   },
   {
    "duration": 0,
    "start_time": "2023-09-06T10:02:16.022Z"
   },
   {
    "duration": 0,
    "start_time": "2023-09-06T10:02:16.024Z"
   },
   {
    "duration": 0,
    "start_time": "2023-09-06T10:02:16.026Z"
   },
   {
    "duration": 0,
    "start_time": "2023-09-06T10:02:16.027Z"
   },
   {
    "duration": 0,
    "start_time": "2023-09-06T10:02:16.029Z"
   },
   {
    "duration": 0,
    "start_time": "2023-09-06T10:02:16.031Z"
   },
   {
    "duration": 6,
    "start_time": "2023-09-06T10:03:09.136Z"
   },
   {
    "duration": 1478,
    "start_time": "2023-09-06T10:03:16.469Z"
   },
   {
    "duration": 324,
    "start_time": "2023-09-06T10:03:17.949Z"
   },
   {
    "duration": 30,
    "start_time": "2023-09-06T10:03:18.275Z"
   },
   {
    "duration": 33,
    "start_time": "2023-09-06T10:03:18.308Z"
   },
   {
    "duration": 20,
    "start_time": "2023-09-06T10:03:18.343Z"
   },
   {
    "duration": 2,
    "start_time": "2023-09-06T10:03:18.366Z"
   },
   {
    "duration": 5,
    "start_time": "2023-09-06T10:03:18.370Z"
   },
   {
    "duration": 40,
    "start_time": "2023-09-06T10:03:18.377Z"
   },
   {
    "duration": 9,
    "start_time": "2023-09-06T10:03:18.419Z"
   },
   {
    "duration": 10,
    "start_time": "2023-09-06T10:03:18.432Z"
   },
   {
    "duration": 7,
    "start_time": "2023-09-06T10:03:18.444Z"
   },
   {
    "duration": 21,
    "start_time": "2023-09-06T10:03:18.453Z"
   },
   {
    "duration": 38,
    "start_time": "2023-09-06T10:03:18.477Z"
   },
   {
    "duration": 19,
    "start_time": "2023-09-06T10:03:18.517Z"
   },
   {
    "duration": 13,
    "start_time": "2023-09-06T10:03:18.539Z"
   },
   {
    "duration": 10,
    "start_time": "2023-09-06T10:03:18.555Z"
   },
   {
    "duration": 6,
    "start_time": "2023-09-06T10:03:18.567Z"
   },
   {
    "duration": 402,
    "start_time": "2023-09-06T10:03:18.575Z"
   },
   {
    "duration": 6,
    "start_time": "2023-09-06T10:03:18.979Z"
   },
   {
    "duration": 212,
    "start_time": "2023-09-06T10:03:18.986Z"
   },
   {
    "duration": 12,
    "start_time": "2023-09-06T10:03:19.200Z"
   },
   {
    "duration": 221,
    "start_time": "2023-09-06T10:03:19.215Z"
   },
   {
    "duration": 145,
    "start_time": "2023-09-06T10:03:19.438Z"
   },
   {
    "duration": 9,
    "start_time": "2023-09-06T10:03:19.586Z"
   },
   {
    "duration": 17,
    "start_time": "2023-09-06T10:03:19.597Z"
   },
   {
    "duration": 167,
    "start_time": "2023-09-06T10:03:19.616Z"
   },
   {
    "duration": 251,
    "start_time": "2023-09-06T10:03:19.785Z"
   },
   {
    "duration": 154,
    "start_time": "2023-09-06T10:03:20.040Z"
   },
   {
    "duration": 251,
    "start_time": "2023-09-06T10:03:20.196Z"
   },
   {
    "duration": 11,
    "start_time": "2023-09-06T10:03:20.449Z"
   },
   {
    "duration": 16,
    "start_time": "2023-09-06T10:03:20.461Z"
   },
   {
    "duration": 34,
    "start_time": "2023-09-06T10:03:20.479Z"
   },
   {
    "duration": 44,
    "start_time": "2023-09-06T10:03:20.515Z"
   },
   {
    "duration": 23,
    "start_time": "2023-09-06T10:03:20.561Z"
   },
   {
    "duration": 5,
    "start_time": "2023-09-06T10:03:20.587Z"
   },
   {
    "duration": 52,
    "start_time": "2023-09-06T10:03:20.593Z"
   },
   {
    "duration": 133,
    "start_time": "2023-09-06T10:03:20.647Z"
   },
   {
    "duration": 216,
    "start_time": "2023-09-06T10:03:20.782Z"
   },
   {
    "duration": 246,
    "start_time": "2023-09-06T10:03:21.001Z"
   },
   {
    "duration": 126,
    "start_time": "2023-09-06T10:03:21.248Z"
   },
   {
    "duration": 4,
    "start_time": "2023-09-06T10:03:21.375Z"
   },
   {
    "duration": 18,
    "start_time": "2023-09-06T10:03:21.381Z"
   },
   {
    "duration": 28,
    "start_time": "2023-09-06T10:03:21.400Z"
   },
   {
    "duration": 254,
    "start_time": "2023-09-06T10:03:21.431Z"
   },
   {
    "duration": 14,
    "start_time": "2023-09-06T10:03:21.687Z"
   },
   {
    "duration": 11,
    "start_time": "2023-09-06T10:03:21.703Z"
   },
   {
    "duration": 18,
    "start_time": "2023-09-06T10:03:21.716Z"
   },
   {
    "duration": 17,
    "start_time": "2023-09-06T10:03:21.736Z"
   },
   {
    "duration": 189,
    "start_time": "2023-09-06T10:03:21.756Z"
   },
   {
    "duration": 296,
    "start_time": "2023-09-06T10:03:21.947Z"
   },
   {
    "duration": 513,
    "start_time": "2023-09-06T10:03:22.245Z"
   },
   {
    "duration": 1449,
    "start_time": "2023-09-06T13:36:32.314Z"
   },
   {
    "duration": 328,
    "start_time": "2023-09-06T13:36:33.765Z"
   },
   {
    "duration": 26,
    "start_time": "2023-09-06T13:36:34.095Z"
   },
   {
    "duration": 22,
    "start_time": "2023-09-06T13:36:34.123Z"
   },
   {
    "duration": 18,
    "start_time": "2023-09-06T13:36:34.148Z"
   },
   {
    "duration": 21,
    "start_time": "2023-09-06T13:36:34.168Z"
   },
   {
    "duration": 39,
    "start_time": "2023-09-06T13:36:34.192Z"
   },
   {
    "duration": 14,
    "start_time": "2023-09-06T13:36:34.233Z"
   },
   {
    "duration": 10,
    "start_time": "2023-09-06T13:36:34.248Z"
   },
   {
    "duration": 9,
    "start_time": "2023-09-06T13:36:34.260Z"
   },
   {
    "duration": 7,
    "start_time": "2023-09-06T13:36:34.271Z"
   },
   {
    "duration": 27,
    "start_time": "2023-09-06T13:36:34.280Z"
   },
   {
    "duration": 30,
    "start_time": "2023-09-06T13:36:34.308Z"
   },
   {
    "duration": 34,
    "start_time": "2023-09-06T13:36:34.341Z"
   },
   {
    "duration": 11,
    "start_time": "2023-09-06T13:36:34.376Z"
   },
   {
    "duration": 13,
    "start_time": "2023-09-06T13:36:34.389Z"
   },
   {
    "duration": 6,
    "start_time": "2023-09-06T13:36:34.403Z"
   },
   {
    "duration": 319,
    "start_time": "2023-09-06T13:36:34.411Z"
   },
   {
    "duration": 13,
    "start_time": "2023-09-06T13:36:34.731Z"
   },
   {
    "duration": 167,
    "start_time": "2023-09-06T13:36:34.746Z"
   },
   {
    "duration": 9,
    "start_time": "2023-09-06T13:36:34.915Z"
   },
   {
    "duration": 181,
    "start_time": "2023-09-06T13:36:34.926Z"
   },
   {
    "duration": 94,
    "start_time": "2023-09-06T13:36:35.109Z"
   },
   {
    "duration": 7,
    "start_time": "2023-09-06T13:36:35.205Z"
   },
   {
    "duration": 13,
    "start_time": "2023-09-06T13:36:35.213Z"
   },
   {
    "duration": 139,
    "start_time": "2023-09-06T13:36:35.228Z"
   },
   {
    "duration": 204,
    "start_time": "2023-09-06T13:36:35.369Z"
   },
   {
    "duration": 128,
    "start_time": "2023-09-06T13:36:35.574Z"
   },
   {
    "duration": 197,
    "start_time": "2023-09-06T13:36:35.704Z"
   },
   {
    "duration": 11,
    "start_time": "2023-09-06T13:36:35.903Z"
   },
   {
    "duration": 12,
    "start_time": "2023-09-06T13:36:35.917Z"
   },
   {
    "duration": 25,
    "start_time": "2023-09-06T13:36:35.931Z"
   },
   {
    "duration": 15,
    "start_time": "2023-09-06T13:36:35.958Z"
   },
   {
    "duration": 15,
    "start_time": "2023-09-06T13:36:35.974Z"
   },
   {
    "duration": 4,
    "start_time": "2023-09-06T13:36:35.990Z"
   },
   {
    "duration": 126,
    "start_time": "2023-09-06T13:36:35.995Z"
   },
   {
    "duration": 22,
    "start_time": "2023-09-06T13:36:36.123Z"
   },
   {
    "duration": 201,
    "start_time": "2023-09-06T13:36:36.147Z"
   },
   {
    "duration": 184,
    "start_time": "2023-09-06T13:36:36.351Z"
   },
   {
    "duration": 96,
    "start_time": "2023-09-06T13:36:36.537Z"
   },
   {
    "duration": 3,
    "start_time": "2023-09-06T13:36:36.644Z"
   },
   {
    "duration": 18,
    "start_time": "2023-09-06T13:36:36.649Z"
   },
   {
    "duration": 4,
    "start_time": "2023-09-06T13:36:36.668Z"
   },
   {
    "duration": 197,
    "start_time": "2023-09-06T13:36:36.673Z"
   },
   {
    "duration": 14,
    "start_time": "2023-09-06T13:36:36.872Z"
   },
   {
    "duration": 7,
    "start_time": "2023-09-06T13:36:36.887Z"
   },
   {
    "duration": 6,
    "start_time": "2023-09-06T13:36:36.897Z"
   },
   {
    "duration": 36,
    "start_time": "2023-09-06T13:36:36.908Z"
   },
   {
    "duration": 154,
    "start_time": "2023-09-06T13:36:36.946Z"
   },
   {
    "duration": 238,
    "start_time": "2023-09-06T13:36:37.102Z"
   },
   {
    "duration": 327,
    "start_time": "2023-09-06T13:36:37.344Z"
   },
   {
    "duration": 19,
    "start_time": "2023-09-06T13:41:27.948Z"
   },
   {
    "duration": 20,
    "start_time": "2023-09-06T13:42:06.585Z"
   },
   {
    "duration": 3,
    "start_time": "2023-09-06T13:42:55.179Z"
   },
   {
    "duration": 28,
    "start_time": "2023-09-06T13:42:57.805Z"
   },
   {
    "duration": 3,
    "start_time": "2023-09-06T13:46:34.706Z"
   },
   {
    "duration": 3,
    "start_time": "2023-09-06T13:48:06.200Z"
   },
   {
    "duration": 26,
    "start_time": "2023-09-06T13:48:06.781Z"
   },
   {
    "duration": 36,
    "start_time": "2023-09-06T13:48:30.679Z"
   },
   {
    "duration": 3,
    "start_time": "2023-09-06T13:48:59.545Z"
   },
   {
    "duration": 26,
    "start_time": "2023-09-06T13:49:00.568Z"
   },
   {
    "duration": 39,
    "start_time": "2023-09-06T13:49:16.835Z"
   },
   {
    "duration": 29,
    "start_time": "2023-09-06T13:49:30.635Z"
   },
   {
    "duration": 1238,
    "start_time": "2023-09-06T14:05:05.699Z"
   },
   {
    "duration": 193,
    "start_time": "2023-09-06T14:05:06.940Z"
   },
   {
    "duration": 3,
    "start_time": "2023-09-06T14:05:07.135Z"
   },
   {
    "duration": 39,
    "start_time": "2023-09-06T14:05:07.139Z"
   },
   {
    "duration": 34,
    "start_time": "2023-09-06T14:05:07.180Z"
   },
   {
    "duration": 47,
    "start_time": "2023-09-06T14:05:07.216Z"
   },
   {
    "duration": 7,
    "start_time": "2023-09-06T14:05:07.264Z"
   },
   {
    "duration": 14,
    "start_time": "2023-09-06T14:05:07.273Z"
   },
   {
    "duration": 21,
    "start_time": "2023-09-06T14:05:07.288Z"
   },
   {
    "duration": 9,
    "start_time": "2023-09-06T14:05:07.311Z"
   },
   {
    "duration": 8,
    "start_time": "2023-09-06T14:05:07.321Z"
   },
   {
    "duration": 13,
    "start_time": "2023-09-06T14:05:07.331Z"
   },
   {
    "duration": 15,
    "start_time": "2023-09-06T14:05:07.346Z"
   },
   {
    "duration": 7,
    "start_time": "2023-09-06T14:05:07.364Z"
   },
   {
    "duration": 8,
    "start_time": "2023-09-06T14:05:07.373Z"
   },
   {
    "duration": 12,
    "start_time": "2023-09-06T14:05:07.382Z"
   },
   {
    "duration": 295,
    "start_time": "2023-09-06T14:05:07.395Z"
   },
   {
    "duration": 3,
    "start_time": "2023-09-06T14:05:07.692Z"
   },
   {
    "duration": 209,
    "start_time": "2023-09-06T14:05:07.697Z"
   },
   {
    "duration": 10,
    "start_time": "2023-09-06T14:05:07.907Z"
   },
   {
    "duration": 197,
    "start_time": "2023-09-06T14:05:07.919Z"
   },
   {
    "duration": 101,
    "start_time": "2023-09-06T14:05:08.118Z"
   },
   {
    "duration": 8,
    "start_time": "2023-09-06T14:05:08.221Z"
   },
   {
    "duration": 14,
    "start_time": "2023-09-06T14:05:08.231Z"
   },
   {
    "duration": 135,
    "start_time": "2023-09-06T14:05:08.246Z"
   },
   {
    "duration": 209,
    "start_time": "2023-09-06T14:05:08.382Z"
   },
   {
    "duration": 138,
    "start_time": "2023-09-06T14:05:08.593Z"
   },
   {
    "duration": 205,
    "start_time": "2023-09-06T14:05:08.733Z"
   },
   {
    "duration": 11,
    "start_time": "2023-09-06T14:05:08.945Z"
   },
   {
    "duration": 15,
    "start_time": "2023-09-06T14:05:08.959Z"
   },
   {
    "duration": 34,
    "start_time": "2023-09-06T14:05:08.976Z"
   },
   {
    "duration": 18,
    "start_time": "2023-09-06T14:05:09.012Z"
   },
   {
    "duration": 14,
    "start_time": "2023-09-06T14:05:09.032Z"
   },
   {
    "duration": 21,
    "start_time": "2023-09-06T14:05:09.047Z"
   },
   {
    "duration": 109,
    "start_time": "2023-09-06T14:05:09.070Z"
   },
   {
    "duration": 15,
    "start_time": "2023-09-06T14:05:09.181Z"
   },
   {
    "duration": 189,
    "start_time": "2023-09-06T14:05:09.197Z"
   },
   {
    "duration": 193,
    "start_time": "2023-09-06T14:05:09.387Z"
   },
   {
    "duration": 98,
    "start_time": "2023-09-06T14:05:09.582Z"
   },
   {
    "duration": 3,
    "start_time": "2023-09-06T14:05:09.682Z"
   },
   {
    "duration": 43,
    "start_time": "2023-09-06T14:05:09.689Z"
   },
   {
    "duration": 30,
    "start_time": "2023-09-06T14:05:09.734Z"
   },
   {
    "duration": 229,
    "start_time": "2023-09-06T14:05:09.766Z"
   },
   {
    "duration": 14,
    "start_time": "2023-09-06T14:05:09.997Z"
   },
   {
    "duration": 33,
    "start_time": "2023-09-06T14:05:10.013Z"
   },
   {
    "duration": 51,
    "start_time": "2023-09-06T14:05:10.048Z"
   },
   {
    "duration": 34,
    "start_time": "2023-09-06T14:05:10.101Z"
   },
   {
    "duration": 191,
    "start_time": "2023-09-06T14:05:10.137Z"
   },
   {
    "duration": 228,
    "start_time": "2023-09-06T14:05:10.330Z"
   },
   {
    "duration": 349,
    "start_time": "2023-09-06T14:05:10.560Z"
   },
   {
    "duration": 193,
    "start_time": "2023-09-06T14:16:10.778Z"
   },
   {
    "duration": 1239,
    "start_time": "2023-09-06T14:16:18.522Z"
   },
   {
    "duration": 188,
    "start_time": "2023-09-06T14:16:19.763Z"
   },
   {
    "duration": 3,
    "start_time": "2023-09-06T14:16:19.953Z"
   },
   {
    "duration": 74,
    "start_time": "2023-09-06T14:16:19.958Z"
   },
   {
    "duration": 53,
    "start_time": "2023-09-06T14:16:20.033Z"
   },
   {
    "duration": 35,
    "start_time": "2023-09-06T14:16:20.089Z"
   },
   {
    "duration": 30,
    "start_time": "2023-09-06T14:16:20.126Z"
   },
   {
    "duration": 23,
    "start_time": "2023-09-06T14:16:20.158Z"
   },
   {
    "duration": 25,
    "start_time": "2023-09-06T14:16:20.183Z"
   },
   {
    "duration": 7,
    "start_time": "2023-09-06T14:16:20.211Z"
   },
   {
    "duration": 14,
    "start_time": "2023-09-06T14:16:20.220Z"
   },
   {
    "duration": 8,
    "start_time": "2023-09-06T14:16:20.236Z"
   },
   {
    "duration": 13,
    "start_time": "2023-09-06T14:16:20.246Z"
   },
   {
    "duration": 10,
    "start_time": "2023-09-06T14:16:20.261Z"
   },
   {
    "duration": 16,
    "start_time": "2023-09-06T14:16:20.273Z"
   },
   {
    "duration": 20,
    "start_time": "2023-09-06T14:16:20.290Z"
   },
   {
    "duration": 319,
    "start_time": "2023-09-06T14:16:20.312Z"
   },
   {
    "duration": 3,
    "start_time": "2023-09-06T14:16:20.633Z"
   },
   {
    "duration": 171,
    "start_time": "2023-09-06T14:16:20.644Z"
   },
   {
    "duration": 8,
    "start_time": "2023-09-06T14:16:20.817Z"
   },
   {
    "duration": 184,
    "start_time": "2023-09-06T14:16:20.827Z"
   },
   {
    "duration": 108,
    "start_time": "2023-09-06T14:16:21.013Z"
   },
   {
    "duration": 9,
    "start_time": "2023-09-06T14:16:21.123Z"
   },
   {
    "duration": 12,
    "start_time": "2023-09-06T14:16:21.133Z"
   },
   {
    "duration": 159,
    "start_time": "2023-09-06T14:16:21.147Z"
   },
   {
    "duration": 207,
    "start_time": "2023-09-06T14:16:21.308Z"
   },
   {
    "duration": 131,
    "start_time": "2023-09-06T14:16:21.517Z"
   },
   {
    "duration": 330,
    "start_time": "2023-09-06T14:16:21.653Z"
   },
   {
    "duration": 59,
    "start_time": "2023-09-06T14:16:21.985Z"
   },
   {
    "duration": 2,
    "start_time": "2023-09-06T14:16:22.046Z"
   },
   {
    "duration": 17,
    "start_time": "2023-09-06T14:16:22.049Z"
   },
   {
    "duration": 20,
    "start_time": "2023-09-06T14:16:22.067Z"
   },
   {
    "duration": 65,
    "start_time": "2023-09-06T14:16:22.088Z"
   },
   {
    "duration": 3,
    "start_time": "2023-09-06T14:16:22.155Z"
   },
   {
    "duration": 22,
    "start_time": "2023-09-06T14:16:22.160Z"
   },
   {
    "duration": 67,
    "start_time": "2023-09-06T14:16:22.183Z"
   },
   {
    "duration": 336,
    "start_time": "2023-09-06T14:16:22.252Z"
   },
   {
    "duration": 379,
    "start_time": "2023-09-06T14:16:22.589Z"
   },
   {
    "duration": 208,
    "start_time": "2023-09-06T14:16:22.970Z"
   },
   {
    "duration": 3,
    "start_time": "2023-09-06T14:16:23.180Z"
   },
   {
    "duration": 65,
    "start_time": "2023-09-06T14:16:23.185Z"
   },
   {
    "duration": 7,
    "start_time": "2023-09-06T14:16:23.252Z"
   },
   {
    "duration": 394,
    "start_time": "2023-09-06T14:16:23.261Z"
   },
   {
    "duration": 12,
    "start_time": "2023-09-06T14:16:23.657Z"
   },
   {
    "duration": 42,
    "start_time": "2023-09-06T14:16:23.670Z"
   },
   {
    "duration": 87,
    "start_time": "2023-09-06T14:16:23.713Z"
   },
   {
    "duration": 17,
    "start_time": "2023-09-06T14:16:23.801Z"
   },
   {
    "duration": 145,
    "start_time": "2023-09-06T14:16:23.819Z"
   },
   {
    "duration": 278,
    "start_time": "2023-09-06T14:16:23.966Z"
   },
   {
    "duration": 357,
    "start_time": "2023-09-06T14:16:24.246Z"
   },
   {
    "duration": 167,
    "start_time": "2023-09-06T14:16:31.191Z"
   },
   {
    "duration": 1274,
    "start_time": "2023-09-06T14:16:36.707Z"
   },
   {
    "duration": 175,
    "start_time": "2023-09-06T14:16:37.983Z"
   },
   {
    "duration": 3,
    "start_time": "2023-09-06T14:16:38.160Z"
   },
   {
    "duration": 42,
    "start_time": "2023-09-06T14:16:38.165Z"
   },
   {
    "duration": 35,
    "start_time": "2023-09-06T14:16:38.209Z"
   },
   {
    "duration": 26,
    "start_time": "2023-09-06T14:16:38.245Z"
   },
   {
    "duration": 13,
    "start_time": "2023-09-06T14:16:38.273Z"
   },
   {
    "duration": 9,
    "start_time": "2023-09-06T14:16:38.287Z"
   },
   {
    "duration": 12,
    "start_time": "2023-09-06T14:16:38.298Z"
   },
   {
    "duration": 6,
    "start_time": "2023-09-06T14:16:38.344Z"
   },
   {
    "duration": 7,
    "start_time": "2023-09-06T14:16:38.352Z"
   },
   {
    "duration": 6,
    "start_time": "2023-09-06T14:16:38.361Z"
   },
   {
    "duration": 17,
    "start_time": "2023-09-06T14:16:38.368Z"
   },
   {
    "duration": 8,
    "start_time": "2023-09-06T14:16:38.387Z"
   },
   {
    "duration": 20,
    "start_time": "2023-09-06T14:16:38.396Z"
   },
   {
    "duration": 28,
    "start_time": "2023-09-06T14:16:38.418Z"
   },
   {
    "duration": 299,
    "start_time": "2023-09-06T14:16:38.448Z"
   },
   {
    "duration": 3,
    "start_time": "2023-09-06T14:16:38.748Z"
   },
   {
    "duration": 172,
    "start_time": "2023-09-06T14:16:38.753Z"
   },
   {
    "duration": 8,
    "start_time": "2023-09-06T14:16:38.927Z"
   },
   {
    "duration": 168,
    "start_time": "2023-09-06T14:16:38.944Z"
   },
   {
    "duration": 97,
    "start_time": "2023-09-06T14:16:39.113Z"
   },
   {
    "duration": 8,
    "start_time": "2023-09-06T14:16:39.212Z"
   },
   {
    "duration": 7,
    "start_time": "2023-09-06T14:16:39.221Z"
   },
   {
    "duration": 137,
    "start_time": "2023-09-06T14:16:39.229Z"
   },
   {
    "duration": 201,
    "start_time": "2023-09-06T14:16:39.368Z"
   },
   {
    "duration": 129,
    "start_time": "2023-09-06T14:16:39.571Z"
   },
   {
    "duration": 540,
    "start_time": "2023-09-06T14:16:39.704Z"
   },
   {
    "duration": 10,
    "start_time": "2023-09-06T14:16:40.246Z"
   },
   {
    "duration": 16,
    "start_time": "2023-09-06T14:16:40.258Z"
   },
   {
    "duration": 72,
    "start_time": "2023-09-06T14:16:40.276Z"
   },
   {
    "duration": 15,
    "start_time": "2023-09-06T14:16:40.350Z"
   },
   {
    "duration": 22,
    "start_time": "2023-09-06T14:16:40.366Z"
   },
   {
    "duration": 55,
    "start_time": "2023-09-06T14:16:40.390Z"
   },
   {
    "duration": 19,
    "start_time": "2023-09-06T14:16:40.447Z"
   },
   {
    "duration": 15,
    "start_time": "2023-09-06T14:16:40.467Z"
   },
   {
    "duration": 475,
    "start_time": "2023-09-06T14:16:40.483Z"
   },
   {
    "duration": 414,
    "start_time": "2023-09-06T14:16:40.959Z"
   },
   {
    "duration": 213,
    "start_time": "2023-09-06T14:16:41.374Z"
   },
   {
    "duration": 4,
    "start_time": "2023-09-06T14:16:41.588Z"
   },
   {
    "duration": 11,
    "start_time": "2023-09-06T14:16:41.645Z"
   },
   {
    "duration": 28,
    "start_time": "2023-09-06T14:16:41.659Z"
   },
   {
    "duration": 310,
    "start_time": "2023-09-06T14:16:41.689Z"
   },
   {
    "duration": 12,
    "start_time": "2023-09-06T14:16:42.001Z"
   },
   {
    "duration": 10,
    "start_time": "2023-09-06T14:16:42.015Z"
   },
   {
    "duration": 20,
    "start_time": "2023-09-06T14:16:42.026Z"
   },
   {
    "duration": 29,
    "start_time": "2023-09-06T14:16:42.048Z"
   },
   {
    "duration": 231,
    "start_time": "2023-09-06T14:16:42.079Z"
   },
   {
    "duration": 260,
    "start_time": "2023-09-06T14:16:42.312Z"
   },
   {
    "duration": 375,
    "start_time": "2023-09-06T14:16:42.574Z"
   },
   {
    "duration": 1275,
    "start_time": "2023-09-06T14:19:31.302Z"
   },
   {
    "duration": 204,
    "start_time": "2023-09-06T14:19:32.579Z"
   },
   {
    "duration": 3,
    "start_time": "2023-09-06T14:19:32.784Z"
   },
   {
    "duration": 58,
    "start_time": "2023-09-06T14:19:32.789Z"
   },
   {
    "duration": 32,
    "start_time": "2023-09-06T14:19:32.848Z"
   },
   {
    "duration": 28,
    "start_time": "2023-09-06T14:19:32.881Z"
   },
   {
    "duration": 44,
    "start_time": "2023-09-06T14:19:32.910Z"
   },
   {
    "duration": 9,
    "start_time": "2023-09-06T14:19:32.956Z"
   },
   {
    "duration": 19,
    "start_time": "2023-09-06T14:19:32.967Z"
   },
   {
    "duration": 7,
    "start_time": "2023-09-06T14:19:32.988Z"
   },
   {
    "duration": 13,
    "start_time": "2023-09-06T14:19:32.997Z"
   },
   {
    "duration": 9,
    "start_time": "2023-09-06T14:19:33.011Z"
   },
   {
    "duration": 30,
    "start_time": "2023-09-06T14:19:33.021Z"
   },
   {
    "duration": 12,
    "start_time": "2023-09-06T14:19:33.053Z"
   },
   {
    "duration": 7,
    "start_time": "2023-09-06T14:19:33.067Z"
   },
   {
    "duration": 4,
    "start_time": "2023-09-06T14:19:33.076Z"
   },
   {
    "duration": 306,
    "start_time": "2023-09-06T14:19:33.081Z"
   },
   {
    "duration": 2,
    "start_time": "2023-09-06T14:19:33.389Z"
   },
   {
    "duration": 163,
    "start_time": "2023-09-06T14:19:33.393Z"
   },
   {
    "duration": 8,
    "start_time": "2023-09-06T14:19:33.557Z"
   },
   {
    "duration": 167,
    "start_time": "2023-09-06T14:19:33.567Z"
   },
   {
    "duration": 94,
    "start_time": "2023-09-06T14:19:33.735Z"
   },
   {
    "duration": 19,
    "start_time": "2023-09-06T14:19:33.831Z"
   },
   {
    "duration": 8,
    "start_time": "2023-09-06T14:19:33.852Z"
   },
   {
    "duration": 130,
    "start_time": "2023-09-06T14:19:33.861Z"
   },
   {
    "duration": 273,
    "start_time": "2023-09-06T14:19:33.993Z"
   },
   {
    "duration": 145,
    "start_time": "2023-09-06T14:19:34.269Z"
   },
   {
    "duration": 270,
    "start_time": "2023-09-06T14:19:34.417Z"
   },
   {
    "duration": 9,
    "start_time": "2023-09-06T14:19:34.688Z"
   },
   {
    "duration": 14,
    "start_time": "2023-09-06T14:19:34.699Z"
   },
   {
    "duration": 16,
    "start_time": "2023-09-06T14:19:34.715Z"
   },
   {
    "duration": 21,
    "start_time": "2023-09-06T14:19:34.732Z"
   },
   {
    "duration": 14,
    "start_time": "2023-09-06T14:19:34.755Z"
   },
   {
    "duration": 6,
    "start_time": "2023-09-06T14:19:34.771Z"
   },
   {
    "duration": 17,
    "start_time": "2023-09-06T14:19:34.778Z"
   },
   {
    "duration": 15,
    "start_time": "2023-09-06T14:19:34.797Z"
   },
   {
    "duration": 211,
    "start_time": "2023-09-06T14:19:34.813Z"
   },
   {
    "duration": 197,
    "start_time": "2023-09-06T14:19:35.026Z"
   },
   {
    "duration": 103,
    "start_time": "2023-09-06T14:19:35.225Z"
   },
   {
    "duration": 4,
    "start_time": "2023-09-06T14:19:35.329Z"
   },
   {
    "duration": 24,
    "start_time": "2023-09-06T14:19:35.335Z"
   },
   {
    "duration": 27,
    "start_time": "2023-09-06T14:19:35.361Z"
   },
   {
    "duration": 221,
    "start_time": "2023-09-06T14:19:35.391Z"
   },
   {
    "duration": 13,
    "start_time": "2023-09-06T14:19:35.613Z"
   },
   {
    "duration": 16,
    "start_time": "2023-09-06T14:19:35.628Z"
   },
   {
    "duration": 9,
    "start_time": "2023-09-06T14:19:35.645Z"
   },
   {
    "duration": 11,
    "start_time": "2023-09-06T14:19:35.656Z"
   },
   {
    "duration": 155,
    "start_time": "2023-09-06T14:19:35.669Z"
   },
   {
    "duration": 234,
    "start_time": "2023-09-06T14:19:35.826Z"
   },
   {
    "duration": 361,
    "start_time": "2023-09-06T14:19:36.062Z"
   },
   {
    "duration": 152,
    "start_time": "2023-09-06T14:20:22.351Z"
   },
   {
    "duration": 140,
    "start_time": "2023-09-06T14:23:13.247Z"
   },
   {
    "duration": 1248,
    "start_time": "2023-09-06T14:23:49.417Z"
   },
   {
    "duration": 180,
    "start_time": "2023-09-06T14:23:50.667Z"
   },
   {
    "duration": 4,
    "start_time": "2023-09-06T14:23:50.849Z"
   },
   {
    "duration": 52,
    "start_time": "2023-09-06T14:23:50.855Z"
   },
   {
    "duration": 41,
    "start_time": "2023-09-06T14:23:50.909Z"
   },
   {
    "duration": 29,
    "start_time": "2023-09-06T14:23:50.953Z"
   },
   {
    "duration": 14,
    "start_time": "2023-09-06T14:23:50.984Z"
   },
   {
    "duration": 16,
    "start_time": "2023-09-06T14:23:51.000Z"
   },
   {
    "duration": 7,
    "start_time": "2023-09-06T14:23:51.045Z"
   },
   {
    "duration": 6,
    "start_time": "2023-09-06T14:23:51.055Z"
   },
   {
    "duration": 15,
    "start_time": "2023-09-06T14:23:51.062Z"
   },
   {
    "duration": 12,
    "start_time": "2023-09-06T14:23:51.079Z"
   },
   {
    "duration": 16,
    "start_time": "2023-09-06T14:23:51.093Z"
   },
   {
    "duration": 18,
    "start_time": "2023-09-06T14:23:51.110Z"
   },
   {
    "duration": 18,
    "start_time": "2023-09-06T14:23:51.130Z"
   },
   {
    "duration": 4,
    "start_time": "2023-09-06T14:23:51.150Z"
   },
   {
    "duration": 291,
    "start_time": "2023-09-06T14:23:51.155Z"
   },
   {
    "duration": 154,
    "start_time": "2023-09-06T14:23:51.448Z"
   },
   {
    "duration": 166,
    "start_time": "2023-09-06T14:23:51.603Z"
   },
   {
    "duration": 8,
    "start_time": "2023-09-06T14:23:51.770Z"
   },
   {
    "duration": 174,
    "start_time": "2023-09-06T14:23:51.779Z"
   },
   {
    "duration": 98,
    "start_time": "2023-09-06T14:23:51.955Z"
   },
   {
    "duration": 8,
    "start_time": "2023-09-06T14:23:52.054Z"
   },
   {
    "duration": 23,
    "start_time": "2023-09-06T14:23:52.063Z"
   },
   {
    "duration": 166,
    "start_time": "2023-09-06T14:23:52.088Z"
   },
   {
    "duration": 391,
    "start_time": "2023-09-06T14:23:52.256Z"
   },
   {
    "duration": 408,
    "start_time": "2023-09-06T14:23:52.648Z"
   },
   {
    "duration": 399,
    "start_time": "2023-09-06T14:23:53.060Z"
   },
   {
    "duration": 9,
    "start_time": "2023-09-06T14:23:53.460Z"
   },
   {
    "duration": 25,
    "start_time": "2023-09-06T14:23:53.471Z"
   },
   {
    "duration": 56,
    "start_time": "2023-09-06T14:23:53.497Z"
   },
   {
    "duration": 13,
    "start_time": "2023-09-06T14:23:53.555Z"
   },
   {
    "duration": 13,
    "start_time": "2023-09-06T14:23:53.570Z"
   },
   {
    "duration": 62,
    "start_time": "2023-09-06T14:23:53.584Z"
   },
   {
    "duration": 15,
    "start_time": "2023-09-06T14:23:53.647Z"
   },
   {
    "duration": 14,
    "start_time": "2023-09-06T14:23:53.664Z"
   },
   {
    "duration": 340,
    "start_time": "2023-09-06T14:23:53.680Z"
   },
   {
    "duration": 239,
    "start_time": "2023-09-06T14:23:54.021Z"
   },
   {
    "duration": 113,
    "start_time": "2023-09-06T14:23:54.262Z"
   },
   {
    "duration": 4,
    "start_time": "2023-09-06T14:23:54.376Z"
   },
   {
    "duration": 15,
    "start_time": "2023-09-06T14:23:54.381Z"
   },
   {
    "duration": 7,
    "start_time": "2023-09-06T14:23:54.398Z"
   },
   {
    "duration": 200,
    "start_time": "2023-09-06T14:23:54.406Z"
   },
   {
    "duration": 12,
    "start_time": "2023-09-06T14:23:54.608Z"
   },
   {
    "duration": 7,
    "start_time": "2023-09-06T14:23:54.622Z"
   },
   {
    "duration": 17,
    "start_time": "2023-09-06T14:23:54.630Z"
   },
   {
    "duration": 9,
    "start_time": "2023-09-06T14:23:54.649Z"
   },
   {
    "duration": 155,
    "start_time": "2023-09-06T14:23:54.659Z"
   },
   {
    "duration": 241,
    "start_time": "2023-09-06T14:23:54.816Z"
   },
   {
    "duration": 337,
    "start_time": "2023-09-06T14:23:55.059Z"
   },
   {
    "duration": 423,
    "start_time": "2023-09-06T14:24:23.765Z"
   },
   {
    "duration": 359,
    "start_time": "2023-09-06T14:24:33.583Z"
   },
   {
    "duration": 104,
    "start_time": "2023-09-06T14:28:35.098Z"
   },
   {
    "duration": 7,
    "start_time": "2023-09-06T14:28:57.822Z"
   },
   {
    "duration": 105,
    "start_time": "2023-09-06T14:29:11.103Z"
   },
   {
    "duration": 15,
    "start_time": "2023-09-06T14:29:30.578Z"
   },
   {
    "duration": 148,
    "start_time": "2023-09-06T14:30:10.290Z"
   },
   {
    "duration": 11,
    "start_time": "2023-09-06T14:53:51.594Z"
   },
   {
    "duration": 14,
    "start_time": "2023-09-06T14:54:58.959Z"
   },
   {
    "duration": 14,
    "start_time": "2023-09-06T14:57:13.639Z"
   },
   {
    "duration": 13,
    "start_time": "2023-09-06T14:57:35.826Z"
   },
   {
    "duration": 6,
    "start_time": "2023-09-06T14:57:47.228Z"
   },
   {
    "duration": 13,
    "start_time": "2023-09-06T14:57:53.893Z"
   },
   {
    "duration": 11,
    "start_time": "2023-09-06T14:59:55.736Z"
   },
   {
    "duration": 11,
    "start_time": "2023-09-06T15:00:18.578Z"
   },
   {
    "duration": 11,
    "start_time": "2023-09-06T15:06:23.467Z"
   },
   {
    "duration": 13,
    "start_time": "2023-09-06T15:06:31.072Z"
   },
   {
    "duration": 4,
    "start_time": "2023-09-06T15:07:01.355Z"
   },
   {
    "duration": 4,
    "start_time": "2023-09-06T15:07:15.975Z"
   },
   {
    "duration": 4,
    "start_time": "2023-09-06T15:07:31.124Z"
   },
   {
    "duration": 3,
    "start_time": "2023-09-06T15:11:33.748Z"
   },
   {
    "duration": 9,
    "start_time": "2023-09-06T15:11:41.323Z"
   },
   {
    "duration": 24,
    "start_time": "2023-09-06T15:12:11.080Z"
   },
   {
    "duration": 7,
    "start_time": "2023-09-06T15:12:22.544Z"
   },
   {
    "duration": 16,
    "start_time": "2023-09-06T15:12:34.581Z"
   },
   {
    "duration": 13,
    "start_time": "2023-09-06T15:12:53.364Z"
   },
   {
    "duration": 8,
    "start_time": "2023-09-06T15:15:58.266Z"
   },
   {
    "duration": 8,
    "start_time": "2023-09-06T15:16:36.718Z"
   },
   {
    "duration": 14,
    "start_time": "2023-09-06T15:17:00.873Z"
   },
   {
    "duration": 126,
    "start_time": "2023-09-06T15:18:41.915Z"
   },
   {
    "duration": 75,
    "start_time": "2023-09-06T15:18:53.953Z"
   },
   {
    "duration": 16,
    "start_time": "2023-09-06T15:19:15.339Z"
   },
   {
    "duration": 15,
    "start_time": "2023-09-06T15:19:24.626Z"
   },
   {
    "duration": 8,
    "start_time": "2023-09-06T15:19:36.410Z"
   },
   {
    "duration": 21,
    "start_time": "2023-09-06T15:20:02.685Z"
   },
   {
    "duration": 10,
    "start_time": "2023-09-06T15:28:42.545Z"
   },
   {
    "duration": 7,
    "start_time": "2023-09-06T15:29:37.094Z"
   },
   {
    "duration": 20,
    "start_time": "2023-09-06T15:29:50.302Z"
   },
   {
    "duration": 6,
    "start_time": "2023-09-06T15:29:58.204Z"
   },
   {
    "duration": 122,
    "start_time": "2023-09-06T15:30:41.981Z"
   },
   {
    "duration": 174,
    "start_time": "2023-09-06T15:31:05.195Z"
   },
   {
    "duration": 77,
    "start_time": "2023-09-06T15:32:49.983Z"
   },
   {
    "duration": 6,
    "start_time": "2023-09-06T15:35:15.531Z"
   },
   {
    "duration": 1327,
    "start_time": "2023-09-06T15:35:23.322Z"
   },
   {
    "duration": 195,
    "start_time": "2023-09-06T15:35:24.651Z"
   },
   {
    "duration": 2,
    "start_time": "2023-09-06T15:35:24.848Z"
   },
   {
    "duration": 41,
    "start_time": "2023-09-06T15:35:24.853Z"
   },
   {
    "duration": 50,
    "start_time": "2023-09-06T15:35:24.895Z"
   },
   {
    "duration": 30,
    "start_time": "2023-09-06T15:35:24.947Z"
   },
   {
    "duration": 13,
    "start_time": "2023-09-06T15:35:24.979Z"
   },
   {
    "duration": 11,
    "start_time": "2023-09-06T15:35:24.994Z"
   },
   {
    "duration": 38,
    "start_time": "2023-09-06T15:35:25.007Z"
   },
   {
    "duration": 7,
    "start_time": "2023-09-06T15:35:25.049Z"
   },
   {
    "duration": 24,
    "start_time": "2023-09-06T15:35:25.058Z"
   },
   {
    "duration": 18,
    "start_time": "2023-09-06T15:35:25.084Z"
   },
   {
    "duration": 20,
    "start_time": "2023-09-06T15:35:25.104Z"
   },
   {
    "duration": 9,
    "start_time": "2023-09-06T15:35:25.125Z"
   },
   {
    "duration": 22,
    "start_time": "2023-09-06T15:35:25.135Z"
   },
   {
    "duration": 10,
    "start_time": "2023-09-06T15:35:25.159Z"
   },
   {
    "duration": 287,
    "start_time": "2023-09-06T15:35:25.171Z"
   },
   {
    "duration": 162,
    "start_time": "2023-09-06T15:35:25.459Z"
   },
   {
    "duration": 159,
    "start_time": "2023-09-06T15:35:25.623Z"
   },
   {
    "duration": 9,
    "start_time": "2023-09-06T15:35:25.783Z"
   },
   {
    "duration": 172,
    "start_time": "2023-09-06T15:35:25.794Z"
   },
   {
    "duration": 107,
    "start_time": "2023-09-06T15:35:25.968Z"
   },
   {
    "duration": 9,
    "start_time": "2023-09-06T15:35:26.076Z"
   },
   {
    "duration": 23,
    "start_time": "2023-09-06T15:35:26.087Z"
   },
   {
    "duration": 140,
    "start_time": "2023-09-06T15:35:26.112Z"
   },
   {
    "duration": 395,
    "start_time": "2023-09-06T15:35:26.253Z"
   },
   {
    "duration": 15,
    "start_time": "2023-09-06T15:35:26.650Z"
   },
   {
    "duration": 420,
    "start_time": "2023-09-06T15:35:26.668Z"
   },
   {
    "duration": 396,
    "start_time": "2023-09-06T15:35:27.090Z"
   },
   {
    "duration": 58,
    "start_time": "2023-09-06T15:35:27.488Z"
   },
   {
    "duration": 23,
    "start_time": "2023-09-06T15:35:27.548Z"
   },
   {
    "duration": 6,
    "start_time": "2023-09-06T15:35:27.573Z"
   },
   {
    "duration": 287,
    "start_time": "2023-09-06T15:35:27.581Z"
   },
   {
    "duration": 396,
    "start_time": "2023-09-06T15:35:27.870Z"
   },
   {
    "duration": 16,
    "start_time": "2023-09-06T15:35:28.268Z"
   },
   {
    "duration": 15,
    "start_time": "2023-09-06T15:35:28.285Z"
   },
   {
    "duration": 20,
    "start_time": "2023-09-06T15:35:28.302Z"
   },
   {
    "duration": 24,
    "start_time": "2023-09-06T15:35:28.324Z"
   },
   {
    "duration": 35,
    "start_time": "2023-09-06T15:35:28.350Z"
   },
   {
    "duration": 16,
    "start_time": "2023-09-06T15:35:28.386Z"
   },
   {
    "duration": 190,
    "start_time": "2023-09-06T15:35:28.403Z"
   },
   {
    "duration": 183,
    "start_time": "2023-09-06T15:35:28.595Z"
   },
   {
    "duration": 103,
    "start_time": "2023-09-06T15:35:28.780Z"
   },
   {
    "duration": 4,
    "start_time": "2023-09-06T15:35:28.885Z"
   },
   {
    "duration": 18,
    "start_time": "2023-09-06T15:35:28.890Z"
   },
   {
    "duration": 5,
    "start_time": "2023-09-06T15:35:28.910Z"
   },
   {
    "duration": 250,
    "start_time": "2023-09-06T15:35:28.917Z"
   },
   {
    "duration": 13,
    "start_time": "2023-09-06T15:35:29.169Z"
   },
   {
    "duration": 24,
    "start_time": "2023-09-06T15:35:29.184Z"
   },
   {
    "duration": 32,
    "start_time": "2023-09-06T15:35:29.210Z"
   },
   {
    "duration": 159,
    "start_time": "2023-09-06T15:35:29.244Z"
   },
   {
    "duration": 132,
    "start_time": "2023-09-06T15:35:29.405Z"
   },
   {
    "duration": 230,
    "start_time": "2023-09-06T15:35:29.543Z"
   },
   {
    "duration": 355,
    "start_time": "2023-09-06T15:35:29.775Z"
   },
   {
    "duration": 22,
    "start_time": "2023-09-06T15:37:33.174Z"
   },
   {
    "duration": 1316,
    "start_time": "2023-09-06T15:37:38.768Z"
   },
   {
    "duration": 205,
    "start_time": "2023-09-06T15:37:40.086Z"
   },
   {
    "duration": 3,
    "start_time": "2023-09-06T15:37:40.293Z"
   },
   {
    "duration": 57,
    "start_time": "2023-09-06T15:37:40.298Z"
   },
   {
    "duration": 39,
    "start_time": "2023-09-06T15:37:40.357Z"
   },
   {
    "duration": 70,
    "start_time": "2023-09-06T15:37:40.398Z"
   },
   {
    "duration": 12,
    "start_time": "2023-09-06T15:37:40.470Z"
   },
   {
    "duration": 61,
    "start_time": "2023-09-06T15:37:40.484Z"
   },
   {
    "duration": 25,
    "start_time": "2023-09-06T15:37:40.547Z"
   },
   {
    "duration": 5,
    "start_time": "2023-09-06T15:37:40.575Z"
   },
   {
    "duration": 6,
    "start_time": "2023-09-06T15:37:40.582Z"
   },
   {
    "duration": 10,
    "start_time": "2023-09-06T15:37:40.589Z"
   },
   {
    "duration": 12,
    "start_time": "2023-09-06T15:37:40.644Z"
   },
   {
    "duration": 11,
    "start_time": "2023-09-06T15:37:40.658Z"
   },
   {
    "duration": 11,
    "start_time": "2023-09-06T15:37:40.670Z"
   },
   {
    "duration": 7,
    "start_time": "2023-09-06T15:37:40.682Z"
   },
   {
    "duration": 591,
    "start_time": "2023-09-06T15:37:40.691Z"
   },
   {
    "duration": 304,
    "start_time": "2023-09-06T15:37:41.284Z"
   },
   {
    "duration": 367,
    "start_time": "2023-09-06T15:37:41.590Z"
   },
   {
    "duration": 8,
    "start_time": "2023-09-06T15:37:41.958Z"
   },
   {
    "duration": 325,
    "start_time": "2023-09-06T15:37:41.968Z"
   },
   {
    "duration": 130,
    "start_time": "2023-09-06T15:37:42.295Z"
   },
   {
    "duration": 20,
    "start_time": "2023-09-06T15:37:42.427Z"
   },
   {
    "duration": 4,
    "start_time": "2023-09-06T15:37:42.449Z"
   },
   {
    "duration": 138,
    "start_time": "2023-09-06T15:37:42.454Z"
   },
   {
    "duration": 203,
    "start_time": "2023-09-06T15:37:42.594Z"
   },
   {
    "duration": 11,
    "start_time": "2023-09-06T15:37:42.799Z"
   },
   {
    "duration": 212,
    "start_time": "2023-09-06T15:37:42.814Z"
   },
   {
    "duration": 192,
    "start_time": "2023-09-06T15:37:43.028Z"
   },
   {
    "duration": 6,
    "start_time": "2023-09-06T15:37:43.222Z"
   },
   {
    "duration": 29,
    "start_time": "2023-09-06T15:37:43.229Z"
   },
   {
    "duration": 6,
    "start_time": "2023-09-06T15:37:43.260Z"
   },
   {
    "duration": 125,
    "start_time": "2023-09-06T15:37:43.268Z"
   },
   {
    "duration": 191,
    "start_time": "2023-09-06T15:37:43.394Z"
   },
   {
    "duration": 15,
    "start_time": "2023-09-06T15:37:43.587Z"
   },
   {
    "duration": 14,
    "start_time": "2023-09-06T15:37:43.604Z"
   },
   {
    "duration": 37,
    "start_time": "2023-09-06T15:37:43.620Z"
   },
   {
    "duration": 4,
    "start_time": "2023-09-06T15:37:43.658Z"
   },
   {
    "duration": 22,
    "start_time": "2023-09-06T15:37:43.663Z"
   },
   {
    "duration": 24,
    "start_time": "2023-09-06T15:37:43.686Z"
   },
   {
    "duration": 198,
    "start_time": "2023-09-06T15:37:43.712Z"
   },
   {
    "duration": 195,
    "start_time": "2023-09-06T15:37:43.911Z"
   },
   {
    "duration": 132,
    "start_time": "2023-09-06T15:37:44.112Z"
   },
   {
    "duration": 4,
    "start_time": "2023-09-06T15:37:44.247Z"
   },
   {
    "duration": 23,
    "start_time": "2023-09-06T15:37:44.253Z"
   },
   {
    "duration": 7,
    "start_time": "2023-09-06T15:37:44.278Z"
   },
   {
    "duration": 215,
    "start_time": "2023-09-06T15:37:44.287Z"
   },
   {
    "duration": 13,
    "start_time": "2023-09-06T15:37:44.503Z"
   },
   {
    "duration": 7,
    "start_time": "2023-09-06T15:37:44.518Z"
   },
   {
    "duration": 19,
    "start_time": "2023-09-06T15:37:44.527Z"
   },
   {
    "duration": 9,
    "start_time": "2023-09-06T15:37:44.548Z"
   },
   {
    "duration": 156,
    "start_time": "2023-09-06T15:37:44.559Z"
   },
   {
    "duration": 247,
    "start_time": "2023-09-06T15:37:44.717Z"
   },
   {
    "duration": 339,
    "start_time": "2023-09-06T15:37:44.965Z"
   },
   {
    "duration": 1209,
    "start_time": "2023-09-06T15:43:22.265Z"
   },
   {
    "duration": 178,
    "start_time": "2023-09-06T15:43:23.475Z"
   },
   {
    "duration": 3,
    "start_time": "2023-09-06T15:43:23.654Z"
   },
   {
    "duration": 65,
    "start_time": "2023-09-06T15:43:23.659Z"
   },
   {
    "duration": 32,
    "start_time": "2023-09-06T15:43:23.725Z"
   },
   {
    "duration": 28,
    "start_time": "2023-09-06T15:43:23.758Z"
   },
   {
    "duration": 14,
    "start_time": "2023-09-06T15:43:23.787Z"
   },
   {
    "duration": 13,
    "start_time": "2023-09-06T15:43:23.802Z"
   },
   {
    "duration": 32,
    "start_time": "2023-09-06T15:43:23.816Z"
   },
   {
    "duration": 6,
    "start_time": "2023-09-06T15:43:23.850Z"
   },
   {
    "duration": 14,
    "start_time": "2023-09-06T15:43:23.857Z"
   },
   {
    "duration": 6,
    "start_time": "2023-09-06T15:43:23.873Z"
   },
   {
    "duration": 16,
    "start_time": "2023-09-06T15:43:23.880Z"
   },
   {
    "duration": 8,
    "start_time": "2023-09-06T15:43:23.897Z"
   },
   {
    "duration": 7,
    "start_time": "2023-09-06T15:43:23.906Z"
   },
   {
    "duration": 42,
    "start_time": "2023-09-06T15:43:23.914Z"
   },
   {
    "duration": 372,
    "start_time": "2023-09-06T15:43:23.957Z"
   },
   {
    "duration": 166,
    "start_time": "2023-09-06T15:43:24.331Z"
   },
   {
    "duration": 155,
    "start_time": "2023-09-06T15:43:24.498Z"
   },
   {
    "duration": 8,
    "start_time": "2023-09-06T15:43:24.655Z"
   },
   {
    "duration": 166,
    "start_time": "2023-09-06T15:43:24.665Z"
   },
   {
    "duration": 101,
    "start_time": "2023-09-06T15:43:24.832Z"
   },
   {
    "duration": 7,
    "start_time": "2023-09-06T15:43:24.944Z"
   },
   {
    "duration": 12,
    "start_time": "2023-09-06T15:43:24.953Z"
   },
   {
    "duration": 143,
    "start_time": "2023-09-06T15:43:24.967Z"
   },
   {
    "duration": 211,
    "start_time": "2023-09-06T15:43:25.111Z"
   },
   {
    "duration": 12,
    "start_time": "2023-09-06T15:43:25.323Z"
   },
   {
    "duration": 197,
    "start_time": "2023-09-06T15:43:25.344Z"
   },
   {
    "duration": 184,
    "start_time": "2023-09-06T15:43:25.544Z"
   },
   {
    "duration": 5,
    "start_time": "2023-09-06T15:43:25.730Z"
   },
   {
    "duration": 22,
    "start_time": "2023-09-06T15:43:25.744Z"
   },
   {
    "duration": 6,
    "start_time": "2023-09-06T15:43:25.767Z"
   },
   {
    "duration": 131,
    "start_time": "2023-09-06T15:43:25.775Z"
   },
   {
    "duration": 182,
    "start_time": "2023-09-06T15:43:25.907Z"
   },
   {
    "duration": 15,
    "start_time": "2023-09-06T15:43:26.090Z"
   },
   {
    "duration": 14,
    "start_time": "2023-09-06T15:43:26.106Z"
   },
   {
    "duration": 3,
    "start_time": "2023-09-06T15:43:26.121Z"
   },
   {
    "duration": 23,
    "start_time": "2023-09-06T15:43:26.125Z"
   },
   {
    "duration": 32,
    "start_time": "2023-09-06T15:43:26.150Z"
   },
   {
    "duration": 20,
    "start_time": "2023-09-06T15:43:26.183Z"
   },
   {
    "duration": 195,
    "start_time": "2023-09-06T15:43:26.204Z"
   },
   {
    "duration": 176,
    "start_time": "2023-09-06T15:43:26.401Z"
   },
   {
    "duration": 99,
    "start_time": "2023-09-06T15:43:26.578Z"
   },
   {
    "duration": 3,
    "start_time": "2023-09-06T15:43:26.679Z"
   },
   {
    "duration": 14,
    "start_time": "2023-09-06T15:43:26.683Z"
   },
   {
    "duration": 11,
    "start_time": "2023-09-06T15:43:26.699Z"
   },
   {
    "duration": 199,
    "start_time": "2023-09-06T15:43:26.711Z"
   },
   {
    "duration": 15,
    "start_time": "2023-09-06T15:43:26.911Z"
   },
   {
    "duration": 19,
    "start_time": "2023-09-06T15:43:26.928Z"
   },
   {
    "duration": 22,
    "start_time": "2023-09-06T15:43:26.948Z"
   },
   {
    "duration": 39,
    "start_time": "2023-09-06T15:43:26.972Z"
   },
   {
    "duration": 175,
    "start_time": "2023-09-06T15:43:27.013Z"
   },
   {
    "duration": 257,
    "start_time": "2023-09-06T15:43:27.190Z"
   },
   {
    "duration": 357,
    "start_time": "2023-09-06T15:43:27.449Z"
   },
   {
    "duration": 1224,
    "start_time": "2023-09-06T15:46:27.477Z"
   },
   {
    "duration": 191,
    "start_time": "2023-09-06T15:46:28.703Z"
   },
   {
    "duration": 3,
    "start_time": "2023-09-06T15:46:28.896Z"
   },
   {
    "duration": 42,
    "start_time": "2023-09-06T15:46:28.901Z"
   },
   {
    "duration": 32,
    "start_time": "2023-09-06T15:46:28.944Z"
   },
   {
    "duration": 29,
    "start_time": "2023-09-06T15:46:28.978Z"
   },
   {
    "duration": 48,
    "start_time": "2023-09-06T15:46:29.008Z"
   },
   {
    "duration": 7,
    "start_time": "2023-09-06T15:46:29.057Z"
   },
   {
    "duration": 11,
    "start_time": "2023-09-06T15:46:29.066Z"
   },
   {
    "duration": 9,
    "start_time": "2023-09-06T15:46:29.079Z"
   },
   {
    "duration": 8,
    "start_time": "2023-09-06T15:46:29.089Z"
   },
   {
    "duration": 7,
    "start_time": "2023-09-06T15:46:29.099Z"
   },
   {
    "duration": 45,
    "start_time": "2023-09-06T15:46:29.107Z"
   },
   {
    "duration": 9,
    "start_time": "2023-09-06T15:46:29.153Z"
   },
   {
    "duration": 10,
    "start_time": "2023-09-06T15:46:29.164Z"
   },
   {
    "duration": 6,
    "start_time": "2023-09-06T15:46:29.175Z"
   },
   {
    "duration": 315,
    "start_time": "2023-09-06T15:46:29.183Z"
   },
   {
    "duration": 159,
    "start_time": "2023-09-06T15:46:29.499Z"
   },
   {
    "duration": 162,
    "start_time": "2023-09-06T15:46:29.660Z"
   },
   {
    "duration": 8,
    "start_time": "2023-09-06T15:46:29.824Z"
   },
   {
    "duration": 168,
    "start_time": "2023-09-06T15:46:29.844Z"
   },
   {
    "duration": 102,
    "start_time": "2023-09-06T15:46:30.014Z"
   },
   {
    "duration": 8,
    "start_time": "2023-09-06T15:46:30.118Z"
   },
   {
    "duration": 15,
    "start_time": "2023-09-06T15:46:30.144Z"
   },
   {
    "duration": 159,
    "start_time": "2023-09-06T15:46:30.160Z"
   },
   {
    "duration": 211,
    "start_time": "2023-09-06T15:46:30.321Z"
   },
   {
    "duration": 22,
    "start_time": "2023-09-06T15:46:30.533Z"
   },
   {
    "duration": 239,
    "start_time": "2023-09-06T15:46:30.559Z"
   },
   {
    "duration": 201,
    "start_time": "2023-09-06T15:46:30.799Z"
   },
   {
    "duration": 6,
    "start_time": "2023-09-06T15:46:31.002Z"
   },
   {
    "duration": 82,
    "start_time": "2023-09-06T15:46:31.009Z"
   },
   {
    "duration": 61,
    "start_time": "2023-09-06T15:46:31.093Z"
   },
   {
    "duration": 190,
    "start_time": "2023-09-06T15:46:31.156Z"
   },
   {
    "duration": 185,
    "start_time": "2023-09-06T15:46:31.348Z"
   },
   {
    "duration": 23,
    "start_time": "2023-09-06T15:46:31.534Z"
   },
   {
    "duration": 54,
    "start_time": "2023-09-06T15:46:31.558Z"
   },
   {
    "duration": 16,
    "start_time": "2023-09-06T15:46:31.614Z"
   },
   {
    "duration": 51,
    "start_time": "2023-09-06T15:46:31.632Z"
   },
   {
    "duration": 56,
    "start_time": "2023-09-06T15:46:31.685Z"
   },
   {
    "duration": 32,
    "start_time": "2023-09-06T15:46:31.742Z"
   },
   {
    "duration": 189,
    "start_time": "2023-09-06T15:46:31.776Z"
   },
   {
    "duration": 180,
    "start_time": "2023-09-06T15:46:31.966Z"
   },
   {
    "duration": 103,
    "start_time": "2023-09-06T15:46:32.148Z"
   },
   {
    "duration": 3,
    "start_time": "2023-09-06T15:46:32.253Z"
   },
   {
    "duration": 39,
    "start_time": "2023-09-06T15:46:32.258Z"
   },
   {
    "duration": 23,
    "start_time": "2023-09-06T15:46:32.298Z"
   },
   {
    "duration": 203,
    "start_time": "2023-09-06T15:46:32.324Z"
   },
   {
    "duration": 22,
    "start_time": "2023-09-06T15:46:32.529Z"
   },
   {
    "duration": 11,
    "start_time": "2023-09-06T15:46:32.552Z"
   },
   {
    "duration": 6,
    "start_time": "2023-09-06T15:46:32.565Z"
   },
   {
    "duration": 9,
    "start_time": "2023-09-06T15:46:32.574Z"
   },
   {
    "duration": 141,
    "start_time": "2023-09-06T15:46:32.584Z"
   },
   {
    "duration": 236,
    "start_time": "2023-09-06T15:46:32.726Z"
   },
   {
    "duration": 347,
    "start_time": "2023-09-06T15:46:32.964Z"
   },
   {
    "duration": 1427,
    "start_time": "2023-09-06T16:22:16.023Z"
   },
   {
    "duration": 331,
    "start_time": "2023-09-06T16:22:17.451Z"
   },
   {
    "duration": 3,
    "start_time": "2023-09-06T16:22:17.784Z"
   },
   {
    "duration": 53,
    "start_time": "2023-09-06T16:22:17.790Z"
   },
   {
    "duration": 34,
    "start_time": "2023-09-06T16:22:17.844Z"
   },
   {
    "duration": 30,
    "start_time": "2023-09-06T16:22:17.879Z"
   },
   {
    "duration": 46,
    "start_time": "2023-09-06T16:22:17.910Z"
   },
   {
    "duration": 18,
    "start_time": "2023-09-06T16:22:17.958Z"
   },
   {
    "duration": 18,
    "start_time": "2023-09-06T16:22:17.978Z"
   },
   {
    "duration": 10,
    "start_time": "2023-09-06T16:22:17.999Z"
   },
   {
    "duration": 29,
    "start_time": "2023-09-06T16:22:18.010Z"
   },
   {
    "duration": 12,
    "start_time": "2023-09-06T16:22:18.041Z"
   },
   {
    "duration": 12,
    "start_time": "2023-09-06T16:22:18.055Z"
   },
   {
    "duration": 16,
    "start_time": "2023-09-06T16:22:18.068Z"
   },
   {
    "duration": 25,
    "start_time": "2023-09-06T16:22:18.086Z"
   },
   {
    "duration": 10,
    "start_time": "2023-09-06T16:22:18.112Z"
   },
   {
    "duration": 328,
    "start_time": "2023-09-06T16:22:18.124Z"
   },
   {
    "duration": 164,
    "start_time": "2023-09-06T16:22:18.454Z"
   },
   {
    "duration": 167,
    "start_time": "2023-09-06T16:22:18.620Z"
   },
   {
    "duration": 9,
    "start_time": "2023-09-06T16:22:18.789Z"
   },
   {
    "duration": 178,
    "start_time": "2023-09-06T16:22:18.799Z"
   },
   {
    "duration": 119,
    "start_time": "2023-09-06T16:22:18.979Z"
   },
   {
    "duration": 9,
    "start_time": "2023-09-06T16:22:19.100Z"
   },
   {
    "duration": 43,
    "start_time": "2023-09-06T16:22:19.111Z"
   },
   {
    "duration": 158,
    "start_time": "2023-09-06T16:22:19.156Z"
   },
   {
    "duration": 215,
    "start_time": "2023-09-06T16:22:19.316Z"
   },
   {
    "duration": 21,
    "start_time": "2023-09-06T16:22:19.533Z"
   },
   {
    "duration": 229,
    "start_time": "2023-09-06T16:22:19.558Z"
   },
   {
    "duration": 370,
    "start_time": "2023-09-06T16:22:19.789Z"
   },
   {
    "duration": 8,
    "start_time": "2023-09-06T16:22:20.162Z"
   },
   {
    "duration": 88,
    "start_time": "2023-09-06T16:22:20.172Z"
   },
   {
    "duration": 9,
    "start_time": "2023-09-06T16:22:20.262Z"
   },
   {
    "duration": 308,
    "start_time": "2023-09-06T16:22:20.273Z"
   },
   {
    "duration": 499,
    "start_time": "2023-09-06T16:22:20.583Z"
   },
   {
    "duration": 67,
    "start_time": "2023-09-06T16:22:21.085Z"
   },
   {
    "duration": 13,
    "start_time": "2023-09-06T16:22:21.154Z"
   },
   {
    "duration": 27,
    "start_time": "2023-09-06T16:22:21.169Z"
   },
   {
    "duration": 45,
    "start_time": "2023-09-06T16:22:21.199Z"
   },
   {
    "duration": 33,
    "start_time": "2023-09-06T16:22:21.247Z"
   },
   {
    "duration": 69,
    "start_time": "2023-09-06T16:22:21.282Z"
   },
   {
    "duration": 411,
    "start_time": "2023-09-06T16:22:21.352Z"
   },
   {
    "duration": 415,
    "start_time": "2023-09-06T16:22:21.765Z"
   },
   {
    "duration": 132,
    "start_time": "2023-09-06T16:22:22.182Z"
   },
   {
    "duration": 4,
    "start_time": "2023-09-06T16:22:22.316Z"
   },
   {
    "duration": 26,
    "start_time": "2023-09-06T16:22:22.322Z"
   },
   {
    "duration": 10,
    "start_time": "2023-09-06T16:22:22.350Z"
   },
   {
    "duration": 243,
    "start_time": "2023-09-06T16:22:22.362Z"
   },
   {
    "duration": 13,
    "start_time": "2023-09-06T16:22:22.607Z"
   },
   {
    "duration": 33,
    "start_time": "2023-09-06T16:22:22.622Z"
   },
   {
    "duration": 10,
    "start_time": "2023-09-06T16:22:22.657Z"
   },
   {
    "duration": 17,
    "start_time": "2023-09-06T16:22:22.669Z"
   },
   {
    "duration": 179,
    "start_time": "2023-09-06T16:22:22.688Z"
   },
   {
    "duration": 308,
    "start_time": "2023-09-06T16:22:22.870Z"
   },
   {
    "duration": 454,
    "start_time": "2023-09-06T16:22:23.180Z"
   },
   {
    "duration": 105,
    "start_time": "2023-09-06T17:04:35.869Z"
   },
   {
    "duration": 1388,
    "start_time": "2023-09-06T17:04:41.709Z"
   },
   {
    "duration": 223,
    "start_time": "2023-09-06T17:04:43.100Z"
   },
   {
    "duration": 4,
    "start_time": "2023-09-06T17:04:43.325Z"
   },
   {
    "duration": 35,
    "start_time": "2023-09-06T17:04:43.331Z"
   },
   {
    "duration": 33,
    "start_time": "2023-09-06T17:04:43.368Z"
   },
   {
    "duration": 57,
    "start_time": "2023-09-06T17:04:43.403Z"
   },
   {
    "duration": 15,
    "start_time": "2023-09-06T17:04:43.461Z"
   },
   {
    "duration": 9,
    "start_time": "2023-09-06T17:04:43.477Z"
   },
   {
    "duration": 14,
    "start_time": "2023-09-06T17:04:43.487Z"
   },
   {
    "duration": 7,
    "start_time": "2023-09-06T17:04:43.503Z"
   },
   {
    "duration": 37,
    "start_time": "2023-09-06T17:04:43.511Z"
   },
   {
    "duration": 6,
    "start_time": "2023-09-06T17:04:43.550Z"
   },
   {
    "duration": 20,
    "start_time": "2023-09-06T17:04:43.558Z"
   },
   {
    "duration": 9,
    "start_time": "2023-09-06T17:04:43.580Z"
   },
   {
    "duration": 7,
    "start_time": "2023-09-06T17:04:43.590Z"
   },
   {
    "duration": 9,
    "start_time": "2023-09-06T17:04:43.599Z"
   },
   {
    "duration": 335,
    "start_time": "2023-09-06T17:04:43.609Z"
   },
   {
    "duration": 185,
    "start_time": "2023-09-06T17:04:43.946Z"
   },
   {
    "duration": 220,
    "start_time": "2023-09-06T17:04:44.133Z"
   },
   {
    "duration": 8,
    "start_time": "2023-09-06T17:04:44.355Z"
   },
   {
    "duration": 174,
    "start_time": "2023-09-06T17:04:44.365Z"
   },
   {
    "duration": 124,
    "start_time": "2023-09-06T17:04:44.541Z"
   },
   {
    "duration": 11,
    "start_time": "2023-09-06T17:04:44.667Z"
   },
   {
    "duration": 18,
    "start_time": "2023-09-06T17:04:44.680Z"
   },
   {
    "duration": 242,
    "start_time": "2023-09-06T17:04:44.746Z"
   },
   {
    "duration": 398,
    "start_time": "2023-09-06T17:04:44.990Z"
   },
   {
    "duration": 62,
    "start_time": "2023-09-06T17:04:45.389Z"
   },
   {
    "duration": 432,
    "start_time": "2023-09-06T17:04:45.454Z"
   },
   {
    "duration": 387,
    "start_time": "2023-09-06T17:04:45.888Z"
   },
   {
    "duration": 7,
    "start_time": "2023-09-06T17:04:46.276Z"
   },
   {
    "duration": 75,
    "start_time": "2023-09-06T17:04:46.284Z"
   },
   {
    "duration": 200,
    "start_time": "2023-09-06T17:04:46.360Z"
   },
   {
    "duration": 0,
    "start_time": "2023-09-06T17:04:46.561Z"
   },
   {
    "duration": 0,
    "start_time": "2023-09-06T17:04:46.562Z"
   },
   {
    "duration": 0,
    "start_time": "2023-09-06T17:04:46.563Z"
   },
   {
    "duration": 0,
    "start_time": "2023-09-06T17:04:46.564Z"
   },
   {
    "duration": 0,
    "start_time": "2023-09-06T17:04:46.565Z"
   },
   {
    "duration": 0,
    "start_time": "2023-09-06T17:04:46.566Z"
   },
   {
    "duration": 0,
    "start_time": "2023-09-06T17:04:46.566Z"
   },
   {
    "duration": 0,
    "start_time": "2023-09-06T17:04:46.567Z"
   },
   {
    "duration": 0,
    "start_time": "2023-09-06T17:04:46.568Z"
   },
   {
    "duration": 0,
    "start_time": "2023-09-06T17:04:46.569Z"
   },
   {
    "duration": 0,
    "start_time": "2023-09-06T17:04:46.571Z"
   },
   {
    "duration": 0,
    "start_time": "2023-09-06T17:04:46.572Z"
   },
   {
    "duration": 0,
    "start_time": "2023-09-06T17:04:46.573Z"
   },
   {
    "duration": 0,
    "start_time": "2023-09-06T17:04:46.573Z"
   },
   {
    "duration": 0,
    "start_time": "2023-09-06T17:04:46.574Z"
   },
   {
    "duration": 0,
    "start_time": "2023-09-06T17:04:46.575Z"
   },
   {
    "duration": 0,
    "start_time": "2023-09-06T17:04:46.576Z"
   },
   {
    "duration": 0,
    "start_time": "2023-09-06T17:04:46.577Z"
   },
   {
    "duration": 0,
    "start_time": "2023-09-06T17:04:46.578Z"
   },
   {
    "duration": 0,
    "start_time": "2023-09-06T17:04:46.578Z"
   },
   {
    "duration": 0,
    "start_time": "2023-09-06T17:04:46.580Z"
   },
   {
    "duration": 0,
    "start_time": "2023-09-06T17:04:46.581Z"
   },
   {
    "duration": 57,
    "start_time": "2023-09-06T20:01:16.481Z"
   },
   {
    "duration": 7,
    "start_time": "2023-09-06T20:04:00.582Z"
   },
   {
    "duration": 1556,
    "start_time": "2023-09-06T20:04:14.520Z"
   },
   {
    "duration": 625,
    "start_time": "2023-09-06T20:04:16.079Z"
   },
   {
    "duration": 3,
    "start_time": "2023-09-06T20:04:16.706Z"
   },
   {
    "duration": 51,
    "start_time": "2023-09-06T20:04:16.712Z"
   },
   {
    "duration": 86,
    "start_time": "2023-09-06T20:04:16.765Z"
   },
   {
    "duration": 100,
    "start_time": "2023-09-06T20:04:16.853Z"
   },
   {
    "duration": 76,
    "start_time": "2023-09-06T20:04:16.955Z"
   },
   {
    "duration": 75,
    "start_time": "2023-09-06T20:04:17.033Z"
   },
   {
    "duration": 46,
    "start_time": "2023-09-06T20:04:17.110Z"
   },
   {
    "duration": 60,
    "start_time": "2023-09-06T20:04:17.160Z"
   },
   {
    "duration": 65,
    "start_time": "2023-09-06T20:04:17.221Z"
   },
   {
    "duration": 95,
    "start_time": "2023-09-06T20:04:17.287Z"
   },
   {
    "duration": 61,
    "start_time": "2023-09-06T20:04:17.384Z"
   },
   {
    "duration": 111,
    "start_time": "2023-09-06T20:04:17.446Z"
   },
   {
    "duration": 32,
    "start_time": "2023-09-06T20:04:17.559Z"
   },
   {
    "duration": 15,
    "start_time": "2023-09-06T20:04:17.593Z"
   },
   {
    "duration": 288,
    "start_time": "2023-09-06T20:04:17.609Z"
   },
   {
    "duration": 268,
    "start_time": "2023-09-06T20:04:17.899Z"
   },
   {
    "duration": 357,
    "start_time": "2023-09-06T20:04:18.169Z"
   },
   {
    "duration": 8,
    "start_time": "2023-09-06T20:04:18.527Z"
   },
   {
    "duration": 335,
    "start_time": "2023-09-06T20:04:18.537Z"
   },
   {
    "duration": 204,
    "start_time": "2023-09-06T20:04:18.924Z"
   },
   {
    "duration": 8,
    "start_time": "2023-09-06T20:04:19.130Z"
   },
   {
    "duration": 46,
    "start_time": "2023-09-06T20:04:19.139Z"
   },
   {
    "duration": 382,
    "start_time": "2023-09-06T20:04:19.188Z"
   },
   {
    "duration": 226,
    "start_time": "2023-09-06T20:04:19.572Z"
   },
   {
    "duration": 15,
    "start_time": "2023-09-06T20:04:19.800Z"
   },
   {
    "duration": 223,
    "start_time": "2023-09-06T20:04:19.820Z"
   },
   {
    "duration": 209,
    "start_time": "2023-09-06T20:04:20.045Z"
   },
   {
    "duration": 6,
    "start_time": "2023-09-06T20:04:20.257Z"
   },
   {
    "duration": 121,
    "start_time": "2023-09-06T20:04:20.265Z"
   },
   {
    "duration": 81,
    "start_time": "2023-09-06T20:04:20.388Z"
   },
   {
    "duration": 252,
    "start_time": "2023-09-06T20:04:20.471Z"
   },
   {
    "duration": 199,
    "start_time": "2023-09-06T20:04:20.725Z"
   },
   {
    "duration": 19,
    "start_time": "2023-09-06T20:04:20.925Z"
   },
   {
    "duration": 182,
    "start_time": "2023-09-06T20:04:20.946Z"
   },
   {
    "duration": 124,
    "start_time": "2023-09-06T20:04:21.130Z"
   },
   {
    "duration": 66,
    "start_time": "2023-09-06T20:04:21.255Z"
   },
   {
    "duration": 96,
    "start_time": "2023-09-06T20:04:21.322Z"
   },
   {
    "duration": 110,
    "start_time": "2023-09-06T20:04:21.420Z"
   },
   {
    "duration": 215,
    "start_time": "2023-09-06T20:04:21.532Z"
   },
   {
    "duration": 180,
    "start_time": "2023-09-06T20:04:21.749Z"
   },
   {
    "duration": 105,
    "start_time": "2023-09-06T20:04:21.930Z"
   },
   {
    "duration": 4,
    "start_time": "2023-09-06T20:04:22.037Z"
   },
   {
    "duration": 52,
    "start_time": "2023-09-06T20:04:22.042Z"
   },
   {
    "duration": 48,
    "start_time": "2023-09-06T20:04:22.096Z"
   },
   {
    "duration": 255,
    "start_time": "2023-09-06T20:04:22.145Z"
   },
   {
    "duration": 13,
    "start_time": "2023-09-06T20:04:22.402Z"
   },
   {
    "duration": 70,
    "start_time": "2023-09-06T20:04:22.417Z"
   },
   {
    "duration": 63,
    "start_time": "2023-09-06T20:04:22.489Z"
   },
   {
    "duration": 56,
    "start_time": "2023-09-06T20:04:22.553Z"
   },
   {
    "duration": 176,
    "start_time": "2023-09-06T20:04:22.611Z"
   },
   {
    "duration": 237,
    "start_time": "2023-09-06T20:04:22.788Z"
   },
   {
    "duration": 345,
    "start_time": "2023-09-06T20:04:23.027Z"
   },
   {
    "duration": 105,
    "start_time": "2023-09-06T20:17:03.345Z"
   },
   {
    "duration": 18,
    "start_time": "2023-09-06T20:17:36.002Z"
   },
   {
    "duration": 13,
    "start_time": "2023-09-06T20:17:55.181Z"
   },
   {
    "duration": 80,
    "start_time": "2023-09-06T20:18:10.619Z"
   },
   {
    "duration": 11,
    "start_time": "2023-09-06T20:18:15.238Z"
   },
   {
    "duration": 1226,
    "start_time": "2023-09-06T20:18:36.140Z"
   },
   {
    "duration": 211,
    "start_time": "2023-09-06T20:18:37.367Z"
   },
   {
    "duration": 2,
    "start_time": "2023-09-06T20:18:37.580Z"
   },
   {
    "duration": 32,
    "start_time": "2023-09-06T20:18:37.584Z"
   },
   {
    "duration": 33,
    "start_time": "2023-09-06T20:18:37.619Z"
   },
   {
    "duration": 27,
    "start_time": "2023-09-06T20:18:37.654Z"
   },
   {
    "duration": 43,
    "start_time": "2023-09-06T20:18:37.683Z"
   },
   {
    "duration": 11,
    "start_time": "2023-09-06T20:18:37.728Z"
   },
   {
    "duration": 9,
    "start_time": "2023-09-06T20:18:37.741Z"
   },
   {
    "duration": 6,
    "start_time": "2023-09-06T20:18:37.752Z"
   },
   {
    "duration": 6,
    "start_time": "2023-09-06T20:18:37.759Z"
   },
   {
    "duration": 4,
    "start_time": "2023-09-06T20:18:37.767Z"
   },
   {
    "duration": 10,
    "start_time": "2023-09-06T20:18:37.773Z"
   },
   {
    "duration": 51,
    "start_time": "2023-09-06T20:18:37.786Z"
   },
   {
    "duration": 7,
    "start_time": "2023-09-06T20:18:37.839Z"
   },
   {
    "duration": 4,
    "start_time": "2023-09-06T20:18:37.848Z"
   },
   {
    "duration": 298,
    "start_time": "2023-09-06T20:18:37.853Z"
   },
   {
    "duration": 161,
    "start_time": "2023-09-06T20:18:38.152Z"
   },
   {
    "duration": 161,
    "start_time": "2023-09-06T20:18:38.314Z"
   },
   {
    "duration": 8,
    "start_time": "2023-09-06T20:18:38.477Z"
   },
   {
    "duration": 169,
    "start_time": "2023-09-06T20:18:38.486Z"
   },
   {
    "duration": 115,
    "start_time": "2023-09-06T20:18:38.656Z"
   },
   {
    "duration": 8,
    "start_time": "2023-09-06T20:18:38.774Z"
   },
   {
    "duration": 11,
    "start_time": "2023-09-06T20:18:38.784Z"
   },
   {
    "duration": 158,
    "start_time": "2023-09-06T20:18:38.797Z"
   },
   {
    "duration": 193,
    "start_time": "2023-09-06T20:18:38.957Z"
   },
   {
    "duration": 11,
    "start_time": "2023-09-06T20:18:39.152Z"
   },
   {
    "duration": 208,
    "start_time": "2023-09-06T20:18:39.165Z"
   },
   {
    "duration": 196,
    "start_time": "2023-09-06T20:18:39.375Z"
   },
   {
    "duration": 6,
    "start_time": "2023-09-06T20:18:39.573Z"
   },
   {
    "duration": 35,
    "start_time": "2023-09-06T20:18:39.580Z"
   },
   {
    "duration": 19,
    "start_time": "2023-09-06T20:18:39.617Z"
   },
   {
    "duration": 159,
    "start_time": "2023-09-06T20:18:39.638Z"
   },
   {
    "duration": 194,
    "start_time": "2023-09-06T20:18:39.798Z"
   },
   {
    "duration": 15,
    "start_time": "2023-09-06T20:18:39.993Z"
   },
   {
    "duration": 34,
    "start_time": "2023-09-06T20:18:40.009Z"
   },
   {
    "duration": 35,
    "start_time": "2023-09-06T20:18:40.045Z"
   },
   {
    "duration": 55,
    "start_time": "2023-09-06T20:18:40.082Z"
   },
   {
    "duration": 39,
    "start_time": "2023-09-06T20:18:40.139Z"
   },
   {
    "duration": 69,
    "start_time": "2023-09-06T20:18:40.180Z"
   },
   {
    "duration": 206,
    "start_time": "2023-09-06T20:18:40.253Z"
   },
   {
    "duration": 188,
    "start_time": "2023-09-06T20:18:40.460Z"
   },
   {
    "duration": 109,
    "start_time": "2023-09-06T20:18:40.650Z"
   },
   {
    "duration": 3,
    "start_time": "2023-09-06T20:18:40.761Z"
   },
   {
    "duration": 50,
    "start_time": "2023-09-06T20:18:40.765Z"
   },
   {
    "duration": 18,
    "start_time": "2023-09-06T20:18:40.817Z"
   },
   {
    "duration": 224,
    "start_time": "2023-09-06T20:18:40.836Z"
   },
   {
    "duration": 12,
    "start_time": "2023-09-06T20:18:41.062Z"
   },
   {
    "duration": 38,
    "start_time": "2023-09-06T20:18:41.075Z"
   },
   {
    "duration": 52,
    "start_time": "2023-09-06T20:18:41.115Z"
   },
   {
    "duration": 144,
    "start_time": "2023-09-06T20:18:41.168Z"
   },
   {
    "duration": 167,
    "start_time": "2023-09-06T20:18:41.314Z"
   },
   {
    "duration": 239,
    "start_time": "2023-09-06T20:18:41.482Z"
   },
   {
    "duration": 336,
    "start_time": "2023-09-06T20:18:41.723Z"
   },
   {
    "duration": 1194,
    "start_time": "2023-09-07T03:52:03.024Z"
   },
   {
    "duration": 333,
    "start_time": "2023-09-07T03:52:04.221Z"
   },
   {
    "duration": 3,
    "start_time": "2023-09-07T03:52:04.555Z"
   },
   {
    "duration": 31,
    "start_time": "2023-09-07T03:52:04.560Z"
   },
   {
    "duration": 26,
    "start_time": "2023-09-07T03:52:04.593Z"
   },
   {
    "duration": 47,
    "start_time": "2023-09-07T03:52:04.621Z"
   },
   {
    "duration": 12,
    "start_time": "2023-09-07T03:52:04.669Z"
   },
   {
    "duration": 9,
    "start_time": "2023-09-07T03:52:04.682Z"
   },
   {
    "duration": 15,
    "start_time": "2023-09-07T03:52:04.692Z"
   },
   {
    "duration": 5,
    "start_time": "2023-09-07T03:52:04.709Z"
   },
   {
    "duration": 25,
    "start_time": "2023-09-07T03:52:04.716Z"
   },
   {
    "duration": 11,
    "start_time": "2023-09-07T03:52:04.743Z"
   },
   {
    "duration": 9,
    "start_time": "2023-09-07T03:52:04.755Z"
   },
   {
    "duration": 7,
    "start_time": "2023-09-07T03:52:04.766Z"
   },
   {
    "duration": 7,
    "start_time": "2023-09-07T03:52:04.774Z"
   },
   {
    "duration": 3,
    "start_time": "2023-09-07T03:52:04.782Z"
   },
   {
    "duration": 272,
    "start_time": "2023-09-07T03:52:04.787Z"
   },
   {
    "duration": 136,
    "start_time": "2023-09-07T03:52:05.061Z"
   },
   {
    "duration": 136,
    "start_time": "2023-09-07T03:52:05.199Z"
   },
   {
    "duration": 14,
    "start_time": "2023-09-07T03:52:05.337Z"
   },
   {
    "duration": 153,
    "start_time": "2023-09-07T03:52:05.352Z"
   },
   {
    "duration": 93,
    "start_time": "2023-09-07T03:52:05.507Z"
   },
   {
    "duration": 8,
    "start_time": "2023-09-07T03:52:05.602Z"
   },
   {
    "duration": 18,
    "start_time": "2023-09-07T03:52:05.612Z"
   },
   {
    "duration": 126,
    "start_time": "2023-09-07T03:52:05.631Z"
   },
   {
    "duration": 191,
    "start_time": "2023-09-07T03:52:05.758Z"
   },
   {
    "duration": 13,
    "start_time": "2023-09-07T03:52:05.951Z"
   },
   {
    "duration": 214,
    "start_time": "2023-09-07T03:52:05.968Z"
   },
   {
    "duration": 170,
    "start_time": "2023-09-07T03:52:06.183Z"
   },
   {
    "duration": 5,
    "start_time": "2023-09-07T03:52:06.355Z"
   },
   {
    "duration": 26,
    "start_time": "2023-09-07T03:52:06.361Z"
   },
   {
    "duration": 4,
    "start_time": "2023-09-07T03:52:06.388Z"
   },
   {
    "duration": 124,
    "start_time": "2023-09-07T03:52:06.394Z"
   },
   {
    "duration": 180,
    "start_time": "2023-09-07T03:52:06.519Z"
   },
   {
    "duration": 14,
    "start_time": "2023-09-07T03:52:06.700Z"
   },
   {
    "duration": 14,
    "start_time": "2023-09-07T03:52:06.716Z"
   },
   {
    "duration": 3,
    "start_time": "2023-09-07T03:52:06.749Z"
   },
   {
    "duration": 6,
    "start_time": "2023-09-07T03:52:06.754Z"
   },
   {
    "duration": 18,
    "start_time": "2023-09-07T03:52:06.761Z"
   },
   {
    "duration": 13,
    "start_time": "2023-09-07T03:52:06.781Z"
   },
   {
    "duration": 185,
    "start_time": "2023-09-07T03:52:06.796Z"
   },
   {
    "duration": 166,
    "start_time": "2023-09-07T03:52:06.983Z"
   },
   {
    "duration": 98,
    "start_time": "2023-09-07T03:52:07.151Z"
   },
   {
    "duration": 3,
    "start_time": "2023-09-07T03:52:07.251Z"
   },
   {
    "duration": 11,
    "start_time": "2023-09-07T03:52:07.256Z"
   },
   {
    "duration": 6,
    "start_time": "2023-09-07T03:52:07.268Z"
   },
   {
    "duration": 192,
    "start_time": "2023-09-07T03:52:07.275Z"
   },
   {
    "duration": 11,
    "start_time": "2023-09-07T03:52:07.469Z"
   },
   {
    "duration": 23,
    "start_time": "2023-09-07T03:52:07.482Z"
   },
   {
    "duration": 10,
    "start_time": "2023-09-07T03:52:07.506Z"
   },
   {
    "duration": 23,
    "start_time": "2023-09-07T03:52:07.517Z"
   },
   {
    "duration": 120,
    "start_time": "2023-09-07T03:52:07.542Z"
   },
   {
    "duration": 212,
    "start_time": "2023-09-07T03:52:07.664Z"
   },
   {
    "duration": 302,
    "start_time": "2023-09-07T03:52:07.878Z"
   },
   {
    "duration": 53,
    "start_time": "2023-09-19T07:31:45.819Z"
   },
   {
    "duration": 1540,
    "start_time": "2023-09-19T07:31:52.468Z"
   },
   {
    "duration": 354,
    "start_time": "2023-09-19T07:31:54.011Z"
   },
   {
    "duration": 3,
    "start_time": "2023-09-19T07:31:54.367Z"
   },
   {
    "duration": 50,
    "start_time": "2023-09-19T07:31:54.371Z"
   },
   {
    "duration": 34,
    "start_time": "2023-09-19T07:31:54.424Z"
   },
   {
    "duration": 58,
    "start_time": "2023-09-19T07:31:54.460Z"
   },
   {
    "duration": 17,
    "start_time": "2023-09-19T07:31:54.520Z"
   },
   {
    "duration": 14,
    "start_time": "2023-09-19T07:31:54.539Z"
   },
   {
    "duration": 27,
    "start_time": "2023-09-19T07:31:54.555Z"
   },
   {
    "duration": 22,
    "start_time": "2023-09-19T07:31:54.584Z"
   },
   {
    "duration": 9,
    "start_time": "2023-09-19T07:31:54.608Z"
   },
   {
    "duration": 16,
    "start_time": "2023-09-19T07:31:54.619Z"
   },
   {
    "duration": 26,
    "start_time": "2023-09-19T07:31:54.637Z"
   },
   {
    "duration": 13,
    "start_time": "2023-09-19T07:31:54.667Z"
   },
   {
    "duration": 27,
    "start_time": "2023-09-19T07:31:54.682Z"
   },
   {
    "duration": 5,
    "start_time": "2023-09-19T07:31:54.711Z"
   },
   {
    "duration": 237,
    "start_time": "2023-09-19T07:31:54.719Z"
   },
   {
    "duration": 174,
    "start_time": "2023-09-19T07:31:54.958Z"
   },
   {
    "duration": 9,
    "start_time": "2023-09-19T07:31:55.134Z"
   },
   {
    "duration": 201,
    "start_time": "2023-09-19T07:31:55.145Z"
   },
   {
    "duration": 114,
    "start_time": "2023-09-19T07:31:55.348Z"
   },
   {
    "duration": 9,
    "start_time": "2023-09-19T07:31:55.463Z"
   },
   {
    "duration": 21,
    "start_time": "2023-09-19T07:31:55.474Z"
   },
   {
    "duration": 152,
    "start_time": "2023-09-19T07:31:55.497Z"
   },
   {
    "duration": 216,
    "start_time": "2023-09-19T07:31:55.651Z"
   },
   {
    "duration": 12,
    "start_time": "2023-09-19T07:31:55.869Z"
   },
   {
    "duration": 146,
    "start_time": "2023-09-19T07:31:55.883Z"
   },
   {
    "duration": 289,
    "start_time": "2023-09-19T07:31:56.031Z"
   },
   {
    "duration": 6,
    "start_time": "2023-09-19T07:31:56.322Z"
   },
   {
    "duration": 34,
    "start_time": "2023-09-19T07:31:56.330Z"
   },
   {
    "duration": 5,
    "start_time": "2023-09-19T07:31:56.366Z"
   },
   {
    "duration": 139,
    "start_time": "2023-09-19T07:31:56.373Z"
   },
   {
    "duration": 218,
    "start_time": "2023-09-19T07:31:56.514Z"
   },
   {
    "duration": 15,
    "start_time": "2023-09-19T07:31:56.734Z"
   },
   {
    "duration": 13,
    "start_time": "2023-09-19T07:31:56.750Z"
   },
   {
    "duration": 69,
    "start_time": "2023-09-19T07:31:56.765Z"
   },
   {
    "duration": 47,
    "start_time": "2023-09-19T07:31:56.835Z"
   },
   {
    "duration": 41,
    "start_time": "2023-09-19T07:31:56.884Z"
   },
   {
    "duration": 25,
    "start_time": "2023-09-19T07:31:56.927Z"
   },
   {
    "duration": 187,
    "start_time": "2023-09-19T07:31:56.953Z"
   },
   {
    "duration": 190,
    "start_time": "2023-09-19T07:31:57.144Z"
   },
   {
    "duration": 114,
    "start_time": "2023-09-19T07:31:57.336Z"
   },
   {
    "duration": 4,
    "start_time": "2023-09-19T07:31:57.452Z"
   },
   {
    "duration": 25,
    "start_time": "2023-09-19T07:31:57.457Z"
   },
   {
    "duration": 73,
    "start_time": "2023-09-19T07:31:57.484Z"
   },
   {
    "duration": 235,
    "start_time": "2023-09-19T07:31:57.559Z"
   },
   {
    "duration": 13,
    "start_time": "2023-09-19T07:31:57.800Z"
   },
   {
    "duration": 15,
    "start_time": "2023-09-19T07:31:57.815Z"
   },
   {
    "duration": 34,
    "start_time": "2023-09-19T07:31:57.832Z"
   },
   {
    "duration": 38,
    "start_time": "2023-09-19T07:31:57.868Z"
   },
   {
    "duration": 152,
    "start_time": "2023-09-19T07:31:57.908Z"
   },
   {
    "duration": 249,
    "start_time": "2023-09-19T07:31:58.061Z"
   },
   {
    "duration": 382,
    "start_time": "2023-09-19T07:31:58.312Z"
   },
   {
    "duration": 1412,
    "start_time": "2023-09-19T08:13:41.295Z"
   },
   {
    "duration": 209,
    "start_time": "2023-09-19T08:13:42.709Z"
   },
   {
    "duration": 2,
    "start_time": "2023-09-19T08:13:42.920Z"
   },
   {
    "duration": 75,
    "start_time": "2023-09-19T08:13:42.924Z"
   },
   {
    "duration": 36,
    "start_time": "2023-09-19T08:13:43.001Z"
   },
   {
    "duration": 71,
    "start_time": "2023-09-19T08:13:43.039Z"
   },
   {
    "duration": 16,
    "start_time": "2023-09-19T08:13:43.112Z"
   },
   {
    "duration": 16,
    "start_time": "2023-09-19T08:13:43.129Z"
   },
   {
    "duration": 28,
    "start_time": "2023-09-19T08:13:43.147Z"
   },
   {
    "duration": 14,
    "start_time": "2023-09-19T08:13:43.176Z"
   },
   {
    "duration": 21,
    "start_time": "2023-09-19T08:13:43.192Z"
   },
   {
    "duration": 8,
    "start_time": "2023-09-19T08:13:43.215Z"
   },
   {
    "duration": 28,
    "start_time": "2023-09-19T08:13:43.224Z"
   },
   {
    "duration": 19,
    "start_time": "2023-09-19T08:13:43.255Z"
   },
   {
    "duration": 8,
    "start_time": "2023-09-19T08:13:43.275Z"
   },
   {
    "duration": 10,
    "start_time": "2023-09-19T08:13:43.285Z"
   },
   {
    "duration": 206,
    "start_time": "2023-09-19T08:13:43.297Z"
   },
   {
    "duration": 282,
    "start_time": "2023-09-19T08:13:43.505Z"
   },
   {
    "duration": 0,
    "start_time": "2023-09-19T08:13:43.790Z"
   },
   {
    "duration": 0,
    "start_time": "2023-09-19T08:13:43.791Z"
   },
   {
    "duration": 0,
    "start_time": "2023-09-19T08:13:43.802Z"
   },
   {
    "duration": 0,
    "start_time": "2023-09-19T08:13:43.804Z"
   },
   {
    "duration": 0,
    "start_time": "2023-09-19T08:13:43.805Z"
   },
   {
    "duration": 0,
    "start_time": "2023-09-19T08:13:43.807Z"
   },
   {
    "duration": 0,
    "start_time": "2023-09-19T08:13:43.808Z"
   },
   {
    "duration": 0,
    "start_time": "2023-09-19T08:13:43.810Z"
   },
   {
    "duration": 0,
    "start_time": "2023-09-19T08:13:43.811Z"
   },
   {
    "duration": 0,
    "start_time": "2023-09-19T08:13:43.812Z"
   },
   {
    "duration": 0,
    "start_time": "2023-09-19T08:13:43.813Z"
   },
   {
    "duration": 0,
    "start_time": "2023-09-19T08:13:43.814Z"
   },
   {
    "duration": 0,
    "start_time": "2023-09-19T08:13:43.814Z"
   },
   {
    "duration": 0,
    "start_time": "2023-09-19T08:13:43.816Z"
   },
   {
    "duration": 0,
    "start_time": "2023-09-19T08:13:43.817Z"
   },
   {
    "duration": 0,
    "start_time": "2023-09-19T08:13:43.818Z"
   },
   {
    "duration": 0,
    "start_time": "2023-09-19T08:13:43.819Z"
   },
   {
    "duration": 0,
    "start_time": "2023-09-19T08:13:43.820Z"
   },
   {
    "duration": 0,
    "start_time": "2023-09-19T08:13:43.822Z"
   },
   {
    "duration": 0,
    "start_time": "2023-09-19T08:13:43.823Z"
   },
   {
    "duration": 0,
    "start_time": "2023-09-19T08:13:43.824Z"
   },
   {
    "duration": 0,
    "start_time": "2023-09-19T08:13:43.826Z"
   },
   {
    "duration": 0,
    "start_time": "2023-09-19T08:13:43.828Z"
   },
   {
    "duration": 0,
    "start_time": "2023-09-19T08:13:43.829Z"
   },
   {
    "duration": 0,
    "start_time": "2023-09-19T08:13:43.831Z"
   },
   {
    "duration": 0,
    "start_time": "2023-09-19T08:13:43.833Z"
   },
   {
    "duration": 0,
    "start_time": "2023-09-19T08:13:43.834Z"
   },
   {
    "duration": 0,
    "start_time": "2023-09-19T08:13:43.835Z"
   },
   {
    "duration": 0,
    "start_time": "2023-09-19T08:13:43.837Z"
   },
   {
    "duration": 0,
    "start_time": "2023-09-19T08:13:43.838Z"
   },
   {
    "duration": 0,
    "start_time": "2023-09-19T08:13:43.902Z"
   },
   {
    "duration": 0,
    "start_time": "2023-09-19T08:13:43.903Z"
   },
   {
    "duration": 0,
    "start_time": "2023-09-19T08:13:43.905Z"
   },
   {
    "duration": 0,
    "start_time": "2023-09-19T08:13:43.907Z"
   },
   {
    "duration": 0,
    "start_time": "2023-09-19T08:13:43.909Z"
   },
   {
    "duration": 432,
    "start_time": "2023-09-19T08:14:34.556Z"
   },
   {
    "duration": 309,
    "start_time": "2023-09-19T08:16:39.138Z"
   },
   {
    "duration": 149,
    "start_time": "2023-09-19T08:17:03.622Z"
   },
   {
    "duration": 1290,
    "start_time": "2024-04-08T09:48:57.424Z"
   },
   {
    "duration": 311,
    "start_time": "2024-04-08T09:48:58.715Z"
   },
   {
    "duration": 3,
    "start_time": "2024-04-08T09:48:59.027Z"
   },
   {
    "duration": 54,
    "start_time": "2024-04-08T09:48:59.032Z"
   },
   {
    "duration": 34,
    "start_time": "2024-04-08T09:48:59.087Z"
   },
   {
    "duration": 24,
    "start_time": "2024-04-08T09:48:59.122Z"
   },
   {
    "duration": 12,
    "start_time": "2024-04-08T09:48:59.147Z"
   },
   {
    "duration": 29,
    "start_time": "2024-04-08T09:48:59.160Z"
   },
   {
    "duration": 9,
    "start_time": "2024-04-08T09:48:59.190Z"
   },
   {
    "duration": 23,
    "start_time": "2024-04-08T09:48:59.201Z"
   },
   {
    "duration": 7,
    "start_time": "2024-04-08T09:48:59.225Z"
   },
   {
    "duration": 5,
    "start_time": "2024-04-08T09:48:59.233Z"
   },
   {
    "duration": 27,
    "start_time": "2024-04-08T09:48:59.240Z"
   },
   {
    "duration": 17,
    "start_time": "2024-04-08T09:48:59.269Z"
   },
   {
    "duration": 7,
    "start_time": "2024-04-08T09:48:59.288Z"
   },
   {
    "duration": 10,
    "start_time": "2024-04-08T09:48:59.296Z"
   },
   {
    "duration": 189,
    "start_time": "2024-04-08T09:48:59.308Z"
   },
   {
    "duration": 131,
    "start_time": "2024-04-08T09:48:59.499Z"
   },
   {
    "duration": 7,
    "start_time": "2024-04-08T09:48:59.632Z"
   },
   {
    "duration": 144,
    "start_time": "2024-04-08T09:48:59.640Z"
   },
   {
    "duration": 78,
    "start_time": "2024-04-08T09:48:59.785Z"
   },
   {
    "duration": 7,
    "start_time": "2024-04-08T09:48:59.865Z"
   },
   {
    "duration": 11,
    "start_time": "2024-04-08T09:48:59.873Z"
   },
   {
    "duration": 111,
    "start_time": "2024-04-08T09:48:59.894Z"
   },
   {
    "duration": 153,
    "start_time": "2024-04-08T09:49:00.007Z"
   },
   {
    "duration": 9,
    "start_time": "2024-04-08T09:49:00.162Z"
   },
   {
    "duration": 161,
    "start_time": "2024-04-08T09:49:00.172Z"
   },
   {
    "duration": 249,
    "start_time": "2024-04-08T09:49:00.336Z"
   },
   {
    "duration": 5,
    "start_time": "2024-04-08T09:49:00.586Z"
   },
   {
    "duration": 93,
    "start_time": "2024-04-08T09:49:00.593Z"
   },
   {
    "duration": 56,
    "start_time": "2024-04-08T09:49:00.687Z"
   },
   {
    "duration": 219,
    "start_time": "2024-04-08T09:49:00.744Z"
   },
   {
    "duration": 175,
    "start_time": "2024-04-08T09:49:00.964Z"
   },
   {
    "duration": 13,
    "start_time": "2024-04-08T09:49:01.141Z"
   },
   {
    "duration": 68,
    "start_time": "2024-04-08T09:49:01.155Z"
   },
   {
    "duration": 54,
    "start_time": "2024-04-08T09:49:01.224Z"
   },
   {
    "duration": 50,
    "start_time": "2024-04-08T09:49:01.279Z"
   },
   {
    "duration": 68,
    "start_time": "2024-04-08T09:49:01.330Z"
   },
   {
    "duration": 168,
    "start_time": "2024-04-08T09:49:01.400Z"
   },
   {
    "duration": 260,
    "start_time": "2024-04-08T09:49:01.569Z"
   },
   {
    "duration": 243,
    "start_time": "2024-04-08T09:49:01.831Z"
   },
   {
    "duration": 94,
    "start_time": "2024-04-08T09:49:02.076Z"
   },
   {
    "duration": 82,
    "start_time": "2024-04-08T09:49:02.171Z"
   },
   {
    "duration": 108,
    "start_time": "2024-04-08T09:49:02.254Z"
   },
   {
    "duration": 159,
    "start_time": "2024-04-08T09:49:02.364Z"
   },
   {
    "duration": 386,
    "start_time": "2024-04-08T09:49:02.525Z"
   },
   {
    "duration": 10,
    "start_time": "2024-04-08T09:49:02.913Z"
   },
   {
    "duration": 125,
    "start_time": "2024-04-08T09:49:02.925Z"
   },
   {
    "duration": 54,
    "start_time": "2024-04-08T09:49:03.052Z"
   },
   {
    "duration": 52,
    "start_time": "2024-04-08T09:49:03.108Z"
   },
   {
    "duration": 153,
    "start_time": "2024-04-08T09:49:03.162Z"
   },
   {
    "duration": 203,
    "start_time": "2024-04-08T09:49:03.317Z"
   },
   {
    "duration": 287,
    "start_time": "2024-04-08T09:49:03.522Z"
   }
  ],
  "kernelspec": {
   "display_name": "Python 3 (ipykernel)",
   "language": "python",
   "name": "python3"
  },
  "language_info": {
   "codemirror_mode": {
    "name": "ipython",
    "version": 3
   },
   "file_extension": ".py",
   "mimetype": "text/x-python",
   "name": "python",
   "nbconvert_exporter": "python",
   "pygments_lexer": "ipython3",
   "version": "3.9.18"
  },
  "toc": {
   "base_numbering": 1,
   "nav_menu": {},
   "number_sections": true,
   "sideBar": true,
   "skip_h1_title": true,
   "title_cell": "Содержание",
   "title_sidebar": "Contents",
   "toc_cell": true,
   "toc_position": {
    "height": "calc(100% - 180px)",
    "left": "10px",
    "top": "150px",
    "width": "232.391px"
   },
   "toc_section_display": true,
   "toc_window_display": true
  }
 },
 "nbformat": 4,
 "nbformat_minor": 5
}
